{
 "cells": [
  {
   "cell_type": "code",
   "execution_count": 2,
   "metadata": {},
   "outputs": [],
   "source": [
    "import numpy as np\n",
    "from sklearn.feature_extraction.text import TfidfVectorizer\n",
    "from sklearn.neighbors import KNeighborsClassifier\n",
    "from TGA.utils import Dataset\n",
    "from sklearn.preprocessing import LabelEncoder\n",
    "from TGA.utils import preprocessor\n",
    "from sklearn.metrics import f1_score\n",
    "from tqdm.notebook import tqdm\n",
    "from sklearn.metrics.pairwise import cosine_similarity"
   ]
  },
  {
   "cell_type": "code",
   "execution_count": 3,
   "metadata": {},
   "outputs": [
    {
     "data": {
      "text/plain": [
       "(('X_train', 'y_train', 'X_test', 'y_test', 'X_val', 'y_val'), 15062)"
      ]
     },
     "execution_count": 3,
     "metadata": {},
     "output_type": "execute_result"
    }
   ],
   "source": [
    "dataset = Dataset('/home/Documentos/datasets/classification/datasets/20ng/')\n",
    "fold = next(dataset.get_fold_instances(10, with_val=True))\n",
    "fold._fields, len(fold.X_train)"
   ]
  },
  {
   "cell_type": "code",
   "execution_count": 4,
   "metadata": {},
   "outputs": [],
   "source": [
    "le      = LabelEncoder()\n",
    "y_train = le.fit_transform(fold.y_train)\n",
    "y_val   = le.transform(fold.y_val)"
   ]
  },
  {
   "cell_type": "code",
   "execution_count": 5,
   "metadata": {},
   "outputs": [
    {
     "data": {
      "text/plain": [
       "((15062, 99009), (1892, 99009))"
      ]
     },
     "execution_count": 5,
     "metadata": {},
     "output_type": "execute_result"
    }
   ],
   "source": [
    "tfidf = TfidfVectorizer(preprocessor=preprocessor)\n",
    "X_train_vec = tfidf.fit_transform(fold.X_train)\n",
    "X_val_vec = tfidf.transform(fold.X_val)\n",
    "X_train_vec.shape, X_val_vec.shape"
   ]
  },
  {
   "cell_type": "code",
   "execution_count": 6,
   "metadata": {},
   "outputs": [],
   "source": [
    "n_neighbors=5\n",
    "n_neighbors_2 = 2"
   ]
  },
  {
   "cell_type": "code",
   "execution_count": 7,
   "metadata": {},
   "outputs": [
    {
     "data": {
      "text/plain": [
       "KNeighborsClassifier(metric='cosine', n_jobs=4, weights='distance')"
      ]
     },
     "execution_count": 7,
     "metadata": {},
     "output_type": "execute_result"
    }
   ],
   "source": [
    "knn = KNeighborsClassifier(n_neighbors=n_neighbors, weights='distance', metric='cosine', n_jobs=4)\n",
    "knn.fit(X_train_vec, y_train)"
   ]
  },
  {
   "cell_type": "code",
   "execution_count": 8,
   "metadata": {},
   "outputs": [
    {
     "name": "stdout",
     "output_type": "stream",
     "text": [
      "CPU times: user 3.62 s, sys: 321 ms, total: 3.94 s\n",
      "Wall time: 1.3 s\n"
     ]
    }
   ],
   "source": [
    "%%time\n",
    "y_pred = knn.predict(X_val_vec)"
   ]
  },
  {
   "cell_type": "code",
   "execution_count": 9,
   "metadata": {},
   "outputs": [
    {
     "data": {
      "text/plain": [
       "(0.7928907345893542, 0.7996828752642706)"
      ]
     },
     "execution_count": 9,
     "metadata": {},
     "output_type": "execute_result"
    }
   ],
   "source": [
    "f1_score(y_val, y_pred, average='macro'), f1_score(y_val, y_pred, average='micro')"
   ]
  },
  {
   "cell_type": "markdown",
   "metadata": {},
   "source": [
    "# Transitivity"
   ]
  },
  {
   "cell_type": "code",
   "execution_count": 10,
   "metadata": {},
   "outputs": [
    {
     "data": {
      "text/plain": [
       "((15062, 2), (15062, 2))"
      ]
     },
     "execution_count": 10,
     "metadata": {},
     "output_type": "execute_result"
    }
   ],
   "source": [
    "global_neigh_dists, global_neigh_ind = knn.kneighbors(n_neighbors=n_neighbors_2)\n",
    "global_neigh_dists.shape, global_neigh_ind.shape"
   ]
  },
  {
   "cell_type": "code",
   "execution_count": 11,
   "metadata": {},
   "outputs": [
    {
     "name": "stdout",
     "output_type": "stream",
     "text": [
      "CPU times: user 3.61 s, sys: 320 ms, total: 3.93 s\n",
      "Wall time: 1.32 s\n"
     ]
    }
   ],
   "source": [
    "%%time\n",
    "neigh_dists, neigh_ind = knn.kneighbors(X_val_vec)"
   ]
  },
  {
   "cell_type": "code",
   "execution_count": 12,
   "metadata": {},
   "outputs": [],
   "source": [
    "def distance(dist):\n",
    "    with np.errstate(divide='ignore'):\n",
    "        dist = 1. / dist\n",
    "    if np.isinf(dist):\n",
    "        return 0.\n",
    "    return dist"
   ]
  },
  {
   "cell_type": "code",
   "execution_count": 15,
   "metadata": {},
   "outputs": [],
   "source": [
    "from sklearn.utils.validation import _num_samples\n",
    "from sklearn.neighbors._base import _get_weights\n",
    "from sklearn.utils import check_array\n",
    "from sklearn.utils.extmath import weighted_mode\n"
   ]
  },
  {
   "cell_type": "code",
   "execution_count": 16,
   "metadata": {},
   "outputs": [
    {
     "name": "stdout",
     "output_type": "stream",
     "text": [
      "CPU times: user 259 ms, sys: 0 ns, total: 259 ms\n",
      "Wall time: 257 ms\n"
     ]
    }
   ],
   "source": [
    "%%time\n",
    "weight = _get_weights(neigh_dists, 'distance')\n",
    "y_probs = np.zeros((len(neigh_dists),len(le.classes_)))\n",
    "for (docid, (doc_n_dists, doc_n_inds)) in enumerate(zip(neigh_dists, neigh_ind)):\n",
    "    for neigh_id, dist in zip( doc_n_inds, doc_n_dists ):\n",
    "        y_probs[ docid, y_train[neigh_id] ] += distance(dist)\n",
    "        \n",
    "        onehop_dists, onehop_ind  = global_neigh_dists[neigh_id], global_neigh_ind[neigh_id]\n",
    "        \n",
    "        for neigh_id, dist2 in zip( onehop_ind, onehop_dists ):\n",
    "            y_probs[ docid, y_train[neigh_id] ] += dist*distance(dist2)\n",
    "        "
   ]
  },
  {
   "cell_type": "code",
   "execution_count": 17,
   "metadata": {},
   "outputs": [],
   "source": [
    "y_pred = y_probs.argmax(axis=1)"
   ]
  },
  {
   "cell_type": "code",
   "execution_count": 18,
   "metadata": {},
   "outputs": [
    {
     "data": {
      "text/plain": [
       "(0.7138756017522335, 0.7193446088794925)"
      ]
     },
     "execution_count": 18,
     "metadata": {},
     "output_type": "execute_result"
    }
   ],
   "source": [
    "f1_score(y_val, y_pred, average='macro'), f1_score(y_val, y_pred, average='micro')"
   ]
  },
  {
   "cell_type": "code",
   "execution_count": null,
   "metadata": {
    "scrolled": true
   },
   "outputs": [],
   "source": [
    "y_train[global_neigh_ind[neigh_id]]"
   ]
  },
  {
   "cell_type": "code",
   "execution_count": null,
   "metadata": {},
   "outputs": [],
   "source": [
    "def predict_print(self, X):\n",
    "    \"\"\"Predict the class labels for the provided data.\n",
    "    Parameters\n",
    "    ----------\n",
    "    X : array-like of shape (n_queries, n_features), \\\n",
    "            or (n_queries, n_indexed) if metric == 'precomputed'\n",
    "        Test samples.\n",
    "    Returns\n",
    "    -------\n",
    "    y : ndarray of shape (n_queries,) or (n_queries, n_outputs)\n",
    "        Class labels for each data sample.\n",
    "    \"\"\"\n",
    "    X = check_array(X, accept_sparse='csr')\n",
    "\n",
    "    neigh_dist, neigh_ind = self.kneighbors(X)\n",
    "    classes_ = self.classes_\n",
    "    _y = self._y\n",
    "    if not self.outputs_2d_:\n",
    "        _y = self._y.reshape((-1, 1))\n",
    "        classes_ = [self.classes_]\n",
    "\n",
    "    n_outputs = len(classes_)\n",
    "    n_queries = _num_samples(X)\n",
    "    weights = _get_weights(neigh_dist, self.weights)\n",
    "\n",
    "    y_pred = np.empty((n_queries, n_outputs), dtype=classes_[0].dtype)\n",
    "    for k, classes_k in enumerate(classes_):\n",
    "        if weights is None:\n",
    "            mode, _ = stats.mode(_y[neigh_ind, k], axis=1)\n",
    "        else:\n",
    "            mode, _ = weighted_mode(_y[neigh_ind, k], weights, axis=1)\n",
    "\n",
    "        mode = np.asarray(mode.ravel(), dtype=np.intp)\n",
    "        y_pred[:, k] = classes_k.take(mode)\n",
    "\n",
    "    if not self.outputs_2d_:\n",
    "        y_pred = y_pred.ravel()\n",
    "\n",
    "    return y_pred"
   ]
  },
  {
   "cell_type": "code",
   "execution_count": null,
   "metadata": {},
   "outputs": [],
   "source": [
    "predict_print(knn, X_val_vec)"
   ]
  },
  {
   "cell_type": "code",
   "execution_count": null,
   "metadata": {},
   "outputs": [],
   "source": [
    "_y_train = y_train.reshape((-1, 1))\n",
    "\n",
    "_y_train[ neigh_ind, 0 ]"
   ]
  },
  {
   "cell_type": "code",
   "execution_count": null,
   "metadata": {},
   "outputs": [],
   "source": [
    "weights = _get_weights(neigh_dists, 'distance')"
   ]
  },
  {
   "cell_type": "code",
   "execution_count": null,
   "metadata": {},
   "outputs": [],
   "source": [
    "neigh_dists, weights"
   ]
  },
  {
   "cell_type": "code",
   "execution_count": null,
   "metadata": {},
   "outputs": [],
   "source": [
    "mode, _ = weighted_mode(_y_train[neigh_ind, 0], weights, axis=1)\n",
    "mode = np.asarray(mode.ravel(), dtype=np.intp)\n",
    "mode"
   ]
  },
  {
   "cell_type": "code",
   "execution_count": null,
   "metadata": {},
   "outputs": [],
   "source": []
  },
  {
   "cell_type": "code",
   "execution_count": null,
   "metadata": {},
   "outputs": [],
   "source": []
  },
  {
   "cell_type": "code",
   "execution_count": null,
   "metadata": {},
   "outputs": [],
   "source": []
  },
  {
   "cell_type": "code",
   "execution_count": null,
   "metadata": {},
   "outputs": [],
   "source": []
  },
  {
   "cell_type": "code",
   "execution_count": null,
   "metadata": {},
   "outputs": [],
   "source": []
  }
 ],
 "metadata": {
  "kernelspec": {
   "display_name": "Python 3",
   "language": "python",
   "name": "python3"
  },
  "language_info": {
   "codemirror_mode": {
    "name": "ipython",
    "version": 3
   },
   "file_extension": ".py",
   "mimetype": "text/x-python",
   "name": "python",
   "nbconvert_exporter": "python",
   "pygments_lexer": "ipython3",
   "version": "3.8.5"
  }
 },
 "nbformat": 4,
 "nbformat_minor": 4
}
