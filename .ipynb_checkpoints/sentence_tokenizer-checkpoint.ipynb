{
 "cells": [
  {
   "cell_type": "code",
   "execution_count": 1,
   "metadata": {},
   "outputs": [],
   "source": [
    "import torch\n",
    "import torch.nn as nn\n",
    "import torch.nn.functional as F\n",
    "import torch.optim as optim\n",
    "from torch.utils.data import DataLoader\n",
    "from multiprocessing import Pool\n",
    "from torch.nn.utils.rnn import pack_padded_sequence, pad_sequence\n",
    "from tqdm.notebook import tqdm\n",
    "import re\n",
    "import matplotlib.pyplot as plt\n",
    "import numpy as np\n",
    "from collections import Counter\n",
    "from TGA.utils import Dataset\n",
    "from segtok import segmenter as sg_sgm\n",
    "from segtok import tokenizer as sg_tkn\n",
    "from string import punctuation"
   ]
  },
  {
   "cell_type": "code",
   "execution_count": null,
   "metadata": {},
   "outputs": [],
   "source": []
  },
  {
   "cell_type": "code",
   "execution_count": 2,
   "metadata": {},
   "outputs": [
    {
     "data": {
      "text/plain": [
       "(('X_train', 'y_train', 'X_test', 'y_test', 'X_val', 'y_val'), 11296)"
      ]
     },
     "execution_count": 2,
     "metadata": {},
     "output_type": "execute_result"
    }
   ],
   "source": [
    "dataset = Dataset('/home/mangaravite/Documentos/datasets/classification/datasets/20ng/')\n",
    "g = dataset.get_fold_instances(5, with_val=True)\n",
    "fold = next(g)\n",
    "fold._fields, len(fold.X_train)"
   ]
  },
  {
   "cell_type": "code",
   "execution_count": 3,
   "metadata": {},
   "outputs": [],
   "source": [
    "pont = set(punctuation)\n",
    "pont.add('≤')\n",
    "pont.add('…')\n",
    "pont.add('®')\n",
    "pont.add('@')\n",
    "pont.add('•')\n",
    "pont.add('\b')\n",
    "_ = list(map(pont.add, \"]-------$ ]-------$> >\"))\n"
   ]
  },
  {
   "cell_type": "code",
   "execution_count": null,
   "metadata": {},
   "outputs": [],
   "source": []
  },
  {
   "cell_type": "code",
   "execution_count": 4,
   "metadata": {},
   "outputs": [],
   "source": [
    "def preprocess(text):\n",
    "    text = [ [ preprocess_term(term) for term in sg_tkn.web_tokenizer(sentence) ] for sentence in sg_sgm.split_multi(text) ]\n",
    "    ntext = []\n",
    "    for sentence in text:\n",
    "        buffer = []\n",
    "        for word in sentence:\n",
    "            if word is None:\n",
    "                word = [ ]\n",
    "            if isinstance(word, str):\n",
    "                word = [ word ]\n",
    "            buffer.extend(list(word))\n",
    "        ntext.append(buffer)\n",
    "    return ntext\n",
    "\n",
    "def preprocess_term(term):\n",
    "    term  = term.lower()\n",
    "    len_t = len(term)\n",
    "    if not len_t:\n",
    "        return None\n",
    "    if term.isalpha():\n",
    "        return term\n",
    "    if all([ c in pont for c in term ]):\n",
    "        if len_t > 1:\n",
    "            if len_t > 2:\n",
    "                term = Counter(term).most_common()[0]\n",
    "            term = term[0]\n",
    "        return term\n",
    "    if is_number(term):\n",
    "        term = term.replace(',', '')\n",
    "        term = re.sub('\\d', 'd', term)\n",
    "        return term\n",
    "    if re.search(\".+'(s|ll|t|ve|d|re|m|l|r|v)\", term):\n",
    "        _term,part = term.rsplit(\"'\", 1)\n",
    "        term = preprocess_term(term[:-len(part)+1])\n",
    "        term = (_term, \"'\"+part)\n",
    "        return term\n",
    "    if term.endswith(\"s'\"):\n",
    "        term = preprocess_term(term[:-2])\n",
    "        return (term, \"'s\")\n",
    "    if all([ c.isalpha() or c == '-' for c in term ]):\n",
    "        term = tuple( [ preprocess_term(subword) for subword in term.split('-') ] )\n",
    "        return term\n",
    "    if any( [ term.endswith(t) for t in pont  ] ):\n",
    "        term = preprocess_term(term[:-1])\n",
    "        return term\n",
    "    term = re.sub('\\d', 'D', term)\n",
    "    return term\n",
    "\n",
    "def is_number(term):\n",
    "    return all([ c.isnumeric() or c in ('.', ',') for c in term] ) and any([ c.isnumeric() for c in term] )"
   ]
  },
  {
   "cell_type": "code",
   "execution_count": null,
   "metadata": {},
   "outputs": [],
   "source": []
  },
  {
   "cell_type": "code",
   "execution_count": 10,
   "metadata": {},
   "outputs": [],
   "source": [
    "def fit_tokenizer(texts):\n",
    "    vocab = {}\n",
    "    counter = Counter()\n",
    "    for doc in map(preprocess, tqdm(texts)):\n",
    "        for sent in doc:\n",
    "            terms_ids = [ vocab.setdefault( term, len(vocab) ) for term in sent ]\n",
    "            counter.update( set(terms_ids) )\n",
    "            \n",
    "    vocab['<UNK>'] = len(vocab)\n",
    "    return vocab, counter\n",
    "    "
   ]
  },
  {
   "cell_type": "code",
   "execution_count": 12,
   "metadata": {},
   "outputs": [
    {
     "data": {
      "application/vnd.jupyter.widget-view+json": {
       "model_id": "828c680add184070a7a2a32822c7fa2e",
       "version_major": 2,
       "version_minor": 0
      },
      "text/plain": [
       "  0%|          | 0/11296 [00:00<?, ?it/s]"
      ]
     },
     "metadata": {},
     "output_type": "display_data"
    }
   ],
   "source": [
    " vocab, counter = fit_tokenizer(fold.X_train)"
   ]
  },
  {
   "cell_type": "code",
   "execution_count": 13,
   "metadata": {},
   "outputs": [
    {
     "data": {
      "text/plain": [
       "111068"
      ]
     },
     "execution_count": 13,
     "metadata": {},
     "output_type": "execute_result"
    }
   ],
   "source": []
  },
  {
   "cell_type": "code",
   "execution_count": 7,
   "metadata": {},
   "outputs": [
    {
     "data": {
      "text/plain": [
       "array([11, 12,  9, ..., 46,  3,  4])"
      ]
     },
     "execution_count": 7,
     "metadata": {},
     "output_type": "execute_result"
    }
   ],
   "source": [
    "def fit_tokenizer(texts):\n",
    "    vocab = {}\n",
    "    counter = Counter()\n",
    "    for doc in map(preprocess, tqdm(texts)):\n",
    "        for sent in doc:\n",
    "            terms_ids = [ vocab.setdefault( term, len(vocab) ) for term in sent ]"
   ]
  },
  {
   "cell_type": "code",
   "execution_count": 8,
   "metadata": {},
   "outputs": [
    {
     "data": {
      "text/plain": [
       "(array([9.061e+03, 1.493e+03, 3.690e+02, 1.430e+02, 7.100e+01, 4.000e+01,\n",
       "        2.700e+01, 1.600e+01, 1.000e+01, 8.000e+00, 4.000e+00, 4.000e+00,\n",
       "        3.000e+00, 1.000e+00, 4.000e+00, 4.000e+00, 4.000e+00, 2.000e+00,\n",
       "        2.000e+00, 1.000e+00, 3.000e+00, 2.000e+00, 0.000e+00, 1.000e+00,\n",
       "        1.000e+00, 1.000e+00, 3.000e+00, 1.000e+00, 4.000e+00, 1.000e+00,\n",
       "        4.000e+00, 2.000e+00, 0.000e+00, 0.000e+00, 2.000e+00, 0.000e+00,\n",
       "        0.000e+00, 0.000e+00, 0.000e+00, 0.000e+00, 0.000e+00, 0.000e+00,\n",
       "        0.000e+00, 0.000e+00, 1.000e+00, 0.000e+00, 2.000e+00, 0.000e+00,\n",
       "        0.000e+00, 1.000e+00]),\n",
       " array([  1.  ,  17.84,  34.68,  51.52,  68.36,  85.2 , 102.04, 118.88,\n",
       "        135.72, 152.56, 169.4 , 186.24, 203.08, 219.92, 236.76, 253.6 ,\n",
       "        270.44, 287.28, 304.12, 320.96, 337.8 , 354.64, 371.48, 388.32,\n",
       "        405.16, 422.  , 438.84, 455.68, 472.52, 489.36, 506.2 , 523.04,\n",
       "        539.88, 556.72, 573.56, 590.4 , 607.24, 624.08, 640.92, 657.76,\n",
       "        674.6 , 691.44, 708.28, 725.12, 741.96, 758.8 , 775.64, 792.48,\n",
       "        809.32, 826.16, 843.  ]),\n",
       " <BarContainer object of 50 artists>)"
      ]
     },
     "execution_count": 8,
     "metadata": {},
     "output_type": "execute_result"
    },
    {
     "data": {
      "image/png": "[encoded data removed]",
      "text/plain": [
       "<Figure size 432x288 with 1 Axes>"
      ]
     },
     "metadata": {
      "needs_background": "light"
     },
     "output_type": "display_data"
    }
   ],
   "source": [
    "plt.hist(n_sents, log=True, bins=50)"
   ]
  },
  {
   "cell_type": "code",
   "execution_count": 117,
   "metadata": {},
   "outputs": [
    {
     "data": {
      "text/plain": [
       "(array([1.1141e+04, 8.7000e+01, 2.3000e+01, 1.2000e+01, 8.0000e+00,\n",
       "        8.0000e+00, 3.0000e+00, 4.0000e+00, 2.0000e+00, 0.0000e+00,\n",
       "        0.0000e+00, 0.0000e+00, 1.0000e+00, 0.0000e+00, 0.0000e+00,\n",
       "        1.0000e+00, 1.0000e+00, 1.0000e+00, 0.0000e+00, 1.0000e+00,\n",
       "        0.0000e+00, 0.0000e+00, 0.0000e+00, 0.0000e+00, 0.0000e+00,\n",
       "        0.0000e+00, 0.0000e+00, 0.0000e+00, 0.0000e+00, 0.0000e+00,\n",
       "        0.0000e+00, 0.0000e+00, 0.0000e+00, 0.0000e+00, 0.0000e+00,\n",
       "        1.0000e+00, 0.0000e+00, 0.0000e+00, 0.0000e+00, 0.0000e+00,\n",
       "        0.0000e+00, 0.0000e+00, 0.0000e+00, 0.0000e+00, 0.0000e+00,\n",
       "        0.0000e+00, 0.0000e+00, 0.0000e+00, 1.0000e+00, 1.0000e+00]),\n",
       " array([   0.  ,  195.52,  391.04,  586.56,  782.08,  977.6 , 1173.12,\n",
       "        1368.64, 1564.16, 1759.68, 1955.2 , 2150.72, 2346.24, 2541.76,\n",
       "        2737.28, 2932.8 , 3128.32, 3323.84, 3519.36, 3714.88, 3910.4 ,\n",
       "        4105.92, 4301.44, 4496.96, 4692.48, 4888.  , 5083.52, 5279.04,\n",
       "        5474.56, 5670.08, 5865.6 , 6061.12, 6256.64, 6452.16, 6647.68,\n",
       "        6843.2 , 7038.72, 7234.24, 7429.76, 7625.28, 7820.8 , 8016.32,\n",
       "        8211.84, 8407.36, 8602.88, 8798.4 , 8993.92, 9189.44, 9384.96,\n",
       "        9580.48, 9776.  ]),\n",
       " <BarContainer object of 50 artists>)"
      ]
     },
     "execution_count": 117,
     "metadata": {},
     "output_type": "execute_result"
    },
    {
     "data": {
      "image/png": "[encoded data removed]",
      "text/plain": [
       "<Figure size 432x288 with 1 Axes>"
      ]
     },
     "metadata": {
      "needs_background": "light"
     },
     "output_type": "display_data"
    }
   ],
   "source": [
    "max_sent_doc = np.array([ max([ len(sent) for sent in doc]) for doc in docs ])\n",
    "plt.hist(max_sent_doc, log=True, bins=50)"
   ]
  },
  {
   "cell_type": "code",
   "execution_count": 118,
   "metadata": {},
   "outputs": [],
   "source": [
    "def iter_docs(docs):\n",
    "    for doc in docs:\n",
    "        for sentence in doc:\n",
    "            for term in sentence:\n",
    "                yield term"
   ]
  },
  {
   "cell_type": "code",
   "execution_count": 119,
   "metadata": {},
   "outputs": [],
   "source": [
    "counter = Counter(list(iter_docs(docs)))"
   ]
  },
  {
   "cell_type": "code",
   "execution_count": 120,
   "metadata": {},
   "outputs": [
    {
     "data": {
      "text/plain": [
       "111068"
      ]
     },
     "execution_count": 120,
     "metadata": {},
     "output_type": "execute_result"
    }
   ],
   "source": [
    "len(counter)"
   ]
  },
  {
   "cell_type": "code",
   "execution_count": null,
   "metadata": {},
   "outputs": [],
   "source": [
    "counter.most_"
   ]
  }
 ],
 "metadata": {
  "kernelspec": {
   "display_name": "Python 3",
   "language": "python",
   "name": "python3"
  },
  "language_info": {
   "codemirror_mode": {
    "name": "ipython",
    "version": 3
   },
   "file_extension": ".py",
   "mimetype": "text/x-python",
   "name": "python",
   "nbconvert_exporter": "python",
   "pygments_lexer": "ipython3",
   "version": "3.6.9"
  }
 },
 "nbformat": 4,
 "nbformat_minor": 4
}
