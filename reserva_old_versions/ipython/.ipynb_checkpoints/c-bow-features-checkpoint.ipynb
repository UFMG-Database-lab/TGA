{
 "cells": [
  {
   "cell_type": "code",
   "execution_count": 15,
   "metadata": {},
   "outputs": [],
   "source": [
    "from scipy import sparse as sp\n",
    "\n",
    "from sklearn.base import BaseEstimator, TransformerMixin, ClassifierMixin\n",
    "\n",
    "import numpy as np\n",
    "import io\n",
    "from os import path\n",
    "from glob import glob\n",
    "from tqdm import tqdm_notebook\n",
    "\n",
    "from multiprocessing import Pool,cpu_count\n",
    "\n",
    "from sklearn.metrics.pairwise import paired_distances, paired_cosine_distances\n",
    "from sklearn.metrics import pairwise_distances\n",
    "from sklearn.preprocessing import LabelEncoder\n",
    "from sklearn.feature_extraction.text import CountVectorizer, TfidfVectorizer\n",
    "\n",
    "from collections import Counter\n",
    "\n",
    "from random import shuffle\n",
    "from itertools import repeat\n",
    "\n",
    "from sklearn.decomposition import TruncatedSVD\n",
    "\n",
    "import matplotlib.pyplot as plt\n",
    "%matplotlib inline"
   ]
  },
  {
   "cell_type": "code",
   "execution_count": null,
   "metadata": {},
   "outputs": [],
   "source": []
  },
  {
   "cell_type": "code",
   "execution_count": 16,
   "metadata": {},
   "outputs": [],
   "source": [
    "def bla(X, models_):\n",
    "    all_docs = sp.lil_matrix((X.shape[0], len(models_)*X.shape[1]))\n",
    "    with Pool(processes=cpu_count()) as pool:\n",
    "        lines = generate_lines(X)\n",
    "        repeated_models = repeat(models_)\n",
    "        for i, m in tqdm_notebook(enumerate(pool.imap(paired_di, zip(lines, repeated_models))), desc='Building representation', total=X.shape[0], smoothing=0.):\n",
    "            all_docs[i,:] = m\n",
    "    return all_docs\n",
    "\n",
    "def generate_lines(X):\n",
    "    for i in range(X.shape[0]):\n",
    "        yield (X[i].multiply(X[i].T))\n",
    "def paired_di(params):\n",
    "    X, models_ = params\n",
    "    m = sp.lil_matrix((1, len(models_)*X.shape[1]))\n",
    "    for i, ci_dom in enumerate(models_):\n",
    "        m[0,i*X.shape[1]:(i+1)*X.shape[1]] = paired_cosine_distances(ci_dom, X)\n",
    "    return m.tocsr()\n",
    "def _paired_distances_(params):\n",
    "    X, model = params\n",
    "    return sp.csr_matrix(paired_cosine_distances(model, X))\n",
    "    \n",
    "def transform_class_repr(X, model):\n",
    "    all_docs = sp.lil_matrix(X.shape)\n",
    "    with Pool(processes=cpu_count()) as pool:\n",
    "        lines = generate_lines(X)\n",
    "        repeated_model = repeat(model)\n",
    "        params = zip(lines, repeated_model)\n",
    "        for i, m in tqdm_notebook(enumerate(pool.imap(_paired_distances_, params)), desc='Building class transformation', total=X.shape[0], smoothing=0.):\n",
    "            all_docs[i,:] = m\n",
    "    return all_docs\n",
    "\n",
    "class BoWS(BaseEstimator, TransformerMixin):\n",
    "    def __init__(self, min_df=2, stop_words='english', alpha=0.1):\n",
    "        self.min_df = min_df\n",
    "        self.stop_words = stop_words\n",
    "        self._cv = CountVectorizer(min_df=self.min_df, stop_words=self.stop_words)\n",
    "        self._le = LabelEncoder()\n",
    "        self.alpha = alpha\n",
    "        self._fitted_ = False\n",
    "    def __del__(self):\n",
    "        del self.models_[:]\n",
    "    def fit(self, X_texts, y=None):\n",
    "        if y is None:\n",
    "            raise TypeError(\"y can't be None\")\n",
    "            \n",
    "        a = list(zip(X_texts, y))\n",
    "        shuffle(a)\n",
    "        X_texts, scores = list(zip(*a))\n",
    "        X_texts = list(X_texts)\n",
    "        y = list(scores)\n",
    "            \n",
    "        X = self._build_binary_cooccur_matrix_(X_texts)\n",
    "        y = self._normalize_y_(y)\n",
    "        \n",
    "        self._build_auxiliar_features(X, y)\n",
    "        self._build_class_models_()\n",
    "        \n",
    "        del self.Ntc_\n",
    "        del self.Nt_\n",
    "        del self.Pt_\n",
    "        \n",
    "        self._fitted_ = True\n",
    "        \n",
    "        return self\n",
    "    def transform(self, X_texts):\n",
    "        if not self._fitted_:\n",
    "            raise TypeError(\"The model did'nt fit yet!\")\n",
    "            \n",
    "        X = self._cv.transform(X_texts)\n",
    "        X_classes = []\n",
    "        for c in range(self.C_):\n",
    "            X_classes.append(transform_class_repr(X, self.models_[c].copy()))\n",
    "        return X_classes\n",
    "    def _build_binary_cooccur_matrix_(self, texts):\n",
    "        X_TF = self._cv.fit_transform(texts).tocsr()    \n",
    "        X = sp.csr_matrix( ( np.ones(len(X_TF.data)), X_TF.nonzero() ), shape=X_TF.shape )\n",
    "        del X_TF\n",
    "        return X\n",
    "    def _normalize_y_(self, y):\n",
    "        return self._le.fit_transform(y)\n",
    "    def _build_auxiliar_features(self, X, y):\n",
    "        # número de documentos\n",
    "        self.N_ = X.shape[0]\n",
    "\n",
    "        # tamanho do vocabulário\n",
    "        self.V_ = X.shape[1] \n",
    "\n",
    "        # Número de classes\n",
    "        self.C_ = max(y)+1\n",
    "\n",
    "        # Número de cada co-ocrrência por classe\n",
    "        self.Ntc_ = [ sp.lil_matrix( (self.V_,self.V_) ) for _ in range(max(y)+1) ]\n",
    "        for i, doc_matrix in tqdm_notebook(enumerate(generate_lines(X)), total=self.N_, desc='Building class representations'):\n",
    "            self.Ntc_[ y[i] ] = (self.Ntc_[ y[i] ] + doc_matrix)\n",
    "        ### Remove diagonal principal\n",
    "        for i in range(len(self.Ntc_)):\n",
    "            self.Ntc_[i].setdiag(0)\n",
    "            self.Ntc_[i].eliminate_zeros()\n",
    "        \n",
    "        # frequencia de cada co-ocorrência por classe\n",
    "        self.Nt_ = np.sum(self.Ntc_)\n",
    "\n",
    "        # priori de cada termo P(t)\n",
    "        self.Pt_ = self.Nt_/self.N_\n",
    "        self.Pt_.eliminate_zeros()\n",
    "    def _build_class_models_(self):\n",
    "        self.models_ = []\n",
    "        for i in tqdm_notebook(range(self.C_), total=self.C_, desc='Building Models'):\n",
    "            # Probabilidade P(t,c)\n",
    "            data = np.array(self.Ntc_[i][ self.Nt_.nonzero() ] / self.Nt_[ self.Nt_.nonzero() ])[0]\n",
    "            Ptc = sp.csr_matrix( (data, self.Nt_.nonzero()), shape=self.Nt_.shape )\n",
    "\n",
    "            # Jenilek-Mercer smoothing\n",
    "            norm_Ptc = (1.-self.alpha)*Ptc + self.alpha*self.Pt_\n",
    "\n",
    "            # P*sqrt(n)\n",
    "            data1 = np.multiply(norm_Ptc[norm_Ptc.nonzero()], np.sqrt(self.Ntc_[i][norm_Ptc.nonzero()]))\n",
    "            # 2*sqrt( p(1-p) )\n",
    "            data2 = 2.*np.sqrt(np.multiply(norm_Ptc[ norm_Ptc.nonzero() ], 1.-norm_Ptc[ norm_Ptc.nonzero() ]))\n",
    "\n",
    "            CI_dominance_smooth = sp.csr_matrix( (np.array(data1/data2)[0], norm_Ptc.nonzero()), shape=norm_Ptc.shape )\n",
    "\n",
    "            del data\n",
    "            del data1\n",
    "            del data2\n",
    "            \n",
    "            max_prob = (1.-self.alpha)*Ptc.data.max() + self.alpha*self.Pt_.data.max()\n",
    "            max_size_ic = (max_prob*np.sqrt(self.Ntc_[i].data.max())) / (2.*np.sqrt( max_prob*(1.-max_prob) ))\n",
    "\n",
    "            CI_dominance_smoooth_norm = CI_dominance_smooth / max_size_ic\n",
    "            CI_dominance_smoooth_norm.eliminate_zeros()\n",
    "\n",
    "            self.models_.append(CI_dominance_smoooth_norm)\n",
    "            del CI_dominance_smooth\n",
    "            del norm_Ptc\n",
    "            del Ptc"
   ]
  },
  {
   "cell_type": "code",
   "execution_count": 17,
   "metadata": {},
   "outputs": [
    {
     "data": {
      "text/plain": [
       "['__class__',\n",
       " '__del__',\n",
       " '__delattr__',\n",
       " '__dict__',\n",
       " '__dir__',\n",
       " '__doc__',\n",
       " '__eq__',\n",
       " '__format__',\n",
       " '__ge__',\n",
       " '__getattribute__',\n",
       " '__getstate__',\n",
       " '__gt__',\n",
       " '__hash__',\n",
       " '__init__',\n",
       " '__init_subclass__',\n",
       " '__le__',\n",
       " '__lt__',\n",
       " '__module__',\n",
       " '__ne__',\n",
       " '__new__',\n",
       " '__reduce__',\n",
       " '__reduce_ex__',\n",
       " '__repr__',\n",
       " '__setattr__',\n",
       " '__setstate__',\n",
       " '__sizeof__',\n",
       " '__str__',\n",
       " '__subclasshook__',\n",
       " '__weakref__',\n",
       " '_build_auxiliar_features',\n",
       " '_build_binary_cooccur_matrix_',\n",
       " '_build_class_models_',\n",
       " '_cv',\n",
       " '_estimator_type',\n",
       " '_fitted_',\n",
       " '_get_param_names',\n",
       " '_get_tags',\n",
       " '_le',\n",
       " '_normalize_y_',\n",
       " 'alpha',\n",
       " 'fit',\n",
       " 'fit_transform',\n",
       " 'get_params',\n",
       " 'min_df',\n",
       " 'score',\n",
       " 'set_params',\n",
       " 'stop_words',\n",
       " 'transform']"
      ]
     },
     "execution_count": 17,
     "metadata": {},
     "output_type": "execute_result"
    }
   ],
   "source": [
    "bows = BoWS()\n",
    "dir(bows)"
   ]
  },
  {
   "cell_type": "code",
   "execution_count": 11,
   "metadata": {},
   "outputs": [],
   "source": [
    "def read_texts(filename):\n",
    "    with io.open(filename, newline='\\n') as filin:\n",
    "        return filin.readlines()\n",
    "def read_dataset(pathname):\n",
    "    texts = read_texts(path.join(pathname, 'texts.txt'))\n",
    "    scores = read_texts(path.join(pathname, 'score.txt'))\n",
    "    scores = list(map(int, scores))\n",
    "    return texts,scores"
   ]
  },
  {
   "cell_type": "code",
   "execution_count": 12,
   "metadata": {},
   "outputs": [],
   "source": [
    "texts,scores = read_dataset('../../datasets/newsdatasets/sentiment/3Label/irony/')"
   ]
  },
  {
   "cell_type": "code",
   "execution_count": 14,
   "metadata": {
    "scrolled": true
   },
   "outputs": [
    {
     "data": {
      "application/vnd.jupyter.widget-view+json": {
       "model_id": "4237c3650aa84c0ea02454555d956e7d",
       "version_major": 2,
       "version_minor": 0
      },
      "text/plain": [
       "HBox(children=(IntProgress(value=0, description='Building class representations', max=81, style=ProgressStyle(…"
      ]
     },
     "metadata": {},
     "output_type": "display_data"
    },
    {
     "data": {
      "application/vnd.jupyter.widget-view+json": {
       "model_id": "d1e0defd8b974851b718fc9077599b5b",
       "version_major": 2,
       "version_minor": 0
      },
      "text/plain": [
       "HBox(children=(IntProgress(value=0, description='Building Models', max=3, style=ProgressStyle(description_widt…"
      ]
     },
     "metadata": {},
     "output_type": "display_data"
    },
    {
     "data": {
      "application/vnd.jupyter.widget-view+json": {
       "model_id": "62083144d4054e209df435da0e9ae1cc",
       "version_major": 2,
       "version_minor": 0
      },
      "text/plain": [
       "HBox(children=(IntProgress(value=0, description='Building class transformation', max=81, style=ProgressStyle(d…"
      ]
     },
     "metadata": {},
     "output_type": "display_data"
    },
    {
     "data": {
      "application/vnd.jupyter.widget-view+json": {
       "model_id": "d7faa00ce8a24dfc8747f9e5ab008e68",
       "version_major": 2,
       "version_minor": 0
      },
      "text/plain": [
       "HBox(children=(IntProgress(value=0, description='Building class transformation', max=81, style=ProgressStyle(d…"
      ]
     },
     "metadata": {},
     "output_type": "display_data"
    },
    {
     "data": {
      "application/vnd.jupyter.widget-view+json": {
       "model_id": "959c1376924f491682690a02d16ec4ff",
       "version_major": 2,
       "version_minor": 0
      },
      "text/plain": [
       "HBox(children=(IntProgress(value=0, description='Building class transformation', max=81, style=ProgressStyle(d…"
      ]
     },
     "metadata": {},
     "output_type": "display_data"
    },
    {
     "data": {
      "text/plain": [
       "[<81x46 sparse matrix of type '<class 'numpy.float64'>'\n",
       " \twith 2859 stored elements in LInked List format>,\n",
       " <81x46 sparse matrix of type '<class 'numpy.float64'>'\n",
       " \twith 1054 stored elements in LInked List format>,\n",
       " <81x46 sparse matrix of type '<class 'numpy.float64'>'\n",
       " \twith 2225 stored elements in LInked List format>]"
      ]
     },
     "execution_count": 14,
     "metadata": {},
     "output_type": "execute_result"
    }
   ],
   "source": [
    "bows = BoWS()\n",
    "X = bows.fit_transform(texts, scores)\n",
    "X"
   ]
  },
  {
   "cell_type": "code",
   "execution_count": 8,
   "metadata": {},
   "outputs": [
    {
     "ename": "NameError",
     "evalue": "name 'X' is not defined",
     "output_type": "error",
     "traceback": [
      "\u001b[0;31m--------------------------------------------------------------------------\u001b[0m",
      "\u001b[0;31mNameError\u001b[0m                                Traceback (most recent call last)",
      "\u001b[0;32m<ipython-input-8-b9ecabc9835a>\u001b[0m in \u001b[0;36m<module>\u001b[0;34m\u001b[0m\n\u001b[1;32m      2\u001b[0m \u001b[0;32mfor\u001b[0m \u001b[0mi\u001b[0m \u001b[0;32min\u001b[0m \u001b[0mrange\u001b[0m\u001b[0;34m(\u001b[0m\u001b[0mbows\u001b[0m\u001b[0;34m.\u001b[0m\u001b[0mC_\u001b[0m\u001b[0;34m)\u001b[0m\u001b[0;34m:\u001b[0m\u001b[0;34m\u001b[0m\u001b[0;34m\u001b[0m\u001b[0m\n\u001b[1;32m      3\u001b[0m     \u001b[0msvd\u001b[0m \u001b[0;34m=\u001b[0m \u001b[0mTruncatedSVD\u001b[0m\u001b[0;34m(\u001b[0m\u001b[0mn_components\u001b[0m\u001b[0;34m=\u001b[0m\u001b[0;36m2\u001b[0m\u001b[0;34m,\u001b[0m \u001b[0mrandom_state\u001b[0m\u001b[0;34m=\u001b[0m\u001b[0;36m42\u001b[0m\u001b[0;34m)\u001b[0m\u001b[0;34m\u001b[0m\u001b[0;34m\u001b[0m\u001b[0m\n\u001b[0;32m----> 4\u001b[0;31m     \u001b[0mX_embedded\u001b[0m \u001b[0;34m=\u001b[0m \u001b[0msvd\u001b[0m\u001b[0;34m.\u001b[0m\u001b[0mfit_transform\u001b[0m\u001b[0;34m(\u001b[0m\u001b[0mX\u001b[0m\u001b[0;34m[\u001b[0m\u001b[0;34m:\u001b[0m\u001b[0;34m,\u001b[0m\u001b[0mi\u001b[0m\u001b[0;34m*\u001b[0m\u001b[0mbows\u001b[0m\u001b[0;34m.\u001b[0m\u001b[0mV_\u001b[0m\u001b[0;34m:\u001b[0m\u001b[0;34m(\u001b[0m\u001b[0mi\u001b[0m\u001b[0;34m+\u001b[0m\u001b[0;36m1\u001b[0m\u001b[0;34m)\u001b[0m\u001b[0;34m*\u001b[0m\u001b[0mbows\u001b[0m\u001b[0;34m.\u001b[0m\u001b[0mV_\u001b[0m\u001b[0;34m]\u001b[0m\u001b[0;34m)\u001b[0m\u001b[0;34m\u001b[0m\u001b[0;34m\u001b[0m\u001b[0m\n\u001b[0m\u001b[1;32m      5\u001b[0m     \u001b[0mplt\u001b[0m\u001b[0;34m.\u001b[0m\u001b[0mscatter\u001b[0m\u001b[0;34m(\u001b[0m\u001b[0mX_embedded\u001b[0m\u001b[0;34m[\u001b[0m\u001b[0;34m:\u001b[0m\u001b[0;34m,\u001b[0m\u001b[0;36m0\u001b[0m\u001b[0;34m]\u001b[0m\u001b[0;34m,\u001b[0m \u001b[0mX_embedded\u001b[0m\u001b[0;34m[\u001b[0m\u001b[0;34m:\u001b[0m\u001b[0;34m,\u001b[0m\u001b[0;36m1\u001b[0m\u001b[0;34m]\u001b[0m\u001b[0;34m,\u001b[0m \u001b[0mlinewidth\u001b[0m\u001b[0;34m=\u001b[0m\u001b[0;36m0\u001b[0m\u001b[0;34m,\u001b[0m \u001b[0mc\u001b[0m\u001b[0;34m=\u001b[0m\u001b[0;34m[\u001b[0m \u001b[0mcolors\u001b[0m\u001b[0;34m[\u001b[0m\u001b[0my_\u001b[0m\u001b[0;34m]\u001b[0m \u001b[0;32mfor\u001b[0m \u001b[0my_\u001b[0m \u001b[0;32min\u001b[0m \u001b[0mscores\u001b[0m \u001b[0;34m]\u001b[0m\u001b[0;34m,\u001b[0m \u001b[0malpha\u001b[0m\u001b[0;34m=\u001b[0m\u001b[0;36m0.1\u001b[0m\u001b[0;34m)\u001b[0m\u001b[0;34m\u001b[0m\u001b[0;34m\u001b[0m\u001b[0m\n\u001b[1;32m      6\u001b[0m     \u001b[0mplt\u001b[0m\u001b[0;34m.\u001b[0m\u001b[0mtitle\u001b[0m\u001b[0;34m(\u001b[0m\u001b[0;34m'BoW-S (%d)'\u001b[0m \u001b[0;34m%\u001b[0m \u001b[0mbows\u001b[0m\u001b[0;34m.\u001b[0m\u001b[0m_le\u001b[0m\u001b[0;34m.\u001b[0m\u001b[0minverse_transform\u001b[0m\u001b[0;34m(\u001b[0m\u001b[0;34m[\u001b[0m\u001b[0mi\u001b[0m\u001b[0;34m]\u001b[0m\u001b[0;34m)\u001b[0m\u001b[0;34m[\u001b[0m\u001b[0;36m0\u001b[0m\u001b[0;34m]\u001b[0m\u001b[0;34m)\u001b[0m\u001b[0;34m\u001b[0m\u001b[0;34m\u001b[0m\u001b[0m\n",
      "\u001b[0;31mNameError\u001b[0m: name 'X' is not defined"
     ]
    }
   ],
   "source": [
    "colors = { -1: 'red', 0: 'blue', 1: 'green' }\n",
    "for i in range(bows.C_):\n",
    "    svd = TruncatedSVD(n_components=2, random_state=42)\n",
    "    X_embedded = svd.fit_transform(X[:,i*bows.V_:(i+1)*bows.V_])\n",
    "    plt.scatter(X_embedded[:,0], X_embedded[:,1], linewidth=0, c=[ colors[y_] for y_ in scores ], alpha=0.1)\n",
    "    plt.title('BoW-S (%d)' % bows._le.inverse_transform([i])[0])\n",
    "    plt.show()\n",
    "svd = TruncatedSVD(n_components=2, random_state=42)\n",
    "X_embedded = svd.fit_transform(X)\n",
    "plt.scatter(X_embedded[:,0], X_embedded[:,1], linewidth=0, c=[ colors[y_] for y_ in scores ], alpha=0.1)\n",
    "plt.title('BoW-S')"
   ]
  },
  {
   "cell_type": "code",
   "execution_count": null,
   "metadata": {},
   "outputs": [],
   "source": [
    "bows.get_params()"
   ]
  },
  {
   "cell_type": "code",
   "execution_count": 12,
   "metadata": {},
   "outputs": [],
   "source": [
    "del bows"
   ]
  },
  {
   "cell_type": "code",
   "execution_count": 7,
   "metadata": {},
   "outputs": [],
   "source": [
    "del X"
   ]
  },
  {
   "cell_type": "code",
   "execution_count": 13,
   "metadata": {},
   "outputs": [
    {
     "ename": "NameError",
     "evalue": "name 'bows' is not defined",
     "output_type": "error",
     "traceback": [
      "\u001b[0;31m--------------------------------------------------------------------------\u001b[0m",
      "\u001b[0;31mNameError\u001b[0m                                Traceback (most recent call last)",
      "\u001b[0;32m<ipython-input-13-219d30a2528c>\u001b[0m in \u001b[0;36m<module>\u001b[0;34m\u001b[0m\n\u001b[0;32m----> 1\u001b[0;31m \u001b[0mbows\u001b[0m\u001b[0;34m.\u001b[0m\u001b[0mC_\u001b[0m\u001b[0;34m\u001b[0m\u001b[0;34m\u001b[0m\u001b[0m\n\u001b[0m",
      "\u001b[0;31mNameError\u001b[0m: name 'bows' is not defined"
     ]
    }
   ],
   "source": []
  },
  {
   "cell_type": "code",
   "execution_count": 122,
   "metadata": {},
   "outputs": [
    {
     "name": "stdout",
     "output_type": "stream",
     "text": [
      "aisopos_ntua\t  sanders\t\t sentistrength_twitter\tvader_nyt\r\n",
      "debate\t\t  sarcasm\t\t sentistrength_youtube\tvader_twitter\r\n",
      "english_dailabor  sentistrength_bbc\t stanford_tweets\tyelp_reviews\r\n",
      "irony\t\t  sentistrength_digg\t tweet_semevaltest\r\n",
      "nikolaos_ted\t  sentistrength_myspace  vader_amazon\r\n",
      "pang_movie\t  sentistrength_rw\t vader_movie\r\n"
     ]
    }
   ],
   "source": [
    "!ls ../../datasets/newsdatasets/sentiment/3Label/"
   ]
  },
  {
   "cell_type": "code",
   "execution_count": 123,
   "metadata": {},
   "outputs": [],
   "source": [
    "texts,scores = read_dataset('../../datasets/newsdatasets/topics/reut/')"
   ]
  },
  {
   "cell_type": "code",
   "execution_count": null,
   "metadata": {},
   "outputs": [],
   "source": [
    "texts,scores = read_dataset('../../datasets/newsdatasets/topics/webkb/')"
   ]
  },
  {
   "cell_type": "code",
   "execution_count": 56,
   "metadata": {},
   "outputs": [],
   "source": [
    "texts,scores = read_dataset('../../datasets/newsdatasets/topics/20ng/')"
   ]
  },
  {
   "cell_type": "code",
   "execution_count": 67,
   "metadata": {},
   "outputs": [],
   "source": [
    "texts,scores = read_dataset('../../datasets/newsdatasets/sentiment/3Label/irony/')"
   ]
  },
  {
   "cell_type": "code",
   "execution_count": 52,
   "metadata": {},
   "outputs": [],
   "source": [
    "texts,scores = read_dataset('../../datasets/newsdatasets/sentiment/3Label/pang_movie/')"
   ]
  },
  {
   "cell_type": "code",
   "execution_count": 4,
   "metadata": {},
   "outputs": [],
   "source": [
    "texts,scores = read_dataset('../../datasets/newsdatasets/sentiment/3Label/vader_nyt/')"
   ]
  },
  {
   "cell_type": "code",
   "execution_count": 7,
   "metadata": {},
   "outputs": [],
   "source": [
    "texts,scores = read_dataset('../../datasets/newsdatasets/sentiment/3Label/vader_movie/')"
   ]
  },
  {
   "cell_type": "code",
   "execution_count": 8,
   "metadata": {},
   "outputs": [
    {
     "data": {
      "text/plain": [
       "10605"
      ]
     },
     "execution_count": 8,
     "metadata": {},
     "output_type": "execute_result"
    }
   ],
   "source": [
    "a = list(zip(scores, texts, range(len(texts))))\n",
    "shuffle(a)\n",
    "scores, texts, idx_ = list(zip(*a))\n",
    "texts = list(texts)\n",
    "scores = list(scores)\n",
    "len(texts)"
   ]
  },
  {
   "cell_type": "code",
   "execution_count": null,
   "metadata": {},
   "outputs": [],
   "source": []
  },
  {
   "cell_type": "code",
   "execution_count": 9,
   "metadata": {},
   "outputs": [],
   "source": [
    "cv = CountVectorizer(min_df=2, stop_words='english')\n",
    "\n",
    "X_TF = cv.fit_transform(texts).tocsr()\n",
    "X_TFIDF = TfidfVectorizer(min_df=2, stop_words='english').fit_transform(texts).tocsr()\n",
    "\n",
    "X = sp.csr_matrix( ( np.ones(len(X_TF.data)), X_TF.nonzero() ), shape=X_TF.shape )"
   ]
  },
  {
   "cell_type": "code",
   "execution_count": 10,
   "metadata": {},
   "outputs": [
    {
     "data": {
      "text/plain": [
       "array([-1,  0,  1])"
      ]
     },
     "execution_count": 10,
     "metadata": {},
     "output_type": "execute_result"
    }
   ],
   "source": [
    "le = LabelEncoder()\n",
    "y = le.fit_transform(scores)\n",
    "le.classes_"
   ]
  },
  {
   "cell_type": "code",
   "execution_count": 11,
   "metadata": {},
   "outputs": [
    {
     "data": {
      "text/plain": [
       "(10605, 9624)"
      ]
     },
     "execution_count": 11,
     "metadata": {},
     "output_type": "execute_result"
    }
   ],
   "source": [
    "# número de documentos\n",
    "N = X.shape[0]\n",
    "\n",
    "# tamanho do vocabulário\n",
    "V = X.shape[1] \n",
    "\n",
    "# Número de classes\n",
    "C = max(y)+1\n",
    "\n",
    "# Número de cada co-ocrrência por classe\n",
    "Ntc = [ sp.lil_matrix( (V,V) ) for _ in range(max(y)+1) ]\n",
    "\n",
    "# show dims\n",
    "N,V"
   ]
  },
  {
   "cell_type": "code",
   "execution_count": 12,
   "metadata": {
    "scrolled": true
   },
   "outputs": [
    {
     "data": {
      "application/vnd.jupyter.widget-view+json": {
       "model_id": "658b65fef8304c9096748eb001090fa5",
       "version_major": 2,
       "version_minor": 0
      },
      "text/plain": [
       "HBox(children=(IntProgress(value=0, max=10605), HTML(value='')))"
      ]
     },
     "metadata": {},
     "output_type": "display_data"
    },
    {
     "name": "stdout",
     "output_type": "stream",
     "text": [
      "\n"
     ]
    }
   ],
   "source": [
    "for i in tqdm_notebook(range(N), total=N):\n",
    "    co_sparse = (X[i].multiply(X[i].T))\n",
    "    \n",
    "    Ntc[ y[i] ] = (Ntc[ y[i] ] + co_sparse)"
   ]
  },
  {
   "cell_type": "code",
   "execution_count": 13,
   "metadata": {},
   "outputs": [
    {
     "data": {
      "application/vnd.jupyter.widget-view+json": {
       "model_id": "b6dc7df4150c492fb3dd20870d1bf3d1",
       "version_major": 2,
       "version_minor": 0
      },
      "text/plain": [
       "HBox(children=(IntProgress(value=0, max=3), HTML(value='')))"
      ]
     },
     "metadata": {},
     "output_type": "display_data"
    },
    {
     "name": "stderr",
     "output_type": "stream",
     "text": [
      "/usr/local/lib/python3.6/dist-packages/scipy/sparse/compressed.py:708: SparseEfficiencyWarning: Changing the sparsity structure of a csr_matrix is expensive. lil_matrix is more efficient.\n",
      "  self[i, j] = values\n"
     ]
    },
    {
     "name": "stdout",
     "output_type": "stream",
     "text": [
      "\n"
     ]
    }
   ],
   "source": [
    "for i in tqdm_notebook(range(len(Ntc)), total=len(Ntc)):\n",
    "    Ntc[i].setdiag(0)\n",
    "    Ntc[i].eliminate_zeros()"
   ]
  },
  {
   "cell_type": "code",
   "execution_count": 14,
   "metadata": {},
   "outputs": [],
   "source": [
    "alpha = 0.1"
   ]
  },
  {
   "cell_type": "code",
   "execution_count": 15,
   "metadata": {},
   "outputs": [],
   "source": [
    "alpha = 0.1\n",
    "\n",
    "# frequencia de documentos dos termos\n",
    "df = X.sum(axis=0)\n",
    "\n",
    "# número de documentos por classe\n",
    "Nc = [ v for (k,v) in sorted(Counter(y).items(), key=lambda x: x[0]) ]\n",
    "\n",
    "# frequencia de cada co-ocorrência por classe\n",
    "Nt = np.sum(Ntc)\n",
    "\n",
    "# priori de cada termo P(t)\n",
    "Pt = Nt/N\n",
    "Pt.eliminate_zeros()"
   ]
  },
  {
   "cell_type": "code",
   "execution_count": 16,
   "metadata": {},
   "outputs": [
    {
     "data": {
      "application/vnd.jupyter.widget-view+json": {
       "model_id": "fcf367f4e3fc4b3387c54147d8571a92",
       "version_major": 2,
       "version_minor": 0
      },
      "text/plain": [
       "HBox(children=(IntProgress(value=0, max=3), HTML(value='')))"
      ]
     },
     "metadata": {},
     "output_type": "display_data"
    },
    {
     "name": "stdout",
     "output_type": "stream",
     "text": [
      "\n"
     ]
    }
   ],
   "source": [
    "CI_dom_all = []\n",
    "\n",
    "for i in tqdm_notebook(range(len(Ntc)), total=len(Ntc)):\n",
    "    # Probabilidade P(t,c)\n",
    "    data = np.array(Ntc[i][ Nt.nonzero() ] / Nt[ Nt.nonzero() ])[0]\n",
    "    Ptc = sp.csr_matrix( (data, Nt.nonzero()), shape=Nt.shape )\n",
    "\n",
    "    # Jenilek-Mercer smoothing\n",
    "    norm_Ptc = (1.-alpha)*Ptc + alpha*Pt\n",
    "    \n",
    "    # P*sqrt(n)\n",
    "    data1 = np.multiply(norm_Ptc[norm_Ptc.nonzero()], np.sqrt(Ntc[i][norm_Ptc.nonzero()]))\n",
    "\n",
    "    # 2*sqrt( p(1-p) )\n",
    "    data2 = 2.*np.sqrt(np.multiply(norm_Ptc[ norm_Ptc.nonzero() ], 1.-norm_Ptc[ norm_Ptc.nonzero() ]))\n",
    "\n",
    "    CI_dominance_smooth = sp.csr_matrix( (np.array(data1/data2)[0], norm_Ptc.nonzero()), shape=norm_Ptc.shape )\n",
    "    \n",
    "    max_prob = (1.-alpha)*Ptc.data.max() + alpha*Pt.data.max()\n",
    "    #max_size_ic = (max_prob*np.sqrt(N)) / (2.*np.sqrt( max_prob*(1.-max_prob) ))\n",
    "    max_size_ic = (max_prob*np.sqrt(Ntc[i].data.max())) / (2.*np.sqrt( max_prob*(1.-max_prob) ))\n",
    "    \n",
    "    CI_dominance_smoooth_norm = CI_dominance_smooth / max_size_ic\n",
    "    CI_dominance_smoooth_norm.eliminate_zeros()\n",
    "    \n",
    "    del CI_dominance_smooth\n",
    "    del norm_Ptc\n",
    "    del Ptc\n",
    "    \n",
    "    CI_dom_all.append(CI_dominance_smoooth_norm)"
   ]
  },
  {
   "cell_type": "code",
   "execution_count": null,
   "metadata": {},
   "outputs": [],
   "source": []
  },
  {
   "cell_type": "code",
   "execution_count": 17,
   "metadata": {},
   "outputs": [],
   "source": [
    "def generate_lines(X):\n",
    "    for i in range(X.shape[0]):\n",
    "        mm = (X[i].multiply(X[i].T))\n",
    "        yield mm\n",
    "def paired_di(X):\n",
    "    m = sp.lil_matrix((1, len(CI_dom_all)*X.shape[1]))\n",
    "    for i, ci_dom in enumerate(CI_dom_all):\n",
    "        m[0,i*V:(i+1)*V] = paired_cosine_distances(ci_dom, X)\n",
    "    #m.resize(1,len(CI_dom_all)*X.shape[0])\n",
    "    return m.tocsr()"
   ]
  },
  {
   "cell_type": "code",
   "execution_count": 18,
   "metadata": {},
   "outputs": [
    {
     "data": {
      "text/plain": [
       "<9624x9624 sparse matrix of type '<class 'numpy.bool_'>'\n",
       "\twith 396518 stored elements in Compressed Sparse Row format>"
      ]
     },
     "execution_count": 18,
     "metadata": {},
     "output_type": "execute_result"
    }
   ],
   "source": [
    "(CI_dom_all[0] > CI_dom_all[1])"
   ]
  },
  {
   "cell_type": "code",
   "execution_count": null,
   "metadata": {},
   "outputs": [],
   "source": []
  },
  {
   "cell_type": "code",
   "execution_count": 19,
   "metadata": {},
   "outputs": [
    {
     "data": {
      "application/vnd.jupyter.widget-view+json": {
       "model_id": "c1a6e26a87a44a1eaa0e9921bf5f8465",
       "version_major": 2,
       "version_minor": 0
      },
      "text/plain": [
       "HBox(children=(IntProgress(value=0, max=10605), HTML(value='')))"
      ]
     },
     "metadata": {},
     "output_type": "display_data"
    },
    {
     "name": "stdout",
     "output_type": "stream",
     "text": [
      "\n"
     ]
    }
   ],
   "source": [
    "all_docs = sp.lil_matrix((X.shape[0], len(CI_dom_all)*X.shape[1]))\n",
    "with Pool(processes=cpu_count()) as pool:\n",
    "    for i, m in tqdm_notebook(enumerate(pool.imap(paired_di, generate_lines(X))), total=X.shape[0], smoothing=0.):\n",
    "        all_docs[i,:] = m"
   ]
  },
  {
   "cell_type": "code",
   "execution_count": 20,
   "metadata": {},
   "outputs": [],
   "source": [
    "all_docs_csr = all_docs.tocsr()"
   ]
  },
  {
   "cell_type": "code",
   "execution_count": 33,
   "metadata": {},
   "outputs": [
    {
     "data": {
      "text/plain": [
       "array([-1,  1,  1, ...,  1, -1, -1])"
      ]
     },
     "execution_count": 33,
     "metadata": {},
     "output_type": "execute_result"
    }
   ],
   "source": []
  },
  {
   "cell_type": "code",
   "execution_count": 21,
   "metadata": {},
   "outputs": [
    {
     "data": {
      "text/plain": [
       "0.44392420560682644"
      ]
     },
     "execution_count": 21,
     "metadata": {},
     "output_type": "execute_result"
    }
   ],
   "source": [
    "paired_cosine_distances(CI_dom_all[0], CI_dom_all[1]).mean()"
   ]
  },
  {
   "cell_type": "code",
   "execution_count": 22,
   "metadata": {},
   "outputs": [
    {
     "name": "stdout",
     "output_type": "stream",
     "text": [
      "[-1, 0] 0.0010192894988108883\n",
      "[-1, 1] 0.001150661757232727\n",
      "[0, 1] 0.0011782480264920902\n"
     ]
    }
   ],
   "source": [
    "AA = [0,0,0]\n",
    "for i,j in [(0,1), (0,2), (1,2)]:\n",
    "    mean = paired_cosine_distances(all_docs[i], all_docs[j]).mean()\n",
    "    print(list(le.inverse_transform([i,j])), mean)\n",
    "    AA[i] += mean\n",
    "    AA[j] += mean\n",
    "    "
   ]
  },
  {
   "cell_type": "code",
   "execution_count": 34,
   "metadata": {},
   "outputs": [
    {
     "data": {
      "text/plain": [
       "['red',\n",
       " 'green',\n",
       " 'green',\n",
       " 'red',\n",
       " 'red',\n",
       " 'red',\n",
       " 'red',\n",
       " 'green',\n",
       " 'green',\n",
       " 'red',\n",
       " 'red',\n",
       " 'green',\n",
       " 'red',\n",
       " 'red',\n",
       " 'green',\n",
       " 'red',\n",
       " 'red',\n",
       " 'green',\n",
       " 'red',\n",
       " 'red',\n",
       " 'green',\n",
       " 'red',\n",
       " 'red',\n",
       " 'green',\n",
       " 'green',\n",
       " 'green',\n",
       " 'red',\n",
       " 'green',\n",
       " 'red',\n",
       " 'green',\n",
       " 'green',\n",
       " 'red',\n",
       " 'red',\n",
       " 'green',\n",
       " 'red',\n",
       " 'red',\n",
       " 'red',\n",
       " 'red',\n",
       " 'green',\n",
       " 'red',\n",
       " 'green',\n",
       " 'red',\n",
       " 'red',\n",
       " 'red',\n",
       " 'green',\n",
       " 'red',\n",
       " 'red',\n",
       " 'red',\n",
       " 'red',\n",
       " 'green',\n",
       " 'red',\n",
       " 'green',\n",
       " 'red',\n",
       " 'red',\n",
       " 'green',\n",
       " 'red',\n",
       " 'green',\n",
       " 'green',\n",
       " 'green',\n",
       " 'green',\n",
       " 'red',\n",
       " 'red',\n",
       " 'red',\n",
       " 'green',\n",
       " 'green',\n",
       " 'green',\n",
       " 'green',\n",
       " 'green',\n",
       " 'green',\n",
       " 'red',\n",
       " 'green',\n",
       " 'green',\n",
       " 'green',\n",
       " 'red',\n",
       " 'red',\n",
       " 'red',\n",
       " 'green',\n",
       " 'red',\n",
       " 'red',\n",
       " 'red',\n",
       " 'green',\n",
       " 'red',\n",
       " 'red',\n",
       " 'green',\n",
       " 'red',\n",
       " 'green',\n",
       " 'green',\n",
       " 'green',\n",
       " 'red',\n",
       " 'red',\n",
       " 'green',\n",
       " 'red',\n",
       " 'green',\n",
       " 'red',\n",
       " 'green',\n",
       " 'red',\n",
       " 'red',\n",
       " 'green',\n",
       " 'green',\n",
       " 'green',\n",
       " 'red',\n",
       " 'green',\n",
       " 'red',\n",
       " 'green',\n",
       " 'green',\n",
       " 'green',\n",
       " 'green',\n",
       " 'red',\n",
       " 'red',\n",
       " 'green',\n",
       " 'green',\n",
       " 'red',\n",
       " 'green',\n",
       " 'green',\n",
       " 'red',\n",
       " 'green',\n",
       " 'green',\n",
       " 'green',\n",
       " 'red',\n",
       " 'green',\n",
       " 'green',\n",
       " 'red',\n",
       " 'green',\n",
       " 'red',\n",
       " 'green',\n",
       " 'red',\n",
       " 'green',\n",
       " 'red',\n",
       " 'green',\n",
       " 'red',\n",
       " 'red',\n",
       " 'green',\n",
       " 'green',\n",
       " 'green',\n",
       " 'green',\n",
       " 'red',\n",
       " 'green',\n",
       " 'red',\n",
       " 'green',\n",
       " 'green',\n",
       " 'red',\n",
       " 'red',\n",
       " 'red',\n",
       " 'red',\n",
       " 'red',\n",
       " 'green',\n",
       " 'red',\n",
       " 'green',\n",
       " 'green',\n",
       " 'green',\n",
       " 'red',\n",
       " 'red',\n",
       " 'green',\n",
       " 'green',\n",
       " 'red',\n",
       " 'red',\n",
       " 'red',\n",
       " 'red',\n",
       " 'red',\n",
       " 'red',\n",
       " 'green',\n",
       " 'red',\n",
       " 'red',\n",
       " 'red',\n",
       " 'green',\n",
       " 'red',\n",
       " 'green',\n",
       " 'red',\n",
       " 'green',\n",
       " 'green',\n",
       " 'green',\n",
       " 'red',\n",
       " 'red',\n",
       " 'red',\n",
       " 'green',\n",
       " 'red',\n",
       " 'red',\n",
       " 'green',\n",
       " 'green',\n",
       " 'green',\n",
       " 'red',\n",
       " 'green',\n",
       " 'green',\n",
       " 'red',\n",
       " 'green',\n",
       " 'red',\n",
       " 'green',\n",
       " 'red',\n",
       " 'red',\n",
       " 'green',\n",
       " 'red',\n",
       " 'green',\n",
       " 'green',\n",
       " 'green',\n",
       " 'red',\n",
       " 'red',\n",
       " 'red',\n",
       " 'green',\n",
       " 'green',\n",
       " 'red',\n",
       " 'green',\n",
       " 'green',\n",
       " 'green',\n",
       " 'red',\n",
       " 'red',\n",
       " 'green',\n",
       " 'red',\n",
       " 'red',\n",
       " 'green',\n",
       " 'red',\n",
       " 'green',\n",
       " 'green',\n",
       " 'green',\n",
       " 'green',\n",
       " 'green',\n",
       " 'green',\n",
       " 'red',\n",
       " 'green',\n",
       " 'red',\n",
       " 'green',\n",
       " 'red',\n",
       " 'red',\n",
       " 'red',\n",
       " 'green',\n",
       " 'green',\n",
       " 'green',\n",
       " 'red',\n",
       " 'red',\n",
       " 'green',\n",
       " 'red',\n",
       " 'green',\n",
       " 'red',\n",
       " 'red',\n",
       " 'red',\n",
       " 'green',\n",
       " 'red',\n",
       " 'red',\n",
       " 'red',\n",
       " 'red',\n",
       " 'green',\n",
       " 'red',\n",
       " 'green',\n",
       " 'red',\n",
       " 'green',\n",
       " 'green',\n",
       " 'red',\n",
       " 'green',\n",
       " 'red',\n",
       " 'red',\n",
       " 'red',\n",
       " 'red',\n",
       " 'red',\n",
       " 'green',\n",
       " 'red',\n",
       " 'red',\n",
       " 'green',\n",
       " 'red',\n",
       " 'green',\n",
       " 'red',\n",
       " 'green',\n",
       " 'red',\n",
       " 'green',\n",
       " 'green',\n",
       " 'green',\n",
       " 'green',\n",
       " 'green',\n",
       " 'green',\n",
       " 'green',\n",
       " 'green',\n",
       " 'red',\n",
       " 'green',\n",
       " 'green',\n",
       " 'green',\n",
       " 'green',\n",
       " 'red',\n",
       " 'red',\n",
       " 'red',\n",
       " 'green',\n",
       " 'red',\n",
       " 'red',\n",
       " 'green',\n",
       " 'red',\n",
       " 'red',\n",
       " 'green',\n",
       " 'green',\n",
       " 'red',\n",
       " 'green',\n",
       " 'red',\n",
       " 'green',\n",
       " 'red',\n",
       " 'red',\n",
       " 'red',\n",
       " 'red',\n",
       " 'red',\n",
       " 'red',\n",
       " 'green',\n",
       " 'green',\n",
       " 'red',\n",
       " 'green',\n",
       " 'green',\n",
       " 'red',\n",
       " 'green',\n",
       " 'red',\n",
       " 'green',\n",
       " 'green',\n",
       " 'red',\n",
       " 'green',\n",
       " 'red',\n",
       " 'green',\n",
       " 'green',\n",
       " 'green',\n",
       " 'green',\n",
       " 'red',\n",
       " 'red',\n",
       " 'green',\n",
       " 'red',\n",
       " 'green',\n",
       " 'green',\n",
       " 'red',\n",
       " 'green',\n",
       " 'green',\n",
       " 'green',\n",
       " 'green',\n",
       " 'green',\n",
       " 'green',\n",
       " 'red',\n",
       " 'green',\n",
       " 'green',\n",
       " 'green',\n",
       " 'red',\n",
       " 'red',\n",
       " 'green',\n",
       " 'green',\n",
       " 'green',\n",
       " 'green',\n",
       " 'red',\n",
       " 'green',\n",
       " 'red',\n",
       " 'green',\n",
       " 'green',\n",
       " 'green',\n",
       " 'red',\n",
       " 'red',\n",
       " 'red',\n",
       " 'red',\n",
       " 'red',\n",
       " 'green',\n",
       " 'green',\n",
       " 'green',\n",
       " 'green',\n",
       " 'red',\n",
       " 'green',\n",
       " 'red',\n",
       " 'red',\n",
       " 'red',\n",
       " 'red',\n",
       " 'green',\n",
       " 'red',\n",
       " 'red',\n",
       " 'green',\n",
       " 'green',\n",
       " 'green',\n",
       " 'red',\n",
       " 'red',\n",
       " 'red',\n",
       " 'red',\n",
       " 'green',\n",
       " 'red',\n",
       " 'green',\n",
       " 'red',\n",
       " 'green',\n",
       " 'green',\n",
       " 'green',\n",
       " 'green',\n",
       " 'green',\n",
       " 'red',\n",
       " 'green',\n",
       " 'red',\n",
       " 'green',\n",
       " 'red',\n",
       " 'green',\n",
       " 'red',\n",
       " 'green',\n",
       " 'red',\n",
       " 'red',\n",
       " 'red',\n",
       " 'red',\n",
       " 'green',\n",
       " 'red',\n",
       " 'green',\n",
       " 'red',\n",
       " 'red',\n",
       " 'red',\n",
       " 'green',\n",
       " 'green',\n",
       " 'red',\n",
       " 'green',\n",
       " 'red',\n",
       " 'green',\n",
       " 'red',\n",
       " 'red',\n",
       " 'red',\n",
       " 'green',\n",
       " 'green',\n",
       " 'red',\n",
       " 'red',\n",
       " 'green',\n",
       " 'red',\n",
       " 'red',\n",
       " 'green',\n",
       " 'green',\n",
       " 'red',\n",
       " 'green',\n",
       " 'red',\n",
       " 'red',\n",
       " 'red',\n",
       " 'red',\n",
       " 'red',\n",
       " 'green',\n",
       " 'red',\n",
       " 'green',\n",
       " 'red',\n",
       " 'green',\n",
       " 'green',\n",
       " 'red',\n",
       " 'red',\n",
       " 'green',\n",
       " 'red',\n",
       " 'red',\n",
       " 'red',\n",
       " 'green',\n",
       " 'green',\n",
       " 'red',\n",
       " 'green',\n",
       " 'green',\n",
       " 'red',\n",
       " 'red',\n",
       " 'red',\n",
       " 'red',\n",
       " 'green',\n",
       " 'red',\n",
       " 'red',\n",
       " 'red',\n",
       " 'red',\n",
       " 'green',\n",
       " 'red',\n",
       " 'red',\n",
       " 'green',\n",
       " 'red',\n",
       " 'green',\n",
       " 'green',\n",
       " 'green',\n",
       " 'green',\n",
       " 'red',\n",
       " 'red',\n",
       " 'green',\n",
       " 'green',\n",
       " 'red',\n",
       " 'red',\n",
       " 'green',\n",
       " 'red',\n",
       " 'green',\n",
       " 'red',\n",
       " 'red',\n",
       " 'red',\n",
       " 'red',\n",
       " 'red',\n",
       " 'green',\n",
       " 'green',\n",
       " 'green',\n",
       " 'green',\n",
       " 'red',\n",
       " 'green',\n",
       " 'green',\n",
       " 'green',\n",
       " 'green',\n",
       " 'green',\n",
       " 'green',\n",
       " 'green',\n",
       " 'green',\n",
       " 'green',\n",
       " 'green',\n",
       " 'green',\n",
       " 'green',\n",
       " 'green',\n",
       " 'green',\n",
       " 'red',\n",
       " 'red',\n",
       " 'green',\n",
       " 'green',\n",
       " 'green',\n",
       " 'green',\n",
       " 'green',\n",
       " 'red',\n",
       " 'green',\n",
       " 'red',\n",
       " 'red',\n",
       " 'green',\n",
       " 'red',\n",
       " 'red',\n",
       " 'red',\n",
       " 'red',\n",
       " 'green',\n",
       " 'green',\n",
       " 'green',\n",
       " 'red',\n",
       " 'red',\n",
       " 'green',\n",
       " 'green',\n",
       " 'green',\n",
       " 'red',\n",
       " 'green',\n",
       " 'red',\n",
       " 'red',\n",
       " 'green',\n",
       " 'green',\n",
       " 'green',\n",
       " 'green',\n",
       " 'red',\n",
       " 'green',\n",
       " 'green',\n",
       " 'green',\n",
       " 'red',\n",
       " 'green',\n",
       " 'green',\n",
       " 'red',\n",
       " 'red',\n",
       " 'red',\n",
       " 'red',\n",
       " 'green',\n",
       " 'green',\n",
       " 'red',\n",
       " 'green',\n",
       " 'red',\n",
       " 'green',\n",
       " 'green',\n",
       " 'green',\n",
       " 'red',\n",
       " 'red',\n",
       " 'green',\n",
       " 'red',\n",
       " 'green',\n",
       " 'green',\n",
       " 'red',\n",
       " 'green',\n",
       " 'red',\n",
       " 'red',\n",
       " 'green',\n",
       " 'red',\n",
       " 'green',\n",
       " 'red',\n",
       " 'green',\n",
       " 'red',\n",
       " 'red',\n",
       " 'red',\n",
       " 'green',\n",
       " 'red',\n",
       " 'green',\n",
       " 'red',\n",
       " 'red',\n",
       " 'green',\n",
       " 'red',\n",
       " 'red',\n",
       " 'green',\n",
       " 'green',\n",
       " 'red',\n",
       " 'red',\n",
       " 'red',\n",
       " 'green',\n",
       " 'red',\n",
       " 'red',\n",
       " 'red',\n",
       " 'red',\n",
       " 'red',\n",
       " 'green',\n",
       " 'red',\n",
       " 'red',\n",
       " 'green',\n",
       " 'red',\n",
       " 'red',\n",
       " 'red',\n",
       " 'red',\n",
       " 'red',\n",
       " 'red',\n",
       " 'green',\n",
       " 'green',\n",
       " 'red',\n",
       " 'green',\n",
       " 'green',\n",
       " 'green',\n",
       " 'red',\n",
       " 'green',\n",
       " 'red',\n",
       " 'red',\n",
       " 'green',\n",
       " 'green',\n",
       " 'green',\n",
       " 'red',\n",
       " 'green',\n",
       " 'green',\n",
       " 'green',\n",
       " 'red',\n",
       " 'green',\n",
       " 'green',\n",
       " 'green',\n",
       " 'red',\n",
       " 'red',\n",
       " 'red',\n",
       " 'red',\n",
       " 'green',\n",
       " 'green',\n",
       " 'green',\n",
       " 'green',\n",
       " 'red',\n",
       " 'green',\n",
       " 'red',\n",
       " 'red',\n",
       " 'green',\n",
       " 'green',\n",
       " 'red',\n",
       " 'red',\n",
       " 'red',\n",
       " 'red',\n",
       " 'green',\n",
       " 'green',\n",
       " 'green',\n",
       " 'green',\n",
       " 'red',\n",
       " 'red',\n",
       " 'green',\n",
       " 'green',\n",
       " 'green',\n",
       " 'green',\n",
       " 'green',\n",
       " 'green',\n",
       " 'red',\n",
       " 'green',\n",
       " 'red',\n",
       " 'green',\n",
       " 'red',\n",
       " 'red',\n",
       " 'red',\n",
       " 'green',\n",
       " 'green',\n",
       " 'green',\n",
       " 'green',\n",
       " 'green',\n",
       " 'green',\n",
       " 'red',\n",
       " 'red',\n",
       " 'red',\n",
       " 'red',\n",
       " 'green',\n",
       " 'green',\n",
       " 'red',\n",
       " 'red',\n",
       " 'green',\n",
       " 'green',\n",
       " 'green',\n",
       " 'red',\n",
       " 'green',\n",
       " 'red',\n",
       " 'red',\n",
       " 'red',\n",
       " 'green',\n",
       " 'red',\n",
       " 'red',\n",
       " 'green',\n",
       " 'green',\n",
       " 'green',\n",
       " 'green',\n",
       " 'red',\n",
       " 'green',\n",
       " 'green',\n",
       " 'green',\n",
       " 'green',\n",
       " 'green',\n",
       " 'green',\n",
       " 'red',\n",
       " 'green',\n",
       " 'green',\n",
       " 'green',\n",
       " 'green',\n",
       " 'green',\n",
       " 'green',\n",
       " 'red',\n",
       " 'red',\n",
       " 'green',\n",
       " 'green',\n",
       " 'green',\n",
       " 'green',\n",
       " 'green',\n",
       " 'green',\n",
       " 'green',\n",
       " 'red',\n",
       " 'green',\n",
       " 'green',\n",
       " 'green',\n",
       " 'green',\n",
       " 'red',\n",
       " 'red',\n",
       " 'green',\n",
       " 'red',\n",
       " 'green',\n",
       " 'green',\n",
       " 'red',\n",
       " 'green',\n",
       " 'green',\n",
       " 'red',\n",
       " 'green',\n",
       " 'green',\n",
       " 'red',\n",
       " 'green',\n",
       " 'red',\n",
       " 'green',\n",
       " 'red',\n",
       " 'green',\n",
       " 'red',\n",
       " 'green',\n",
       " 'red',\n",
       " 'green',\n",
       " 'red',\n",
       " 'green',\n",
       " 'green',\n",
       " 'red',\n",
       " 'green',\n",
       " 'green',\n",
       " 'red',\n",
       " 'green',\n",
       " 'green',\n",
       " 'green',\n",
       " 'red',\n",
       " 'red',\n",
       " 'green',\n",
       " 'green',\n",
       " 'red',\n",
       " 'red',\n",
       " 'green',\n",
       " 'red',\n",
       " 'red',\n",
       " 'green',\n",
       " 'green',\n",
       " 'green',\n",
       " 'green',\n",
       " 'green',\n",
       " 'red',\n",
       " 'red',\n",
       " 'red',\n",
       " 'red',\n",
       " 'green',\n",
       " 'red',\n",
       " 'green',\n",
       " 'green',\n",
       " 'red',\n",
       " 'red',\n",
       " 'green',\n",
       " 'green',\n",
       " 'red',\n",
       " 'green',\n",
       " 'red',\n",
       " 'green',\n",
       " 'red',\n",
       " 'green',\n",
       " 'red',\n",
       " 'green',\n",
       " 'green',\n",
       " 'red',\n",
       " 'red',\n",
       " 'green',\n",
       " 'red',\n",
       " 'green',\n",
       " 'red',\n",
       " 'red',\n",
       " 'green',\n",
       " 'green',\n",
       " 'green',\n",
       " 'red',\n",
       " 'green',\n",
       " 'green',\n",
       " 'green',\n",
       " 'green',\n",
       " 'green',\n",
       " 'green',\n",
       " 'red',\n",
       " 'green',\n",
       " 'green',\n",
       " 'red',\n",
       " 'green',\n",
       " 'red',\n",
       " 'green',\n",
       " 'green',\n",
       " 'red',\n",
       " 'red',\n",
       " 'red',\n",
       " 'red',\n",
       " 'red',\n",
       " 'red',\n",
       " 'green',\n",
       " 'red',\n",
       " 'red',\n",
       " 'green',\n",
       " 'green',\n",
       " 'red',\n",
       " 'red',\n",
       " 'red',\n",
       " 'red',\n",
       " 'red',\n",
       " 'red',\n",
       " 'green',\n",
       " 'green',\n",
       " 'red',\n",
       " 'red',\n",
       " 'green',\n",
       " 'red',\n",
       " 'green',\n",
       " 'green',\n",
       " 'green',\n",
       " 'green',\n",
       " 'green',\n",
       " 'green',\n",
       " 'red',\n",
       " 'red',\n",
       " 'red',\n",
       " 'green',\n",
       " 'green',\n",
       " 'red',\n",
       " 'red',\n",
       " 'green',\n",
       " 'green',\n",
       " 'green',\n",
       " 'green',\n",
       " 'green',\n",
       " 'green',\n",
       " 'red',\n",
       " 'red',\n",
       " 'red',\n",
       " 'red',\n",
       " 'red',\n",
       " 'red',\n",
       " 'green',\n",
       " 'red',\n",
       " 'green',\n",
       " 'green',\n",
       " 'green',\n",
       " 'red',\n",
       " 'green',\n",
       " 'green',\n",
       " 'green',\n",
       " 'green',\n",
       " 'red',\n",
       " 'red',\n",
       " 'green',\n",
       " 'green',\n",
       " 'green',\n",
       " 'green',\n",
       " 'green',\n",
       " 'green',\n",
       " 'green',\n",
       " 'green',\n",
       " 'red',\n",
       " 'green',\n",
       " 'green',\n",
       " 'green',\n",
       " 'red',\n",
       " 'green',\n",
       " 'red',\n",
       " 'red',\n",
       " 'green',\n",
       " 'green',\n",
       " 'green',\n",
       " 'red',\n",
       " 'green',\n",
       " 'red',\n",
       " 'red',\n",
       " 'green',\n",
       " 'red',\n",
       " 'green',\n",
       " 'red',\n",
       " 'green',\n",
       " 'green',\n",
       " 'green',\n",
       " 'green',\n",
       " 'green',\n",
       " 'red',\n",
       " 'green',\n",
       " 'green',\n",
       " 'red',\n",
       " 'red',\n",
       " 'red',\n",
       " 'red',\n",
       " 'red',\n",
       " 'green',\n",
       " 'red',\n",
       " 'red',\n",
       " 'green',\n",
       " 'red',\n",
       " 'green',\n",
       " 'green',\n",
       " 'green',\n",
       " 'red',\n",
       " 'green',\n",
       " 'green',\n",
       " 'green',\n",
       " 'green',\n",
       " 'green',\n",
       " 'red',\n",
       " 'red',\n",
       " 'red',\n",
       " 'red',\n",
       " 'green',\n",
       " 'green',\n",
       " 'red',\n",
       " 'green',\n",
       " 'red',\n",
       " 'red',\n",
       " 'red',\n",
       " 'green',\n",
       " 'red',\n",
       " 'red',\n",
       " 'green',\n",
       " 'red',\n",
       " 'red',\n",
       " 'red',\n",
       " 'green',\n",
       " 'red',\n",
       " 'green',\n",
       " 'red',\n",
       " 'red',\n",
       " 'green',\n",
       " 'green',\n",
       " 'green',\n",
       " 'red',\n",
       " 'green',\n",
       " 'green',\n",
       " 'green',\n",
       " 'green',\n",
       " 'green',\n",
       " 'green',\n",
       " 'red',\n",
       " 'red',\n",
       " 'green',\n",
       " 'red',\n",
       " 'red',\n",
       " 'green',\n",
       " 'green',\n",
       " 'green',\n",
       " 'green',\n",
       " 'red',\n",
       " 'green',\n",
       " 'green',\n",
       " 'green',\n",
       " 'green',\n",
       " 'green',\n",
       " 'green',\n",
       " 'red',\n",
       " 'red',\n",
       " 'red',\n",
       " 'green',\n",
       " 'red',\n",
       " 'green',\n",
       " 'red',\n",
       " 'green',\n",
       " 'red',\n",
       " 'green',\n",
       " 'green',\n",
       " 'green',\n",
       " 'red',\n",
       " 'green',\n",
       " 'red',\n",
       " 'red',\n",
       " 'green',\n",
       " 'green',\n",
       " 'red',\n",
       " 'green',\n",
       " 'green',\n",
       " 'red',\n",
       " 'red',\n",
       " 'green',\n",
       " 'green',\n",
       " 'red',\n",
       " 'red',\n",
       " 'green',\n",
       " 'green',\n",
       " 'green',\n",
       " 'red',\n",
       " 'green',\n",
       " 'red',\n",
       " 'green',\n",
       " 'green',\n",
       " 'red',\n",
       " 'red',\n",
       " 'green',\n",
       " 'red',\n",
       " 'red',\n",
       " 'red',\n",
       " 'red',\n",
       " 'green',\n",
       " 'red',\n",
       " 'red',\n",
       " 'red',\n",
       " ...]"
      ]
     },
     "execution_count": 34,
     "metadata": {},
     "output_type": "execute_result"
    }
   ],
   "source": [
    "[ colors[y_] for y_ in le.inverse_transform(y) ]"
   ]
  },
  {
   "cell_type": "code",
   "execution_count": 37,
   "metadata": {},
   "outputs": [
    {
     "data": {
      "image/png": "[encoded data removed]",
      "text/plain": [
       "<Figure size 432x288 with 1 Axes>"
      ]
     },
     "metadata": {
      "needs_background": "light"
     },
     "output_type": "display_data"
    },
    {
     "data": {
      "image/png": "[encoded data removed]",
      "text/plain": [
       "<Figure size 432x288 with 1 Axes>"
      ]
     },
     "metadata": {
      "needs_background": "light"
     },
     "output_type": "display_data"
    },
    {
     "data": {
      "image/png": "[encoded data removed]",
      "text/plain": [
       "<Figure size 432x288 with 1 Axes>"
      ]
     },
     "metadata": {
      "needs_background": "light"
     },
     "output_type": "display_data"
    },
    {
     "data": {
      "text/plain": [
       "Text(0.5, 1.0, 'BoW-S')"
      ]
     },
     "execution_count": 37,
     "metadata": {},
     "output_type": "execute_result"
    },
    {
     "data": {
      "image/png": "[encoded data removed]",
      "text/plain": [
       "<Figure size 432x288 with 1 Axes>"
      ]
     },
     "metadata": {
      "needs_background": "light"
     },
     "output_type": "display_data"
    }
   ],
   "source": [
    "colors = { -1: 'red', 0: 'blue', 1: 'green' }\n",
    "for i in range(C):\n",
    "    svd = TruncatedSVD(n_components=2, random_state=42)\n",
    "    X_embedded = svd.fit_transform(all_docs[:,i*V:(i+1)*V])\n",
    "    plt.scatter(X_embedded[:,0], X_embedded[:,1], linewidth=0, c=[ colors[y_] for y_ in le.inverse_transform(y) ], alpha=0.1)\n",
    "    plt.title('BoW-S (%d)' % le.inverse_transform([i])[0])\n",
    "    plt.show()\n",
    "svd = TruncatedSVD(n_components=2, random_state=42)\n",
    "X_embedded = svd.fit_transform(all_docs)\n",
    "plt.scatter(X_embedded[:,0], X_embedded[:,1], linewidth=0, c=[ colors[y_] for y_ in le.inverse_transform(y) ], alpha=0.1)\n",
    "plt.title('BoW-S')"
   ]
  },
  {
   "cell_type": "code",
   "execution_count": null,
   "metadata": {},
   "outputs": [],
   "source": [
    "colors = { -1: 'red', 0: 'blue', 1: 'green' }"
   ]
  },
  {
   "cell_type": "code",
   "execution_count": null,
   "metadata": {},
   "outputs": [],
   "source": [
    "svd = TruncatedSVD(n_components=2, random_state=42)\n",
    "X_embedded = svd.fit_transform(all_docs_csr)\n",
    "plt.scatter(X_embedded[:,0], X_embedded[:,1], linewidth=0, c=[ colors[le.inverse_transform([y_])[0]] for y_ in y ], alpha=0.1)\n",
    "plt.title('BoW-S')"
   ]
  },
  {
   "cell_type": "code",
   "execution_count": 38,
   "metadata": {},
   "outputs": [
    {
     "data": {
      "text/plain": [
       "Text(0.5, 1.0, 'TF')"
      ]
     },
     "execution_count": 38,
     "metadata": {},
     "output_type": "execute_result"
    },
    {
     "data": {
      "image/png": "[encoded data removed]",
      "text/plain": [
       "<Figure size 432x288 with 1 Axes>"
      ]
     },
     "metadata": {
      "needs_background": "light"
     },
     "output_type": "display_data"
    }
   ],
   "source": [
    "svd_2 = TruncatedSVD(n_components=2, random_state=42)\n",
    "X_embedded_2 = svd_2.fit_transform(X_TF)\n",
    "plt.scatter(X_embedded_2[:,0], X_embedded_2[:,1], linewidth=0, c=[ colors[le.inverse_transform([y_])[0]] for y_ in y ], alpha=0.1)\n",
    "plt.title('TF')"
   ]
  },
  {
   "cell_type": "code",
   "execution_count": 39,
   "metadata": {},
   "outputs": [
    {
     "data": {
      "text/plain": [
       "Text(0.5, 1.0, 'TFIDF')"
      ]
     },
     "execution_count": 39,
     "metadata": {},
     "output_type": "execute_result"
    },
    {
     "data": {
      "image/png": "[encoded data removed]",
      "text/plain": [
       "<Figure size 432x288 with 1 Axes>"
      ]
     },
     "metadata": {
      "needs_background": "light"
     },
     "output_type": "display_data"
    }
   ],
   "source": [
    "svd_2 = TruncatedSVD(n_components=2, random_state=42)\n",
    "X_embedded_2 = svd_2.fit_transform(X_TFIDF)\n",
    "plt.scatter(X_embedded_2[:,0], X_embedded_2[:,1], linewidth=0, c=[ colors[le.inverse_transform([y_])[0]] for y_ in y ], alpha=0.1)\n",
    "plt.title('TFIDF')"
   ]
  },
  {
   "cell_type": "code",
   "execution_count": null,
   "metadata": {},
   "outputs": [],
   "source": []
  },
  {
   "cell_type": "code",
   "execution_count": null,
   "metadata": {},
   "outputs": [],
   "source": []
  },
  {
   "cell_type": "code",
   "execution_count": null,
   "metadata": {},
   "outputs": [],
   "source": []
  },
  {
   "cell_type": "code",
   "execution_count": 29,
   "metadata": {},
   "outputs": [
    {
     "data": {
      "text/plain": [
       "Text(0.5, 1.0, '(0,1)')"
      ]
     },
     "execution_count": 29,
     "metadata": {},
     "output_type": "execute_result"
    },
    {
     "data": {
      "image/png": "[encoded data removed]",
      "text/plain": [
       "<Figure size 432x288 with 1 Axes>"
      ]
     },
     "metadata": {
      "needs_background": "light"
     },
     "output_type": "display_data"
    }
   ],
   "source": [
    "i = 1\n",
    "j = 2\n",
    "plt.hist(paired_cosine_distances(CI_dom_all[i], CI_dom_all[j]), bins=20, log='y')\n",
    "plt.title( '(%d,%d)' % (le.inverse_transform([i])[0], le.inverse_transform([j])[0]) )"
   ]
  },
  {
   "cell_type": "code",
   "execution_count": 144,
   "metadata": {},
   "outputs": [
    {
     "data": {
      "text/plain": [
       "(array([1444.,    0.,    0.,    0., 7876.,   16.,    0.,    0.,    0.,\n",
       "         288.]),\n",
       " array([0. , 0.1, 0.2, 0.3, 0.4, 0.5, 0.6, 0.7, 0.8, 0.9, 1. ]),\n",
       " <a list of 10 Patch objects>)"
      ]
     },
     "execution_count": 144,
     "metadata": {},
     "output_type": "execute_result"
    },
    {
     "data": {
      "image/png": "[encoded data removed]",
      "text/plain": [
       "<Figure size 432x288 with 1 Axes>"
      ]
     },
     "metadata": {
      "needs_background": "light"
     },
     "output_type": "display_data"
    }
   ],
   "source": [
    "plt.hist(paired_cosine_distances(CI_dom_all[1], CI_dom_all[2]))"
   ]
  },
  {
   "cell_type": "code",
   "execution_count": null,
   "metadata": {},
   "outputs": [],
   "source": []
  },
  {
   "cell_type": "code",
   "execution_count": 97,
   "metadata": {},
   "outputs": [
    {
     "data": {
      "text/plain": [
       "<6424x6424 sparse matrix of type '<class 'numpy.float64'>'\n",
       "\twith 345254 stored elements in Compressed Sparse Row format>"
      ]
     },
     "execution_count": 97,
     "metadata": {},
     "output_type": "execute_result"
    }
   ],
   "source": [
    "i = 0\n",
    "# POR CLASSE\n",
    "\n",
    "# priori da classe P(c)\n",
    "Pc = Nc[i]/N\n",
    "\n",
    "# priori da não-classe P(!c)\n",
    "Pnc = (N-Nc[i]) / N\n",
    "\n",
    "# Probabilidade P(t,c)\n",
    "data = np.array(Ntc[i][ Nt.nonzero() ] / Nt[ Nt.nonzero() ])[0]\n",
    "Ptc = sp.csr_matrix( (data, Nt.nonzero()), shape=Nt.shape )\n",
    "\n",
    "# Jenilek-Mercer smoothing\n",
    "norm_Ptc = (1.-alpha)*Ptc + alpha*Pt\n",
    "norm_Ptc"
   ]
  },
  {
   "cell_type": "code",
   "execution_count": 98,
   "metadata": {},
   "outputs": [
    {
     "data": {
      "text/plain": [
       "<6424x6424 sparse matrix of type '<class 'numpy.float64'>'\n",
       "\twith 345254 stored elements in Compressed Sparse Row format>"
      ]
     },
     "execution_count": 98,
     "metadata": {},
     "output_type": "execute_result"
    }
   ],
   "source": [
    "# P*sqrt(n)\n",
    "data1 = np.multiply(norm_Ptc[norm_Ptc.nonzero()], np.sqrt(Ntc[i][norm_Ptc.nonzero()]))\n",
    "\n",
    "# 2*sqrt( p(1-p) )\n",
    "data2 = 2.*np.sqrt(np.multiply(norm_Ptc[ norm_Ptc.nonzero() ], 1.-norm_Ptc[ norm_Ptc.nonzero() ]))\n",
    "\n",
    "CI_dominance_smooth = sp.csr_matrix( (np.array(data1/data2)[0], norm_Ptc.nonzero()), shape=norm_Ptc.shape )\n",
    "CI_dominance_smooth"
   ]
  },
  {
   "cell_type": "code",
   "execution_count": 99,
   "metadata": {},
   "outputs": [
    {
     "data": {
      "text/plain": [
       "(5.202838159417788, 0.0)"
      ]
     },
     "execution_count": 99,
     "metadata": {},
     "output_type": "execute_result"
    }
   ],
   "source": [
    "CI_dominance_smooth.data.max(), CI_dominance_smooth.data.min()"
   ]
  },
  {
   "cell_type": "code",
   "execution_count": 100,
   "metadata": {},
   "outputs": [
    {
     "data": {
      "text/plain": [
       "17.48619258316463"
      ]
     },
     "execution_count": 100,
     "metadata": {},
     "output_type": "execute_result"
    }
   ],
   "source": [
    "max_prob = (1.-alpha)*Ptc.data.max() + alpha*Pt.data.max()\n",
    "#max_size_ic = (max_prob*np.sqrt(N)) / (2.*np.sqrt( max_prob*(1.-max_prob) ))\n",
    "max_size_ic = (max_prob*np.sqrt(Ntc[i].data.max())) / (2.*np.sqrt( max_prob*(1.-max_prob) ))\n",
    "max_size_ic"
   ]
  },
  {
   "cell_type": "code",
   "execution_count": 101,
   "metadata": {},
   "outputs": [
    {
     "data": {
      "text/plain": [
       "0.2975397951654141"
      ]
     },
     "execution_count": 101,
     "metadata": {},
     "output_type": "execute_result"
    }
   ],
   "source": [
    "CI_dominance_smoooth_norm = CI_dominance_smooth / max_size_ic\n",
    "CI_dominance_smoooth_norm.data.max()"
   ]
  },
  {
   "cell_type": "code",
   "execution_count": null,
   "metadata": {},
   "outputs": [],
   "source": []
  },
  {
   "cell_type": "code",
   "execution_count": 107,
   "metadata": {},
   "outputs": [
    {
     "data": {
      "image/png": "[encoded data removed]",
      "text/plain": [
       "<Figure size 432x288 with 1 Axes>"
      ]
     },
     "metadata": {
      "needs_background": "light"
     },
     "output_type": "display_data"
    }
   ],
   "source": [
    "h = plt.hist(CI_dominance_smoooth_norm.data, bins=50, log='y')\n",
    "tt = plt.title(le.inverse_transform([i])[0])"
   ]
  },
  {
   "cell_type": "code",
   "execution_count": 94,
   "metadata": {},
   "outputs": [],
   "source": [
    "x = CI_dominance_smoooth_norm[CI_dominance_smoooth_norm.nonzero()].argmax()"
   ]
  },
  {
   "cell_type": "code",
   "execution_count": 104,
   "metadata": {},
   "outputs": [
    {
     "data": {
      "text/plain": [
       "('000', '30')"
      ]
     },
     "execution_count": 104,
     "metadata": {},
     "output_type": "execute_result"
    }
   ],
   "source": [
    "x_coord, y_coord = CI_dominance_smoooth_norm.nonzero()\n",
    "cv.get_feature_names()[x_coord[x]], cv.get_feature_names()[y_coord[x]]"
   ]
  },
  {
   "cell_type": "code",
   "execution_count": 103,
   "metadata": {},
   "outputs": [
    {
     "data": {
      "text/plain": [
       "0.0"
      ]
     },
     "execution_count": 103,
     "metadata": {},
     "output_type": "execute_result"
    }
   ],
   "source": [
    "CI_dominance_smoooth_norm[x_coord[x], y_coord[x]]"
   ]
  },
  {
   "cell_type": "code",
   "execution_count": null,
   "metadata": {},
   "outputs": [],
   "source": []
  },
  {
   "cell_type": "code",
   "execution_count": 53,
   "metadata": {},
   "outputs": [],
   "source": [
    "def entropy(M):\n",
    "    data = np.array(np.log2(M[M.nonzero()]))[0]\n",
    "    log_prob = sp.csr_matrix( (data, M.nonzero()), shape=M.shape )\n",
    "    return M.multiply(log_prob)"
   ]
  },
  {
   "cell_type": "code",
   "execution_count": 12,
   "metadata": {},
   "outputs": [
    {
     "data": {
      "text/plain": [
       "<26343x26343 sparse matrix of type '<class 'numpy.float64'>'\n",
       "\twith 102061517 stored elements in Compressed Sparse Row format>"
      ]
     },
     "execution_count": 12,
     "metadata": {},
     "output_type": "execute_result"
    }
   ],
   "source": [
    "entropy(Pt)"
   ]
  },
  {
   "cell_type": "code",
   "execution_count": 13,
   "metadata": {},
   "outputs": [
    {
     "data": {
      "text/plain": [
       "<26343x26343 sparse matrix of type '<class 'numpy.float64'>'\n",
       "\twith 6437175 stored elements in Compressed Sparse Row format>"
      ]
     },
     "execution_count": 13,
     "metadata": {},
     "output_type": "execute_result"
    }
   ],
   "source": [
    "entropy(Ptc)"
   ]
  },
  {
   "cell_type": "code",
   "execution_count": 14,
   "metadata": {},
   "outputs": [
    {
     "data": {
      "text/plain": [
       "7"
      ]
     },
     "execution_count": 14,
     "metadata": {},
     "output_type": "execute_result"
    }
   ],
   "source": [
    "len(Nc)"
   ]
  },
  {
   "cell_type": "code",
   "execution_count": 18,
   "metadata": {},
   "outputs": [],
   "source": []
  },
  {
   "cell_type": "code",
   "execution_count": 19,
   "metadata": {},
   "outputs": [
    {
     "data": {
      "application/vnd.jupyter.widget-view+json": {
       "model_id": "3a754f3010a74823bb74330fc4115842",
       "version_major": 2,
       "version_minor": 0
      },
      "text/plain": [
       "HBox(children=(IntProgress(value=0, max=8199), HTML(value='')))"
      ]
     },
     "metadata": {},
     "output_type": "display_data"
    }
   ],
   "source": []
  },
  {
   "cell_type": "code",
   "execution_count": null,
   "metadata": {},
   "outputs": [],
   "source": []
  },
  {
   "cell_type": "code",
   "execution_count": 89,
   "metadata": {},
   "outputs": [],
   "source": []
  },
  {
   "cell_type": "code",
   "execution_count": 92,
   "metadata": {},
   "outputs": [],
   "source": []
  },
  {
   "cell_type": "code",
   "execution_count": null,
   "metadata": {},
   "outputs": [],
   "source": []
  },
  {
   "cell_type": "code",
   "execution_count": null,
   "metadata": {},
   "outputs": [],
   "source": []
  },
  {
   "cell_type": "code",
   "execution_count": null,
   "metadata": {},
   "outputs": [],
   "source": []
  },
  {
   "cell_type": "code",
   "execution_count": null,
   "metadata": {},
   "outputs": [],
   "source": []
  },
  {
   "cell_type": "code",
   "execution_count": null,
   "metadata": {},
   "outputs": [],
   "source": []
  }
 ],
 "metadata": {
  "kernelspec": {
   "display_name": "Python 3",
   "language": "python",
   "name": "python3"
  }
 },
 "nbformat": 4,
 "nbformat_minor": 2
}
