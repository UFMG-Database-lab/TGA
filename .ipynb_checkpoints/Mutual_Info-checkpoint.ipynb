{
 "cells": [
  {
   "cell_type": "code",
   "execution_count": 1,
   "metadata": {},
   "outputs": [],
   "source": [
    "import numpy as np"
   ]
  },
  {
   "cell_type": "code",
   "execution_count": 2,
   "metadata": {},
   "outputs": [],
   "source": [
    "def H(X):\n",
    "    return -np.sum( [ x*np.log2(x) for x in X if x > 0] )"
   ]
  },
  {
   "cell_type": "code",
   "execution_count": 19,
   "metadata": {},
   "outputs": [],
   "source": [
    "total     = np.array( [100, 100, 50, 50] )"
   ]
  },
  {
   "cell_type": "code",
   "execution_count": 3,
   "metadata": {},
   "outputs": [],
   "source": [
    "e1        = np.array( [  0,  30,  0, 40] )\n",
    "e2        = np.array( [ 40,  10, 20, 30] )\n",
    "int_e1_e2 = np.array( [  0,  10,  0, 20] )"
   ]
  },
  {
   "cell_type": "code",
   "execution_count": 21,
   "metadata": {},
   "outputs": [
    {
     "data": {
      "text/plain": [
       "(array([28, 18, 32, 29]), array([97, 68, 17, 13]), array([27, 11,  1, 10]))"
      ]
     },
     "execution_count": 21,
     "metadata": {},
     "output_type": "execute_result"
    }
   ],
   "source": [
    "e1        = np.array(list(map(np.random.choice, total)))\n",
    "e2        = np.array(list(map(np.random.choice, total)))\n",
    "int_e1_e2 = np.array(list(map(np.random.choice, list(map(min, zip(e1, e2))))))\n",
    "e1,e2,int_e1_e2"
   ]
  },
  {
   "cell_type": "code",
   "execution_count": 22,
   "metadata": {},
   "outputs": [],
   "source": [
    "M_aux = np.zeros( (4,4) )\n",
    "for i in range(len(e1)):\n",
    "    for j in range(len(e2)):\n",
    "        if i!=j:\n",
    "            M_aux[i,j] = e1[i]/total[i]+e2[j]/total[j]\n",
    "        else:\n",
    "            M_aux[i,j] = (e1[i]+e2[i]-int_e1_e2[i])/total[i]\n",
    "M = M_aux/M_aux.sum()"
   ]
  },
  {
   "cell_type": "code",
   "execution_count": 23,
   "metadata": {},
   "outputs": [],
   "source": [
    "# Marginalization\n",
    "me1 = M.sum(axis=0) / M.sum()\n",
    "me2 = M.sum(axis=1) / M.sum()"
   ]
  },
  {
   "cell_type": "code",
   "execution_count": 24,
   "metadata": {},
   "outputs": [
    {
     "data": {
      "text/plain": [
       "(0.1771397536008214, 0.3460237627052308, 0.44144846262351356)"
      ]
     },
     "execution_count": 24,
     "metadata": {},
     "output_type": "execute_result"
    }
   ],
   "source": [
    "MI = 0\n",
    "for i in range(len(e1)):\n",
    "    for j in range(len(e2)):\n",
    "        if M[i,j] > 0:\n",
    "            MI += M[i,j]*np.log2( M[i,j]/(me1[i]*me2[j]) )\n",
    "result = (2.*MI)/(H(me1) + H(me2))\n",
    "result, MI, 1./(1.+np.exp(np.log2(1.+result)))"
   ]
  },
  {
   "cell_type": "code",
   "execution_count": null,
   "metadata": {},
   "outputs": [],
   "source": [
    "def simulate(total):\n",
    "    e1        = np.array(list(map(np.random.choice, total)))\n",
    "    e2        = np.array(list(map(np.random.choice, total)))\n",
    "    int_e1_e2 = np.array(list(map(np.random.choice, list(map(min, zip(e1, e2))))))\n",
    "    \n",
    "    M_aux = np.zeros( (len(total),len(total)) )\n",
    "    for i in range(len(e1)):\n",
    "        for j in range(len(e2)):\n",
    "            if i!=j:\n",
    "                M_aux[i,j] = e1[i]/total[i]+e2[j]/total[j]\n",
    "            else:\n",
    "                M_aux[i,j] = (e1[i]+e2[i]-int_e1_e2[i])/total[i]\n",
    "    # Marginalization\n",
    "    M = M_aux/M_aux.sum()\n",
    "    me1 = M.sum(axis=0) / M.sum()\n",
    "    me2 = M.sum(axis=1) / M.sum()\n",
    "    MI = 0\n",
    "    for i in range(len(e1)):\n",
    "        for j in range(len(e2)):\n",
    "            if M[i,j] > 0:\n",
    "                MI += M[i,j]*np.log2( M[i,j]/(me1[i]*me2[j]) )\n",
    "    result = (2.*MI)/(H(me1) + H(me2))\n",
    "    return (result, MI, 1./(1.+np.exp(np.log2(1.+result))))"
   ]
  },
  {
   "cell_type": "code",
   "execution_count": null,
   "metadata": {},
   "outputs": [],
   "source": []
  }
 ],
 "metadata": {
  "kernelspec": {
   "display_name": "Python 3",
   "language": "python",
   "name": "python3"
  },
  "language_info": {
   "codemirror_mode": {
    "name": "ipython",
    "version": 3
   },
   "file_extension": ".py",
   "mimetype": "text/x-python",
   "name": "python",
   "nbconvert_exporter": "python",
   "pygments_lexer": "ipython3",
   "version": "3.6.8"
  }
 },
 "nbformat": 4,
 "nbformat_minor": 2
}
