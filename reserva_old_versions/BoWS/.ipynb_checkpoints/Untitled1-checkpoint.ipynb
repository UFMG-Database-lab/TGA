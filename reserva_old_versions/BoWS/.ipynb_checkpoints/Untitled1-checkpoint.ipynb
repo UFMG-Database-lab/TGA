{
 "cells": [
  {
   "cell_type": "code",
   "execution_count": 1,
   "metadata": {},
   "outputs": [],
   "source": [
    "%load_ext autoreload\n",
    "%autoreload 2"
   ]
  },
  {
   "cell_type": "code",
   "execution_count": null,
   "metadata": {},
   "outputs": [],
   "source": []
  },
  {
   "cell_type": "code",
   "execution_count": 17,
   "metadata": {},
   "outputs": [],
   "source": [
    "from base import BoWS, OneVsAllGridClassifier\n",
    "import io\n",
    "\n",
    "from sklearn.metrics import f1_score,confusion_matrix\n",
    "from sklearn.linear_model import LogisticRegression\n",
    "from sklearn.tree import DecisionTreeClassifier\n",
    "from sklearn.svm import LinearSVC\n",
    "\n",
    "from glob import glob\n",
    "import matplotlib.pyplot as plt\n",
    "\n",
    "from os import path\n",
    "import os\n",
    "\n",
    "from collections import Counter\n",
    "\n",
    "import numpy as np\n",
    "from imblearn.under_sampling import NearMiss\n",
    "\n",
    "import gc"
   ]
  },
  {
   "cell_type": "code",
   "execution_count": 3,
   "metadata": {},
   "outputs": [],
   "source": [
    "def read_texts(filename):\n",
    "    with io.open(filename, newline='\\n') as filin:\n",
    "        return filin.readlines()\n",
    "\n",
    "def get_array(X, idxs):\n",
    "    return [ X[idx] for idx in idxs ]\n",
    "def read_dataset(pathname):\n",
    "    texts = read_texts(path.join(pathname, 'texts.txt'))\n",
    "    scores = read_texts(path.join(pathname, 'score.txt'))\n",
    "    scores = list(map(int, scores))\n",
    "    return texts,scores\n",
    "def load_splits_ids(folddir):\n",
    "    splits = []\n",
    "    with open(folddir, encoding='utf8', errors='ignore') as fileout:\n",
    "        for line in fileout.readlines():\n",
    "            train_index, test_index = line.split(';')\n",
    "            train_index = list(map(int, train_index.split()))\n",
    "            test_index = list(map(int, test_index.split()))\n",
    "            splits.append( (train_index, test_index) )\n",
    "    return splits "
   ]
  },
  {
   "cell_type": "code",
   "execution_count": 4,
   "metadata": {},
   "outputs": [
    {
     "name": "stdout",
     "output_type": "stream",
     "text": [
      "aisopos_ntua\t  sanders\t\t sentistrength_twitter\tvader_nyt\r\n",
      "debate\t\t  sarcasm\t\t sentistrength_youtube\tvader_twitter\r\n",
      "english_dailabor  sentistrength_bbc\t stanford_tweets\tyelp_reviews\r\n",
      "irony\t\t  sentistrength_digg\t tweet_semevaltest\r\n",
      "nikolaos_ted\t  sentistrength_myspace  vader_amazon\r\n",
      "pang_movie\t  sentistrength_rw\t vader_movie\r\n"
     ]
    }
   ],
   "source": [
    "!ls ../../datasets/newsdatasets/sentiment/3Label/"
   ]
  },
  {
   "cell_type": "code",
   "execution_count": 39,
   "metadata": {},
   "outputs": [
    {
     "name": "stdout",
     "output_type": "stream",
     "text": [
      "representations  score.txt  texts.txt\r\n"
     ]
    }
   ],
   "source": [
    "!ls ../../datasets/newsdatasets/sentiment/3Label/sanders"
   ]
  },
  {
   "cell_type": "code",
   "execution_count": 41,
   "metadata": {},
   "outputs": [
    {
     "name": "stdout",
     "output_type": "stream",
     "text": [
      " 69572 total\r\n",
      " 10662 ../../datasets/newsdatasets/sentiment/3Label/pang_movie/score.txt\r\n",
      " 10605 ../../datasets/newsdatasets/sentiment/3Label/vader_movie/score.txt\r\n",
      "  6087 ../../datasets/newsdatasets/sentiment/3Label/tweet_semevaltest/score.txt\r\n",
      "  5190 ../../datasets/newsdatasets/sentiment/3Label/vader_nyt/score.txt\r\n",
      "  5000 ../../datasets/newsdatasets/sentiment/3Label/yelp_reviews/score.txt\r\n",
      "  4242 ../../datasets/newsdatasets/sentiment/3Label/sentistrength_twitter/score.txt\r\n",
      "  4200 ../../datasets/newsdatasets/sentiment/3Label/vader_twitter/score.txt\r\n",
      "  3771 ../../datasets/newsdatasets/sentiment/3Label/english_dailabor/score.txt\r\n",
      "  3708 ../../datasets/newsdatasets/sentiment/3Label/vader_amazon/score.txt\r\n"
     ]
    }
   ],
   "source": [
    "!wc -l ../../datasets/newsdatasets/sentiment/3Label/*/score.txt | sort -nrk 1 | head"
   ]
  },
  {
   "cell_type": "code",
   "execution_count": 52,
   "metadata": {},
   "outputs": [],
   "source": [
    "datasetdir = \"../../datasets/newsdatasets/sentiment/3Label/sentistrength_bbc/\"\n",
    "train_test_splits = load_splits_ids(path.join(datasetdir, 'representations', 'split_5.csv' ))\n",
    "texts,scores = read_dataset(datasetdir)"
   ]
  },
  {
   "cell_type": "code",
   "execution_count": null,
   "metadata": {},
   "outputs": [],
   "source": []
  },
  {
   "cell_type": "code",
   "execution_count": 55,
   "metadata": {
    "scrolled": false
   },
   "outputs": [
    {
     "name": "stderr",
     "output_type": "stream",
     "text": [
      "Building class representations: 100%|██████████| 799/799 [00:00<00:00, 895.34it/s] \n",
      "/usr/local/lib/python3.6/dist-packages/scipy/sparse/compressed.py:708: SparseEfficiencyWarning: Changing the sparsity structure of a csr_matrix is expensive. lil_matrix is more efficient.\n",
      "  self[i, j] = values\n",
      "Building Models: 100%|██████████| 3/3 [00:00<00:00,  5.15it/s]\n",
      "Building class transformation: 100%|██████████| 799/799 [00:06<00:00, 120.70it/s]\n",
      "Building class transformation: 100%|██████████| 799/799 [00:01<00:00, 424.90it/s]\n",
      "Building class transformation: 100%|██████████| 799/799 [00:01<00:00, 640.53it/s]\n",
      "Building class transformation: 100%|██████████| 201/201 [00:01<00:00, 112.44it/s]\n",
      "Building class transformation: 100%|██████████| 201/201 [00:00<00:00, 418.04it/s]\n",
      "Building class transformation: 100%|██████████| 201/201 [00:00<00:00, 581.02it/s]\n"
     ]
    },
    {
     "name": "stdout",
     "output_type": "stream",
     "text": [
      "0.6119402985074627 0.6119402985074627\n"
     ]
    },
    {
     "data": {
      "text/plain": [
       "282"
      ]
     },
     "execution_count": 55,
     "metadata": {},
     "output_type": "execute_result"
    }
   ],
   "source": [
    "(train_ids, test_ids) = train_test_splits[1]\n",
    "X_train = get_array(texts, train_ids)\n",
    "y_train = get_array(scores, train_ids)\n",
    "\n",
    "bows = BoWS(min_df=2)\n",
    "X_train_transformed = bows.fit_transform(X_train, y_train)\n",
    "\n",
    "nm1 = NearMiss(version=2)\n",
    "#nm1 = None\n",
    "\n",
    "weak_clf = LogisticRegression(random_state=42, max_iter=1000)\n",
    "weak_params = {'penalty': ['l1', 'l2'], 'class_weight': ['balanced', None], 'solver': ['liblinear'], 'C': [1, 10, 0.1, 0.01]}\n",
    "#weak_params = {'penalty': ['l1', 'l2'], 'class_weight': ['balanced', None], 'C': [1, 10, 0.1, 0.01]}\n",
    "\n",
    "weak_clf = LinearSVC(random_state=42, max_iter=100000)\n",
    "weak_params = {'C': [1, 10, 0.1, 0.01]}\n",
    "\n",
    "#meta_clf = DecisionTreeClassifier()\n",
    "#meta_params = { 'criterion': [ \"gini\", \"entropy\" ], 'max_depth': [None, 2, 4, 6], 'min_samples_split': [2,4,6], 'min_samples_leaf': [1, 2, 4, 6] }\n",
    "\n",
    "meta_clf = LinearSVC(random_state=42, max_iter=100000)\n",
    "meta_params = {'C': [1, 10, 0.1, 0.01]}\n",
    "\n",
    "oal = OneVsAllGridClassifier( weak_params, weak_clf, meta_params, meta_clf, undersampler=nm1)\n",
    "\n",
    "y_pred = oal.fit_predict(X_train_transformed, y_train)\n",
    "\n",
    "X_test = get_array(texts, test_ids)\n",
    "X_test_transformed = bows.transform(X_test)\n",
    "\n",
    "y_test = get_array(scores, test_ids)\n",
    "\n",
    "y_pred = oal.predict(X_test_transformed)\n",
    "print( f1_score(y_test, y_pred, average='micro' ), f1_score(y_test, y_pred, average='micro' ) )\n",
    "gc.collect()"
   ]
  },
  {
   "cell_type": "code",
   "execution_count": null,
   "metadata": {},
   "outputs": [],
   "source": [
    "0.5445544554455446 0.5445544554455446\n"
   ]
  },
  {
   "cell_type": "code",
   "execution_count": null,
   "metadata": {},
   "outputs": [],
   "source": [
    "SEM UNDER\n",
    "0.49537037037037035 0.49537037037037035"
   ]
  },
  {
   "cell_type": "code",
   "execution_count": null,
   "metadata": {},
   "outputs": [],
   "source": [
    "COM UNDER\n",
    "1: 0.5046296296296297 0.5046296296296297\n",
    "2: 0.5123456790123457 0.5123456790123457\n",
    "3: 0.4675925925925926 0.4675925925925926"
   ]
  },
  {
   "cell_type": "code",
   "execution_count": null,
   "metadata": {},
   "outputs": [],
   "source": [
    "0.504950495049505 0.504950495049505\n",
    "0.6039603960396039 0.6039603960396039"
   ]
  },
  {
   "cell_type": "code",
   "execution_count": 26,
   "metadata": {},
   "outputs": [],
   "source": [
    "def plot_confusion_matrix(cm, classes, \n",
    "                          normalize=False,\n",
    "                          title=None,\n",
    "                          cmap=plt.cm.Blues):\n",
    "    \"\"\"\n",
    "    This function prints and plots the confusion matrix.\n",
    "    Normalization can be applied by setting `normalize=True`.\n",
    "    \"\"\"\n",
    "    \n",
    "    if normalize:\n",
    "        title = 'Normalized confusion matrix (%s)' % title\n",
    "        cm = cm.astype('float') / cm.sum()\n",
    "    else:\n",
    "        title = 'Confusion matrix, without normalization (%s)' % title\n",
    "        \n",
    "    fig, ax = plt.subplots()\n",
    "    im = ax.imshow(cm, interpolation='nearest', cmap=cmap)\n",
    "    ax.figure.colorbar(im, ax=ax)\n",
    "    # We want to show all ticks...\n",
    "    ax.set(xticks=np.arange(cm.shape[1]),\n",
    "           yticks=np.arange(cm.shape[0]),\n",
    "           # ... and label them with the respective list entries\n",
    "           xticklabels=classes, yticklabels=[ '%s' % (c) for c in classes],\n",
    "           title=title,\n",
    "           ylabel='True label',\n",
    "           xlabel='Predicted label')\n",
    "\n",
    "    # Rotate the tick labels and set their alignment.\n",
    "    plt.setp(ax.get_xticklabels(), rotation=45, ha=\"right\",\n",
    "             rotation_mode=\"anchor\")\n",
    "\n",
    "    # Loop over data dimensions and create text annotations.\n",
    "    fmt = '.2f' if normalize else '.0f'\n",
    "    thresh = cm.max() / 2.\n",
    "    for i in range(cm.shape[0]):\n",
    "        for j in range(cm.shape[1]):\n",
    "            ax.text(j, i, format(cm[i, j], fmt),\n",
    "                    ha=\"center\", va=\"center\",\n",
    "                    color=\"white\" if cm[i, j] > thresh else \"black\")\n",
    "    fig.tight_layout()\n",
    "    return ax"
   ]
  },
  {
   "cell_type": "code",
   "execution_count": 33,
   "metadata": {},
   "outputs": [
    {
     "data": {
      "image/png": "[encoded data removed]",
      "text/plain": [
       "<Figure size 432x288 with 2 Axes>"
      ]
     },
     "metadata": {
      "needs_background": "light"
     },
     "output_type": "display_data"
    },
    {
     "data": {
      "image/png": "[encoded data removed]",
      "text/plain": [
       "<Figure size 432x288 with 2 Axes>"
      ]
     },
     "metadata": {
      "needs_background": "light"
     },
     "output_type": "display_data"
    },
    {
     "data": {
      "image/png": "[encoded data removed]",
      "text/plain": [
       "<Figure size 432x288 with 2 Axes>"
      ]
     },
     "metadata": {
      "needs_background": "light"
     },
     "output_type": "display_data"
    }
   ],
   "source": [
    "cm = []\n",
    "for c in oal.classes_:\n",
    "    y_pred = oal.clf_by_class[c].predict(X_test_transformed[c])\n",
    "    y_test_transformed = oal.transform_y(y_test, c)\n",
    "    cm = confusion_matrix(y_test_transformed, y_pred)\n",
    "    p = cm[1][1]/sum(cm[:,1])\n",
    "    r = cm[1,1]/sum(cm[1,:])\n",
    "    f1 = (2.*p*r)/(p+r)\n",
    "    plot_confusion_matrix(cm, [0,1], title=\"%d:%.3f\" % (c, f1) )"
   ]
  },
  {
   "cell_type": "code",
   "execution_count": 62,
   "metadata": {},
   "outputs": [
    {
     "name": "stdout",
     "output_type": "stream",
     "text": [
      "1 : 0.942, 0.058, 0.466, 0.534, 0.899, 0.101\n",
      "1 : 0.841, 0.159, 0.536, 0.464, 0.518, 0.482\n",
      "1 : 0.818, 0.182, 0.529, 0.471, 0.905, 0.095\n",
      "1 : 0.947, 0.053, 0.471, 0.529, 0.274, 0.726\n",
      "1 : 0.881, 0.119, 0.546, 0.454, 0.310, 0.690\n",
      "1 : 0.603, 0.397, 0.512, 0.488, 0.579, 0.421\n",
      "1 : 0.800, 0.200, 0.519, 0.481, 0.744, 0.256\n",
      "1 : 0.841, 0.159, 0.524, 0.476, 0.163, 0.837\n",
      "1 : 0.899, 0.101, 0.479, 0.521, 0.150, 0.850\n",
      "1 : 0.851, 0.149, 0.532, 0.468, 0.132, 0.868\n",
      "1 : 0.875, 0.125, 0.532, 0.468, 0.219, 0.781\n",
      "1 : 0.492, 0.508, 0.507, 0.493, 0.420, 0.580\n",
      "1 : 0.929, 0.071, 0.475, 0.525, 0.615, 0.385\n",
      "1 : 0.619, 0.381, 0.503, 0.497, 0.591, 0.409\n",
      "1 : 0.646, 0.354, 0.526, 0.474, 0.124, 0.876\n",
      "1 : 0.492, 0.508, 0.507, 0.493, 0.420, 0.580\n",
      "1 : 0.899, 0.101, 0.469, 0.531, 0.448, 0.552\n",
      "1 : 0.812, 0.188, 0.523, 0.477, 0.242, 0.758\n",
      "1 : 0.492, 0.508, 0.507, 0.493, 0.420, 0.580\n",
      "1 : 0.782, 0.218, 0.525, 0.475, 0.863, 0.137\n",
      "1 : 0.911, 0.089, 0.526, 0.474, 0.805, 0.195\n",
      "1 : 0.453, 0.547, 0.518, 0.482, 0.320, 0.680\n",
      "1 : 0.718, 0.282, 0.525, 0.475, 0.426, 0.574\n",
      "1 : 0.948, 0.052, 0.525, 0.475, 0.167, 0.833\n",
      "1 : 0.917, 0.083, 0.544, 0.456, 0.057, 0.943\n",
      "1 : 0.803, 0.197, 0.484, 0.516, 0.867, 0.133\n",
      "1 : 0.668, 0.332, 0.506, 0.494, 0.775, 0.225\n",
      "1 : 0.806, 0.194, 0.526, 0.474, 0.134, 0.866\n",
      "1 : 0.815, 0.185, 0.510, 0.490, 0.446, 0.554\n",
      "1 : 0.702, 0.298, 0.532, 0.468, 0.536, 0.464\n",
      "1 : 0.819, 0.181, 0.529, 0.471, 0.708, 0.292\n",
      "1 : 0.312, 0.688, 0.526, 0.474, 0.947, 0.053\n"
     ]
    }
   ],
   "source": [
    "for y, array_probs in list(zip(y_test, oal.predict_proba_weak(X_test_transformed))):\n",
    "    if y == 1:\n",
    "        print(y, \":\", ', '.join(list(map(lambda x: \"%.3f\" % x, array_probs))))"
   ]
  },
  {
   "cell_type": "code",
   "execution_count": null,
   "metadata": {},
   "outputs": [],
   "source": [
    ".()"
   ]
  },
  {
   "cell_type": "code",
   "execution_count": 16,
   "metadata": {},
   "outputs": [
    {
     "data": {
      "text/plain": [
       "[array([[1, 2],\n",
       "        [3, 2],\n",
       "        [1, 3]]), array([[4, 5],\n",
       "        [6, 5],\n",
       "        [4, 6]])]"
      ]
     },
     "execution_count": 16,
     "metadata": {},
     "output_type": "execute_result"
    }
   ],
   "source": [
    "a = []\n",
    "a.append( np.array([ [1,2], [3,2], [1,3] ]) )\n",
    "a.append( np.array([ [4,5], [6,5], [4,6] ]) )\n",
    "a"
   ]
  },
  {
   "cell_type": "code",
   "execution_count": 19,
   "metadata": {},
   "outputs": [
    {
     "data": {
      "text/plain": [
       "array([[1, 2, 4, 5],\n",
       "       [3, 2, 6, 5],\n",
       "       [1, 3, 4, 6]])"
      ]
     },
     "execution_count": 19,
     "metadata": {},
     "output_type": "execute_result"
    }
   ],
   "source": [
    "np.concatenate(a, axis=1)"
   ]
  },
  {
   "cell_type": "code",
   "execution_count": null,
   "metadata": {},
   "outputs": [],
   "source": []
  }
 ],
 "metadata": {
  "kernelspec": {
   "display_name": "Python 3",
   "language": "python",
   "name": "python3"
  },
  "language_info": {
   "codemirror_mode": {
    "name": "ipython",
    "version": 3
   },
   "file_extension": ".py",
   "mimetype": "text/x-python",
   "name": "python",
   "nbconvert_exporter": "python",
   "pygments_lexer": "ipython3",
   "version": "3.6.8"
  }
 },
 "nbformat": 4,
 "nbformat_minor": 2
}
