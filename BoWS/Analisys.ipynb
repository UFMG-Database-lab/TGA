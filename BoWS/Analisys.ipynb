{
 "cells": [
  {
   "cell_type": "code",
   "execution_count": 1,
   "metadata": {},
   "outputs": [],
   "source": [
    "from base import BoWS, OneVsAllGridClassifier\n",
    "import io\n",
    "\n",
    "from sklearn.metrics import f1_score,confusion_matrix\n",
    "from sklearn.linear_model import LogisticRegression\n",
    "from sklearn.tree import DecisionTreeClassifier\n",
    "from sklearn.svm import LinearSVC\n",
    "\n",
    "from glob import glob\n",
    "\n",
    "from os import path\n",
    "import os\n",
    "\n",
    "from collections import Counter\n",
    "\n",
    "\n",
    "import gc"
   ]
  },
  {
   "cell_type": "code",
   "execution_count": 2,
   "metadata": {},
   "outputs": [],
   "source": [
    "def read_texts(filename):\n",
    "    with io.open(filename, newline='\\n') as filin:\n",
    "        return filin.readlines()\n",
    "\n",
    "def get_array(X, idxs):\n",
    "    return [ X[idx] for idx in idxs ]\n",
    "def read_dataset(pathname):\n",
    "    texts = read_texts(path.join(pathname, 'texts.txt'))\n",
    "    scores = read_texts(path.join(pathname, 'score.txt'))\n",
    "    scores = list(map(int, scores))\n",
    "    return texts,scores\n",
    "def dump_svmlight_file_gz(X,y,filename):\n",
    "    with gzip.open(filename, 'w') as filout:\n",
    "        dump_svmlight_file(X, y, filout, zero_based=False)\n",
    "def load_splits_ids(folddir):\n",
    "    splits = []\n",
    "    with open(folddir, encoding='utf8', errors='ignore') as fileout:\n",
    "        for line in fileout.readlines():\n",
    "            train_index, test_index = line.split(';')\n",
    "            train_index = list(map(int, train_index.split()))\n",
    "            test_index = list(map(int, test_index.split()))\n",
    "            splits.append( (train_index, test_index) )\n",
    "    return splits "
   ]
  },
  {
   "cell_type": "code",
   "execution_count": 22,
   "metadata": {},
   "outputs": [],
   "source": [
    "datasetdir = \"../../../../Documentos/datasets/only_docs_scores/irony/\"\n",
    "train_test_splits = load_splits_ids(path.join(datasetdir, 'representations', 'split_5.csv' ))\n",
    "texts,scores = read_dataset(datasetdir)"
   ]
  },
  {
   "cell_type": "code",
   "execution_count": 23,
   "metadata": {},
   "outputs": [
    {
     "name": "stderr",
     "output_type": "stream",
     "text": [
      "Building class representations: 100%|██████████| 63/63 [00:00<00:00, 1271.40it/s]\n",
      "/home/mangaravite/.local/lib/python3.6/site-packages/scipy/sparse/_index.py:112: SparseEfficiencyWarning: Changing the sparsity structure of a csr_matrix is expensive. lil_matrix is more efficient.\n",
      "  self._set_arrayXarray(i, j, x)\n",
      "Building Models: 100%|██████████| 3/3 [00:00<00:00, 299.62it/s]\n",
      "Building class transformation: 100%|██████████| 63/63 [00:00<00:00, 450.03it/s]\n",
      "Building class transformation: 100%|██████████| 63/63 [00:00<00:00, 427.66it/s]\n",
      "Building class transformation: 100%|██████████| 63/63 [00:00<00:00, 527.75it/s]\n",
      "Building class transformation: 100%|██████████| 18/18 [00:00<00:00, 347.31it/s]\n",
      "Building class transformation: 100%|██████████| 18/18 [00:00<00:00, 644.42it/s]\n",
      "Building class transformation: 100%|██████████| 18/18 [00:00<00:00, 2130.53it/s]\n"
     ]
    },
    {
     "data": {
      "text/plain": [
       "632"
      ]
     },
     "execution_count": 23,
     "metadata": {},
     "output_type": "execute_result"
    }
   ],
   "source": [
    "(train_ids, test_ids) = train_test_splits[0]\n",
    "X_train = get_array(texts, train_ids)\n",
    "y_train = get_array(scores, train_ids)\n",
    "\n",
    "bows = BoWS(min_df=2)\n",
    "X_train_transformed = bows.fit_transform(X_train, y_train)\n",
    "\n",
    "weak_clf = LogisticRegression(random_state=42, max_iter=1000)\n",
    "weak_params = {'penalty': ['l1', 'l2'], 'class_weight': ['balanced', None], 'solver': ['liblinear'], 'C': [1, 10, 0.1, 0.01]}\n",
    "\n",
    "#weak_clf = LinearSVC(random_state=42)\n",
    "#weak_params = {'C': [1, 10, 0.1, 0.01]}\n",
    "\n",
    "meta_clf = DecisionTreeClassifier()\n",
    "meta_params = { 'criterion': [ \"gini\", \"entropy\" ], 'max_depth': [None, 2, 4, 6], 'min_samples_split': [2,4,6], 'min_samples_leaf': [1, 2, 4, 6] }\n",
    "\n",
    "oal = OneVsAllGridClassifier( weak_params, weak_clf, meta_params, meta_clf )\n",
    "\n",
    "y_pred = oal.fit_predict(X_train_transformed, y_train)\n",
    "\n",
    "X_test = get_array(texts, test_ids)\n",
    "X_test_transformed = bows.transform(X_test)\n",
    "\n",
    "y_test = get_array(scores, test_ids)\n",
    "gc.collect()"
   ]
  },
  {
   "cell_type": "code",
   "execution_count": 20,
   "metadata": {},
   "outputs": [],
   "source": [
    "import json"
   ]
  },
  {
   "cell_type": "code",
   "execution_count": 21,
   "metadata": {},
   "outputs": [],
   "source": [
    "with open('tmp_output/caralho.json', 'w') as fp:\n",
    "    json.dump({'vai': 'tomar', 'no': 'cu'}, fp)"
   ]
  },
  {
   "cell_type": "code",
   "execution_count": 7,
   "metadata": {},
   "outputs": [],
   "source": [
    "y_pred_test = oal.predict(X_test_transformed)"
   ]
  },
  {
   "cell_type": "code",
   "execution_count": 8,
   "metadata": {},
   "outputs": [
    {
     "data": {
      "text/plain": [
       "array([[0.33333333, 0.16666667, 0.        ],\n",
       "       [0.16666667, 0.05555556, 0.        ],\n",
       "       [0.22222222, 0.        , 0.05555556]])"
      ]
     },
     "execution_count": 8,
     "metadata": {},
     "output_type": "execute_result"
    }
   ],
   "source": [
    "confusion_matrix(y_test, y_pred_test, labels=oal.classes_)/len(y_test)"
   ]
  },
  {
   "cell_type": "code",
   "execution_count": 10,
   "metadata": {},
   "outputs": [
    {
     "name": "stdout",
     "output_type": "stream",
     "text": [
      "F1_mi: 0.444 and F1_ma: 0.376\n"
     ]
    }
   ],
   "source": [
    "f1_micr = f1_score(y_test, y_pred_test, average='micro')\n",
    "f1_macr = f1_score(y_test, y_pred_test, average='macro')\n",
    "print(\"F1_mi: %.3f and F1_ma: %.3f\" % ( f1_micr, f1_macr) )"
   ]
  },
  {
   "cell_type": "code",
   "execution_count": 11,
   "metadata": {},
   "outputs": [
    {
     "name": "stdout",
     "output_type": "stream",
     "text": [
      "-1 F1_mi: 0.444 and F1_ma: 0.375\n",
      "0 F1_mi: 0.778 and F1_ma: 0.438\n",
      "1 F1_mi: 0.722 and F1_ma: 0.419\n"
     ]
    },
    {
     "name": "stderr",
     "output_type": "stream",
     "text": [
      "/usr/local/lib/python3.6/dist-packages/sklearn/metrics/classification.py:1145: UndefinedMetricWarning: F-score is ill-defined and being set to 0.0 in labels with no true samples.\n",
      "  'recall', 'true', average, warn_for)\n"
     ]
    }
   ],
   "source": [
    "for c in X_test_transformed:\n",
    "    y_pred = oal.clf_by_class[c].predict(X_test_transformed[c])\n",
    "    y_test_transformed = oal.transform_y(y_test, c)\n",
    "    f1_micr = f1_score(y_pred, y_test_transformed, average='micro')\n",
    "    f1_macr = f1_score(y_pred, y_test_transformed, average='macro')\n",
    "    print(\"%d F1_mi: %.3f and F1_ma: %.3f\" % ( c, f1_micr, f1_macr) )"
   ]
  },
  {
   "cell_type": "code",
   "execution_count": 5,
   "metadata": {},
   "outputs": [
    {
     "data": {
      "text/plain": [
       "['../../../../Documentos/datasets/only_docs_scores/irony',\n",
       " '../../../../Documentos/datasets/only_docs_scores/sarcasm',\n",
       " '../../../../Documentos/datasets/only_docs_scores/aisopos_ntua',\n",
       " '../../../../Documentos/datasets/only_docs_scores/nikolaos_ted',\n",
       " '../../../../Documentos/datasets/only_docs_scores/sentistrength_bbc',\n",
       " '../../../../Documentos/datasets/only_docs_scores/sentistrength_myspace',\n",
       " '../../../../Documentos/datasets/only_docs_scores/sentistrength_rw',\n",
       " '../../../../Documentos/datasets/only_docs_scores/sentistrength_digg',\n",
       " '../../../../Documentos/datasets/only_docs_scores/debate',\n",
       " '../../../../Documentos/datasets/only_docs_scores/sentistrength_youtube',\n",
       " '../../../../Documentos/datasets/only_docs_scores/sanders',\n",
       " '../../../../Documentos/datasets/only_docs_scores/vader_amazon',\n",
       " '../../../../Documentos/datasets/only_docs_scores/english_dailabor',\n",
       " '../../../../Documentos/datasets/only_docs_scores/vader_twitter',\n",
       " '../../../../Documentos/datasets/only_docs_scores/sentistrength_twitter',\n",
       " '../../../../Documentos/datasets/only_docs_scores/vader_nyt',\n",
       " '../../../../Documentos/datasets/only_docs_scores/tweet_semevaltest',\n",
       " '../../../../Documentos/datasets/only_docs_scores/vader_movie']"
      ]
     },
     "execution_count": 5,
     "metadata": {},
     "output_type": "execute_result"
    }
   ],
   "source": [
    "sorted(glob(\"../../../../Documentos/datasets/only_docs_scores/*\"), key=lambda x: len(read_dataset(x)[1]) )"
   ]
  },
  {
   "cell_type": "code",
   "execution_count": 35,
   "metadata": {
    "scrolled": false
   },
   "outputs": [
    {
     "name": "stderr",
     "output_type": "stream",
     "text": [
      "Building class representations: 100%|██████████| 63/63 [00:00<00:00, 2006.80it/s]\n",
      "/home/mangaravite/.local/lib/python3.6/site-packages/scipy/sparse/_index.py:112: SparseEfficiencyWarning: Changing the sparsity structure of a csr_matrix is expensive. lil_matrix is more efficient.\n",
      "  self._set_arrayXarray(i, j, x)\n",
      "Building Models: 100%|██████████| 3/3 [00:00<00:00, 436.19it/s]"
     ]
    },
    {
     "name": "stdout",
     "output_type": "stream",
     "text": [
      "irony\n"
     ]
    },
    {
     "name": "stderr",
     "output_type": "stream",
     "text": [
      "\n",
      "Building class transformation: 100%|██████████| 63/63 [00:00<00:00, 1072.64it/s]\n",
      "Building class transformation: 100%|██████████| 63/63 [00:00<00:00, 1207.35it/s]\n",
      "Building class transformation: 100%|██████████| 63/63 [00:00<00:00, 1159.99it/s]\n",
      "Building class transformation: 100%|██████████| 18/18 [00:00<00:00, 755.24it/s]\n",
      "Building class transformation: 100%|██████████| 18/18 [00:00<00:00, 955.30it/s]\n",
      "Building class transformation: 100%|██████████| 18/18 [00:00<00:00, 2522.55it/s]\n",
      "/usr/local/lib/python3.6/dist-packages/sklearn/metrics/classification.py:1145: UndefinedMetricWarning: F-score is ill-defined and being set to 0.0 in labels with no true samples.\n",
      "  'recall', 'true', average, warn_for)\n",
      "Building class representations: 100%|██████████| 64/64 [00:00<00:00, 1938.99it/s]\n",
      "/home/mangaravite/.local/lib/python3.6/site-packages/scipy/sparse/_index.py:112: SparseEfficiencyWarning: Changing the sparsity structure of a csr_matrix is expensive. lil_matrix is more efficient.\n",
      "  self._set_arrayXarray(i, j, x)\n",
      "Building Models: 100%|██████████| 3/3 [00:00<00:00, 455.99it/s]"
     ]
    },
    {
     "name": "stdout",
     "output_type": "stream",
     "text": [
      "Fold 0\n",
      "\t-1 F1_mi: 0.611 and F1_ma: 0.579\n",
      "\t0 F1_mi: 0.778 and F1_ma: 0.438\n",
      "\t1 F1_mi: 0.722 and F1_ma: 0.419\n",
      "irony\n"
     ]
    },
    {
     "name": "stderr",
     "output_type": "stream",
     "text": [
      "\n",
      "Building class transformation: 100%|██████████| 64/64 [00:00<00:00, 1870.34it/s]\n",
      "Building class transformation: 100%|██████████| 64/64 [00:00<00:00, 1269.58it/s]\n",
      "Building class transformation: 100%|██████████| 64/64 [00:00<00:00, 1161.81it/s]\n",
      "Building class transformation: 100%|██████████| 17/17 [00:00<00:00, 1018.84it/s]\n",
      "Building class transformation: 100%|██████████| 17/17 [00:00<00:00, 3440.11it/s]\n",
      "Building class transformation: 100%|██████████| 17/17 [00:00<00:00, 931.67it/s]\n",
      "/usr/local/lib/python3.6/dist-packages/sklearn/metrics/classification.py:1145: UndefinedMetricWarning: F-score is ill-defined and being set to 0.0 in labels with no true samples.\n",
      "  'recall', 'true', average, warn_for)\n",
      "Building class representations: 100%|██████████| 65/65 [00:00<00:00, 2108.46it/s]\n",
      "/home/mangaravite/.local/lib/python3.6/site-packages/scipy/sparse/_index.py:112: SparseEfficiencyWarning: Changing the sparsity structure of a csr_matrix is expensive. lil_matrix is more efficient.\n",
      "  self._set_arrayXarray(i, j, x)\n",
      "Building Models: 100%|██████████| 3/3 [00:00<00:00, 369.97it/s]"
     ]
    },
    {
     "name": "stdout",
     "output_type": "stream",
     "text": [
      "Fold 1\n",
      "\t-1 F1_mi: 0.471 and F1_ma: 0.395\n",
      "\t0 F1_mi: 0.824 and F1_ma: 0.452\n",
      "\t1 F1_mi: 0.706 and F1_ma: 0.414\n",
      "irony\n"
     ]
    },
    {
     "name": "stderr",
     "output_type": "stream",
     "text": [
      "\n",
      "Building class transformation: 100%|██████████| 65/65 [00:00<00:00, 1256.70it/s]\n",
      "Building class transformation: 100%|██████████| 65/65 [00:00<00:00, 1297.38it/s]\n",
      "Building class transformation: 100%|██████████| 65/65 [00:00<00:00, 1139.05it/s]\n",
      "Building class transformation: 100%|██████████| 16/16 [00:00<00:00, 851.00it/s]\n",
      "Building class transformation: 100%|██████████| 16/16 [00:00<00:00, 1992.48it/s]\n",
      "Building class transformation: 100%|██████████| 16/16 [00:00<00:00, 2853.63it/s]\n",
      "/usr/local/lib/python3.6/dist-packages/sklearn/metrics/classification.py:1145: UndefinedMetricWarning: F-score is ill-defined and being set to 0.0 in labels with no true samples.\n",
      "  'recall', 'true', average, warn_for)\n",
      "Building class representations: 100%|██████████| 66/66 [00:00<00:00, 2016.73it/s]\n",
      "/home/mangaravite/.local/lib/python3.6/site-packages/scipy/sparse/_index.py:112: SparseEfficiencyWarning: Changing the sparsity structure of a csr_matrix is expensive. lil_matrix is more efficient.\n",
      "  self._set_arrayXarray(i, j, x)\n",
      "Building Models: 100%|██████████| 3/3 [00:00<00:00, 392.27it/s]"
     ]
    },
    {
     "name": "stdout",
     "output_type": "stream",
     "text": [
      "Fold 2\n",
      "\t-1 F1_mi: 0.562 and F1_ma: 0.515\n",
      "\t0 F1_mi: 0.812 and F1_ma: 0.448\n",
      "\t1 F1_mi: 0.750 and F1_ma: 0.429\n",
      "irony\n"
     ]
    },
    {
     "name": "stderr",
     "output_type": "stream",
     "text": [
      "\n",
      "Building class transformation: 100%|██████████| 66/66 [00:00<00:00, 1524.22it/s]\n",
      "Building class transformation: 100%|██████████| 66/66 [00:00<00:00, 1366.04it/s]\n",
      "Building class transformation: 100%|██████████| 66/66 [00:00<00:00, 1312.90it/s]\n",
      "Building class transformation: 100%|██████████| 15/15 [00:00<00:00, 2493.25it/s]\n",
      "Building class transformation: 100%|██████████| 15/15 [00:00<00:00, 848.81it/s]\n",
      "Building class transformation: 100%|██████████| 15/15 [00:00<00:00, 875.10it/s]\n",
      "/usr/local/lib/python3.6/dist-packages/sklearn/metrics/classification.py:1145: UndefinedMetricWarning: F-score is ill-defined and being set to 0.0 in labels with no true samples.\n",
      "  'recall', 'true', average, warn_for)\n",
      "Building class representations: 100%|██████████| 66/66 [00:00<00:00, 1922.47it/s]\n",
      "/home/mangaravite/.local/lib/python3.6/site-packages/scipy/sparse/_index.py:112: SparseEfficiencyWarning: Changing the sparsity structure of a csr_matrix is expensive. lil_matrix is more efficient.\n",
      "  self._set_arrayXarray(i, j, x)\n",
      "Building Models: 100%|██████████| 3/3 [00:00<00:00, 471.73it/s]"
     ]
    },
    {
     "name": "stdout",
     "output_type": "stream",
     "text": [
      "Fold 3\n",
      "\t-1 F1_mi: 0.667 and F1_ma: 0.641\n",
      "\t0 F1_mi: 0.800 and F1_ma: 0.444\n",
      "\t1 F1_mi: 0.733 and F1_ma: 0.423\n",
      "irony\n"
     ]
    },
    {
     "name": "stderr",
     "output_type": "stream",
     "text": [
      "\n",
      "Building class transformation: 100%|██████████| 66/66 [00:00<00:00, 1227.05it/s]\n",
      "Building class transformation: 100%|██████████| 66/66 [00:00<00:00, 1305.93it/s]\n",
      "Building class transformation: 100%|██████████| 66/66 [00:00<00:00, 1222.96it/s]\n",
      "Building class transformation: 100%|██████████| 15/15 [00:00<00:00, 1370.63it/s]\n",
      "Building class transformation: 100%|██████████| 15/15 [00:00<00:00, 813.89it/s]\n",
      "Building class transformation: 100%|██████████| 15/15 [00:00<00:00, 3216.98it/s]\n",
      "/usr/local/lib/python3.6/dist-packages/sklearn/metrics/classification.py:1145: UndefinedMetricWarning: F-score is ill-defined and being set to 0.0 in labels with no true samples.\n",
      "  'recall', 'true', average, warn_for)\n",
      "Building class representations: 100%|██████████| 75/75 [00:00<00:00, 1804.99it/s]\n",
      "/home/mangaravite/.local/lib/python3.6/site-packages/scipy/sparse/_index.py:112: SparseEfficiencyWarning: Changing the sparsity structure of a csr_matrix is expensive. lil_matrix is more efficient.\n",
      "  self._set_arrayXarray(i, j, x)\n",
      "Building Models: 100%|██████████| 3/3 [00:00<00:00, 336.56it/s]"
     ]
    },
    {
     "name": "stdout",
     "output_type": "stream",
     "text": [
      "Fold 4\n",
      "\t-1 F1_mi: 0.533 and F1_ma: 0.348\n",
      "\t0 F1_mi: 0.800 and F1_ma: 0.444\n",
      "\t1 F1_mi: 0.733 and F1_ma: 0.423\n",
      "sarcasm\n"
     ]
    },
    {
     "name": "stderr",
     "output_type": "stream",
     "text": [
      "\n",
      "Building class transformation: 100%|██████████| 75/75 [00:00<00:00, 908.29it/s]\n",
      "Building class transformation: 100%|██████████| 75/75 [00:00<00:00, 1020.13it/s]\n",
      "Building class transformation: 100%|██████████| 75/75 [00:00<00:00, 1222.09it/s]\n",
      "Building class transformation: 100%|██████████| 20/20 [00:00<00:00, 3517.97it/s]\n",
      "Building class transformation: 100%|██████████| 20/20 [00:00<00:00, 1753.69it/s]\n",
      "Building class transformation: 100%|██████████| 20/20 [00:00<00:00, 3836.02it/s]\n",
      "/usr/local/lib/python3.6/dist-packages/sklearn/metrics/classification.py:1145: UndefinedMetricWarning: F-score is ill-defined and being set to 0.0 in labels with no true samples.\n",
      "  'recall', 'true', average, warn_for)\n",
      "Building class representations: 100%|██████████| 75/75 [00:00<00:00, 1944.87it/s]\n",
      "/home/mangaravite/.local/lib/python3.6/site-packages/scipy/sparse/_index.py:112: SparseEfficiencyWarning: Changing the sparsity structure of a csr_matrix is expensive. lil_matrix is more efficient.\n",
      "  self._set_arrayXarray(i, j, x)\n",
      "Building Models: 100%|██████████| 3/3 [00:00<00:00, 481.64it/s]"
     ]
    },
    {
     "name": "stdout",
     "output_type": "stream",
     "text": [
      "Fold 0\n",
      "\t-1 F1_mi: 0.700 and F1_ma: 0.697\n",
      "\t0 F1_mi: 0.750 and F1_ma: 0.429\n",
      "\t1 F1_mi: 0.650 and F1_ma: 0.394\n",
      "sarcasm\n"
     ]
    },
    {
     "name": "stderr",
     "output_type": "stream",
     "text": [
      "\n",
      "Building class transformation: 100%|██████████| 75/75 [00:00<00:00, 1169.22it/s]\n",
      "Building class transformation: 100%|██████████| 75/75 [00:00<00:00, 1342.06it/s]\n",
      "Building class transformation: 100%|██████████| 75/75 [00:00<00:00, 1101.16it/s]\n",
      "Building class transformation: 100%|██████████| 20/20 [00:00<00:00, 1822.70it/s]\n",
      "Building class transformation: 100%|██████████| 20/20 [00:00<00:00, 3329.21it/s]\n",
      "Building class transformation: 100%|██████████| 20/20 [00:00<00:00, 2207.94it/s]\n",
      "/usr/local/lib/python3.6/dist-packages/sklearn/metrics/classification.py:1145: UndefinedMetricWarning: F-score is ill-defined and being set to 0.0 in labels with no true samples.\n",
      "  'recall', 'true', average, warn_for)\n",
      "Building class representations: 100%|██████████| 75/75 [00:00<00:00, 1897.45it/s]\n",
      "/home/mangaravite/.local/lib/python3.6/site-packages/scipy/sparse/_index.py:112: SparseEfficiencyWarning: Changing the sparsity structure of a csr_matrix is expensive. lil_matrix is more efficient.\n",
      "  self._set_arrayXarray(i, j, x)\n",
      "Building Models: 100%|██████████| 3/3 [00:00<00:00, 498.95it/s]"
     ]
    },
    {
     "name": "stdout",
     "output_type": "stream",
     "text": [
      "Fold 1\n",
      "\t-1 F1_mi: 0.400 and F1_ma: 0.394\n",
      "\t0 F1_mi: 0.750 and F1_ma: 0.429\n",
      "\t1 F1_mi: 0.650 and F1_ma: 0.394\n",
      "sarcasm\n"
     ]
    },
    {
     "name": "stderr",
     "output_type": "stream",
     "text": [
      "\n",
      "Building class transformation: 100%|██████████| 75/75 [00:00<00:00, 1243.18it/s]\n",
      "Building class transformation: 100%|██████████| 75/75 [00:00<00:00, 1174.39it/s]\n",
      "Building class transformation: 100%|██████████| 75/75 [00:00<00:00, 1063.72it/s]\n",
      "Building class transformation: 100%|██████████| 20/20 [00:00<00:00, 1647.31it/s]\n",
      "Building class transformation: 100%|██████████| 20/20 [00:00<00:00, 1129.08it/s]\n",
      "Building class transformation: 100%|██████████| 20/20 [00:00<00:00, 1242.68it/s]\n",
      "/usr/local/lib/python3.6/dist-packages/sklearn/metrics/classification.py:1145: UndefinedMetricWarning: F-score is ill-defined and being set to 0.0 in labels with no true samples.\n",
      "  'recall', 'true', average, warn_for)\n",
      "Building class representations: 100%|██████████| 77/77 [00:00<00:00, 1929.21it/s]\n",
      "/home/mangaravite/.local/lib/python3.6/site-packages/scipy/sparse/_index.py:112: SparseEfficiencyWarning: Changing the sparsity structure of a csr_matrix is expensive. lil_matrix is more efficient.\n",
      "  self._set_arrayXarray(i, j, x)\n",
      "Building Models: 100%|██████████| 3/3 [00:00<00:00, 450.13it/s]"
     ]
    },
    {
     "name": "stdout",
     "output_type": "stream",
     "text": [
      "Fold 2\n",
      "\t-1 F1_mi: 0.500 and F1_ma: 0.500\n",
      "\t0 F1_mi: 0.750 and F1_ma: 0.429\n",
      "\t1 F1_mi: 0.450 and F1_ma: 0.437\n",
      "sarcasm\n"
     ]
    },
    {
     "name": "stderr",
     "output_type": "stream",
     "text": [
      "\n",
      "Building class transformation: 100%|██████████| 77/77 [00:00<00:00, 1202.29it/s]\n",
      "Building class transformation: 100%|██████████| 77/77 [00:00<00:00, 1193.02it/s]\n",
      "Building class transformation: 100%|██████████| 77/77 [00:00<00:00, 1105.69it/s]\n",
      "Building class transformation: 100%|██████████| 18/18 [00:00<00:00, 1058.51it/s]\n",
      "Building class transformation: 100%|██████████| 18/18 [00:00<00:00, 2260.20it/s]\n",
      "Building class transformation: 100%|██████████| 18/18 [00:00<00:00, 1712.89it/s]\n",
      "/usr/local/lib/python3.6/dist-packages/sklearn/metrics/classification.py:1145: UndefinedMetricWarning: F-score is ill-defined and being set to 0.0 in labels with no true samples.\n",
      "  'recall', 'true', average, warn_for)\n",
      "Building class representations: 100%|██████████| 78/78 [00:00<00:00, 2004.16it/s]\n",
      "/home/mangaravite/.local/lib/python3.6/site-packages/scipy/sparse/_index.py:112: SparseEfficiencyWarning: Changing the sparsity structure of a csr_matrix is expensive. lil_matrix is more efficient.\n",
      "  self._set_arrayXarray(i, j, x)\n",
      "Building Models: 100%|██████████| 3/3 [00:00<00:00, 463.54it/s]"
     ]
    },
    {
     "name": "stdout",
     "output_type": "stream",
     "text": [
      "Fold 3\n",
      "\t-1 F1_mi: 0.389 and F1_ma: 0.387\n",
      "\t0 F1_mi: 0.722 and F1_ma: 0.419\n",
      "\t1 F1_mi: 0.500 and F1_ma: 0.458\n",
      "sarcasm\n"
     ]
    },
    {
     "name": "stderr",
     "output_type": "stream",
     "text": [
      "\n",
      "Building class transformation: 100%|██████████| 78/78 [00:00<00:00, 814.03it/s]\n",
      "Building class transformation: 100%|██████████| 78/78 [00:00<00:00, 1145.51it/s]\n",
      "Building class transformation: 100%|██████████| 78/78 [00:00<00:00, 1153.91it/s]\n",
      "Building class transformation: 100%|██████████| 17/17 [00:00<00:00, 914.35it/s]\n",
      "Building class transformation: 100%|██████████| 17/17 [00:00<00:00, 904.87it/s]\n",
      "Building class transformation: 100%|██████████| 17/17 [00:00<00:00, 360.54it/s]\n",
      "/usr/local/lib/python3.6/dist-packages/sklearn/metrics/classification.py:1145: UndefinedMetricWarning: F-score is ill-defined and being set to 0.0 in labels with no true samples.\n",
      "  'recall', 'true', average, warn_for)\n",
      "Building class representations:   0%|          | 0/286 [00:00<?, ?it/s]"
     ]
    },
    {
     "name": "stdout",
     "output_type": "stream",
     "text": [
      "Fold 4\n",
      "\t-1 F1_mi: 0.471 and F1_ma: 0.471\n",
      "\t0 F1_mi: 0.765 and F1_ma: 0.433\n",
      "\t1 F1_mi: 0.353 and F1_ma: 0.344\n",
      "stanford_tweets\n"
     ]
    },
    {
     "name": "stderr",
     "output_type": "stream",
     "text": [
      "Building class representations: 100%|██████████| 286/286 [00:00<00:00, 1854.84it/s]\n",
      "/home/mangaravite/.local/lib/python3.6/site-packages/scipy/sparse/_index.py:112: SparseEfficiencyWarning: Changing the sparsity structure of a csr_matrix is expensive. lil_matrix is more efficient.\n",
      "  self._set_arrayXarray(i, j, x)\n",
      "Building Models: 100%|██████████| 2/2 [00:00<00:00, 277.63it/s]\n",
      "Building class transformation: 100%|██████████| 286/286 [00:00<00:00, 896.87it/s]\n",
      "Building class transformation: 100%|██████████| 286/286 [00:00<00:00, 847.67it/s]\n",
      "Building class transformation: 100%|██████████| 73/73 [00:00<00:00, 957.94it/s]\n",
      "Building class transformation: 100%|██████████| 73/73 [00:00<00:00, 938.69it/s]\n",
      "Building class representations: 100%|██████████| 286/286 [00:00<00:00, 2065.28it/s]"
     ]
    },
    {
     "name": "stdout",
     "output_type": "stream",
     "text": [
      "Fold 0\n",
      "\t-1 F1_mi: 0.781 and F1_ma: 0.781\n",
      "\t1 F1_mi: 0.781 and F1_ma: 0.780\n",
      "stanford_tweets\n"
     ]
    },
    {
     "name": "stderr",
     "output_type": "stream",
     "text": [
      "\n",
      "/home/mangaravite/.local/lib/python3.6/site-packages/scipy/sparse/_index.py:112: SparseEfficiencyWarning: Changing the sparsity structure of a csr_matrix is expensive. lil_matrix is more efficient.\n",
      "  self._set_arrayXarray(i, j, x)\n",
      "Building Models: 100%|██████████| 2/2 [00:00<00:00, 297.82it/s]\n",
      "Building class transformation: 100%|██████████| 286/286 [00:00<00:00, 1010.70it/s]\n",
      "Building class transformation: 100%|██████████| 286/286 [00:00<00:00, 1015.96it/s]\n",
      "Building class transformation: 100%|██████████| 73/73 [00:00<00:00, 937.60it/s]\n",
      "Building class transformation: 100%|██████████| 73/73 [00:00<00:00, 972.82it/s]\n",
      "Building class representations: 100%|██████████| 288/288 [00:00<00:00, 2073.22it/s]\n",
      "/home/mangaravite/.local/lib/python3.6/site-packages/scipy/sparse/_index.py:112: SparseEfficiencyWarning: Changing the sparsity structure of a csr_matrix is expensive. lil_matrix is more efficient.\n",
      "  self._set_arrayXarray(i, j, x)\n",
      "Building Models:   0%|          | 0/2 [00:00<?, ?it/s]"
     ]
    },
    {
     "name": "stdout",
     "output_type": "stream",
     "text": [
      "Fold 1\n",
      "\t-1 F1_mi: 0.740 and F1_ma: 0.740\n",
      "\t1 F1_mi: 0.808 and F1_ma: 0.807\n",
      "stanford_tweets\n"
     ]
    },
    {
     "name": "stderr",
     "output_type": "stream",
     "text": [
      "Building Models: 100%|██████████| 2/2 [00:00<00:00, 241.48it/s]\n",
      "Building class transformation: 100%|██████████| 288/288 [00:00<00:00, 919.35it/s]\n",
      "Building class transformation: 100%|██████████| 288/288 [00:00<00:00, 1011.52it/s]\n",
      "Building class transformation: 100%|██████████| 71/71 [00:00<00:00, 925.52it/s]\n",
      "Building class transformation: 100%|██████████| 71/71 [00:00<00:00, 939.86it/s]\n",
      "Building class representations: 100%|██████████| 288/288 [00:00<00:00, 2031.88it/s]"
     ]
    },
    {
     "name": "stdout",
     "output_type": "stream",
     "text": [
      "Fold 2\n",
      "\t-1 F1_mi: 0.803 and F1_ma: 0.803\n",
      "\t1 F1_mi: 0.817 and F1_ma: 0.816\n",
      "stanford_tweets\n"
     ]
    },
    {
     "name": "stderr",
     "output_type": "stream",
     "text": [
      "\n",
      "/home/mangaravite/.local/lib/python3.6/site-packages/scipy/sparse/_index.py:112: SparseEfficiencyWarning: Changing the sparsity structure of a csr_matrix is expensive. lil_matrix is more efficient.\n",
      "  self._set_arrayXarray(i, j, x)\n",
      "Building Models: 100%|██████████| 2/2 [00:00<00:00, 274.06it/s]\n",
      "Building class transformation: 100%|██████████| 288/288 [00:00<00:00, 987.95it/s]\n",
      "Building class transformation: 100%|██████████| 288/288 [00:00<00:00, 1043.50it/s]\n",
      "Building class transformation: 100%|██████████| 71/71 [00:00<00:00, 752.86it/s]\n",
      "Building class transformation: 100%|██████████| 71/71 [00:00<00:00, 935.03it/s]\n",
      "Building class representations: 100%|██████████| 288/288 [00:00<00:00, 2041.84it/s]"
     ]
    },
    {
     "name": "stdout",
     "output_type": "stream",
     "text": [
      "Fold 3\n",
      "\t-1 F1_mi: 0.704 and F1_ma: 0.704\n",
      "\t1 F1_mi: 0.648 and F1_ma: 0.643\n",
      "stanford_tweets\n"
     ]
    },
    {
     "name": "stderr",
     "output_type": "stream",
     "text": [
      "\n",
      "/home/mangaravite/.local/lib/python3.6/site-packages/scipy/sparse/_index.py:112: SparseEfficiencyWarning: Changing the sparsity structure of a csr_matrix is expensive. lil_matrix is more efficient.\n",
      "  self._set_arrayXarray(i, j, x)\n",
      "Building Models: 100%|██████████| 2/2 [00:00<00:00, 288.81it/s]\n",
      "Building class transformation: 100%|██████████| 288/288 [00:00<00:00, 998.56it/s]\n",
      "Building class transformation: 100%|██████████| 288/288 [00:00<00:00, 959.85it/s]\n"
     ]
    },
    {
     "ename": "KeyboardInterrupt",
     "evalue": "",
     "output_type": "error",
     "traceback": [
      "\u001b[0;31m---------------------------------------------------------------------------\u001b[0m",
      "\u001b[0;31mKeyboardInterrupt\u001b[0m                         Traceback (most recent call last)",
      "\u001b[0;32m<ipython-input-35-8ff12effa093>\u001b[0m in \u001b[0;36m<module>\u001b[0;34m()\u001b[0m\n\u001b[1;32m     19\u001b[0m         \u001b[0moal\u001b[0m \u001b[0;34m=\u001b[0m \u001b[0mOneVsAllGridClassifier\u001b[0m\u001b[0;34m(\u001b[0m \u001b[0mweak_params\u001b[0m\u001b[0;34m,\u001b[0m \u001b[0mweak_clf\u001b[0m\u001b[0;34m,\u001b[0m \u001b[0mmeta_params\u001b[0m\u001b[0;34m,\u001b[0m \u001b[0mmeta_clf\u001b[0m \u001b[0;34m)\u001b[0m\u001b[0;34m\u001b[0m\u001b[0;34m\u001b[0m\u001b[0m\n\u001b[1;32m     20\u001b[0m \u001b[0;34m\u001b[0m\u001b[0m\n\u001b[0;32m---> 21\u001b[0;31m         \u001b[0my_pred\u001b[0m \u001b[0;34m=\u001b[0m \u001b[0moal\u001b[0m\u001b[0;34m.\u001b[0m\u001b[0mfit_predict\u001b[0m\u001b[0;34m(\u001b[0m\u001b[0mX_train_transformed\u001b[0m\u001b[0;34m,\u001b[0m \u001b[0my_train\u001b[0m\u001b[0;34m)\u001b[0m\u001b[0;34m\u001b[0m\u001b[0;34m\u001b[0m\u001b[0m\n\u001b[0m\u001b[1;32m     22\u001b[0m \u001b[0;34m\u001b[0m\u001b[0m\n\u001b[1;32m     23\u001b[0m         \u001b[0mX_test\u001b[0m \u001b[0;34m=\u001b[0m \u001b[0mget_array\u001b[0m\u001b[0;34m(\u001b[0m\u001b[0mtexts\u001b[0m\u001b[0;34m,\u001b[0m \u001b[0mtest_ids\u001b[0m\u001b[0;34m)\u001b[0m\u001b[0;34m\u001b[0m\u001b[0;34m\u001b[0m\u001b[0m\n",
      "\u001b[0;32m~/Documentos/git/BoTG/BoWS/base.py\u001b[0m in \u001b[0;36mfit_predict\u001b[0;34m(self, X_multiclass, y)\u001b[0m\n\u001b[1;32m    234\u001b[0m         \u001b[0;32mreturn\u001b[0m \u001b[0mnp\u001b[0m\u001b[0;34m.\u001b[0m\u001b[0marray\u001b[0m\u001b[0;34m(\u001b[0m\u001b[0;34m[\u001b[0m \u001b[0ma_\u001b[0m \u001b[0;34m==\u001b[0m \u001b[0mc\u001b[0m \u001b[0;32mfor\u001b[0m \u001b[0ma_\u001b[0m \u001b[0;32min\u001b[0m \u001b[0my\u001b[0m \u001b[0;34m]\u001b[0m\u001b[0;34m,\u001b[0m \u001b[0mdtype\u001b[0m\u001b[0;34m=\u001b[0m\u001b[0mint\u001b[0m\u001b[0;34m)\u001b[0m\u001b[0;34m\u001b[0m\u001b[0;34m\u001b[0m\u001b[0m\n\u001b[1;32m    235\u001b[0m     \u001b[0;32mdef\u001b[0m \u001b[0mfit_predict\u001b[0m\u001b[0;34m(\u001b[0m\u001b[0mself\u001b[0m\u001b[0;34m,\u001b[0m \u001b[0mX_multiclass\u001b[0m\u001b[0;34m,\u001b[0m \u001b[0my\u001b[0m\u001b[0;34m)\u001b[0m\u001b[0;34m:\u001b[0m\u001b[0;34m\u001b[0m\u001b[0;34m\u001b[0m\u001b[0m\n\u001b[0;32m--> 236\u001b[0;31m         \u001b[0;32mreturn\u001b[0m \u001b[0mself\u001b[0m\u001b[0;34m.\u001b[0m\u001b[0mfit\u001b[0m\u001b[0;34m(\u001b[0m\u001b[0mX_multiclass\u001b[0m\u001b[0;34m,\u001b[0m \u001b[0my\u001b[0m\u001b[0;34m)\u001b[0m\u001b[0;34m.\u001b[0m\u001b[0mpredict\u001b[0m\u001b[0;34m(\u001b[0m\u001b[0mX_multiclass\u001b[0m\u001b[0;34m)\u001b[0m\u001b[0;34m\u001b[0m\u001b[0;34m\u001b[0m\u001b[0m\n\u001b[0m",
      "\u001b[0;32m~/Documentos/git/BoTG/BoWS/base.py\u001b[0m in \u001b[0;36mfit\u001b[0;34m(self, X_multiclass, y)\u001b[0m\n\u001b[1;32m    196\u001b[0m             \u001b[0;31m#weak_gs_atual.set_params(cv=ocskf)\u001b[0m\u001b[0;34m\u001b[0m\u001b[0;34m\u001b[0m\u001b[0;34m\u001b[0m\u001b[0m\n\u001b[1;32m    197\u001b[0m \u001b[0;34m\u001b[0m\u001b[0m\n\u001b[0;32m--> 198\u001b[0;31m             \u001b[0mweak_gs_atual\u001b[0m\u001b[0;34m.\u001b[0m\u001b[0mfit\u001b[0m\u001b[0;34m(\u001b[0m\u001b[0mX_class\u001b[0m\u001b[0;34m,\u001b[0m \u001b[0my_transformed\u001b[0m\u001b[0;34m)\u001b[0m\u001b[0;34m\u001b[0m\u001b[0;34m\u001b[0m\u001b[0m\n\u001b[0m\u001b[1;32m    199\u001b[0m \u001b[0;34m\u001b[0m\u001b[0m\n\u001b[1;32m    200\u001b[0m             \u001b[0mclf\u001b[0m \u001b[0;34m=\u001b[0m \u001b[0mclone_estimator\u001b[0m\u001b[0;34m(\u001b[0m\u001b[0mself\u001b[0m\u001b[0;34m.\u001b[0m\u001b[0mweak_clf\u001b[0m\u001b[0;34m)\u001b[0m\u001b[0;34m.\u001b[0m\u001b[0mset_params\u001b[0m\u001b[0;34m(\u001b[0m\u001b[0;34m**\u001b[0m\u001b[0mweak_gs_atual\u001b[0m\u001b[0;34m.\u001b[0m\u001b[0mbest_params_\u001b[0m\u001b[0;34m)\u001b[0m\u001b[0;34m\u001b[0m\u001b[0;34m\u001b[0m\u001b[0m\n",
      "\u001b[0;32m/usr/local/lib/python3.6/dist-packages/sklearn/model_selection/_search.py\u001b[0m in \u001b[0;36mfit\u001b[0;34m(self, X, y, groups, **fit_params)\u001b[0m\n\u001b[1;32m    720\u001b[0m                 \u001b[0;32mreturn\u001b[0m \u001b[0mresults_container\u001b[0m\u001b[0;34m[\u001b[0m\u001b[0;36m0\u001b[0m\u001b[0;34m]\u001b[0m\u001b[0;34m\u001b[0m\u001b[0;34m\u001b[0m\u001b[0m\n\u001b[1;32m    721\u001b[0m \u001b[0;34m\u001b[0m\u001b[0m\n\u001b[0;32m--> 722\u001b[0;31m             \u001b[0mself\u001b[0m\u001b[0;34m.\u001b[0m\u001b[0m_run_search\u001b[0m\u001b[0;34m(\u001b[0m\u001b[0mevaluate_candidates\u001b[0m\u001b[0;34m)\u001b[0m\u001b[0;34m\u001b[0m\u001b[0;34m\u001b[0m\u001b[0m\n\u001b[0m\u001b[1;32m    723\u001b[0m \u001b[0;34m\u001b[0m\u001b[0m\n\u001b[1;32m    724\u001b[0m         \u001b[0mresults\u001b[0m \u001b[0;34m=\u001b[0m \u001b[0mresults_container\u001b[0m\u001b[0;34m[\u001b[0m\u001b[0;36m0\u001b[0m\u001b[0;34m]\u001b[0m\u001b[0;34m\u001b[0m\u001b[0;34m\u001b[0m\u001b[0m\n",
      "\u001b[0;32m/usr/local/lib/python3.6/dist-packages/sklearn/model_selection/_search.py\u001b[0m in \u001b[0;36m_run_search\u001b[0;34m(self, evaluate_candidates)\u001b[0m\n\u001b[1;32m   1189\u001b[0m     \u001b[0;32mdef\u001b[0m \u001b[0m_run_search\u001b[0m\u001b[0;34m(\u001b[0m\u001b[0mself\u001b[0m\u001b[0;34m,\u001b[0m \u001b[0mevaluate_candidates\u001b[0m\u001b[0;34m)\u001b[0m\u001b[0;34m:\u001b[0m\u001b[0;34m\u001b[0m\u001b[0;34m\u001b[0m\u001b[0m\n\u001b[1;32m   1190\u001b[0m         \u001b[0;34m\"\"\"Search all candidates in param_grid\"\"\"\u001b[0m\u001b[0;34m\u001b[0m\u001b[0;34m\u001b[0m\u001b[0m\n\u001b[0;32m-> 1191\u001b[0;31m         \u001b[0mevaluate_candidates\u001b[0m\u001b[0;34m(\u001b[0m\u001b[0mParameterGrid\u001b[0m\u001b[0;34m(\u001b[0m\u001b[0mself\u001b[0m\u001b[0;34m.\u001b[0m\u001b[0mparam_grid\u001b[0m\u001b[0;34m)\u001b[0m\u001b[0;34m)\u001b[0m\u001b[0;34m\u001b[0m\u001b[0;34m\u001b[0m\u001b[0m\n\u001b[0m\u001b[1;32m   1192\u001b[0m \u001b[0;34m\u001b[0m\u001b[0m\n\u001b[1;32m   1193\u001b[0m \u001b[0;34m\u001b[0m\u001b[0m\n",
      "\u001b[0;32m/usr/local/lib/python3.6/dist-packages/sklearn/model_selection/_search.py\u001b[0m in \u001b[0;36mevaluate_candidates\u001b[0;34m(candidate_params)\u001b[0m\n\u001b[1;32m    709\u001b[0m                                \u001b[0;32mfor\u001b[0m \u001b[0mparameters\u001b[0m\u001b[0;34m,\u001b[0m \u001b[0;34m(\u001b[0m\u001b[0mtrain\u001b[0m\u001b[0;34m,\u001b[0m \u001b[0mtest\u001b[0m\u001b[0;34m)\u001b[0m\u001b[0;34m\u001b[0m\u001b[0;34m\u001b[0m\u001b[0m\n\u001b[1;32m    710\u001b[0m                                in product(candidate_params,\n\u001b[0;32m--> 711\u001b[0;31m                                           cv.split(X, y, groups)))\n\u001b[0m\u001b[1;32m    712\u001b[0m \u001b[0;34m\u001b[0m\u001b[0m\n\u001b[1;32m    713\u001b[0m                 \u001b[0mall_candidate_params\u001b[0m\u001b[0;34m.\u001b[0m\u001b[0mextend\u001b[0m\u001b[0;34m(\u001b[0m\u001b[0mcandidate_params\u001b[0m\u001b[0;34m)\u001b[0m\u001b[0;34m\u001b[0m\u001b[0;34m\u001b[0m\u001b[0m\n",
      "\u001b[0;32m/usr/local/lib/python3.6/dist-packages/sklearn/externals/joblib/parallel.py\u001b[0m in \u001b[0;36m__call__\u001b[0;34m(self, iterable)\u001b[0m\n\u001b[1;32m    928\u001b[0m \u001b[0;34m\u001b[0m\u001b[0m\n\u001b[1;32m    929\u001b[0m             \u001b[0;32mwith\u001b[0m \u001b[0mself\u001b[0m\u001b[0;34m.\u001b[0m\u001b[0m_backend\u001b[0m\u001b[0;34m.\u001b[0m\u001b[0mretrieval_context\u001b[0m\u001b[0;34m(\u001b[0m\u001b[0;34m)\u001b[0m\u001b[0;34m:\u001b[0m\u001b[0;34m\u001b[0m\u001b[0;34m\u001b[0m\u001b[0m\n\u001b[0;32m--> 930\u001b[0;31m                 \u001b[0mself\u001b[0m\u001b[0;34m.\u001b[0m\u001b[0mretrieve\u001b[0m\u001b[0;34m(\u001b[0m\u001b[0;34m)\u001b[0m\u001b[0;34m\u001b[0m\u001b[0;34m\u001b[0m\u001b[0m\n\u001b[0m\u001b[1;32m    931\u001b[0m             \u001b[0;31m# Make sure that we get a last message telling us we are done\u001b[0m\u001b[0;34m\u001b[0m\u001b[0;34m\u001b[0m\u001b[0;34m\u001b[0m\u001b[0m\n\u001b[1;32m    932\u001b[0m             \u001b[0melapsed_time\u001b[0m \u001b[0;34m=\u001b[0m \u001b[0mtime\u001b[0m\u001b[0;34m.\u001b[0m\u001b[0mtime\u001b[0m\u001b[0;34m(\u001b[0m\u001b[0;34m)\u001b[0m \u001b[0;34m-\u001b[0m \u001b[0mself\u001b[0m\u001b[0;34m.\u001b[0m\u001b[0m_start_time\u001b[0m\u001b[0;34m\u001b[0m\u001b[0;34m\u001b[0m\u001b[0m\n",
      "\u001b[0;32m/usr/local/lib/python3.6/dist-packages/sklearn/externals/joblib/parallel.py\u001b[0m in \u001b[0;36mretrieve\u001b[0;34m(self)\u001b[0m\n\u001b[1;32m    831\u001b[0m             \u001b[0;32mtry\u001b[0m\u001b[0;34m:\u001b[0m\u001b[0;34m\u001b[0m\u001b[0;34m\u001b[0m\u001b[0m\n\u001b[1;32m    832\u001b[0m                 \u001b[0;32mif\u001b[0m \u001b[0mgetattr\u001b[0m\u001b[0;34m(\u001b[0m\u001b[0mself\u001b[0m\u001b[0;34m.\u001b[0m\u001b[0m_backend\u001b[0m\u001b[0;34m,\u001b[0m \u001b[0;34m'supports_timeout'\u001b[0m\u001b[0;34m,\u001b[0m \u001b[0;32mFalse\u001b[0m\u001b[0;34m)\u001b[0m\u001b[0;34m:\u001b[0m\u001b[0;34m\u001b[0m\u001b[0;34m\u001b[0m\u001b[0m\n\u001b[0;32m--> 833\u001b[0;31m                     \u001b[0mself\u001b[0m\u001b[0;34m.\u001b[0m\u001b[0m_output\u001b[0m\u001b[0;34m.\u001b[0m\u001b[0mextend\u001b[0m\u001b[0;34m(\u001b[0m\u001b[0mjob\u001b[0m\u001b[0;34m.\u001b[0m\u001b[0mget\u001b[0m\u001b[0;34m(\u001b[0m\u001b[0mtimeout\u001b[0m\u001b[0;34m=\u001b[0m\u001b[0mself\u001b[0m\u001b[0;34m.\u001b[0m\u001b[0mtimeout\u001b[0m\u001b[0;34m)\u001b[0m\u001b[0;34m)\u001b[0m\u001b[0;34m\u001b[0m\u001b[0;34m\u001b[0m\u001b[0m\n\u001b[0m\u001b[1;32m    834\u001b[0m                 \u001b[0;32melse\u001b[0m\u001b[0;34m:\u001b[0m\u001b[0;34m\u001b[0m\u001b[0;34m\u001b[0m\u001b[0m\n\u001b[1;32m    835\u001b[0m                     \u001b[0mself\u001b[0m\u001b[0;34m.\u001b[0m\u001b[0m_output\u001b[0m\u001b[0;34m.\u001b[0m\u001b[0mextend\u001b[0m\u001b[0;34m(\u001b[0m\u001b[0mjob\u001b[0m\u001b[0;34m.\u001b[0m\u001b[0mget\u001b[0m\u001b[0;34m(\u001b[0m\u001b[0;34m)\u001b[0m\u001b[0;34m)\u001b[0m\u001b[0;34m\u001b[0m\u001b[0;34m\u001b[0m\u001b[0m\n",
      "\u001b[0;32m/usr/local/lib/python3.6/dist-packages/sklearn/externals/joblib/_parallel_backends.py\u001b[0m in \u001b[0;36mwrap_future_result\u001b[0;34m(future, timeout)\u001b[0m\n\u001b[1;32m    519\u001b[0m         AsyncResults.get from multiprocessing.\"\"\"\n\u001b[1;32m    520\u001b[0m         \u001b[0;32mtry\u001b[0m\u001b[0;34m:\u001b[0m\u001b[0;34m\u001b[0m\u001b[0;34m\u001b[0m\u001b[0m\n\u001b[0;32m--> 521\u001b[0;31m             \u001b[0;32mreturn\u001b[0m \u001b[0mfuture\u001b[0m\u001b[0;34m.\u001b[0m\u001b[0mresult\u001b[0m\u001b[0;34m(\u001b[0m\u001b[0mtimeout\u001b[0m\u001b[0;34m=\u001b[0m\u001b[0mtimeout\u001b[0m\u001b[0;34m)\u001b[0m\u001b[0;34m\u001b[0m\u001b[0;34m\u001b[0m\u001b[0m\n\u001b[0m\u001b[1;32m    522\u001b[0m         \u001b[0;32mexcept\u001b[0m \u001b[0mLokyTimeoutError\u001b[0m\u001b[0;34m:\u001b[0m\u001b[0;34m\u001b[0m\u001b[0;34m\u001b[0m\u001b[0m\n\u001b[1;32m    523\u001b[0m             \u001b[0;32mraise\u001b[0m \u001b[0mTimeoutError\u001b[0m\u001b[0;34m(\u001b[0m\u001b[0;34m)\u001b[0m\u001b[0;34m\u001b[0m\u001b[0;34m\u001b[0m\u001b[0m\n",
      "\u001b[0;32m/usr/lib/python3.6/concurrent/futures/_base.py\u001b[0m in \u001b[0;36mresult\u001b[0;34m(self, timeout)\u001b[0m\n\u001b[1;32m    425\u001b[0m                 \u001b[0;32mreturn\u001b[0m \u001b[0mself\u001b[0m\u001b[0;34m.\u001b[0m\u001b[0m__get_result\u001b[0m\u001b[0;34m(\u001b[0m\u001b[0;34m)\u001b[0m\u001b[0;34m\u001b[0m\u001b[0;34m\u001b[0m\u001b[0m\n\u001b[1;32m    426\u001b[0m \u001b[0;34m\u001b[0m\u001b[0m\n\u001b[0;32m--> 427\u001b[0;31m             \u001b[0mself\u001b[0m\u001b[0;34m.\u001b[0m\u001b[0m_condition\u001b[0m\u001b[0;34m.\u001b[0m\u001b[0mwait\u001b[0m\u001b[0;34m(\u001b[0m\u001b[0mtimeout\u001b[0m\u001b[0;34m)\u001b[0m\u001b[0;34m\u001b[0m\u001b[0;34m\u001b[0m\u001b[0m\n\u001b[0m\u001b[1;32m    428\u001b[0m \u001b[0;34m\u001b[0m\u001b[0m\n\u001b[1;32m    429\u001b[0m             \u001b[0;32mif\u001b[0m \u001b[0mself\u001b[0m\u001b[0;34m.\u001b[0m\u001b[0m_state\u001b[0m \u001b[0;32min\u001b[0m \u001b[0;34m[\u001b[0m\u001b[0mCANCELLED\u001b[0m\u001b[0;34m,\u001b[0m \u001b[0mCANCELLED_AND_NOTIFIED\u001b[0m\u001b[0;34m]\u001b[0m\u001b[0;34m:\u001b[0m\u001b[0;34m\u001b[0m\u001b[0;34m\u001b[0m\u001b[0m\n",
      "\u001b[0;32m/usr/lib/python3.6/threading.py\u001b[0m in \u001b[0;36mwait\u001b[0;34m(self, timeout)\u001b[0m\n\u001b[1;32m    293\u001b[0m         \u001b[0;32mtry\u001b[0m\u001b[0;34m:\u001b[0m    \u001b[0;31m# restore state no matter what (e.g., KeyboardInterrupt)\u001b[0m\u001b[0;34m\u001b[0m\u001b[0;34m\u001b[0m\u001b[0m\n\u001b[1;32m    294\u001b[0m             \u001b[0;32mif\u001b[0m \u001b[0mtimeout\u001b[0m \u001b[0;32mis\u001b[0m \u001b[0;32mNone\u001b[0m\u001b[0;34m:\u001b[0m\u001b[0;34m\u001b[0m\u001b[0;34m\u001b[0m\u001b[0m\n\u001b[0;32m--> 295\u001b[0;31m                 \u001b[0mwaiter\u001b[0m\u001b[0;34m.\u001b[0m\u001b[0macquire\u001b[0m\u001b[0;34m(\u001b[0m\u001b[0;34m)\u001b[0m\u001b[0;34m\u001b[0m\u001b[0;34m\u001b[0m\u001b[0m\n\u001b[0m\u001b[1;32m    296\u001b[0m                 \u001b[0mgotit\u001b[0m \u001b[0;34m=\u001b[0m \u001b[0;32mTrue\u001b[0m\u001b[0;34m\u001b[0m\u001b[0;34m\u001b[0m\u001b[0m\n\u001b[1;32m    297\u001b[0m             \u001b[0;32melse\u001b[0m\u001b[0;34m:\u001b[0m\u001b[0;34m\u001b[0m\u001b[0;34m\u001b[0m\u001b[0m\n",
      "\u001b[0;31mKeyboardInterrupt\u001b[0m: "
     ]
    }
   ],
   "source": [
    "for datasetdir in sorted(glob(\"../../../../Documentos/datasets/only_docs_scores/*\"), key=lambda x: len(read_dataset(x)[1]) ):\n",
    "    texts,scores = read_dataset(datasetdir)\n",
    "    train_test_splits = load_splits_ids(path.join(datasetdir, 'representations', 'split_5.csv' ))\n",
    "    dname = path.basename(datasetdir)\n",
    "    print(dname)\n",
    "    for f, (train_ids, test_ids) in enumerate(train_test_splits):\n",
    "        X_train = get_array(texts, train_ids)\n",
    "        y_train = get_array(scores, train_ids)\n",
    "\n",
    "        bows = BoWS(min_df=2)\n",
    "        X_train_transformed = bows.fit_transform(X_train, y_train)\n",
    "\n",
    "        weak_clf = LogisticRegression(random_state=42)\n",
    "        weak_params = {'penalty': ['l1', 'l2'], 'class_weight': ['balanced', None], 'solver': ['liblinear'], 'C': [1, 10, 0.1, 0.01]}\n",
    "        #weak_params = {'penalty': ['l2'], 'class_weight': [None], 'solver': ['liblinear'], 'C': [0.01]}\n",
    "        meta_clf = DecisionTreeClassifier()\n",
    "        meta_params = { 'criterion': [ \"gini\", \"entropy\" ] }\n",
    "\n",
    "        oal = OneVsAllGridClassifier( weak_params, weak_clf, meta_params, meta_clf )\n",
    "\n",
    "        y_pred = oal.fit_predict(X_train_transformed, y_train)\n",
    "\n",
    "        X_test = get_array(texts, test_ids)\n",
    "        X_test_transformed = bows.transform(X_test)\n",
    "\n",
    "        y_test = get_array(scores, test_ids)\n",
    "\n",
    "        print(\"Fold %d\" % f)\n",
    "        for c in X_test_transformed:\n",
    "            y_pred = oal.clf_by_class[c].predict(X_test_transformed[c])\n",
    "            y_test_transformed = oal.transform_y(y_test, c)\n",
    "            f1_micr = f1_score(y_pred, y_test_transformed, average='micro')\n",
    "            f1_macr = f1_score(y_pred, y_test_transformed, average='macro')\n",
    "            print(\"\\t%d F1_mi: %.3f and F1_ma: %.3f\" % ( c, f1_micr, f1_macr) )\n",
    "\n",
    "        gc.collect()\n",
    "    "
   ]
  },
  {
   "cell_type": "code",
   "execution_count": null,
   "metadata": {
    "scrolled": false
   },
   "outputs": [],
   "source": [
    "for datasetdir in sorted(glob(\"../../../../Documentos/datasets/only_docs_scores/*\")):\n",
    "    print(datasetdir)\n",
    "    train_test_splits = load_splits_ids(path.join(datasetdir, 'representations', 'split_5.csv' ))\n",
    "    texts,scores = read_dataset(datasetdir)\n",
    "    for f, (train_ids, test_ids) in enumerate(train_test_splits):\n",
    "        X_train = get_array(texts, train_ids)\n",
    "        y_train = get_array(scores, train_ids)\n",
    "        \n",
    "        print(Counter(y_train))\n",
    "\n",
    "        bows = BoWS(min_df=2)\n",
    "        X_train_transformed = bows.fit_transform(X_train, y_train)\n",
    "\n",
    "        weak_clf = LogisticRegression(random_state=42)\n",
    "        weak_params = {'penalty': ['l1', 'l2'], 'class_weight': ['balanced', None], 'solver': ['liblinear'], 'C': [1, 10, 0.1, 0.01]}\n",
    "        #weak_params = {'penalty': ['l2'], 'class_weight': [None], 'solver': ['liblinear'], 'C': [0.01]}\n",
    "        meta_clf = DecisionTreeClassifier()\n",
    "        meta_params = { 'criterion': [ \"gini\", \"entropy\" ] }\n",
    "\n",
    "        oal = OneVsAllGridClassifier( weak_params, weak_clf, meta_params, meta_clf )\n",
    "\n",
    "        y_pred = oal.fit_predict(X_train_transformed, y_train)\n",
    "\n",
    "        X_test = get_array(texts, test_ids)\n",
    "        X_test_transformed = bows.transform(X_test)\n",
    "\n",
    "        y_test = get_array(scores, test_ids)\n",
    "        gc.collect()\n"
   ]
  },
  {
   "cell_type": "code",
   "execution_count": null,
   "metadata": {},
   "outputs": [],
   "source": [
    "X_train_transformed"
   ]
  },
  {
   "cell_type": "code",
   "execution_count": null,
   "metadata": {},
   "outputs": [],
   "source": []
  },
  {
   "cell_type": "code",
   "execution_count": null,
   "metadata": {},
   "outputs": [],
   "source": []
  }
 ],
 "metadata": {
  "kernelspec": {
   "display_name": "Python 3",
   "language": "python",
   "name": "python3"
  },
  "language_info": {
   "codemirror_mode": {
    "name": "ipython",
    "version": 3
   },
   "file_extension": ".py",
   "mimetype": "text/x-python",
   "name": "python",
   "nbconvert_exporter": "python",
   "pygments_lexer": "ipython3",
   "version": "3.6.8"
  }
 },
 "nbformat": 4,
 "nbformat_minor": 2
}
