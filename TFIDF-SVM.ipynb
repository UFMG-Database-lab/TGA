{
 "cells": [
  {
   "cell_type": "code",
   "execution_count": 1,
   "id": "6c6a1f59",
   "metadata": {},
   "outputs": [],
   "source": [
    "from TGA.utils import Dataset\n",
    "from sklearn.feature_extraction.text import CountVectorizer\n",
    "from sklearn.feature_extraction.text import TfidfTransformer\n",
    "from frequency_based import TFIDFVectorizer #ETC Version\n",
    "from sklearn.model_selection import GridSearchCV\n",
    "from sklearn.svm import SVC\n",
    "from sklearn.metrics import f1_score\n",
    "from sklearn.pipeline import Pipeline\n",
    "import numpy as np"
   ]
  },
  {
   "cell_type": "code",
   "execution_count": 2,
   "id": "d9755edc",
   "metadata": {},
   "outputs": [
    {
     "name": "stdout",
     "output_type": "stream",
     "text": [
      "179 318\n"
     ]
    }
   ],
   "source": [
    "from sklearn.feature_extraction.text import ENGLISH_STOP_WORDS as sk_stop_words\n",
    "from nltk.corpus import stopwords as nltk_stop_words\n",
    "nltk_stop_words = nltk_stop_words.words('english')\n",
    "print(len(nltk_stop_words), len(sk_stop_words))"
   ]
  },
  {
   "cell_type": "code",
   "execution_count": 3,
   "id": "2d35b14f",
   "metadata": {},
   "outputs": [
    {
     "data": {
      "text/plain": [
       "(('X_train', 'y_train', 'X_test', 'y_test'), 22402)"
      ]
     },
     "execution_count": 3,
     "metadata": {},
     "output_type": "execute_result"
    }
   ],
   "source": [
    "dataset = Dataset('/home/Documents/datasets/acm/')\n",
    "g = dataset.get_fold_instances(10, with_val=False)\n",
    "fold = next(g)\n",
    "fold._fields, len(fold.X_train)"
   ]
  },
  {
   "cell_type": "code",
   "execution_count": 4,
   "id": "2dd0666a",
   "metadata": {},
   "outputs": [],
   "source": [
    "init_params= {'kernel': 'linear', 'C': 1, 'verbose': False, 'probability': False,\n",
    "                         'degree': 3, 'shrinking': True, \n",
    "                         'decision_function_shape': 'ovr', 'random_state': None, \n",
    "                         'tol': 0.001, 'cache_size': 25000, 'coef0': 0.0, 'gamma': 'auto', \n",
    "                         'class_weight': None,'random_state': 42}"
   ]
  },
  {
   "cell_type": "code",
   "execution_count": 5,
   "id": "66063cbe",
   "metadata": {},
   "outputs": [],
   "source": [
    "pipeline = Pipeline([\n",
    "    ('tfidf', TFIDFVectorizer()),\n",
    "    ('clf', SVC(**init_params)),\n",
    "])\n",
    "pipeline2 = Pipeline([\n",
    "    ('vect', CountVectorizer()),\n",
    "    ('tfidf', TfidfTransformer()),\n",
    "    ('clf', SVC(**init_params)),\n",
    "])"
   ]
  },
  {
   "cell_type": "code",
   "execution_count": null,
   "id": "0f1e5750",
   "metadata": {},
   "outputs": [],
   "source": []
  },
  {
   "cell_type": "code",
   "execution_count": 6,
   "id": "c660871f",
   "metadata": {},
   "outputs": [],
   "source": [
    "parameters = {\n",
    "    'tfidf__stopwords': (None, nltk_stop_words, sk_stop_words),\n",
    "    'tfidf__min_df': (1,2,4),\n",
    "    'tfidf__ngram_range': ((1,1), (1,2), (2,2)),\n",
    "    'clf__C': 2.0 ** np.arange(-5, 8, 2)\n",
    "}"
   ]
  },
  {
   "cell_type": "code",
   "execution_count": 7,
   "id": "f7d8c346",
   "metadata": {},
   "outputs": [],
   "source": [
    "grid_search = GridSearchCV(pipeline, parameters, cv=3, n_jobs=64, verbose=10)"
   ]
  },
  {
   "cell_type": "code",
   "execution_count": null,
   "id": "17911bb2",
   "metadata": {},
   "outputs": [
    {
     "name": "stdout",
     "output_type": "stream",
     "text": [
      "Fitting 3 folds for each of 189 candidates, totalling 567 fits\n"
     ]
    }
   ],
   "source": [
    "grid_search.fit(fold.X_train, fold.y_train)"
   ]
  },
  {
   "cell_type": "code",
   "execution_count": null,
   "id": "40f2195e",
   "metadata": {},
   "outputs": [],
   "source": [
    "best_parameters = grid_search.best_estimator_.get_params()\n",
    "for param_name in sorted(parameters.keys()):\n",
    "    print(\"\\t%s: %r\" % (param_name, best_parameters[param_name]))"
   ]
  },
  {
   "cell_type": "code",
   "execution_count": null,
   "id": "c15a8426",
   "metadata": {},
   "outputs": [],
   "source": [
    "est = grid_search.best_estimator_\n",
    "y_pred = est.predict(fold.X_test)"
   ]
  },
  {
   "cell_type": "code",
   "execution_count": null,
   "id": "c1e57877",
   "metadata": {},
   "outputs": [],
   "source": [
    "f1_score(fold.y_test, y_pred, average='micro')"
   ]
  },
  {
   "cell_type": "code",
   "execution_count": null,
   "id": "ad6006bf",
   "metadata": {},
   "outputs": [],
   "source": [
    "f1_score(fold.y_test, y_pred, average='macro')"
   ]
  },
  {
   "cell_type": "code",
   "execution_count": null,
   "id": "fc87a158",
   "metadata": {},
   "outputs": [],
   "source": []
  },
  {
   "cell_type": "code",
   "execution_count": null,
   "id": "3df6cad5",
   "metadata": {},
   "outputs": [],
   "source": []
  }
 ],
 "metadata": {
  "kernelspec": {
   "display_name": "Python 3",
   "language": "python",
   "name": "python3"
  },
  "language_info": {
   "codemirror_mode": {
    "name": "ipython",
    "version": 3
   },
   "file_extension": ".py",
   "mimetype": "text/x-python",
   "name": "python",
   "nbconvert_exporter": "python",
   "pygments_lexer": "ipython3",
   "version": "3.8.9"
  }
 },
 "nbformat": 4,
 "nbformat_minor": 5
}
