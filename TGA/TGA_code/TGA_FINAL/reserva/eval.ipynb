{
 "cells": [
  {
   "cell_type": "code",
   "execution_count": 8,
   "metadata": {},
   "outputs": [],
   "source": [
    "import json\n",
    "import pandas as pd\n",
    "import numpy as np\n",
    "from sklearn.metrics import f1_score"
   ]
  },
  {
   "cell_type": "code",
   "execution_count": 15,
   "metadata": {},
   "outputs": [
    {
     "data": {
      "text/plain": [
       "[0.625357914301502, 0.6308617234468938]"
      ]
     },
     "execution_count": 15,
     "metadata": {},
     "output_type": "execute_result"
    }
   ],
   "source": []
  },
  {
   "cell_type": "code",
   "execution_count": 12,
   "metadata": {},
   "outputs": [
    {
     "name": "stdout",
     "output_type": "stream",
     "text": [
      "webkb\n",
      "0.7947\t0.7584\n",
      "0.8114\t0.7224\n",
      "0.8246\t0.7173\n",
      "0.8210\t0.7096\n",
      "0.7978\t0.7063\n",
      "0.7768\t0.6322\n",
      "0.8132\t0.7110\n",
      "0.7946\t0.7364\n",
      "0.8042\t0.7321\n",
      "0.7931\t0.7157\n",
      "20ng\n",
      "0.8044\t0.7943\n",
      "0.7694\t0.7575\n",
      "0.7915\t0.7789\n",
      "0.7802\t0.7654\n",
      "0.7916\t0.7747\n",
      "0.7998\t0.7880\n",
      "0.7991\t0.7885\n",
      "0.7888\t0.7769\n",
      "reut\n",
      "0.7378\t0.4383\n",
      "0.7360\t0.3211\n",
      "0.7363\t0.3945\n",
      "0.7336\t0.3010\n",
      "0.7380\t0.3575\n",
      "0.7504\t0.3562\n",
      "0.7740\t0.4827\n",
      "0.7612\t0.3570\n",
      "0.7479\t0.3818\n",
      "0.7579\t0.4290\n",
      "acm\n",
      "0.6990\t0.5629\n",
      "0.6949\t0.5627\n",
      "0.7072\t0.5534\n",
      "0.7045\t0.5441\n",
      "0.7048\t0.5734\n",
      "0.6973\t0.6067\n",
      "0.6982\t0.5751\n",
      "0.7129\t0.5504\n",
      "0.7023\t0.5448\n",
      "0.7087\t0.5831\n"
     ]
    },
    {
     "name": "stderr",
     "output_type": "stream",
     "text": [
      "/usr/local/lib/python3.7/dist-packages/sklearn/metrics/classification.py:1437: UndefinedMetricWarning: F-score is ill-defined and being set to 0.0 in labels with no predicted samples.\n",
      "  'precision', 'predicted', average, warn_for)\n",
      "/usr/local/lib/python3.7/dist-packages/sklearn/metrics/classification.py:1439: UndefinedMetricWarning: F-score is ill-defined and being set to 0.0 in labels with no true samples.\n",
      "  'recall', 'true', average, warn_for)\n"
     ]
    }
   ],
   "source": [
    "for d in ['webkb', '20ng',  'reut', 'acm']:\n",
    "    with open(f'{d}_w=5_nh=4_lr=0.00100_l2=0.00100_bs=16.json') as filin:\n",
    "        obj_json = json.load(filin)\n",
    "    print(d)\n",
    "    for fold in obj_json['folds']:\n",
    "        f1_mi = f1_score( fold['y_test'], fold['y_pred'], average='micro' )\n",
    "        f1_ma = f1_score( fold['y_test'], fold['y_pred'], average='macro' )\n",
    "        print( f\"{f1_mi:.4f}\\t{f1_ma:.4f}\" )"
   ]
  },
  {
   "cell_type": "code",
   "execution_count": null,
   "metadata": {},
   "outputs": [],
   "source": []
  },
  {
   "cell_type": "code",
   "execution_count": 24,
   "metadata": {},
   "outputs": [],
   "source": [
    "data = []\n",
    "for f,fold in enumerate(obj_json['folds']):\n",
    "    for i, (train, val) in enumerate(fold['epochs_acc']):\n",
    "        data.append( (f, i, train,val ) )"
   ]
  },
  {
   "cell_type": "code",
   "execution_count": 29,
   "metadata": {},
   "outputs": [],
   "source": [
    "df = pd.DataFrame( data, columns=['fold', 'epoch', 'train', 'val'] )"
   ]
  },
  {
   "cell_type": "code",
   "execution_count": 28,
   "metadata": {},
   "outputs": [],
   "source": [
    "import seaborn as sns; sns.set()\n",
    "import matplotlib.pyplot as plt"
   ]
  },
  {
   "cell_type": "code",
   "execution_count": 43,
   "metadata": {},
   "outputs": [
    {
     "data": {
      "text/plain": [
       "Text(0, 0.5, 'Acurácia')"
      ]
     },
     "execution_count": 43,
     "metadata": {},
     "output_type": "execute_result"
    },
    {
     "data": {
      "image/png": "[encoded data removed]",
      "text/plain": [
       "<Figure size 432x288 with 1 Axes>"
      ]
     },
     "metadata": {
      "needs_background": "light"
     },
     "output_type": "display_data"
    }
   ],
   "source": [
    "dname='20ng'\n",
    "with open(f'{dname}_w=5_nh=4_lr=0.00100_l2=0.00100_bs=16.json') as filin:\n",
    "    obj_json = json.load(filin)\n",
    "data = []\n",
    "for f,fold in enumerate(obj_json['folds']):\n",
    "    for i, (train, val) in enumerate(fold['epochs_acc']):\n",
    "        data.append( (f, i, train,val ) )\n",
    "df = pd.DataFrame( data, columns=['fold', 'epoch', 'train', 'val'] )\n",
    "sns.lineplot(x=\"epoch\", y=\"train\", data=df)\n",
    "ax = sns.lineplot(x=\"epoch\", y=\"val\", data=df).set_title(dname)\n",
    "plt.ylabel(\"Acurácia\")"
   ]
  }
 ],
 "metadata": {
  "kernelspec": {
   "display_name": "Python 3",
   "language": "python",
   "name": "python3"
  },
  "language_info": {
   "codemirror_mode": {
    "name": "ipython",
    "version": 3
   },
   "file_extension": ".py",
   "mimetype": "text/x-python",
   "name": "python",
   "nbconvert_exporter": "python",
   "pygments_lexer": "ipython3",
   "version": "3.6.9"
  }
 },
 "nbformat": 4,
 "nbformat_minor": 2
}
