{
 "cells": [
  {
   "cell_type": "code",
   "execution_count": 1,
   "metadata": {},
   "outputs": [],
   "source": [
    "import warnings\n",
    "warnings.filterwarnings('ignore')\n",
    "\n",
    "from TGA.utils import Dataset\n",
    "\n",
    "from tqdm.notebook import tqdm\n",
    "from TGA.utils import preprocessor\n",
    "import copy\n",
    "\n",
    "from time import time\n",
    "import numpy as np\n",
    "from itertools import repeat\n",
    "from collections import Counter\n",
    "from segtok import tokenizer as tk\n",
    "\n",
    "from sklearn.preprocessing import LabelEncoder\n",
    "from sklearn.feature_extraction import stop_words\n",
    "from sklearn.feature_extraction.text import TfidfVectorizer\n",
    "from sklearn.base import BaseEstimator, TransformerMixin"
   ]
  },
  {
   "cell_type": "code",
   "execution_count": 2,
   "metadata": {},
   "outputs": [],
   "source": [
    "from torch.nn.utils.rnn import pack_padded_sequence, pad_sequence"
   ]
  },
  {
   "cell_type": "code",
   "execution_count": 3,
   "metadata": {},
   "outputs": [],
   "source": [
    "import torch\n",
    "import torch.nn as nn\n",
    "import torch.nn.functional as F\n",
    "import torch.optim as optim\n",
    "from torch.utils.data import DataLoader"
   ]
  },
  {
   "cell_type": "code",
   "execution_count": 4,
   "metadata": {},
   "outputs": [
    {
     "data": {
      "text/plain": [
       "'1.7.1'"
      ]
     },
     "execution_count": 4,
     "metadata": {},
     "output_type": "execute_result"
    }
   ],
   "source": [
    "torch.__version__"
   ]
  },
  {
   "cell_type": "code",
   "execution_count": 5,
   "metadata": {},
   "outputs": [
    {
     "data": {
      "text/plain": [
       "(('X_train', 'y_train', 'X_test', 'y_test', 'X_val', 'y_val'), 10627)"
      ]
     },
     "execution_count": 5,
     "metadata": {},
     "output_type": "execute_result"
    }
   ],
   "source": [
    "dataset = Dataset('/home/Documentos/datasets/classification/datasets/reut/')\n",
    "fold = next(dataset.get_fold_instances(10, with_val=True))\n",
    "fold._fields, len(fold.X_train)"
   ]
  },
  {
   "cell_type": "code",
   "execution_count": null,
   "metadata": {},
   "outputs": [],
   "source": []
  },
  {
   "cell_type": "code",
   "execution_count": 6,
   "metadata": {},
   "outputs": [],
   "source": [
    "class Tokenizer(BaseEstimator, TransformerMixin):\n",
    "    def __init__(self, mindf=2, stopwords='remove', model='list', lan='english', verbose=False):\n",
    "        super(Tokenizer, self).__init__()\n",
    "        self.mindf = mindf\n",
    "        self.le = LabelEncoder()\n",
    "        self.verbose = verbose\n",
    "        self.stopwords = stopwords\n",
    "        self.stopwordsSet = set(stop_words.ENGLISH_STOP_WORDS)\n",
    "        self.lan = lan\n",
    "        self.model = model\n",
    "        self.analyzer = TfidfVectorizer(preprocessor=preprocessor).build_analyzer()\n",
    "        #self.analyzer = tk.web_tokenizer\n",
    "    \n",
    "    def fit(self, X, y):\n",
    "        self.N = len(X)\n",
    "        self.le.fit( y )\n",
    "        self.n_class = len(self.le.classes_)\n",
    "\n",
    "        self.term_freqs = Counter()\n",
    "        docs = map(self.analyzer, X)\n",
    "        for doc_in_terms in tqdm(docs, total=self.N, disable=not self.verbose):\n",
    "            doc_in_terms = list(map( self._filter_fit_, doc_in_terms ))\n",
    "            self.term_freqs.update(list(set(doc_in_terms)))\n",
    "        self.node_mapper      = {'<BLANK>': 0}\n",
    "        self.term_freqs       = { term:v for (term,v) in self.term_freqs.items() if v >= self.mindf }    \n",
    "        self.node_mapper      = { term:self._get_idx_(term) for term in self.term_freqs.keys() if self._isrel_(term) }\n",
    "        self.node_mapper['<UNK>'] = len(self.node_mapper)\n",
    "        self.node_mapper['<BLANK>'] = 0\n",
    "        self.vocab_size = len(self.node_mapper)\n",
    "        \n",
    "        return self\n",
    "    def _isrel_(self, term):\n",
    "        if self.stopwords == 'remove' and term in self.stopwordsSet:\n",
    "            return False\n",
    "        # put here your filter_functions\n",
    "        return True\n",
    "    def _get_idx_(self, term):\n",
    "        # put here your idx_set_functions\n",
    "        if self.stopwords == 'mark' and term in self.stopwordsSet:\n",
    "            print('is stop', term)\n",
    "            return self.node_mapper.setdefault('<STPW>', len(self.node_mapper))\n",
    "        return self.node_mapper.setdefault(term, len(self.node_mapper))\n",
    "    def _filter_transform_(self, term):\n",
    "        if self.stopwords == 'mark' and term in self.stopwordsSet:\n",
    "            return '<STPW>'\n",
    "        if term not in self.node_mapper:\n",
    "            return '<UNK>'\n",
    "        return term\n",
    "    def _filter_fit_(self, term):\n",
    "        if self.stopwords == 'mark' and term in self.stopwordsSet:\n",
    "            return '<STPW>'\n",
    "        return term\n",
    "    def _model_(self, doc):\n",
    "        if self.model == 'set':\n",
    "            return set(doc)\n",
    "        return list(doc)\n",
    "    def transform(self, X, verbose=None):\n",
    "        verbose = verbose if verbose is not None else self.verbose\n",
    "        n = len(X)\n",
    "        doc_off = [0]\n",
    "        terms_idx = []\n",
    "        for i,doc_in_terms in tqdm(enumerate(map(self.analyzer, X)), total=n, disable=not verbose):\n",
    "            doc_in_terms = filter( self._isrel_, doc_in_terms )\n",
    "            doc_in_terms = map( self._filter_transform_, doc_in_terms )\n",
    "            doc_in_terms = self._model_(doc_in_terms)\n",
    "            doc_in_terms = [ self.node_mapper[tid] for tid in doc_in_terms ]\n",
    "            if self.model == 'sorted':\n",
    "                doc_in_terms = sorted(doc_in_terms)\n",
    "            doc_off.append( len(doc_in_terms) )\n",
    "            terms_idx.extend( doc_in_terms )\n",
    "        return np.array( terms_idx ), np.array(doc_off)[:-1].cumsum()"
   ]
  },
  {
   "cell_type": "code",
   "execution_count": 7,
   "metadata": {},
   "outputs": [
    {
     "data": {
      "application/vnd.jupyter.widget-view+json": {
       "model_id": "4e06b38b2ed4403e9d75f600e19fdb86",
       "version_major": 2,
       "version_minor": 0
      },
      "text/plain": [
       "HBox(children=(FloatProgress(value=0.0, max=10627.0), HTML(value='')))"
      ]
     },
     "metadata": {},
     "output_type": "display_data"
    },
    {
     "name": "stdout",
     "output_type": "stream",
     "text": [
      "\n"
     ]
    },
    {
     "data": {
      "text/plain": [
       "Tokenizer(mindf=1, model='set', stopwords='keep', verbose=True)"
      ]
     },
     "execution_count": 7,
     "metadata": {},
     "output_type": "execute_result"
    }
   ],
   "source": [
    "tokenizer = Tokenizer(mindf=1, stopwords='keep', model='set', verbose=True)\n",
    "tokenizer.fit(fold.X_train, fold.y_train)"
   ]
  },
  {
   "cell_type": "code",
   "execution_count": 8,
   "metadata": {},
   "outputs": [],
   "source": [
    "y_train = tokenizer.le.transform( fold.y_train )\n",
    "y_val   = tokenizer.le.transform( fold.y_val )\n",
    "y_test  = tokenizer.le.transform( fold.y_test )"
   ]
  },
  {
   "cell_type": "code",
   "execution_count": 9,
   "metadata": {},
   "outputs": [
    {
     "data": {
      "application/vnd.jupyter.widget-view+json": {
       "model_id": "1b934ee02077458996435000f6e988ab",
       "version_major": 2,
       "version_minor": 0
      },
      "text/plain": [
       "HBox(children=(FloatProgress(value=0.0, max=2.0), HTML(value='')))"
      ]
     },
     "metadata": {},
     "output_type": "display_data"
    },
    {
     "name": "stdout",
     "output_type": "stream",
     "text": [
      "\n"
     ]
    },
    {
     "data": {
      "text/plain": [
       "(array([  327,   294,  3744,  1418,  2039,     5,   783,     6,   691,\n",
       "        13240,   910,  7850,    17,    83,   819,  5622,   574,    89,\n",
       "         1916,  3362,  6770,  4594,    97,  3556,  4366,  2213,   349,\n",
       "          108,   318,  2297,  1972,   828,  2888,   322,   113,  2216,\n",
       "          116,   118,   120,   325,  3984,   975,  1215,  2301,     2,\n",
       "          125,   594,  2868,  1807,  1274,  4811,  3347,   135,    16,\n",
       "         2304, 17509, 10219,  1563,   842,   139,   539,  3361,   143,\n",
       "          152,   378,  2059, 18130,   154,  5583,  2791,  1470,  1220,\n",
       "         1998,   165,   170,  5643,  6547,   177, 16547,   178,   859,\n",
       "          180, 25858,   392,  1572,  5769,    10,  1575,  1750,  1355,\n",
       "         3165,  1578,  1185,  1132,  1447,   198,  4491,  6664,  1231,\n",
       "           23,  1359,    24,   207,  5092,  2244,   757,  1583,   871,\n",
       "         3387,  2248,   643,  5175,  1817,    39,   419,    41,   650,\n",
       "          226,  2183,  1591,   884,   233,   664,  3358,    21,   239,\n",
       "         2340,   672,   308,  2435,  3562,  3360,   311,    57,  3275,\n",
       "         3457,  2659,    27,   253,  1660,  2810,   251,  2442,  4444,\n",
       "         1521,   255,  5738,  6064,   262,   263,   684,  5837,   716,\n",
       "         1163,   685,   686,   273,  1928,   814,     5,  3595,   910,\n",
       "         1811,  3596,   336,   819,    89,    94,    96,    97,  1005,\n",
       "          101,    28,  3597,   916,  2959,  3598,  3599,   698,   830,\n",
       "          118,   120,    42,  3554,  1311,     2,   124,  1533,   700,\n",
       "         3600,   957,   365,   135,   602,    16,    52,  2969,   306,\n",
       "         1278,   790,  3601,  3602,  3603,   378,    60,   798,   383,\n",
       "         1438,   164,  3604,   166,   177,  2467,   392,   484,    10,\n",
       "           13,   489,  2516,  1321,   196,   198,   938,  1231,    23,\n",
       "           24,   970,  3605,  1091,   501,  1093,  1622,   650,  3606,\n",
       "         3607,   233,   424,    14,  2323,   895,   251,   253,    63,\n",
       "          255,  1101,   897,  3608,   952,   690]),\n",
       " array([  0, 158]))"
      ]
     },
     "execution_count": 9,
     "metadata": {},
     "output_type": "execute_result"
    }
   ],
   "source": [
    "tokenizer.transform(fold.X_val[:2])"
   ]
  },
  {
   "cell_type": "code",
   "execution_count": 10,
   "metadata": {},
   "outputs": [
    {
     "data": {
      "text/plain": [
       "(0,\n",
       " '\\r cocoa consumers narrow gap on buffer stock issue\\r london march 16 representatives of cocoa consuming\\r countries at an international cocoa organization icco council\\r meeting here have edged closer to a unified stance on buffer\\r stock rules delegates said \\r while consumers do not yet have a common position an\\r observer said after a consumer meeting they are much more\\r fluid and the tone is positive \\r european community consumers were split on the question of\\r how the cocoa buffer stock should be operated when the icco met\\r in january to put the new international cocoa agreement into\\r effect delegates said \\r at the january meeting france sided with producers on how\\r the buffer stock should operate delegates said that meeting\\r ended without agreement on new buffer stock rules \\r the ec commission met in brussels on friday to see whether\\r the 12 ec cocoa consuming nations could narrow their\\r differences at this month s meeting \\r the commissioners came away from the friday meeting with an\\r informal agreement to respond to signs of flexibility among\\r producers on the key buffer stock issues delegates said \\r the key issues to be addressed at this council session\\r which divide icco members are whether non member cocoa should\\r be eligible for buffer stock purchases and what price\\r differentials the buffer stock should pay for different types\\r of cocoa delegates said \\r a consumer delegate said producers and consumers should be\\r able to compromise on the non member cocoa question \\r a working group comprising delegates from all producing and\\r consuming member countries met briefly this morning then broke\\r up into a producer meeting and an ec meeting followed by a\\r consumer meeting \\r producers who are in favour of the buffer stock buying a\\r variety of grades of cocoa and oppose non member cocoa being\\r accepted reviewed their position ahead of the working group\\r meeting this afternoon \\r we are waiting to see what consumers say a producer\\r delegate said we hope they will be flexible or it will be\\r difficult to negotiate \\r the icco comprises 33 member countries non \\r members include the u s a consumer and malaysia an\\r increasingly important producer \\r \\r \\n')"
      ]
     },
     "execution_count": 10,
     "metadata": {},
     "output_type": "execute_result"
    }
   ],
   "source": [
    "tokenizer.node_mapper['<BLANK>'], fold.X_val[0]"
   ]
  },
  {
   "cell_type": "code",
   "execution_count": 11,
   "metadata": {},
   "outputs": [],
   "source": [
    "def collate_train(param):\n",
    "    X, y = zip(*param)\n",
    "    terms_ids, docs_offsets = tokenizer.transform(X, verbose=False)\n",
    "    return torch.LongTensor(terms_ids), torch.LongTensor(docs_offsets), torch.LongTensor(y)"
   ]
  },
  {
   "cell_type": "code",
   "execution_count": 12,
   "metadata": {},
   "outputs": [],
   "source": [
    "class Mask(nn.Module):\n",
    "    def __init__(self, negative_slope=1000, kappa=2.):\n",
    "        super(Mask, self).__init__()\n",
    "        self.negative_slope = negative_slope\n",
    "        self.kappa = kappa\n",
    "        self.sig = nn.Sigmoid()\n",
    "    def forward(self, h):\n",
    "        w = F.leaky_relu( h, negative_slope=self.negative_slope)\n",
    "        w = self.sig(w-self.kappa)\n",
    "        return w"
   ]
  },
  {
   "cell_type": "code",
   "execution_count": 13,
   "metadata": {},
   "outputs": [
    {
     "name": "stdout",
     "output_type": "stream",
     "text": [
      "Help on built-in function embedding_bag:\n",
      "\n",
      "embedding_bag(...)\n",
      "\n"
     ]
    }
   ],
   "source": [
    "help(torch.embedding_bag)"
   ]
  },
  {
   "cell_type": "code",
   "execution_count": 14,
   "metadata": {},
   "outputs": [],
   "source": [
    "class SimpleAttentionBag(nn.Module):\n",
    "    def __init__(self, vocab_size, hiddens, nclass, drop=.5, initrange=.5, negative_slope=99.):\n",
    "        super(SimpleAttentionBag, self).__init__()\n",
    "        self.hiddens    = hiddens\n",
    "        self.dt_emb     = nn.Embedding(vocab_size, hiddens)\n",
    "        self.tt_emb     = nn.Embedding(vocab_size, hiddens)\n",
    "        self.tt_dir_map = nn.Linear(hiddens, hiddens)\n",
    "        self.fc         = nn.Linear(hiddens, nclass)\n",
    "        self.initrange  = initrange \n",
    "        self.negative_slope = negative_slope\n",
    "        self.drop       = nn.Dropout(drop)\n",
    "        self.drop_      = drop\n",
    "        self.sig        = nn.Sigmoid()\n",
    "        self.init_weights()\n",
    "    def forward(self, terms_idx, docs_offsets, return_mask=False):\n",
    "        n = terms_idx.shape[0]\n",
    "        batch_size = docs_offsets.shape[0]\n",
    "        \n",
    "        k         = [ terms_idx[ docs_offsets[i-1]:docs_offsets[i] ] for i in range(1, batch_size) ]\n",
    "        k.append( terms_idx[ docs_offsets[-1]: ] )\n",
    "        x_packed  = pad_sequence(k, batch_first=True, padding_value=0)\n",
    "\n",
    "        bx_packed = x_packed == 0\n",
    "        doc_sizes = bx_packed.logical_not().sum(dim=1).view(batch_size, 1)\n",
    "        pad_mask  = bx_packed.logical_not()\n",
    "        pad_mask  = pad_mask.view(*bx_packed.shape, 1)\n",
    "        pad_mask  = pad_mask.logical_and(pad_mask.transpose(1, 2))\n",
    "        \n",
    "        dt_h     = self.dt_emb( x_packed )\n",
    "        dt_h     = F.dropout( dt_h, p=self.drop_, training=self.training )\n",
    "        #dt_h     = self.drop(dt_h)\n",
    "        \n",
    "        tt_h     = self.tt_emb( x_packed )\n",
    "        tt_h     = F.dropout( tt_h, p=self.drop_, training=self.training )\n",
    "        #tt_h     = self.drop(tt_h)\n",
    "        dir_tt_h = self.tt_dir_map( tt_h )\n",
    "\n",
    "        weights = torch.bmm( tt_h, dir_tt_h.transpose( 1, 2 ) )\n",
    "        weights = F.leaky_relu( weights, negative_slope=self.negative_slope)\n",
    "        \n",
    "        weights[pad_mask.logical_not()] = float('-inf') # Set the 3D-pad mask values to -inf (=0 in softmax)\n",
    "        weights = F.sigmoid(weights)\n",
    "        #weights = F.softmax(weights, dim=2) # Normalize the neighbors weights\n",
    "        #weights = torch.where(torch.isnan(weights), torch.zeros_like(weights), weights) #replace nan to zero\n",
    "        weights = weights.sum(axis=2) / doc_sizes\n",
    "        weights[bx_packed] = float('-inf') # Set the 2D-pad mask values to -inf  (=0 in softmax)\n",
    "        weights = F.softmax(weights, dim=1)\n",
    "        #weights = F.sigmoid(weights)\n",
    "        weights = weights.view( *weights.shape, 1 )\n",
    "        \n",
    "        docs_h = dt_h * weights\n",
    "        docs_h = docs_h.sum(axis=1)\n",
    "        docs_h = F.dropout( docs_h, p=self.drop_, training=self.training )\n",
    "        #docs_h = self.drop(docs_h)\n",
    "        return self.fc(docs_h), weights\n",
    "    \n",
    "    def init_weights(self):\n",
    "        self.dt_emb.weight.data.uniform_(-self.initrange, self.initrange)\n",
    "        self.tt_emb.weight.data.uniform_(-self.initrange, self.initrange)\n",
    "        self.tt_dir_map.weight.data.uniform_(-self.initrange, self.initrange)\n",
    "        self.fc.weight.data.uniform_(-self.initrange, self.initrange)"
   ]
  },
  {
   "cell_type": "code",
   "execution_count": 30,
   "metadata": {},
   "outputs": [],
   "source": [
    "nepochs = 1000\n",
    "max_epochs = 50\n",
    "drop=0.85\n",
    "device = torch.device('cuda:0')\n",
    "batch_size = 32"
   ]
  },
  {
   "cell_type": "code",
   "execution_count": 31,
   "metadata": {},
   "outputs": [
    {
     "data": {
      "text/plain": [
       "<torch._C.Generator at 0x7f52ec0c53b0>"
      ]
     },
     "execution_count": 31,
     "metadata": {},
     "output_type": "execute_result"
    }
   ],
   "source": [
    "if torch.cuda.is_available():\n",
    "    torch.cuda.manual_seed_all(42)\n",
    "torch.manual_seed(42)"
   ]
  },
  {
   "cell_type": "code",
   "execution_count": 32,
   "metadata": {},
   "outputs": [],
   "source": [
    "#sc = SimpleClassifier(tokenizer.vocab_size, 300, tokenizer.n_class, dropout=drop).to( device )\n",
    "ab = SimpleAttentionBag(tokenizer.vocab_size, 300, tokenizer.n_class, drop=drop).to( device )\n",
    "\n",
    "optimizer = optim.AdamW( ab.parameters(), lr=6e-3, weight_decay=5e-3)\n",
    "loss_func_cel = nn.CrossEntropyLoss().to( device )\n",
    "scheduler = torch.optim.lr_scheduler.ReduceLROnPlateau(optimizer, mode='min', factor=.95,\n",
    "                                                       patience=10, verbose=True)\n",
    "#scheduler = torch.optim.lr_scheduler.StepLR(optimizer, step_size=15, gamma=.98, verbose=True)"
   ]
  },
  {
   "cell_type": "code",
   "execution_count": 33,
   "metadata": {
    "scrolled": false
   },
   "outputs": [
    {
     "data": {
      "text/plain": [
       "array([], dtype=int64)"
      ]
     },
     "execution_count": 33,
     "metadata": {},
     "output_type": "execute_result"
    }
   ],
   "source": [
    "\n",
    "\n",
    "np.array([1])[1:]"
   ]
  },
  {
   "cell_type": "code",
   "execution_count": null,
   "metadata": {
    "scrolled": false
   },
   "outputs": [
    {
     "data": {
      "application/vnd.jupyter.widget-view+json": {
       "model_id": "bdf77e3b8b384d2baad547713f06179c",
       "version_major": 2,
       "version_minor": 0
      },
      "text/plain": [
       "HBox(children=(FloatProgress(value=0.0, max=1000.0), HTML(value='')))"
      ]
     },
     "metadata": {},
     "output_type": "display_data"
    },
    {
     "data": {
      "application/vnd.jupyter.widget-view+json": {
       "model_id": "59780aded257479ea41978ad29bfc4a9",
       "version_major": 2,
       "version_minor": 0
      },
      "text/plain": [
       "HBox(children=(FloatProgress(value=0.0, description='Epoch 1', max=11977.0, style=ProgressStyle(description_wi…"
      ]
     },
     "metadata": {},
     "output_type": "display_data"
    },
    {
     "name": "stdout",
     "output_type": "stream",
     "text": [
      "Train loss: 4.0476/4.0614 ACC: 0.48819                                                                                                    \n",
      "Val loss: 3.9793 ACC: 0.55852                                                                                                    \n",
      "Set dropout to 0.8428 (prop=1.407,0.6988=0.9915)\n",
      "New Best Val loss: 3.9793                                                                                                    \n",
      "\n"
     ]
    },
    {
     "data": {
      "application/vnd.jupyter.widget-view+json": {
       "model_id": "a1393dab41304322aabac380d2e0cab2",
       "version_major": 2,
       "version_minor": 0
      },
      "text/plain": [
       "HBox(children=(FloatProgress(value=0.0, description='Epoch 2', max=11977.0, style=ProgressStyle(description_wi…"
      ]
     },
     "metadata": {},
     "output_type": "display_data"
    },
    {
     "name": "stdout",
     "output_type": "stream",
     "text": [
      "Train loss: 3.9925/3.8501 ACC: 0.54173                                                                                                    \n",
      "Val loss: 3.9295 ACC: 0.61333                                                                                                    \n",
      "Set dropout to 0.8361 (prop=1.114,0.8834=0.9921)\n",
      "New Best Val loss: 3.9295                                                                                                    \n",
      "\n"
     ]
    },
    {
     "data": {
      "application/vnd.jupyter.widget-view+json": {
       "model_id": "675fd7d1b832416c9b7729141752fc85",
       "version_major": 2,
       "version_minor": 0
      },
      "text/plain": [
       "HBox(children=(FloatProgress(value=0.0, description='Epoch 3', max=11977.0, style=ProgressStyle(description_wi…"
      ]
     },
     "metadata": {},
     "output_type": "display_data"
    },
    {
     "name": "stdout",
     "output_type": "stream",
     "text": [
      "Train loss: 3.9526/3.8507 ACC: 0.58182                                                                                                    \n",
      "Val loss: 3.9101 ACC: 0.62296                                                                                                    \n",
      "Set dropout to 0.8316 (prop=1.034,0.9569=0.9946)\n",
      "New Best Val loss: 3.9101                                                                                                    \n",
      "\n"
     ]
    },
    {
     "data": {
      "application/vnd.jupyter.widget-view+json": {
       "model_id": "5c8e294ea95e4b07bc112e25c2718fcd",
       "version_major": 2,
       "version_minor": 0
      },
      "text/plain": [
       "HBox(children=(FloatProgress(value=0.0, description='Epoch 4', max=11977.0, style=ProgressStyle(description_wi…"
      ]
     },
     "metadata": {},
     "output_type": "display_data"
    },
    {
     "name": "stdout",
     "output_type": "stream",
     "text": [
      "Train loss: 3.9304/3.9127 ACC: 0.59904                                                                                                    \n",
      "Val loss: 3.9034 ACC: 0.62519                                                                                                    \n",
      "Set dropout to 0.8288 (prop=1.008,0.9849=0.9966)\n",
      "New Best Val loss: 3.9034                                                                                                    \n",
      "\n"
     ]
    },
    {
     "data": {
      "application/vnd.jupyter.widget-view+json": {
       "model_id": "8ffa9bd7a6ad41cd9850b4df16194ac0",
       "version_major": 2,
       "version_minor": 0
      },
      "text/plain": [
       "HBox(children=(FloatProgress(value=0.0, description='Epoch 5', max=11977.0, style=ProgressStyle(description_wi…"
      ]
     },
     "metadata": {},
     "output_type": "display_data"
    },
    {
     "name": "stdout",
     "output_type": "stream",
     "text": [
      "Train loss: 3.9193/3.9386 ACC: 0.60826                                                                                                    \n",
      "Val loss: 3.8995 ACC: 0.62815                                                                                                    \n",
      "Set dropout to 0.8267 (prop=0.9999,0.9951=0.9975)\n",
      "New Best Val loss: 3.8995                                                                                                    \n",
      "\n"
     ]
    },
    {
     "data": {
      "application/vnd.jupyter.widget-view+json": {
       "model_id": "94d796988a714b99a5f1e352265bcc8c",
       "version_major": 2,
       "version_minor": 0
      },
      "text/plain": [
       "HBox(children=(FloatProgress(value=0.0, description='Epoch 6', max=11977.0, style=ProgressStyle(description_wi…"
      ]
     },
     "metadata": {},
     "output_type": "display_data"
    },
    {
     "name": "stdout",
     "output_type": "stream",
     "text": [
      "Train loss: 3.9139/3.6049 ACC: 0.61043                                                                                                    \n",
      "Val loss: 3.8986 ACC: 0.62519                                                                                                    \n",
      "Set dropout to 0.825 (prop=0.9975,0.9986=0.998)\n",
      "New Best Val loss: 3.8986                                                                                                    \n",
      "\n"
     ]
    },
    {
     "data": {
      "application/vnd.jupyter.widget-view+json": {
       "model_id": "cc65da34add1414e82e64a21fdf1a62e",
       "version_major": 2,
       "version_minor": 0
      },
      "text/plain": [
       "HBox(children=(FloatProgress(value=0.0, description='Epoch 7', max=11977.0, style=ProgressStyle(description_wi…"
      ]
     },
     "metadata": {},
     "output_type": "display_data"
    },
    {
     "name": "stdout",
     "output_type": "stream",
     "text": [
      "Train loss: 3.9062/3.872 ACC: 0.6189                                                                                                      \n",
      "Val loss: 3.8982 ACC: 0.6237                                                                                                     \n",
      "Set dropout to 0.8242 (prop=0.9977,1.0=0.999)\n",
      "New Best Val loss: 3.8982                                                                                                    \n",
      "\n"
     ]
    },
    {
     "data": {
      "application/vnd.jupyter.widget-view+json": {
       "model_id": "79b5a8382642496088dd896b8f7b5a00",
       "version_major": 2,
       "version_minor": 0
      },
      "text/plain": [
       "HBox(children=(FloatProgress(value=0.0, description='Epoch 8', max=11977.0, style=ProgressStyle(description_wi…"
      ]
     },
     "metadata": {},
     "output_type": "display_data"
    },
    {
     "name": "stdout",
     "output_type": "stream",
     "text": [
      "Train loss: 3.9015/3.5215 ACC: 0.62153                                                                                                    \n",
      "Val loss: 3.8968 ACC: 0.62667                                                                                                    \n",
      "Set dropout to 0.8237 (prop=0.9982,1.001=0.9994)\n",
      "New Best Val loss: 3.8968                                                                                                    \n",
      "\n"
     ]
    },
    {
     "data": {
      "application/vnd.jupyter.widget-view+json": {
       "model_id": "19abd7ce970c40ee86802ad0c29e2cf3",
       "version_major": 2,
       "version_minor": 0
      },
      "text/plain": [
       "HBox(children=(FloatProgress(value=0.0, description='Epoch 9', max=11977.0, style=ProgressStyle(description_wi…"
      ]
     },
     "metadata": {},
     "output_type": "display_data"
    },
    {
     "name": "stdout",
     "output_type": "stream",
     "text": [
      "Train loss: 3.901/3.852 ACC: 0.62125                                                                                                      \n",
      "Val loss: 3.8954 ACC: 0.62593                                                                                                    \n",
      "Set dropout to 0.8231 (prop=0.9983,1.0=0.9993)\n",
      "New Best Val loss: 3.8954                                                                                                    \n",
      "\n"
     ]
    },
    {
     "data": {
      "application/vnd.jupyter.widget-view+json": {
       "model_id": "55f61d970093487c9f7aac4365cb959a",
       "version_major": 2,
       "version_minor": 0
      },
      "text/plain": [
       "HBox(children=(FloatProgress(value=0.0, description='Epoch 10', max=11977.0, style=ProgressStyle(description_w…"
      ]
     },
     "metadata": {},
     "output_type": "display_data"
    },
    {
     "name": "stdout",
     "output_type": "stream",
     "text": [
      "Train loss: 3.897/3.852 ACC: 0.62595                                                                                                      \n",
      "Val loss: 3.8951 ACC: 0.62593                                                                                                    \n",
      "Set dropout to 0.8229 (prop=0.999,1.001=0.9998)\n",
      "New Best Val loss: 3.8951                                                                                                    \n",
      "\n"
     ]
    },
    {
     "data": {
      "application/vnd.jupyter.widget-view+json": {
       "model_id": "2d0696b0284743d797a7e8a46014b7f6",
       "version_major": 2,
       "version_minor": 0
      },
      "text/plain": [
       "HBox(children=(FloatProgress(value=0.0, description='Epoch 11', max=11977.0, style=ProgressStyle(description_w…"
      ]
     },
     "metadata": {},
     "output_type": "display_data"
    },
    {
     "name": "stdout",
     "output_type": "stream",
     "text": [
      "Train loss: 3.895/4.1845 ACC: 0.62821                                                                                                     \n",
      "Val loss: 3.8909 ACC: 0.63037                                                                                                    \n",
      "Set dropout to 0.8225 (prop=0.9985,1.0=0.9995)\n",
      "New Best Val loss: 3.8909                                                                                                    \n",
      "\n"
     ]
    },
    {
     "data": {
      "application/vnd.jupyter.widget-view+json": {
       "model_id": "637947a5597045f6ab79445e3f4254be",
       "version_major": 2,
       "version_minor": 0
      },
      "text/plain": [
       "HBox(children=(FloatProgress(value=0.0, description='Epoch 12', max=11977.0, style=ProgressStyle(description_w…"
      ]
     },
     "metadata": {},
     "output_type": "display_data"
    },
    {
     "name": "stdout",
     "output_type": "stream",
     "text": [
      "Train loss: 3.8887/3.8501 ACC: 0.63367                                                                                                    \n",
      "Val loss: 3.8882 ACC: 0.63481                                                                                                    \n",
      "Set dropout to 0.8224 (prop=0.9991,1.001=0.9999)\n",
      "New Best Val loss: 3.8882                                                                                                    \n",
      "\n"
     ]
    },
    {
     "data": {
      "application/vnd.jupyter.widget-view+json": {
       "model_id": "f3a36fa1b6e64a7990c71fd569de4144",
       "version_major": 2,
       "version_minor": 0
      },
      "text/plain": [
       "HBox(children=(FloatProgress(value=0.0, description='Epoch 13', max=11977.0, style=ProgressStyle(description_w…"
      ]
     },
     "metadata": {},
     "output_type": "display_data"
    },
    {
     "name": "stdout",
     "output_type": "stream",
     "text": [
      "Train loss: 3.8844/3.8496 ACC: 0.63819                                                                                                    \n",
      "Val loss: 3.8861 ACC: 0.63704                                                                                                    \n",
      "Set dropout to 0.8226 (prop=0.9997,1.001=1.0)\n",
      "New Best Val loss: 3.8861                                                                                                    \n",
      "\n"
     ]
    },
    {
     "data": {
      "application/vnd.jupyter.widget-view+json": {
       "model_id": "184902629cc24aa585138d848d9b6391",
       "version_major": 2,
       "version_minor": 0
      },
      "text/plain": [
       "HBox(children=(FloatProgress(value=0.0, description='Epoch 14', max=11977.0, style=ProgressStyle(description_w…"
      ]
     },
     "metadata": {},
     "output_type": "display_data"
    },
    {
     "name": "stdout",
     "output_type": "stream",
     "text": [
      "Train loss: 3.8856/3.8521 ACC: 0.63677                                                                                                    \n",
      "Val loss: 3.8847 ACC: 0.63778                                                                                                    \n",
      "Set dropout to 0.8225 (prop=0.9996,1.0=0.9999)\n",
      "New Best Val loss: 3.8847                                                                                                    \n",
      "\n"
     ]
    },
    {
     "data": {
      "application/vnd.jupyter.widget-view+json": {
       "model_id": "c3320e06544d436ea0d8637ba2108db0",
       "version_major": 2,
       "version_minor": 0
      },
      "text/plain": [
       "HBox(children=(FloatProgress(value=0.0, description='Epoch 15', max=11977.0, style=ProgressStyle(description_w…"
      ]
     },
     "metadata": {},
     "output_type": "display_data"
    },
    {
     "name": "stdout",
     "output_type": "stream",
     "text": [
      "Train loss: 3.8782/3.852 ACC: 0.64402                                                                                                     \n",
      "Val loss: 3.8834 ACC: 0.6363                                                                                                     \n",
      "Set dropout to 0.823 (prop=1.0,1.001=1.001)\n",
      "New Best Val loss: 3.8834                                                                                                    \n",
      "\n"
     ]
    },
    {
     "data": {
      "application/vnd.jupyter.widget-view+json": {
       "model_id": "3b4b43658e4b4aeabe040e145a6cde4a",
       "version_major": 2,
       "version_minor": 0
      },
      "text/plain": [
       "HBox(children=(FloatProgress(value=0.0, description='Epoch 16', max=11977.0, style=ProgressStyle(description_w…"
      ]
     },
     "metadata": {},
     "output_type": "display_data"
    },
    {
     "name": "stdout",
     "output_type": "stream",
     "text": [
      "Train loss: 3.8758/4.5176 ACC: 0.64872                                                                                                    \n",
      "Val loss: 3.8756 ACC: 0.64593                                                                                                    \n",
      "Set dropout to 0.823 (prop=0.9994,1.001=1.0)\n",
      "New Best Val loss: 3.8756                                                                                                    \n",
      "\n"
     ]
    },
    {
     "data": {
      "application/vnd.jupyter.widget-view+json": {
       "model_id": "5b04fa81869b4e8e9761f57385a9f3ae",
       "version_major": 2,
       "version_minor": 0
      },
      "text/plain": [
       "HBox(children=(FloatProgress(value=0.0, description='Epoch 17', max=11977.0, style=ProgressStyle(description_w…"
      ]
     },
     "metadata": {},
     "output_type": "display_data"
    },
    {
     "name": "stdout",
     "output_type": "stream",
     "text": [
      "Train loss: 3.8673/3.5187 ACC: 0.65672                                                                                                    \n",
      "Val loss: 3.8735 ACC: 0.64741                                                                                                    \n",
      "Set dropout to 0.8237 (prop=1.001,1.001=1.001)\n",
      "New Best Val loss: 3.8735                                                                                                    \n",
      "\n"
     ]
    },
    {
     "data": {
      "application/vnd.jupyter.widget-view+json": {
       "model_id": "01ed36fc3f074c96b1a7bbf0c1e8884d",
       "version_major": 2,
       "version_minor": 0
      },
      "text/plain": [
       "HBox(children=(FloatProgress(value=0.0, description='Epoch 18', max=11977.0, style=ProgressStyle(description_w…"
      ]
     },
     "metadata": {},
     "output_type": "display_data"
    },
    {
     "name": "stdout",
     "output_type": "stream",
     "text": [
      "Train loss: 3.8637/3.5848 ACC: 0.65983                                                                                                    \n",
      "Val loss: 3.8711 ACC: 0.64963                                                                                                    \n",
      "Set dropout to 0.8245 (prop=1.001,1.001=1.001)\n",
      "New Best Val loss: 3.8711                                                                                                    \n",
      "\n"
     ]
    },
    {
     "data": {
      "application/vnd.jupyter.widget-view+json": {
       "model_id": "91469a93e1834107bddd81ce05deaa5d",
       "version_major": 2,
       "version_minor": 0
      },
      "text/plain": [
       "HBox(children=(FloatProgress(value=0.0, description='Epoch 19', max=11977.0, style=ProgressStyle(description_w…"
      ]
     },
     "metadata": {},
     "output_type": "display_data"
    },
    {
     "name": "stdout",
     "output_type": "stream",
     "text": [
      "Train loss: 3.8608/3.7652 ACC: 0.6619                                                                                                     \n",
      "Val loss: 3.8687 ACC: 0.65407                                                                                                    \n",
      "Set dropout to 0.8253 (prop=1.001,1.001=1.001)\n",
      "New Best Val loss: 3.8687                                                                                                    \n",
      "\n"
     ]
    },
    {
     "data": {
      "application/vnd.jupyter.widget-view+json": {
       "model_id": "d12ab2d8d131481b97f8e13a7bb69381",
       "version_major": 2,
       "version_minor": 0
      },
      "text/plain": [
       "HBox(children=(FloatProgress(value=0.0, description='Epoch 20', max=11977.0, style=ProgressStyle(description_w…"
      ]
     },
     "metadata": {},
     "output_type": "display_data"
    },
    {
     "name": "stdout",
     "output_type": "stream",
     "text": [
      "Train loss: 3.8574/3.5242 ACC: 0.66359                                                                                                    \n",
      "Val loss: 3.8671 ACC: 0.65407                                                                                                    \n",
      "Set dropout to 0.8264 (prop=1.002,1.001=1.001)\n",
      "New Best Val loss: 3.8671                                                                                                    \n",
      "\n"
     ]
    },
    {
     "data": {
      "application/vnd.jupyter.widget-view+json": {
       "model_id": "c68988a3e45b42d294b8681e1c892e87",
       "version_major": 2,
       "version_minor": 0
      },
      "text/plain": [
       "HBox(children=(FloatProgress(value=0.0, description='Epoch 21', max=11977.0, style=ProgressStyle(description_w…"
      ]
     },
     "metadata": {},
     "output_type": "display_data"
    },
    {
     "name": "stdout",
     "output_type": "stream",
     "text": [
      "Train loss: 3.8543/3.851 ACC: 0.66905                                                                                                     \n",
      "Val loss: 3.8644 ACC: 0.65778                                                                                                    \n",
      "Set dropout to 0.8274 (prop=1.002,1.001=1.001)\n",
      "New Best Val loss: 3.8644                                                                                                    \n",
      "\n"
     ]
    },
    {
     "data": {
      "application/vnd.jupyter.widget-view+json": {
       "model_id": "d55c40572ea24e2e905f9b917dc003a0",
       "version_major": 2,
       "version_minor": 0
      },
      "text/plain": [
       "HBox(children=(FloatProgress(value=0.0, description='Epoch 22', max=11977.0, style=ProgressStyle(description_w…"
      ]
     },
     "metadata": {},
     "output_type": "display_data"
    },
    {
     "name": "stdout",
     "output_type": "stream",
     "text": [
      "Train loss: 3.8542/3.5187 ACC: 0.66736                                                                                                    \n",
      "Val loss: 3.8627 ACC: 0.66                                                                                                       \n",
      "Set dropout to 0.8283 (prop=1.002,1.0=1.001)\n",
      "New Best Val loss: 3.8627                                                                                                    \n",
      "\n"
     ]
    },
    {
     "data": {
      "application/vnd.jupyter.widget-view+json": {
       "model_id": "9cba10e536374095bbe581dd9c676aa3",
       "version_major": 2,
       "version_minor": 0
      },
      "text/plain": [
       "HBox(children=(FloatProgress(value=0.0, description='Epoch 23', max=11977.0, style=ProgressStyle(description_w…"
      ]
     },
     "metadata": {},
     "output_type": "display_data"
    },
    {
     "name": "stdout",
     "output_type": "stream",
     "text": [
      "Train loss: 3.8522/4.1871 ACC: 0.67281                                                                                                    \n",
      "Val loss: 3.861 ACC: 0.66296                                                                                                     \n",
      "Set dropout to 0.8293 (prop=1.002,1.0=1.001)\n",
      "New Best Val loss: 3.861                                                                                                    \n",
      "\n"
     ]
    },
    {
     "data": {
      "application/vnd.jupyter.widget-view+json": {
       "model_id": "4801f76a8d57448c867cc095dd4419f2",
       "version_major": 2,
       "version_minor": 0
      },
      "text/plain": [
       "HBox(children=(FloatProgress(value=0.0, description='Epoch 24', max=11977.0, style=ProgressStyle(description_w…"
      ]
     },
     "metadata": {},
     "output_type": "display_data"
    },
    {
     "name": "stdout",
     "output_type": "stream",
     "text": [
      "Train loss: 3.8499/3.5191 ACC: 0.67263                                                                                                    \n",
      "Val loss: 3.8606 ACC: 0.66222                                                                                                    \n",
      "Set dropout to 0.8304 (prop=1.002,1.0=1.001)\n",
      "New Best Val loss: 3.8606                                                                                                    \n",
      "\n"
     ]
    },
    {
     "data": {
      "application/vnd.jupyter.widget-view+json": {
       "model_id": "5f911661430f48a195aa087ba03661d9",
       "version_major": 2,
       "version_minor": 0
      },
      "text/plain": [
       "HBox(children=(FloatProgress(value=0.0, description='Epoch 25', max=11977.0, style=ProgressStyle(description_w…"
      ]
     },
     "metadata": {},
     "output_type": "display_data"
    },
    {
     "name": "stdout",
     "output_type": "stream",
     "text": [
      "Train loss: 3.8494/3.8518 ACC: 0.6731                                                                                                     \n",
      "Val loss: 3.8588 ACC: 0.66667                                                                                                    \n",
      "Set dropout to 0.8315 (prop=1.002,1.0=1.001)\n",
      "New Best Val loss: 3.8588                                                                                                    \n",
      "\n"
     ]
    },
    {
     "data": {
      "application/vnd.jupyter.widget-view+json": {
       "model_id": "96e9fbac588c4cd29555d1fef2558104",
       "version_major": 2,
       "version_minor": 0
      },
      "text/plain": [
       "HBox(children=(FloatProgress(value=0.0, description='Epoch 26', max=11977.0, style=ProgressStyle(description_w…"
      ]
     },
     "metadata": {},
     "output_type": "display_data"
    },
    {
     "name": "stdout",
     "output_type": "stream",
     "text": [
      "Train loss: 3.8513/4.1848 ACC: 0.67093                                                                                                    \n",
      "Val loss: 3.8581 ACC: 0.66519                                                                                                    \n",
      "Set dropout to 0.8322 (prop=1.002,0.9999=1.001)\n",
      "New Best Val loss: 3.8581                                                                                                    \n",
      "\n"
     ]
    },
    {
     "data": {
      "application/vnd.jupyter.widget-view+json": {
       "model_id": "90599176df6a469ab4fbb11ea67dccf3",
       "version_major": 2,
       "version_minor": 0
      },
      "text/plain": [
       "HBox(children=(FloatProgress(value=0.0, description='Epoch 27', max=11977.0, style=ProgressStyle(description_w…"
      ]
     },
     "metadata": {},
     "output_type": "display_data"
    },
    {
     "name": "stdout",
     "output_type": "stream",
     "text": [
      "Train loss: 3.8481/3.5187 ACC: 0.673                                                                                                      \n",
      "Val loss: 3.8559 ACC: 0.66889                                                                                                    \n",
      "Set dropout to 0.833 (prop=1.002,1.0=1.001)\n",
      "New Best Val loss: 3.8559                                                                                                    \n",
      "\n"
     ]
    },
    {
     "data": {
      "application/vnd.jupyter.widget-view+json": {
       "model_id": "87663b304f1d440dbbdafe23164b37aa",
       "version_major": 2,
       "version_minor": 0
      },
      "text/plain": [
       "HBox(children=(FloatProgress(value=0.0, description='Epoch 28', max=11977.0, style=ProgressStyle(description_w…"
      ]
     },
     "metadata": {},
     "output_type": "display_data"
    },
    {
     "name": "stdout",
     "output_type": "stream",
     "text": [
      "Train loss: 3.8484/3.5192 ACC: 0.67347                                                                                                    \n",
      "Val loss: 3.856 ACC: 0.66667                                                                                                     \n",
      "Set dropout to 0.8339 (prop=1.002,1.0=1.001)\n",
      "\n"
     ]
    },
    {
     "data": {
      "application/vnd.jupyter.widget-view+json": {
       "model_id": "46a3dea6642649c8a15062a12a6656b6",
       "version_major": 2,
       "version_minor": 0
      },
      "text/plain": [
       "HBox(children=(FloatProgress(value=0.0, description='Epoch 29', max=11977.0, style=ProgressStyle(description_w…"
      ]
     },
     "metadata": {},
     "output_type": "display_data"
    },
    {
     "name": "stdout",
     "output_type": "stream",
     "text": [
      "Train loss: 3.8461/3.9957 ACC: 0.67658                                                                                                    \n",
      "Val loss: 3.8551 ACC: 0.66519                                                                                                    \n",
      "Set dropout to 0.8348 (prop=1.002,1.0=1.001)\n",
      "New Best Val loss: 3.8551                                                                                                    \n",
      "\n"
     ]
    },
    {
     "data": {
      "application/vnd.jupyter.widget-view+json": {
       "model_id": "3f19aa18bc464ec3b39afbcafc8e3891",
       "version_major": 2,
       "version_minor": 0
      },
      "text/plain": [
       "HBox(children=(FloatProgress(value=0.0, description='Epoch 30', max=11977.0, style=ProgressStyle(description_w…"
      ]
     },
     "metadata": {},
     "output_type": "display_data"
    },
    {
     "name": "stdout",
     "output_type": "stream",
     "text": [
      "Train loss: 3.8451/3.8508 ACC: 0.67733                                                                                                    \n",
      "Val loss: 3.8544 ACC: 0.66815                                                                                                    \n",
      "Set dropout to 0.8359 (prop=1.002,1.0=1.001)\n",
      "New Best Val loss: 3.8544                                                                                                    \n",
      "\n"
     ]
    },
    {
     "data": {
      "application/vnd.jupyter.widget-view+json": {
       "model_id": "9fb1ce8fc1b746e49251a240d647dbb6",
       "version_major": 2,
       "version_minor": 0
      },
      "text/plain": [
       "HBox(children=(FloatProgress(value=0.0, description='Epoch 31', max=11977.0, style=ProgressStyle(description_w…"
      ]
     },
     "metadata": {},
     "output_type": "display_data"
    },
    {
     "name": "stdout",
     "output_type": "stream",
     "text": [
      "Train loss: 3.8436/3.8529 ACC: 0.6778                                                                                                     \n",
      "Val loss: 3.855 ACC: 0.66444                                                                                                     \n",
      "Set dropout to 0.8371 (prop=1.003,1.0=1.001)\n",
      "\n"
     ]
    },
    {
     "data": {
      "application/vnd.jupyter.widget-view+json": {
       "model_id": "b40e5359b70d4c58823fbe43f8385183",
       "version_major": 2,
       "version_minor": 0
      },
      "text/plain": [
       "HBox(children=(FloatProgress(value=0.0, description='Epoch 32', max=11977.0, style=ProgressStyle(description_w…"
      ]
     },
     "metadata": {},
     "output_type": "display_data"
    },
    {
     "name": "stdout",
     "output_type": "stream",
     "text": [
      "Train loss: 3.843/3.8521 ACC: 0.67978                                                                                                     \n",
      "Val loss: 3.8543 ACC: 0.66519                                                                                                    \n",
      "Set dropout to 0.8383 (prop=1.003,1.0=1.001)\n",
      "New Best Val loss: 3.8543                                                                                                    \n",
      "\n"
     ]
    },
    {
     "data": {
      "application/vnd.jupyter.widget-view+json": {
       "model_id": "0c9445fed74b4cc19a5996ea7a33dbdc",
       "version_major": 2,
       "version_minor": 0
      },
      "text/plain": [
       "HBox(children=(FloatProgress(value=0.0, description='Epoch 33', max=11977.0, style=ProgressStyle(description_w…"
      ]
     },
     "metadata": {},
     "output_type": "display_data"
    },
    {
     "name": "stdout",
     "output_type": "stream",
     "text": [
      "Train loss: 3.8443/3.8259 ACC: 0.67686                                                                                                    \n",
      "Val loss: 3.8547 ACC: 0.66889                                                                                                    \n",
      "Set dropout to 0.8395 (prop=1.003,0.9999=1.001)\n",
      "\n"
     ]
    },
    {
     "data": {
      "application/vnd.jupyter.widget-view+json": {
       "model_id": "78983054591541389feef48e145e9725",
       "version_major": 2,
       "version_minor": 0
      },
      "text/plain": [
       "HBox(children=(FloatProgress(value=0.0, description='Epoch 34', max=11977.0, style=ProgressStyle(description_w…"
      ]
     },
     "metadata": {},
     "output_type": "display_data"
    },
    {
     "name": "stdout",
     "output_type": "stream",
     "text": [
      "Train loss: 3.8439/3.8505 ACC: 0.6779                                                                                                     \n",
      "Val loss: 3.8543 ACC: 0.66667                                                                                                    \n",
      "Set dropout to 0.8406 (prop=1.003,1.0=1.001)\n",
      "\n"
     ]
    },
    {
     "data": {
      "application/vnd.jupyter.widget-view+json": {
       "model_id": "a26d2ac4285d4b8d9699f02d3c2e7d68",
       "version_major": 2,
       "version_minor": 0
      },
      "text/plain": [
       "HBox(children=(FloatProgress(value=0.0, description='Epoch 35', max=11977.0, style=ProgressStyle(description_w…"
      ]
     },
     "metadata": {},
     "output_type": "display_data"
    },
    {
     "name": "stdout",
     "output_type": "stream",
     "text": [
      "Train loss: 3.8428/3.8501 ACC: 0.67912                                                                                                    \n",
      "Val loss: 3.8538 ACC: 0.66667                                                                                                    \n",
      "Set dropout to 0.8418 (prop=1.003,1.0=1.001)\n",
      "New Best Val loss: 3.8538                                                                                                    \n",
      "\n"
     ]
    },
    {
     "data": {
      "application/vnd.jupyter.widget-view+json": {
       "model_id": "d5fdc217bf08482c916f415f28689c32",
       "version_major": 2,
       "version_minor": 0
      },
      "text/plain": [
       "HBox(children=(FloatProgress(value=0.0, description='Epoch 36', max=11977.0, style=ProgressStyle(description_w…"
      ]
     },
     "metadata": {},
     "output_type": "display_data"
    },
    {
     "name": "stdout",
     "output_type": "stream",
     "text": [
      "Train loss: 3.8431/3.8508 ACC: 0.67997                                                                                                    \n",
      "Val loss: 3.8546 ACC: 0.66519                                                                                                    \n",
      "Set dropout to 0.8431 (prop=1.003,1.0=1.001)\n",
      "\n"
     ]
    },
    {
     "data": {
      "application/vnd.jupyter.widget-view+json": {
       "model_id": "920d35fda27f4b89b7fcb30196b20604",
       "version_major": 2,
       "version_minor": 0
      },
      "text/plain": [
       "HBox(children=(FloatProgress(value=0.0, description='Epoch 37', max=11977.0, style=ProgressStyle(description_w…"
      ]
     },
     "metadata": {},
     "output_type": "display_data"
    },
    {
     "name": "stdout",
     "output_type": "stream",
     "text": [
      "Train loss: 3.8415/3.5187 ACC: 0.67931                                                                                                    \n",
      "Val loss: 3.8537 ACC: 0.66889                                                                                                    \n",
      "Set dropout to 0.8444 (prop=1.003,1.0=1.002)\n",
      "\n"
     ]
    },
    {
     "data": {
      "application/vnd.jupyter.widget-view+json": {
       "model_id": "0cc5a475fbca424ead04889c47234585",
       "version_major": 2,
       "version_minor": 0
      },
      "text/plain": [
       "HBox(children=(FloatProgress(value=0.0, description='Epoch 38', max=11977.0, style=ProgressStyle(description_w…"
      ]
     },
     "metadata": {},
     "output_type": "display_data"
    },
    {
     "name": "stdout",
     "output_type": "stream",
     "text": [
      "Train loss: 3.8397/4.1846 ACC: 0.6842                                                                                                     \n",
      "Val loss: 3.8536 ACC: 0.66741                                                                                                    \n",
      "Set dropout to 0.8459 (prop=1.003,1.0=1.002)\n",
      "New Best Val loss: 3.8536                                                                                                    \n",
      "\n"
     ]
    },
    {
     "data": {
      "application/vnd.jupyter.widget-view+json": {
       "model_id": "f848383084614b559b55250cec7efac1",
       "version_major": 2,
       "version_minor": 0
      },
      "text/plain": [
       "HBox(children=(FloatProgress(value=0.0, description='Epoch 39', max=11977.0, style=ProgressStyle(description_w…"
      ]
     },
     "metadata": {},
     "output_type": "display_data"
    },
    {
     "name": "stdout",
     "output_type": "stream",
     "text": [
      "Train loss: 3.8371/3.5187 ACC: 0.68401                                                                                                    \n",
      "Val loss: 3.8518 ACC: 0.66741                                                                                                    \n",
      "Set dropout to 0.8476 (prop=1.003,1.0=1.002)\n",
      "New Best Val loss: 3.8518                                                                                                    \n",
      "\n"
     ]
    },
    {
     "data": {
      "application/vnd.jupyter.widget-view+json": {
       "model_id": "6413202916614dcabf9a40ab89d6dc08",
       "version_major": 2,
       "version_minor": 0
      },
      "text/plain": [
       "HBox(children=(FloatProgress(value=0.0, description='Epoch 40', max=11977.0, style=ProgressStyle(description_w…"
      ]
     },
     "metadata": {},
     "output_type": "display_data"
    },
    {
     "name": "stdout",
     "output_type": "stream",
     "text": [
      "Train loss: 3.8451/4.1849 ACC: 0.67714                                                                                                    \n",
      "Val loss: 3.8525 ACC: 0.66889                                                                                                    \n",
      "Set dropout to 0.8484 (prop=1.003,0.9993=1.001)\n",
      "\n"
     ]
    },
    {
     "data": {
      "application/vnd.jupyter.widget-view+json": {
       "model_id": "5780adad41fe43499a085527f3883976",
       "version_major": 2,
       "version_minor": 0
      },
      "text/plain": [
       "HBox(children=(FloatProgress(value=0.0, description='Epoch 41', max=11977.0, style=ProgressStyle(description_w…"
      ]
     },
     "metadata": {},
     "output_type": "display_data"
    },
    {
     "name": "stdout",
     "output_type": "stream",
     "text": [
      "Train loss: 3.8447/4.1847 ACC: 0.67855                                                                                                    \n",
      "Val loss: 3.8522 ACC: 0.66741                                                                                                    \n",
      "Set dropout to 0.8492 (prop=1.002,0.9998=1.001)\n",
      "\n"
     ]
    },
    {
     "data": {
      "application/vnd.jupyter.widget-view+json": {
       "model_id": "44cc472a957940a9b9c13737ae063817",
       "version_major": 2,
       "version_minor": 0
      },
      "text/plain": [
       "HBox(children=(FloatProgress(value=0.0, description='Epoch 42', max=11977.0, style=ProgressStyle(description_w…"
      ]
     },
     "metadata": {},
     "output_type": "display_data"
    },
    {
     "name": "stdout",
     "output_type": "stream",
     "text": [
      "Train loss: 3.8431/4.1828 ACC: 0.67987                                                                                                    \n",
      "Val loss: 3.8507 ACC: 0.66889                                                                                                    \n",
      "Set dropout to 0.85 (prop=1.002,1.0=1.001)\n",
      "New Best Val loss: 3.8507                                                                                                    \n",
      "\n"
     ]
    },
    {
     "data": {
      "application/vnd.jupyter.widget-view+json": {
       "model_id": "ebd2c8b80a834e5d9e301e7dc380a3d8",
       "version_major": 2,
       "version_minor": 0
      },
      "text/plain": [
       "HBox(children=(FloatProgress(value=0.0, description='Epoch 43', max=11977.0, style=ProgressStyle(description_w…"
      ]
     },
     "metadata": {},
     "output_type": "display_data"
    },
    {
     "name": "stdout",
     "output_type": "stream",
     "text": [
      "Train loss: 3.8425/3.8307 ACC: 0.68025                                                                                                    \n",
      "Val loss: 3.8512 ACC: 0.66815                                                                                                    \n",
      "Set dropout to 0.851 (prop=1.002,1.0=1.001)\n",
      "\n"
     ]
    },
    {
     "data": {
      "application/vnd.jupyter.widget-view+json": {
       "model_id": "75119785fe5a49baa806b3f087fe2885",
       "version_major": 2,
       "version_minor": 0
      },
      "text/plain": [
       "HBox(children=(FloatProgress(value=0.0, description='Epoch 44', max=11977.0, style=ProgressStyle(description_w…"
      ]
     },
     "metadata": {},
     "output_type": "display_data"
    },
    {
     "name": "stdout",
     "output_type": "stream",
     "text": [
      "Train loss: 3.8421/3.5188 ACC: 0.67903                                                                                                    \n",
      "Val loss: 3.8516 ACC: 0.66815                                                                                                    \n",
      "Set dropout to 0.852 (prop=1.002,1.0=1.001)\n",
      "\n"
     ]
    },
    {
     "data": {
      "application/vnd.jupyter.widget-view+json": {
       "model_id": "6e9ab751acb742e3a26bcb653e386258",
       "version_major": 2,
       "version_minor": 0
      },
      "text/plain": [
       "HBox(children=(FloatProgress(value=0.0, description='Epoch 45', max=11977.0, style=ProgressStyle(description_w…"
      ]
     },
     "metadata": {},
     "output_type": "display_data"
    },
    {
     "name": "stdout",
     "output_type": "stream",
     "text": [
      "Train loss: 3.8419/4.0972 ACC: 0.68175                                                                                                    \n",
      "Val loss: 3.8528 ACC: 0.66815                                                                                                    \n",
      "Set dropout to 0.8532 (prop=1.003,1.0=1.001)\n",
      "\n"
     ]
    },
    {
     "data": {
      "application/vnd.jupyter.widget-view+json": {
       "model_id": "aecc7c3914f2426d849bb470023f0d65",
       "version_major": 2,
       "version_minor": 0
      },
      "text/plain": [
       "HBox(children=(FloatProgress(value=0.0, description='Epoch 46', max=11977.0, style=ProgressStyle(description_w…"
      ]
     },
     "metadata": {},
     "output_type": "display_data"
    },
    {
     "name": "stdout",
     "output_type": "stream",
     "text": [
      "Train loss: 3.8446/4.1854 ACC: 0.67695                                                                                                    \n",
      "Val loss: 3.8518 ACC: 0.66815                                                                                                    \n",
      "Set dropout to 0.854 (prop=1.002,0.9997=1.001)\n",
      "\n"
     ]
    },
    {
     "data": {
      "application/vnd.jupyter.widget-view+json": {
       "model_id": "69a2dea184e54fdd87a02c0b65cf0190",
       "version_major": 2,
       "version_minor": 0
      },
      "text/plain": [
       "HBox(children=(FloatProgress(value=0.0, description='Epoch 47', max=11977.0, style=ProgressStyle(description_w…"
      ]
     },
     "metadata": {},
     "output_type": "display_data"
    },
    {
     "name": "stdout",
     "output_type": "stream",
     "text": [
      "Train loss: 3.8412/3.5187 ACC: 0.6795                                                                                                     \n",
      "Val loss: 3.8515 ACC: 0.66667                                                                                                    \n",
      "Set dropout to 0.8552 (prop=1.002,1.0=1.001)\n",
      "\n"
     ]
    },
    {
     "data": {
      "application/vnd.jupyter.widget-view+json": {
       "model_id": "368047b0c7fa44eebb18ff744f03dfc9",
       "version_major": 2,
       "version_minor": 0
      },
      "text/plain": [
       "HBox(children=(FloatProgress(value=0.0, description='Epoch 48', max=11977.0, style=ProgressStyle(description_w…"
      ]
     },
     "metadata": {},
     "output_type": "display_data"
    },
    {
     "name": "stdout",
     "output_type": "stream",
     "text": [
      "Train loss: 3.8416/4.0897 ACC: 0.68091                                                                                                    \n",
      "Val loss: 3.8511 ACC: 0.66889                                                                                                    \n",
      "Set dropout to 0.8563 (prop=1.002,1.0=1.001)\n",
      "\n"
     ]
    },
    {
     "data": {
      "application/vnd.jupyter.widget-view+json": {
       "model_id": "dba40567c46b46c1adac2a73891227e8",
       "version_major": 2,
       "version_minor": 0
      },
      "text/plain": [
       "HBox(children=(FloatProgress(value=0.0, description='Epoch 49', max=11977.0, style=ProgressStyle(description_w…"
      ]
     },
     "metadata": {},
     "output_type": "display_data"
    },
    {
     "name": "stdout",
     "output_type": "stream",
     "text": [
      "Train loss: 3.8481/4.1848 ACC: 0.6747                                                                                                     \n",
      "Val loss: 3.851 ACC: 0.66889                                                                                                     \n",
      "Set dropout to 0.8566 (prop=1.001,0.9994=1.0)\n",
      "\n"
     ]
    },
    {
     "data": {
      "application/vnd.jupyter.widget-view+json": {
       "model_id": "36a13c55bade4a529d7c14652a0c7699",
       "version_major": 2,
       "version_minor": 0
      },
      "text/plain": [
       "HBox(children=(FloatProgress(value=0.0, description='Epoch 50', max=11977.0, style=ProgressStyle(description_w…"
      ]
     },
     "metadata": {},
     "output_type": "display_data"
    },
    {
     "name": "stdout",
     "output_type": "stream",
     "text": [
      "Train loss: 3.8425/3.5191 ACC: 0.67855                                                                                                    \n",
      "Val loss: 3.8513 ACC: 0.66963                                                                                                    \n",
      "Set dropout to 0.8576 (prop=1.002,1.0=1.001)\n",
      "\n"
     ]
    },
    {
     "data": {
      "application/vnd.jupyter.widget-view+json": {
       "model_id": "5f141cda9588454da00d8a08d352b201",
       "version_major": 2,
       "version_minor": 0
      },
      "text/plain": [
       "HBox(children=(FloatProgress(value=0.0, description='Epoch 51', max=11977.0, style=ProgressStyle(description_w…"
      ]
     },
     "metadata": {},
     "output_type": "display_data"
    },
    {
     "name": "stdout",
     "output_type": "stream",
     "text": [
      "Train loss: 3.8444/4.183 ACC: 0.67855                                                                                                     \n",
      "Val loss: 3.8519 ACC: 0.66667                                                                                                    \n",
      "Set dropout to 0.8584 (prop=1.002,0.9999=1.001)\n",
      "\n"
     ]
    },
    {
     "data": {
      "application/vnd.jupyter.widget-view+json": {
       "model_id": "96e53192a42e422195cde131b647b87f",
       "version_major": 2,
       "version_minor": 0
      },
      "text/plain": [
       "HBox(children=(FloatProgress(value=0.0, description='Epoch 52', max=11977.0, style=ProgressStyle(description_w…"
      ]
     },
     "metadata": {},
     "output_type": "display_data"
    },
    {
     "name": "stdout",
     "output_type": "stream",
     "text": [
      "Train loss: 3.8434/3.852 ACC: 0.67865                                                                                                     \n",
      "Val loss: 3.85 ACC: 0.67037                                                                                                      \n",
      "Set dropout to 0.8591 (prop=1.002,1.0=1.001)\n",
      "New Best Val loss: 3.85                                                                                                    \n",
      "\n"
     ]
    },
    {
     "data": {
      "application/vnd.jupyter.widget-view+json": {
       "model_id": "0d9686194bab42d5915ce685ba3ecce5",
       "version_major": 2,
       "version_minor": 0
      },
      "text/plain": [
       "HBox(children=(FloatProgress(value=0.0, description='Epoch 53', max=11977.0, style=ProgressStyle(description_w…"
      ]
     },
     "metadata": {},
     "output_type": "display_data"
    },
    {
     "name": "stdout",
     "output_type": "stream",
     "text": [
      "Train loss: 3.8442/4.1853 ACC: 0.67855                                                                                                    \n",
      "Val loss: 3.8507 ACC: 0.66815                                                                                                    \n",
      "Set dropout to 0.8599 (prop=1.002,0.9999=1.001)\n",
      "\n"
     ]
    },
    {
     "data": {
      "application/vnd.jupyter.widget-view+json": {
       "model_id": "17b824a3fb7e40869a70ba331efc1c34",
       "version_major": 2,
       "version_minor": 0
      },
      "text/plain": [
       "HBox(children=(FloatProgress(value=0.0, description='Epoch 54', max=11977.0, style=ProgressStyle(description_w…"
      ]
     },
     "metadata": {},
     "output_type": "display_data"
    },
    {
     "name": "stdout",
     "output_type": "stream",
     "text": [
      "Train loss: 3.8423/3.5187 ACC: 0.67771                                                                                                    \n",
      "Val loss: 3.8511 ACC: 0.66815                                                                                                    \n",
      "Set dropout to 0.8608 (prop=1.002,1.0=1.001)\n",
      "\n"
     ]
    },
    {
     "data": {
      "application/vnd.jupyter.widget-view+json": {
       "model_id": "5835a7e379564db1adeb299843aa2b86",
       "version_major": 2,
       "version_minor": 0
      },
      "text/plain": [
       "HBox(children=(FloatProgress(value=0.0, description='Epoch 55', max=11977.0, style=ProgressStyle(description_w…"
      ]
     },
     "metadata": {},
     "output_type": "display_data"
    },
    {
     "name": "stdout",
     "output_type": "stream",
     "text": [
      "Train loss: 3.8501/4.1836 ACC: 0.6714                                                                                                     \n",
      "Val loss: 3.8507 ACC: 0.66963                                                                                                    \n",
      "Set dropout to 0.8609 (prop=1.001,0.9993=1.0)\n",
      "\n"
     ]
    },
    {
     "data": {
      "application/vnd.jupyter.widget-view+json": {
       "model_id": "e95648715b584480902b6942905cd354",
       "version_major": 2,
       "version_minor": 0
      },
      "text/plain": [
       "HBox(children=(FloatProgress(value=0.0, description='Epoch 56', max=11977.0, style=ProgressStyle(description_w…"
      ]
     },
     "metadata": {},
     "output_type": "display_data"
    },
    {
     "name": "stdout",
     "output_type": "stream",
     "text": [
      "Train loss: 3.8476/4.1851 ACC: 0.67479                                                                                                    \n",
      "Val loss: 3.851 ACC: 0.66815                                                                                                     \n",
      "Set dropout to 0.8613 (prop=1.001,1.0=1.0)\n",
      "\n"
     ]
    },
    {
     "data": {
      "application/vnd.jupyter.widget-view+json": {
       "model_id": "50e4f28cba9841499310582faaac3742",
       "version_major": 2,
       "version_minor": 0
      },
      "text/plain": [
       "HBox(children=(FloatProgress(value=0.0, description='Epoch 57', max=11977.0, style=ProgressStyle(description_w…"
      ]
     },
     "metadata": {},
     "output_type": "display_data"
    },
    {
     "name": "stdout",
     "output_type": "stream",
     "text": [
      "Train loss: 3.8459/3.5187 ACC: 0.67441                                                                                                    \n",
      "Val loss: 3.8503 ACC: 0.66815                                                                                                    \n",
      "Set dropout to 0.8618 (prop=1.001,1.0=1.001)\n",
      "\n"
     ]
    },
    {
     "data": {
      "application/vnd.jupyter.widget-view+json": {
       "model_id": "d7d390df4fec477c8f93642e779310f7",
       "version_major": 2,
       "version_minor": 0
      },
      "text/plain": [
       "HBox(children=(FloatProgress(value=0.0, description='Epoch 58', max=11977.0, style=ProgressStyle(description_w…"
      ]
     },
     "metadata": {},
     "output_type": "display_data"
    },
    {
     "name": "stdout",
     "output_type": "stream",
     "text": [
      "Train loss: 3.8436/4.1427 ACC: 0.6794                                                                                                     \n",
      "Val loss: 3.85 ACC: 0.67111                                                                                                      \n",
      "Set dropout to 0.8625 (prop=1.001,1.0=1.001)\n",
      "\n"
     ]
    },
    {
     "data": {
      "application/vnd.jupyter.widget-view+json": {
       "model_id": "a8f0c7aed7c3417cb9f65ee1eebd7add",
       "version_major": 2,
       "version_minor": 0
      },
      "text/plain": [
       "HBox(children=(FloatProgress(value=0.0, description='Epoch 59', max=11977.0, style=ProgressStyle(description_w…"
      ]
     },
     "metadata": {},
     "output_type": "display_data"
    },
    {
     "name": "stdout",
     "output_type": "stream",
     "text": [
      "Train loss: 3.8441/3.5187 ACC: 0.67564                                                                                                    \n",
      "Val loss: 3.8496 ACC: 0.67037                                                                                                    \n",
      "Set dropout to 0.8631 (prop=1.001,1.0=1.001)\n",
      "New Best Val loss: 3.8496                                                                                                    \n",
      "\n"
     ]
    },
    {
     "data": {
      "application/vnd.jupyter.widget-view+json": {
       "model_id": "1b74345261014fe496b8ef0dc4bf9fea",
       "version_major": 2,
       "version_minor": 0
      },
      "text/plain": [
       "HBox(children=(FloatProgress(value=0.0, description='Epoch 60', max=11977.0, style=ProgressStyle(description_w…"
      ]
     },
     "metadata": {},
     "output_type": "display_data"
    },
    {
     "name": "stdout",
     "output_type": "stream",
     "text": [
      "Train loss: 3.8435/4.1826 ACC: 0.67884                                                                                                    \n",
      "Val loss: 3.8501 ACC: 0.66963                                                                                                    \n",
      "Set dropout to 0.8638 (prop=1.002,1.0=1.001)\n",
      "\n"
     ]
    },
    {
     "data": {
      "application/vnd.jupyter.widget-view+json": {
       "model_id": "a898a35a8872428ebc56feb767109240",
       "version_major": 2,
       "version_minor": 0
      },
      "text/plain": [
       "HBox(children=(FloatProgress(value=0.0, description='Epoch 61', max=11977.0, style=ProgressStyle(description_w…"
      ]
     },
     "metadata": {},
     "output_type": "display_data"
    },
    {
     "name": "stdout",
     "output_type": "stream",
     "text": [
      "Train loss: 3.8443/3.8522 ACC: 0.6779                                                                                                     \n",
      "Val loss: 3.8498 ACC: 0.66963                                                                                                    \n",
      "Set dropout to 0.8644 (prop=1.001,1.0=1.001)\n",
      "\n"
     ]
    },
    {
     "data": {
      "application/vnd.jupyter.widget-view+json": {
       "model_id": "7568625acef74a598c7045049fc29231",
       "version_major": 2,
       "version_minor": 0
      },
      "text/plain": [
       "HBox(children=(FloatProgress(value=0.0, description='Epoch 62', max=11977.0, style=ProgressStyle(description_w…"
      ]
     },
     "metadata": {},
     "output_type": "display_data"
    },
    {
     "name": "stdout",
     "output_type": "stream",
     "text": [
      "Train loss: 3.8503/4.1853 ACC: 0.67234                                                                                                    \n",
      "Val loss: 3.8499 ACC: 0.66963                                                                                                    \n",
      "Set dropout to 0.8644 (prop=1.001,0.9994=0.9999)\n",
      "\n"
     ]
    },
    {
     "data": {
      "application/vnd.jupyter.widget-view+json": {
       "model_id": "ccbe9d4aea764e6f824cb6311d4cd2df",
       "version_major": 2,
       "version_minor": 0
      },
      "text/plain": [
       "HBox(children=(FloatProgress(value=0.0, description='Epoch 63', max=11977.0, style=ProgressStyle(description_w…"
      ]
     },
     "metadata": {},
     "output_type": "display_data"
    },
    {
     "name": "stdout",
     "output_type": "stream",
     "text": [
      "Train loss: 3.8446/3.5187 ACC: 0.67554                                                                                                    \n",
      "Val loss: 3.8492 ACC: 0.67185                                                                                                    \n",
      "Set dropout to 0.8649 (prop=1.001,1.0=1.001)\n",
      "New Best Val loss: 3.8492                                                                                                    \n",
      "\n"
     ]
    },
    {
     "data": {
      "application/vnd.jupyter.widget-view+json": {
       "model_id": "c78341d9239547c6805ad56af85c9036",
       "version_major": 2,
       "version_minor": 0
      },
      "text/plain": [
       "HBox(children=(FloatProgress(value=0.0, description='Epoch 64', max=11977.0, style=ProgressStyle(description_w…"
      ]
     },
     "metadata": {},
     "output_type": "display_data"
    },
    {
     "name": "stdout",
     "output_type": "stream",
     "text": [
      "Train loss: 3.8472/3.5187 ACC: 0.673                                                                                                      \n",
      "Val loss: 3.8484 ACC: 0.67333                                                                                                    \n",
      "Set dropout to 0.8651 (prop=1.0,0.9999=1.0)\n",
      "New Best Val loss: 3.8484                                                                                                    \n",
      "\n"
     ]
    },
    {
     "data": {
      "application/vnd.jupyter.widget-view+json": {
       "model_id": "7589fa9b50ae497981fc26e9c2e351ff",
       "version_major": 2,
       "version_minor": 0
      },
      "text/plain": [
       "HBox(children=(FloatProgress(value=0.0, description='Epoch 65', max=11977.0, style=ProgressStyle(description_w…"
      ]
     },
     "metadata": {},
     "output_type": "display_data"
    },
    {
     "name": "stdout",
     "output_type": "stream",
     "text": [
      "Train loss: 3.8434/3.8512 ACC: 0.67837                                                                                                    \n",
      "Val loss: 3.8494 ACC: 0.67185                                                                                                    \n",
      "Set dropout to 0.8657 (prop=1.001,1.0=1.001)\n",
      "\n"
     ]
    },
    {
     "data": {
      "application/vnd.jupyter.widget-view+json": {
       "model_id": "733f3a52e5d441df83f1616217cfad18",
       "version_major": 2,
       "version_minor": 0
      },
      "text/plain": [
       "HBox(children=(FloatProgress(value=0.0, description='Epoch 66', max=11977.0, style=ProgressStyle(description_w…"
      ]
     },
     "metadata": {},
     "output_type": "display_data"
    },
    {
     "name": "stdout",
     "output_type": "stream",
     "text": [
      "Train loss: 3.8473/4.1855 ACC: 0.67611                                                                                                    \n",
      "Val loss: 3.8485 ACC: 0.67185                                                                                                    \n",
      "Set dropout to 0.8659 (prop=1.001,0.9997=1.0)\n",
      "\n"
     ]
    },
    {
     "data": {
      "application/vnd.jupyter.widget-view+json": {
       "model_id": "7070dc28ed004c52aeb5ebc9c7cd50c6",
       "version_major": 2,
       "version_minor": 0
      },
      "text/plain": [
       "HBox(children=(FloatProgress(value=0.0, description='Epoch 67', max=11977.0, style=ProgressStyle(description_w…"
      ]
     },
     "metadata": {},
     "output_type": "display_data"
    },
    {
     "name": "stdout",
     "output_type": "stream",
     "text": [
      "Train loss: 3.8455/3.5187 ACC: 0.67498                                                                                                    \n",
      "Val loss: 3.8489 ACC: 0.67111                                                                                                    \n",
      "Set dropout to 0.8662 (prop=1.001,1.0=1.0)\n",
      "\n"
     ]
    },
    {
     "data": {
      "application/vnd.jupyter.widget-view+json": {
       "model_id": "44d1786be94f4557bbfb38d480acd879",
       "version_major": 2,
       "version_minor": 0
      },
      "text/plain": [
       "HBox(children=(FloatProgress(value=0.0, description='Epoch 68', max=11977.0, style=ProgressStyle(description_w…"
      ]
     },
     "metadata": {},
     "output_type": "display_data"
    },
    {
     "name": "stdout",
     "output_type": "stream",
     "text": [
      "Train loss: 3.8448/3.8521 ACC: 0.67705                                                                                                    \n",
      "Val loss: 3.849 ACC: 0.67185                                                                                                     \n",
      "Set dropout to 0.8667 (prop=1.001,1.0=1.001)\n",
      "\n"
     ]
    },
    {
     "data": {
      "application/vnd.jupyter.widget-view+json": {
       "model_id": "1980553b34a9475d98c0b1a6fe7b2f02",
       "version_major": 2,
       "version_minor": 0
      },
      "text/plain": [
       "HBox(children=(FloatProgress(value=0.0, description='Epoch 69', max=11977.0, style=ProgressStyle(description_w…"
      ]
     },
     "metadata": {},
     "output_type": "display_data"
    },
    {
     "name": "stdout",
     "output_type": "stream",
     "text": [
      "Train loss: 3.8446/3.87 ACC: 0.67724                                                                                                      \n",
      "Val loss: 3.8472 ACC: 0.67259                                                                                                    \n",
      "Set dropout to 0.867 (prop=1.001,1.0=1.0)\n",
      "New Best Val loss: 3.8472                                                                                                    \n",
      "\n"
     ]
    },
    {
     "data": {
      "application/vnd.jupyter.widget-view+json": {
       "model_id": "f55651a64d7d421f8d5f8b72f98f2360",
       "version_major": 2,
       "version_minor": 0
      },
      "text/plain": [
       "HBox(children=(FloatProgress(value=0.0, description='Epoch 70', max=11977.0, style=ProgressStyle(description_w…"
      ]
     },
     "metadata": {},
     "output_type": "display_data"
    },
    {
     "name": "stdout",
     "output_type": "stream",
     "text": [
      "Train loss: 3.8468/4.1673 ACC: 0.67677                                                                                                    \n",
      "Val loss: 3.8467 ACC: 0.67259                                                                                                    \n",
      "Set dropout to 0.867 (prop=1.0,0.9998=1.0)\n",
      "New Best Val loss: 3.8467                                                                                                    \n",
      "\n"
     ]
    },
    {
     "data": {
      "application/vnd.jupyter.widget-view+json": {
       "model_id": "5d9ef610479c429aa9dd218737b28dff",
       "version_major": 2,
       "version_minor": 0
      },
      "text/plain": [
       "HBox(children=(FloatProgress(value=0.0, description='Epoch 71', max=11977.0, style=ProgressStyle(description_w…"
      ]
     },
     "metadata": {},
     "output_type": "display_data"
    },
    {
     "name": "stdout",
     "output_type": "stream",
     "text": [
      "Train loss: 3.8459/4.1836 ACC: 0.67536                                                                                                    \n",
      "Val loss: 3.8461 ACC: 0.67259                                                                                                    \n",
      "Set dropout to 0.867 (prop=1.0,1.0=1.0)\n",
      "New Best Val loss: 3.8461                                                                                                    \n",
      "\n"
     ]
    },
    {
     "data": {
      "application/vnd.jupyter.widget-view+json": {
       "model_id": "afc13e1cf23a447797ffb2afc2957349",
       "version_major": 2,
       "version_minor": 0
      },
      "text/plain": [
       "HBox(children=(FloatProgress(value=0.0, description='Epoch 72', max=11977.0, style=ProgressStyle(description_w…"
      ]
     },
     "metadata": {},
     "output_type": "display_data"
    },
    {
     "name": "stdout",
     "output_type": "stream",
     "text": [
      "Train loss: 3.8414/4.1929 ACC: 0.6811                                                                                                     \n",
      "Val loss: 3.8469 ACC: 0.67185                                                                                                    \n",
      "Set dropout to 0.8677 (prop=1.001,1.0=1.001)\n",
      "\n"
     ]
    },
    {
     "data": {
      "application/vnd.jupyter.widget-view+json": {
       "model_id": "52a62a22b1744198a4604a32ed9b4ed2",
       "version_major": 2,
       "version_minor": 0
      },
      "text/plain": [
       "HBox(children=(FloatProgress(value=0.0, description='Epoch 73', max=11977.0, style=ProgressStyle(description_w…"
      ]
     },
     "metadata": {},
     "output_type": "display_data"
    },
    {
     "name": "stdout",
     "output_type": "stream",
     "text": [
      "Train loss: 3.8443/3.8506 ACC: 0.67695                                                                                                    \n",
      "Val loss: 3.846 ACC: 0.67333                                                                                                     \n",
      "Set dropout to 0.8678 (prop=1.001,0.9999=1.0)\n",
      "New Best Val loss: 3.846                                                                                                    \n",
      "\n"
     ]
    },
    {
     "data": {
      "application/vnd.jupyter.widget-view+json": {
       "model_id": "63cc78f6da504c9983070e71d019db5a",
       "version_major": 2,
       "version_minor": 0
      },
      "text/plain": [
       "HBox(children=(FloatProgress(value=0.0, description='Epoch 74', max=11977.0, style=ProgressStyle(description_w…"
      ]
     },
     "metadata": {},
     "output_type": "display_data"
    },
    {
     "name": "stdout",
     "output_type": "stream",
     "text": [
      "Train loss: 3.8439/3.8521 ACC: 0.6778                                                                                                     \n",
      "Val loss: 3.847 ACC: 0.67037                                                                                                     \n",
      "Set dropout to 0.8682 (prop=1.001,1.0=1.0)\n",
      "\n"
     ]
    },
    {
     "data": {
      "application/vnd.jupyter.widget-view+json": {
       "model_id": "326969cb770242faafeb4b7fe8e5e216",
       "version_major": 2,
       "version_minor": 0
      },
      "text/plain": [
       "HBox(children=(FloatProgress(value=0.0, description='Epoch 75', max=11977.0, style=ProgressStyle(description_w…"
      ]
     },
     "metadata": {},
     "output_type": "display_data"
    },
    {
     "name": "stdout",
     "output_type": "stream",
     "text": [
      "Train loss: 3.8426/3.5187 ACC: 0.6778                                                                                                     \n",
      "Val loss: 3.8476 ACC: 0.66963                                                                                                    \n",
      "Set dropout to 0.8687 (prop=1.001,1.0=1.001)\n",
      "\n"
     ]
    },
    {
     "data": {
      "application/vnd.jupyter.widget-view+json": {
       "model_id": "ad4da4b871084502b81eb25162ea9b81",
       "version_major": 2,
       "version_minor": 0
      },
      "text/plain": [
       "HBox(children=(FloatProgress(value=0.0, description='Epoch 76', max=11977.0, style=ProgressStyle(description_w…"
      ]
     },
     "metadata": {},
     "output_type": "display_data"
    },
    {
     "name": "stdout",
     "output_type": "stream",
     "text": [
      "Train loss: 3.8454/3.5187 ACC: 0.67451                                                                                                    \n",
      "Val loss: 3.8468 ACC: 0.67259                                                                                                    \n",
      "Set dropout to 0.8689 (prop=1.001,0.9998=1.0)\n",
      "\n"
     ]
    },
    {
     "data": {
      "application/vnd.jupyter.widget-view+json": {
       "model_id": "8150e4b2280e4ceba17cfe0355d91ef2",
       "version_major": 2,
       "version_minor": 0
      },
      "text/plain": [
       "HBox(children=(FloatProgress(value=0.0, description='Epoch 77', max=11977.0, style=ProgressStyle(description_w…"
      ]
     },
     "metadata": {},
     "output_type": "display_data"
    },
    {
     "name": "stdout",
     "output_type": "stream",
     "text": [
      "Train loss: 3.8468/3.8516 ACC: 0.6747                                                                                                     \n",
      "Val loss: 3.8475 ACC: 0.67185                                                                                                    \n",
      "Set dropout to 0.869 (prop=1.0,0.9998=1.0)\n",
      "\n"
     ]
    },
    {
     "data": {
      "application/vnd.jupyter.widget-view+json": {
       "model_id": "9de1ef8b29cc40b4bcc8626a8208058c",
       "version_major": 2,
       "version_minor": 0
      },
      "text/plain": [
       "HBox(children=(FloatProgress(value=0.0, description='Epoch 78', max=11977.0, style=ProgressStyle(description_w…"
      ]
     },
     "metadata": {},
     "output_type": "display_data"
    },
    {
     "name": "stdout",
     "output_type": "stream",
     "text": [
      "Train loss: 3.8439/3.8514 ACC: 0.67714                                                                                                    \n",
      "Val loss: 3.8464 ACC: 0.67481                                                                                                    \n",
      "Set dropout to 0.8693 (prop=1.0,1.0=1.0)\n",
      "\n"
     ]
    },
    {
     "data": {
      "application/vnd.jupyter.widget-view+json": {
       "model_id": "4f50b426e7304dd58bd67acda0bc12bf",
       "version_major": 2,
       "version_minor": 0
      },
      "text/plain": [
       "HBox(children=(FloatProgress(value=0.0, description='Epoch 79', max=11977.0, style=ProgressStyle(description_w…"
      ]
     },
     "metadata": {},
     "output_type": "display_data"
    },
    {
     "name": "stdout",
     "output_type": "stream",
     "text": [
      "Train loss: 3.8433/3.8516 ACC: 0.67799                                                                                                    \n",
      "Val loss: 3.8462 ACC: 0.67407                                                                                                    \n",
      "Set dropout to 0.8696 (prop=1.001,1.0=1.0)\n",
      "\n"
     ]
    },
    {
     "data": {
      "application/vnd.jupyter.widget-view+json": {
       "model_id": "5ae68c913b514d39a8fb30b5f0325e47",
       "version_major": 2,
       "version_minor": 0
      },
      "text/plain": [
       "HBox(children=(FloatProgress(value=0.0, description='Epoch 80', max=11977.0, style=ProgressStyle(description_w…"
      ]
     },
     "metadata": {},
     "output_type": "display_data"
    },
    {
     "name": "stdout",
     "output_type": "stream",
     "text": [
      "Train loss: 3.842/3.5189 ACC: 0.67903                                                                                                     \n",
      "Val loss: 3.847 ACC: 0.67111                                                                                                     \n",
      "Set dropout to 0.8701 (prop=1.001,1.0=1.001)\n",
      "\n"
     ]
    },
    {
     "data": {
      "application/vnd.jupyter.widget-view+json": {
       "model_id": "6e4ed8648b5e4452856a002f058077d4",
       "version_major": 2,
       "version_minor": 0
      },
      "text/plain": [
       "HBox(children=(FloatProgress(value=0.0, description='Epoch 81', max=11977.0, style=ProgressStyle(description_w…"
      ]
     },
     "metadata": {},
     "output_type": "display_data"
    },
    {
     "name": "stdout",
     "output_type": "stream",
     "text": [
      "Train loss: 3.8475/3.851 ACC: 0.67423                                                                                                     \n",
      "Val loss: 3.8468 ACC: 0.67111                                                                                                    \n",
      "Set dropout to 0.8701 (prop=1.0,0.9995=0.9999)\n",
      "\n"
     ]
    },
    {
     "data": {
      "application/vnd.jupyter.widget-view+json": {
       "model_id": "4dc477378b094b4ca57f20112edd03de",
       "version_major": 2,
       "version_minor": 0
      },
      "text/plain": [
       "HBox(children=(FloatProgress(value=0.0, description='Epoch 82', max=11977.0, style=ProgressStyle(description_w…"
      ]
     },
     "metadata": {},
     "output_type": "display_data"
    },
    {
     "name": "stdout",
     "output_type": "stream",
     "text": [
      "Train loss: 3.8438/3.8524 ACC: 0.67761                                                                                                    \n",
      "Epoch    82: reducing learning rate of group 0 to 5.7000e-03.                                                                    \n",
      "\n",
      "Set dropout to 0.8703 (prop=1.0,1.0=1.0)\n",
      "\n"
     ]
    },
    {
     "data": {
      "application/vnd.jupyter.widget-view+json": {
       "model_id": "0bb0085f854a4056a16b84d1fcb60dda",
       "version_major": 2,
       "version_minor": 0
      },
      "text/plain": [
       "HBox(children=(FloatProgress(value=0.0, description='Epoch 83', max=11977.0, style=ProgressStyle(description_w…"
      ]
     },
     "metadata": {},
     "output_type": "display_data"
    },
    {
     "name": "stdout",
     "output_type": "stream",
     "text": [
      "Train loss: 3.8449/3.5241 ACC: 0.6762                                                                                                     \n",
      "Val loss: 3.8464 ACC: 0.67407                                                                                                    \n",
      "Set dropout to 0.8705 (prop=1.0,1.0=1.0)\n",
      "\n"
     ]
    },
    {
     "data": {
      "application/vnd.jupyter.widget-view+json": {
       "model_id": "86b38ea248b748979fec472cf9c73995",
       "version_major": 2,
       "version_minor": 0
      },
      "text/plain": [
       "HBox(children=(FloatProgress(value=0.0, description='Epoch 84', max=11977.0, style=ProgressStyle(description_w…"
      ]
     },
     "metadata": {},
     "output_type": "display_data"
    },
    {
     "name": "stdout",
     "output_type": "stream",
     "text": [
      "Train loss: 3.848/3.5187 ACC: 0.6715                                                                                                      \n",
      "Val loss: 3.8473 ACC: 0.67111                                                                                                    \n",
      "Set dropout to 0.8704 (prop=1.0,0.9997=0.9999)\n",
      "\n"
     ]
    },
    {
     "data": {
      "application/vnd.jupyter.widget-view+json": {
       "model_id": "f4d4ec55c3cd4c38a468cdbe33e0cc4c",
       "version_major": 2,
       "version_minor": 0
      },
      "text/plain": [
       "HBox(children=(FloatProgress(value=0.0, description='Epoch 85', max=11977.0, style=ProgressStyle(description_w…"
      ]
     },
     "metadata": {},
     "output_type": "display_data"
    },
    {
     "name": "stdout",
     "output_type": "stream",
     "text": [
      "Train loss: 3.846/3.5187 ACC: 0.67611                                                                                                     \n",
      "Val loss: 3.8465 ACC: 0.67259                                                                                                    \n",
      "Set dropout to 0.8705 (prop=1.0,1.0=1.0)\n",
      "\n"
     ]
    },
    {
     "data": {
      "application/vnd.jupyter.widget-view+json": {
       "model_id": "041aa1a122f047f29b4ea8652f6908c2",
       "version_major": 2,
       "version_minor": 0
      },
      "text/plain": [
       "HBox(children=(FloatProgress(value=0.0, description='Epoch 86', max=11977.0, style=ProgressStyle(description_w…"
      ]
     },
     "metadata": {},
     "output_type": "display_data"
    },
    {
     "name": "stdout",
     "output_type": "stream",
     "text": [
      "Train loss: 3.8446/3.8521 ACC: 0.67648                                                                                                    \n",
      "Val loss: 3.8465 ACC: 0.67259                                                                                                    \n",
      "Set dropout to 0.8707 (prop=1.0,1.0=1.0)\n",
      "\n"
     ]
    },
    {
     "data": {
      "application/vnd.jupyter.widget-view+json": {
       "model_id": "2f160caf11084313b45ef44c5cc35305",
       "version_major": 2,
       "version_minor": 0
      },
      "text/plain": [
       "HBox(children=(FloatProgress(value=0.0, description='Epoch 87', max=11977.0, style=ProgressStyle(description_w…"
      ]
     },
     "metadata": {},
     "output_type": "display_data"
    },
    {
     "name": "stdout",
     "output_type": "stream",
     "text": [
      "Train loss: 3.8442/3.85 ACC: 0.67695                                                                                                      \n",
      "Val loss: 3.8474 ACC: 0.67111                                                                                                    \n",
      "Set dropout to 0.871 (prop=1.001,1.0=1.0)\n",
      "\n"
     ]
    },
    {
     "data": {
      "application/vnd.jupyter.widget-view+json": {
       "model_id": "2c8c886d8ec24f0687f06456abd8f65c",
       "version_major": 2,
       "version_minor": 0
      },
      "text/plain": [
       "HBox(children=(FloatProgress(value=0.0, description='Epoch 88', max=11977.0, style=ProgressStyle(description_w…"
      ]
     },
     "metadata": {},
     "output_type": "display_data"
    },
    {
     "name": "stdout",
     "output_type": "stream",
     "text": [
      "Train loss: 3.8444/3.5187 ACC: 0.67573                                                                                                    \n",
      "Val loss: 3.8473 ACC: 0.67556                                                                                                    \n",
      "Set dropout to 0.8713 (prop=1.001,1.0=1.0)\n",
      "\n"
     ]
    },
    {
     "data": {
      "application/vnd.jupyter.widget-view+json": {
       "model_id": "ec3102c68d1a45709da4418af75c2437",
       "version_major": 2,
       "version_minor": 0
      },
      "text/plain": [
       "HBox(children=(FloatProgress(value=0.0, description='Epoch 89', max=11977.0, style=ProgressStyle(description_w…"
      ]
     },
     "metadata": {},
     "output_type": "display_data"
    },
    {
     "name": "stdout",
     "output_type": "stream",
     "text": [
      "Train loss: 3.8448/4.1833 ACC: 0.67761                                                                                                    \n",
      "Val loss: 3.8465 ACC: 0.67333                                                                                                    \n",
      "Set dropout to 0.8715 (prop=1.0,1.0=1.0)\n",
      "\n"
     ]
    },
    {
     "data": {
      "application/vnd.jupyter.widget-view+json": {
       "model_id": "17e9ecc4203847838105fab0da1f5fa0",
       "version_major": 2,
       "version_minor": 0
      },
      "text/plain": [
       "HBox(children=(FloatProgress(value=0.0, description='Epoch 90', max=11977.0, style=ProgressStyle(description_w…"
      ]
     },
     "metadata": {},
     "output_type": "display_data"
    },
    {
     "name": "stdout",
     "output_type": "stream",
     "text": [
      "Train loss: 3.8434/3.9056 ACC: 0.67912                                                                                                    \n",
      "Val loss: 3.8455 ACC: 0.67333                                                                                                    \n",
      "Set dropout to 0.8718 (prop=1.0,1.0=1.0)\n",
      "New Best Val loss: 3.8455                                                                                                    \n",
      "\n"
     ]
    },
    {
     "data": {
      "application/vnd.jupyter.widget-view+json": {
       "model_id": "064a630f8f6c426b97b71a4e0f41f5fa",
       "version_major": 2,
       "version_minor": 0
      },
      "text/plain": [
       "HBox(children=(FloatProgress(value=0.0, description='Epoch 91', max=11977.0, style=ProgressStyle(description_w…"
      ]
     },
     "metadata": {},
     "output_type": "display_data"
    },
    {
     "name": "stdout",
     "output_type": "stream",
     "text": [
      "Train loss: 3.8442/4.5174 ACC: 0.67884                                                                                                    \n",
      "Val loss: 3.8457 ACC: 0.67407                                                                                                    \n",
      "Set dropout to 0.872 (prop=1.0,1.0=1.0)\n",
      "\n"
     ]
    },
    {
     "data": {
      "application/vnd.jupyter.widget-view+json": {
       "model_id": "d2ae0fb61c4845e28372f5d2bb272924",
       "version_major": 2,
       "version_minor": 0
      },
      "text/plain": [
       "HBox(children=(FloatProgress(value=0.0, description='Epoch 92', max=11977.0, style=ProgressStyle(description_w…"
      ]
     },
     "metadata": {},
     "output_type": "display_data"
    },
    {
     "name": "stdout",
     "output_type": "stream",
     "text": [
      "Train loss: 3.843/3.5191 ACC: 0.6778                                                                                                      \n",
      "Val loss: 3.846 ACC: 0.67037                                                                                                     \n",
      "Set dropout to 0.8723 (prop=1.001,1.0=1.0)\n",
      "\n"
     ]
    },
    {
     "data": {
      "application/vnd.jupyter.widget-view+json": {
       "model_id": "419dd31170bb49cb8fccf2038b3ba887",
       "version_major": 2,
       "version_minor": 0
      },
      "text/plain": [
       "HBox(children=(FloatProgress(value=0.0, description='Epoch 93', max=11977.0, style=ProgressStyle(description_w…"
      ]
     },
     "metadata": {},
     "output_type": "display_data"
    },
    {
     "name": "stdout",
     "output_type": "stream",
     "text": [
      "Train loss: 3.8471/4.5176 ACC: 0.67677                                                                                                    \n",
      "Val loss: 3.8455 ACC: 0.67259                                                                                                    \n",
      "Set dropout to 0.8721 (prop=1.0,0.9996=0.9998)\n",
      "\n"
     ]
    },
    {
     "data": {
      "application/vnd.jupyter.widget-view+json": {
       "model_id": "143ce31abc574ef6a0447597eb843f5f",
       "version_major": 2,
       "version_minor": 0
      },
      "text/plain": [
       "HBox(children=(FloatProgress(value=0.0, description='Epoch 94', max=11977.0, style=ProgressStyle(description_w…"
      ]
     },
     "metadata": {},
     "output_type": "display_data"
    },
    {
     "name": "stdout",
     "output_type": "stream",
     "text": [
      "Train loss: 3.8471/4.5181 ACC: 0.67611                                                                                                    \n",
      "Val loss: 3.8457 ACC: 0.67259                                                                                                    \n",
      "Set dropout to 0.872 (prop=0.9998,0.9998=0.9998)\n",
      "\n"
     ]
    },
    {
     "data": {
      "application/vnd.jupyter.widget-view+json": {
       "model_id": "d4b0bf77afd749669ace4e0a83228b9f",
       "version_major": 2,
       "version_minor": 0
      },
      "text/plain": [
       "HBox(children=(FloatProgress(value=0.0, description='Epoch 95', max=11977.0, style=ProgressStyle(description_w…"
      ]
     },
     "metadata": {},
     "output_type": "display_data"
    },
    {
     "name": "stdout",
     "output_type": "stream",
     "text": [
      "Train loss: 3.8451/4.1854 ACC: 0.67771                                                                                                    \n",
      "Val loss: 3.8461 ACC: 0.67481                                                                                                    \n",
      "Set dropout to 0.8721 (prop=1.0,1.0=1.0)\n",
      "\n"
     ]
    },
    {
     "data": {
      "application/vnd.jupyter.widget-view+json": {
       "model_id": "0271d05d1ca14a45a6258c33c086756d",
       "version_major": 2,
       "version_minor": 0
      },
      "text/plain": [
       "HBox(children=(FloatProgress(value=0.0, description='Epoch 96', max=11977.0, style=ProgressStyle(description_w…"
      ]
     },
     "metadata": {},
     "output_type": "display_data"
    },
    {
     "name": "stdout",
     "output_type": "stream",
     "text": [
      "Train loss: 3.844/3.8476 ACC: 0.67677                                                                                                     \n",
      "Val loss: 3.8453 ACC: 0.67407                                                                                                    \n",
      "Set dropout to 0.8722 (prop=1.0,1.0=1.0)\n",
      "New Best Val loss: 3.8453                                                                                                    \n",
      "\n"
     ]
    },
    {
     "data": {
      "application/vnd.jupyter.widget-view+json": {
       "model_id": "7527cbc42b1543daafe8af4de5679ddd",
       "version_major": 2,
       "version_minor": 0
      },
      "text/plain": [
       "HBox(children=(FloatProgress(value=0.0, description='Epoch 97', max=11977.0, style=ProgressStyle(description_w…"
      ]
     },
     "metadata": {},
     "output_type": "display_data"
    },
    {
     "name": "stdout",
     "output_type": "stream",
     "text": [
      "Train loss: 3.8416/3.5187 ACC: 0.6794                                                                                                     \n",
      "Val loss: 3.8462 ACC: 0.67333                                                                                                    \n",
      "Set dropout to 0.8727 (prop=1.001,1.0=1.001)\n",
      "\n"
     ]
    },
    {
     "data": {
      "application/vnd.jupyter.widget-view+json": {
       "model_id": "786e33146b1f4dbbabc88d04783b00ae",
       "version_major": 2,
       "version_minor": 0
      },
      "text/plain": [
       "HBox(children=(FloatProgress(value=0.0, description='Epoch 98', max=11977.0, style=ProgressStyle(description_w…"
      ]
     },
     "metadata": {},
     "output_type": "display_data"
    },
    {
     "name": "stdout",
     "output_type": "stream",
     "text": [
      "Train loss: 3.8396/3.5187 ACC: 0.68157                                                                                                    \n",
      "Val loss: 3.8451 ACC: 0.67333                                                                                                    \n",
      "Set dropout to 0.8734 (prop=1.001,1.0=1.001)\n",
      "New Best Val loss: 3.8451                                                                                                    \n",
      "\n"
     ]
    },
    {
     "data": {
      "application/vnd.jupyter.widget-view+json": {
       "model_id": "b95fef2f99364f93b34bcfa1d939b072",
       "version_major": 2,
       "version_minor": 0
      },
      "text/plain": [
       "HBox(children=(FloatProgress(value=0.0, description='Epoch 99', max=11977.0, style=ProgressStyle(description_w…"
      ]
     },
     "metadata": {},
     "output_type": "display_data"
    },
    {
     "name": "stdout",
     "output_type": "stream",
     "text": [
      "Train loss: 3.8421/3.85 ACC: 0.68015                                                                                                      \n",
      "Val loss: 3.8441 ACC: 0.67556                                                                                                    \n",
      "Set dropout to 0.8736 (prop=1.001,0.9999=1.0)\n",
      "New Best Val loss: 3.8441                                                                                                    \n",
      "\n"
     ]
    },
    {
     "data": {
      "application/vnd.jupyter.widget-view+json": {
       "model_id": "3c57733d52ff4c5e92835d53384c318a",
       "version_major": 2,
       "version_minor": 0
      },
      "text/plain": [
       "HBox(children=(FloatProgress(value=0.0, description='Epoch 100', max=11977.0, style=ProgressStyle(description_…"
      ]
     },
     "metadata": {},
     "output_type": "display_data"
    },
    {
     "name": "stdout",
     "output_type": "stream",
     "text": [
      "Train loss: 3.8437/3.8516 ACC: 0.67912                                                                                                    \n",
      "Val loss: 3.8443 ACC: 0.67185                                                                                                    \n",
      "Set dropout to 0.8737 (prop=1.0,0.9998=1.0)\n",
      "\n"
     ]
    },
    {
     "data": {
      "application/vnd.jupyter.widget-view+json": {
       "model_id": "1dc76a21590c430ab3bdfbf3f3c4368f",
       "version_major": 2,
       "version_minor": 0
      },
      "text/plain": [
       "HBox(children=(FloatProgress(value=0.0, description='Epoch 101', max=11977.0, style=ProgressStyle(description_…"
      ]
     },
     "metadata": {},
     "output_type": "display_data"
    },
    {
     "name": "stdout",
     "output_type": "stream",
     "text": [
      "Train loss: 3.8473/4.1792 ACC: 0.67385                                                                                                    \n",
      "Val loss: 3.8428 ACC: 0.67481                                                                                                    \n",
      "Set dropout to 0.8732 (prop=0.9993,0.9995=0.9994)\n",
      "New Best Val loss: 3.8428                                                                                                    \n",
      "\n"
     ]
    },
    {
     "data": {
      "application/vnd.jupyter.widget-view+json": {
       "model_id": "8261793958744058affda916a4ccb09e",
       "version_major": 2,
       "version_minor": 0
      },
      "text/plain": [
       "HBox(children=(FloatProgress(value=0.0, description='Epoch 102', max=11977.0, style=ProgressStyle(description_…"
      ]
     },
     "metadata": {},
     "output_type": "display_data"
    },
    {
     "name": "stdout",
     "output_type": "stream",
     "text": [
      "Train loss: 3.8437/3.7796 ACC: 0.6778                                                                                                     \n",
      "Val loss: 3.843 ACC: 0.67481                                                                                                     \n",
      "Set dropout to 0.8731 (prop=0.9996,1.0=0.9999)\n",
      "\n"
     ]
    },
    {
     "data": {
      "application/vnd.jupyter.widget-view+json": {
       "model_id": "b61e648ddde84d118178de371da55187",
       "version_major": 2,
       "version_minor": 0
      },
      "text/plain": [
       "HBox(children=(FloatProgress(value=0.0, description='Epoch 103', max=11977.0, style=ProgressStyle(description_…"
      ]
     },
     "metadata": {},
     "output_type": "display_data"
    },
    {
     "name": "stdout",
     "output_type": "stream",
     "text": [
      "Train loss: 3.841/4.4665 ACC: 0.68204                                                                                                     \n",
      "Val loss: 3.8428 ACC: 0.67852                                                                                                    \n",
      "Set dropout to 0.8733 (prop=1.0,1.0=1.0)\n",
      "\n"
     ]
    },
    {
     "data": {
      "application/vnd.jupyter.widget-view+json": {
       "model_id": "47a4b027349847289fb673b643f8218f",
       "version_major": 2,
       "version_minor": 0
      },
      "text/plain": [
       "HBox(children=(FloatProgress(value=0.0, description='Epoch 104', max=11977.0, style=ProgressStyle(description_…"
      ]
     },
     "metadata": {},
     "output_type": "display_data"
    },
    {
     "name": "stdout",
     "output_type": "stream",
     "text": [
      "Train loss: 3.8422/3.5187 ACC: 0.67827                                                                                                    \n",
      "Val loss: 3.8432 ACC: 0.67704                                                                                                    \n",
      "Set dropout to 0.8734 (prop=1.0,1.0=1.0)\n",
      "\n"
     ]
    },
    {
     "data": {
      "application/vnd.jupyter.widget-view+json": {
       "model_id": "9be20c1632f1463fb82f09d6a65b09d5",
       "version_major": 2,
       "version_minor": 0
      },
      "text/plain": [
       "HBox(children=(FloatProgress(value=0.0, description='Epoch 105', max=11977.0, style=ProgressStyle(description_…"
      ]
     },
     "metadata": {},
     "output_type": "display_data"
    },
    {
     "name": "stdout",
     "output_type": "stream",
     "text": [
      "Train loss: 3.8438/3.9317 ACC: 0.6778                                                                                                     \n",
      "Val loss: 3.8438 ACC: 0.67259                                                                                                    \n",
      "Set dropout to 0.8734 (prop=1.0,0.9998=1.0)\n",
      "\n"
     ]
    },
    {
     "data": {
      "application/vnd.jupyter.widget-view+json": {
       "model_id": "6f52f7a57639421294a631c8b79c92b1",
       "version_major": 2,
       "version_minor": 0
      },
      "text/plain": [
       "HBox(children=(FloatProgress(value=0.0, description='Epoch 106', max=11977.0, style=ProgressStyle(description_…"
      ]
     },
     "metadata": {},
     "output_type": "display_data"
    },
    {
     "name": "stdout",
     "output_type": "stream",
     "text": [
      "Train loss: 3.8446/3.8522 ACC: 0.6779                                                                                                     \n",
      "Val loss: 3.8439 ACC: 0.67333                                                                                                    \n",
      "Set dropout to 0.8733 (prop=1.0,0.9999=0.9999)\n",
      "\n"
     ]
    },
    {
     "data": {
      "application/vnd.jupyter.widget-view+json": {
       "model_id": "8dec2d74b3cf4d328b03389298817814",
       "version_major": 2,
       "version_minor": 0
      },
      "text/plain": [
       "HBox(children=(FloatProgress(value=0.0, description='Epoch 107', max=11977.0, style=ProgressStyle(description_…"
      ]
     },
     "metadata": {},
     "output_type": "display_data"
    },
    {
     "name": "stdout",
     "output_type": "stream",
     "text": [
      "Train loss: 3.8418/3.861 ACC: 0.68072                                                                                                     \n",
      "Val loss: 3.8435 ACC: 0.67481                                                                                                    \n",
      "Set dropout to 0.8735 (prop=1.0,1.0=1.0)\n",
      "\n"
     ]
    },
    {
     "data": {
      "application/vnd.jupyter.widget-view+json": {
       "model_id": "321a5de728d34c068435ebc9ac81efdd",
       "version_major": 2,
       "version_minor": 0
      },
      "text/plain": [
       "HBox(children=(FloatProgress(value=0.0, description='Epoch 108', max=11977.0, style=ProgressStyle(description_…"
      ]
     },
     "metadata": {},
     "output_type": "display_data"
    },
    {
     "name": "stdout",
     "output_type": "stream",
     "text": [
      "Train loss: 3.8429/3.8521 ACC: 0.67855                                                                                                    \n",
      "Val loss: 3.8432 ACC: 0.67407                                                                                                    \n",
      "Set dropout to 0.8736 (prop=1.0,1.0=1.0)\n",
      "\n"
     ]
    },
    {
     "data": {
      "application/vnd.jupyter.widget-view+json": {
       "model_id": "a7208d96c5264ad094aaed88337745db",
       "version_major": 2,
       "version_minor": 0
      },
      "text/plain": [
       "HBox(children=(FloatProgress(value=0.0, description='Epoch 109', max=11977.0, style=ProgressStyle(description_…"
      ]
     },
     "metadata": {},
     "output_type": "display_data"
    },
    {
     "name": "stdout",
     "output_type": "stream",
     "text": [
      "Train loss: 3.8427/4.1853 ACC: 0.68006                                                                                                    \n",
      "Val loss: 3.8421 ACC: 0.6763                                                                                                     \n",
      "Set dropout to 0.8735 (prop=0.9998,1.0=0.9999)\n",
      "New Best Val loss: 3.8421                                                                                                    \n",
      "\n"
     ]
    },
    {
     "data": {
      "application/vnd.jupyter.widget-view+json": {
       "model_id": "bcefda24b8f84d60bc36e0b3c49e17dd",
       "version_major": 2,
       "version_minor": 0
      },
      "text/plain": [
       "HBox(children=(FloatProgress(value=0.0, description='Epoch 110', max=11977.0, style=ProgressStyle(description_…"
      ]
     },
     "metadata": {},
     "output_type": "display_data"
    },
    {
     "name": "stdout",
     "output_type": "stream",
     "text": [
      "Train loss: 3.8397/3.5187 ACC: 0.68081                                                                                                    \n",
      "Val loss: 3.8422 ACC: 0.67556                                                                                                    \n",
      "Set dropout to 0.8738 (prop=1.0,1.0=1.0)\n",
      "\n"
     ]
    },
    {
     "data": {
      "application/vnd.jupyter.widget-view+json": {
       "model_id": "2a1e34368ce34b568c754db126b8a1b6",
       "version_major": 2,
       "version_minor": 0
      },
      "text/plain": [
       "HBox(children=(FloatProgress(value=0.0, description='Epoch 111', max=11977.0, style=ProgressStyle(description_…"
      ]
     },
     "metadata": {},
     "output_type": "display_data"
    },
    {
     "name": "stdout",
     "output_type": "stream",
     "text": [
      "Train loss: 3.8398/3.5187 ACC: 0.68185                                                                                                    \n",
      "Val loss: 3.8424 ACC: 0.67407                                                                                                    \n",
      "Set dropout to 0.8741 (prop=1.001,1.0=1.0)\n",
      "\n"
     ]
    },
    {
     "data": {
      "application/vnd.jupyter.widget-view+json": {
       "model_id": "6dd6998932174a98be6149b32ebec065",
       "version_major": 2,
       "version_minor": 0
      },
      "text/plain": [
       "HBox(children=(FloatProgress(value=0.0, description='Epoch 112', max=11977.0, style=ProgressStyle(description_…"
      ]
     },
     "metadata": {},
     "output_type": "display_data"
    },
    {
     "name": "stdout",
     "output_type": "stream",
     "text": [
      "Train loss: 3.8414/3.5192 ACC: 0.67921                                                                                                    \n",
      "Val loss: 3.8425 ACC: 0.67481                                                                                                    \n",
      "Set dropout to 0.8742 (prop=1.0,0.9999=1.0)\n",
      "\n"
     ]
    },
    {
     "data": {
      "application/vnd.jupyter.widget-view+json": {
       "model_id": "426d332ef3824296b7e8fc619637fe22",
       "version_major": 2,
       "version_minor": 0
      },
      "text/plain": [
       "HBox(children=(FloatProgress(value=0.0, description='Epoch 113', max=11977.0, style=ProgressStyle(description_…"
      ]
     },
     "metadata": {},
     "output_type": "display_data"
    },
    {
     "name": "stdout",
     "output_type": "stream",
     "text": [
      "Train loss: 3.8392/3.8521 ACC: 0.68354                                                                                                    \n",
      "Val loss: 3.8415 ACC: 0.67778                                                                                                    \n",
      "Set dropout to 0.8745 (prop=1.0,1.0=1.0)\n",
      "New Best Val loss: 3.8415                                                                                                    \n",
      "\n"
     ]
    },
    {
     "data": {
      "application/vnd.jupyter.widget-view+json": {
       "model_id": "982e409c324e443780990cf723033bb4",
       "version_major": 2,
       "version_minor": 0
      },
      "text/plain": [
       "HBox(children=(FloatProgress(value=0.0, description='Epoch 114', max=11977.0, style=ProgressStyle(description_…"
      ]
     },
     "metadata": {},
     "output_type": "display_data"
    },
    {
     "name": "stdout",
     "output_type": "stream",
     "text": [
      "Train loss: 3.8426/3.8521 ACC: 0.67874                                                                                                    \n",
      "Val loss: 3.8407 ACC: 0.67926                                                                                                    \n",
      "Set dropout to 0.8743 (prop=0.9998,0.9997=0.9998)\n",
      "New Best Val loss: 3.8407                                                                                                    \n",
      "\n"
     ]
    },
    {
     "data": {
      "application/vnd.jupyter.widget-view+json": {
       "model_id": "4d4472fd92064d95af57d706d1056580",
       "version_major": 2,
       "version_minor": 0
      },
      "text/plain": [
       "HBox(children=(FloatProgress(value=0.0, description='Epoch 115', max=11977.0, style=ProgressStyle(description_…"
      ]
     },
     "metadata": {},
     "output_type": "display_data"
    },
    {
     "name": "stdout",
     "output_type": "stream",
     "text": [
      "Train loss: 3.8445/4.0023 ACC: 0.6779                                                                                                     \n",
      "Val loss: 3.8417 ACC: 0.67407                                                                                                    \n",
      "Set dropout to 0.874 (prop=0.9996,0.9997=0.9996)\n",
      "\n"
     ]
    },
    {
     "data": {
      "application/vnd.jupyter.widget-view+json": {
       "model_id": "c869c84ce4144f37b3c9eaf2d8bee5ed",
       "version_major": 2,
       "version_minor": 0
      },
      "text/plain": [
       "HBox(children=(FloatProgress(value=0.0, description='Epoch 116', max=11977.0, style=ProgressStyle(description_…"
      ]
     },
     "metadata": {},
     "output_type": "display_data"
    },
    {
     "name": "stdout",
     "output_type": "stream",
     "text": [
      "Train loss: 3.8431/3.8521 ACC: 0.6778                                                                                                     \n",
      "Val loss: 3.8414 ACC: 0.67556                                                                                                    \n",
      "Set dropout to 0.8738 (prop=0.9995,1.0=0.9998)\n",
      "\n"
     ]
    },
    {
     "data": {
      "application/vnd.jupyter.widget-view+json": {
       "model_id": "710741528a624c47b8104ecb921f7e8f",
       "version_major": 2,
       "version_minor": 0
      },
      "text/plain": [
       "HBox(children=(FloatProgress(value=0.0, description='Epoch 117', max=11977.0, style=ProgressStyle(description_…"
      ]
     },
     "metadata": {},
     "output_type": "display_data"
    },
    {
     "name": "stdout",
     "output_type": "stream",
     "text": [
      "Train loss: 3.8389/3.852 ACC: 0.68288                                                                                                     \n",
      "Val loss: 3.8419 ACC: 0.67407                                                                                                    \n",
      "Set dropout to 0.8741 (prop=1.0,1.0=1.0)\n",
      "\n"
     ]
    },
    {
     "data": {
      "application/vnd.jupyter.widget-view+json": {
       "model_id": "dd748952efe7419a814d2c219c1d8ece",
       "version_major": 2,
       "version_minor": 0
      },
      "text/plain": [
       "HBox(children=(FloatProgress(value=0.0, description='Epoch 118', max=11977.0, style=ProgressStyle(description_…"
      ]
     },
     "metadata": {},
     "output_type": "display_data"
    },
    {
     "name": "stdout",
     "output_type": "stream",
     "text": [
      "Train loss: 3.8391/3.6201 ACC: 0.68213                                                                                                    \n",
      "Val loss: 3.8416 ACC: 0.67407                                                                                                    \n",
      "Set dropout to 0.8744 (prop=1.0,1.0=1.0)\n",
      "\n"
     ]
    },
    {
     "data": {
      "application/vnd.jupyter.widget-view+json": {
       "model_id": "c1344e206bdd4d6fb3dfea6e11379f8a",
       "version_major": 2,
       "version_minor": 0
      },
      "text/plain": [
       "HBox(children=(FloatProgress(value=0.0, description='Epoch 119', max=11977.0, style=ProgressStyle(description_…"
      ]
     },
     "metadata": {},
     "output_type": "display_data"
    },
    {
     "name": "stdout",
     "output_type": "stream",
     "text": [
      "Train loss: 3.8433/4.1853 ACC: 0.67921                                                                                                    \n",
      "Val loss: 3.841 ACC: 0.67333                                                                                                     \n",
      "Set dropout to 0.8741 (prop=0.9998,0.9996=0.9997)\n",
      "\n"
     ]
    },
    {
     "data": {
      "application/vnd.jupyter.widget-view+json": {
       "model_id": "48dcd67c56c44f1fae651667cf76ec18",
       "version_major": 2,
       "version_minor": 0
      },
      "text/plain": [
       "HBox(children=(FloatProgress(value=0.0, description='Epoch 120', max=11977.0, style=ProgressStyle(description_…"
      ]
     },
     "metadata": {},
     "output_type": "display_data"
    },
    {
     "name": "stdout",
     "output_type": "stream",
     "text": [
      "Train loss: 3.8407/3.7958 ACC: 0.6811                                                                                                     \n",
      "Val loss: 3.8403 ACC: 0.67778                                                                                                    \n",
      "Set dropout to 0.8741 (prop=0.9998,1.0=0.9999)\n",
      "New Best Val loss: 3.8403                                                                                                    \n",
      "\n"
     ]
    },
    {
     "data": {
      "application/vnd.jupyter.widget-view+json": {
       "model_id": "687e3e4aaee446ed812ac5576f8246a1",
       "version_major": 2,
       "version_minor": 0
      },
      "text/plain": [
       "HBox(children=(FloatProgress(value=0.0, description='Epoch 121', max=11977.0, style=ProgressStyle(description_…"
      ]
     },
     "metadata": {},
     "output_type": "display_data"
    },
    {
     "name": "stdout",
     "output_type": "stream",
     "text": [
      "Train loss: 3.8391/4.1696 ACC: 0.68317                                                                                                    \n",
      "Val loss: 3.8398 ACC: 0.67704                                                                                                    \n",
      "Set dropout to 0.8741 (prop=0.9999,1.0=1.0)\n",
      "New Best Val loss: 3.8398                                                                                                    \n",
      "\n"
     ]
    },
    {
     "data": {
      "application/vnd.jupyter.widget-view+json": {
       "model_id": "6aa6e602ffcc42609e965e53e6033bda",
       "version_major": 2,
       "version_minor": 0
      },
      "text/plain": [
       "HBox(children=(FloatProgress(value=0.0, description='Epoch 122', max=11977.0, style=ProgressStyle(description_…"
      ]
     },
     "metadata": {},
     "output_type": "display_data"
    },
    {
     "name": "stdout",
     "output_type": "stream",
     "text": [
      "Train loss: 3.8396/3.852 ACC: 0.68194                                                                                                     \n",
      "Val loss: 3.8383 ACC: 0.68                                                                                                       \n",
      "Set dropout to 0.874 (prop=0.9996,1.0=0.9998)\n",
      "New Best Val loss: 3.8383                                                                                                    \n",
      "\n"
     ]
    },
    {
     "data": {
      "application/vnd.jupyter.widget-view+json": {
       "model_id": "8aff2099102b4dc4b9f5f67f555feb96",
       "version_major": 2,
       "version_minor": 0
      },
      "text/plain": [
       "HBox(children=(FloatProgress(value=0.0, description='Epoch 123', max=11977.0, style=ProgressStyle(description_…"
      ]
     },
     "metadata": {},
     "output_type": "display_data"
    },
    {
     "name": "stdout",
     "output_type": "stream",
     "text": [
      "Train loss: 3.836/3.6385 ACC: 0.6858                                                                                                      \n",
      "Val loss: 3.8389 ACC: 0.67778                                                                                                    \n",
      "Set dropout to 0.8743 (prop=1.0,1.0=1.0)\n",
      "\n"
     ]
    },
    {
     "data": {
      "application/vnd.jupyter.widget-view+json": {
       "model_id": "67a3ef87c5f84e438e8d380c989e6af8",
       "version_major": 2,
       "version_minor": 0
      },
      "text/plain": [
       "HBox(children=(FloatProgress(value=0.0, description='Epoch 124', max=11977.0, style=ProgressStyle(description_…"
      ]
     },
     "metadata": {},
     "output_type": "display_data"
    },
    {
     "name": "stdout",
     "output_type": "stream",
     "text": [
      "Train loss: 3.8446/3.8553 ACC: 0.67695                                                                                                    \n",
      "Val loss: 3.839 ACC: 0.67926                                                                                                     \n",
      "Set dropout to 0.8737 (prop=0.9993,0.9993=0.9993)\n",
      "\n"
     ]
    },
    {
     "data": {
      "application/vnd.jupyter.widget-view+json": {
       "model_id": "3b13860a4d0a486f9c2fc84504e4ff54",
       "version_major": 2,
       "version_minor": 0
      },
      "text/plain": [
       "HBox(children=(FloatProgress(value=0.0, description='Epoch 125', max=11977.0, style=ProgressStyle(description_…"
      ]
     },
     "metadata": {},
     "output_type": "display_data"
    },
    {
     "name": "stdout",
     "output_type": "stream",
     "text": [
      "Train loss: 3.8412/3.9661 ACC: 0.67987                                                                                                    \n",
      "Val loss: 3.8393 ACC: 0.67926                                                                                                    \n",
      "Set dropout to 0.8735 (prop=0.9994,1.0=0.9998)\n",
      "\n"
     ]
    },
    {
     "data": {
      "application/vnd.jupyter.widget-view+json": {
       "model_id": "e6ce89fb0d3144fdb2d4731b0d2f4966",
       "version_major": 2,
       "version_minor": 0
      },
      "text/plain": [
       "HBox(children=(FloatProgress(value=0.0, description='Epoch 126', max=11977.0, style=ProgressStyle(description_…"
      ]
     },
     "metadata": {},
     "output_type": "display_data"
    },
    {
     "name": "stdout",
     "output_type": "stream",
     "text": [
      "Train loss: 3.8417/3.8521 ACC: 0.67959                                                                                                    \n",
      "Val loss: 3.8409 ACC: 0.6763                                                                                                     \n",
      "Set dropout to 0.8734 (prop=0.9998,1.0=0.9999)\n",
      "\n"
     ]
    },
    {
     "data": {
      "application/vnd.jupyter.widget-view+json": {
       "model_id": "107adb8c38884b55a6cc76ae03fa9a06",
       "version_major": 2,
       "version_minor": 0
      },
      "text/plain": [
       "HBox(children=(FloatProgress(value=0.0, description='Epoch 127', max=11977.0, style=ProgressStyle(description_…"
      ]
     },
     "metadata": {},
     "output_type": "display_data"
    },
    {
     "name": "stdout",
     "output_type": "stream",
     "text": [
      "Train loss: 3.8359/3.8521 ACC: 0.68533                                                                                                    \n",
      "Val loss: 3.8402 ACC: 0.67778                                                                                                    \n",
      "Set dropout to 0.8739 (prop=1.001,1.001=1.001)\n",
      "\n"
     ]
    },
    {
     "data": {
      "application/vnd.jupyter.widget-view+json": {
       "model_id": "a42a121a183c4f798b7f2464b844351a",
       "version_major": 2,
       "version_minor": 0
      },
      "text/plain": [
       "HBox(children=(FloatProgress(value=0.0, description='Epoch 128', max=11977.0, style=ProgressStyle(description_…"
      ]
     },
     "metadata": {},
     "output_type": "display_data"
    },
    {
     "name": "stdout",
     "output_type": "stream",
     "text": [
      "Train loss: 3.8366/3.5191 ACC: 0.68364                                                                                                    \n",
      "Val loss: 3.8401 ACC: 0.67481                                                                                                    \n",
      "Set dropout to 0.8743 (prop=1.001,1.0=1.0)\n",
      "\n"
     ]
    },
    {
     "data": {
      "application/vnd.jupyter.widget-view+json": {
       "model_id": "5fbf3be222a045e6a10939111099262a",
       "version_major": 2,
       "version_minor": 0
      },
      "text/plain": [
       "HBox(children=(FloatProgress(value=0.0, description='Epoch 129', max=11977.0, style=ProgressStyle(description_…"
      ]
     },
     "metadata": {},
     "output_type": "display_data"
    },
    {
     "name": "stdout",
     "output_type": "stream",
     "text": [
      "Train loss: 3.8373/3.8521 ACC: 0.68477                                                                                                    \n",
      "Val loss: 3.8402 ACC: 0.67556                                                                                                    \n",
      "Set dropout to 0.8746 (prop=1.001,1.0=1.0)\n",
      "\n"
     ]
    },
    {
     "data": {
      "application/vnd.jupyter.widget-view+json": {
       "model_id": "ef6aa1969ab0484588eef76f1159dfa7",
       "version_major": 2,
       "version_minor": 0
      },
      "text/plain": [
       "HBox(children=(FloatProgress(value=0.0, description='Epoch 130', max=11977.0, style=ProgressStyle(description_…"
      ]
     },
     "metadata": {},
     "output_type": "display_data"
    },
    {
     "name": "stdout",
     "output_type": "stream",
     "text": [
      "Train loss: 3.8393/3.8508 ACC: 0.68326                                                                                                    \n",
      "Val loss: 3.8402 ACC: 0.6763                                                                                                     \n",
      "Set dropout to 0.8747 (prop=1.0,0.9998=1.0)\n",
      "\n"
     ]
    },
    {
     "data": {
      "application/vnd.jupyter.widget-view+json": {
       "model_id": "cba3737077054ad199f906e5f12df114",
       "version_major": 2,
       "version_minor": 0
      },
      "text/plain": [
       "HBox(children=(FloatProgress(value=0.0, description='Epoch 131', max=11977.0, style=ProgressStyle(description_…"
      ]
     },
     "metadata": {},
     "output_type": "display_data"
    },
    {
     "name": "stdout",
     "output_type": "stream",
     "text": [
      "Train loss: 3.8369/3.5187 ACC: 0.68439                                                                                                    \n",
      "Val loss: 3.8398 ACC: 0.67556                                                                                                    \n",
      "Set dropout to 0.875 (prop=1.001,1.0=1.0)\n",
      "\n"
     ]
    },
    {
     "data": {
      "application/vnd.jupyter.widget-view+json": {
       "model_id": "acac097be2f84d89b25ae9b2f85c9fc3",
       "version_major": 2,
       "version_minor": 0
      },
      "text/plain": [
       "HBox(children=(FloatProgress(value=0.0, description='Epoch 132', max=11977.0, style=ProgressStyle(description_…"
      ]
     },
     "metadata": {},
     "output_type": "display_data"
    },
    {
     "name": "stdout",
     "output_type": "stream",
     "text": [
      "Train loss: 3.8418/3.8515 ACC: 0.6811                                                                                                     \n",
      "Val loss: 3.8401 ACC: 0.67556                                                                                                    \n",
      "Set dropout to 0.8748 (prop=1.0,0.9996=0.9998)\n",
      "\n"
     ]
    },
    {
     "data": {
      "application/vnd.jupyter.widget-view+json": {
       "model_id": "184ff84af47a440db08e7891c4e42a37",
       "version_major": 2,
       "version_minor": 0
      },
      "text/plain": [
       "HBox(children=(FloatProgress(value=0.0, description='Epoch 133', max=11977.0, style=ProgressStyle(description_…"
      ]
     },
     "metadata": {},
     "output_type": "display_data"
    },
    {
     "name": "stdout",
     "output_type": "stream",
     "text": [
      "Train loss: 3.8389/3.5189 ACC: 0.68279                                                                                                    \n",
      "Epoch   133: reducing learning rate of group 0 to 5.4150e-03.                                                                    \n",
      "\n",
      "Set dropout to 0.8749 (prop=0.9999,1.0=1.0)\n",
      "\n"
     ]
    },
    {
     "data": {
      "application/vnd.jupyter.widget-view+json": {
       "model_id": "856ddcfdad4e44a7aa79c57424c18b99",
       "version_major": 2,
       "version_minor": 0
      },
      "text/plain": [
       "HBox(children=(FloatProgress(value=0.0, description='Epoch 134', max=11977.0, style=ProgressStyle(description_…"
      ]
     },
     "metadata": {},
     "output_type": "display_data"
    },
    {
     "name": "stdout",
     "output_type": "stream",
     "text": [
      "Train loss: 3.8373/3.8508 ACC: 0.68486                                                                                                    \n",
      "Val loss: 3.84 ACC: 0.67704                                                                                                      \n",
      "Set dropout to 0.8752 (prop=1.0,1.0=1.0)\n",
      "\n"
     ]
    },
    {
     "data": {
      "application/vnd.jupyter.widget-view+json": {
       "model_id": "134ec2bd95a54c2fa2b3d2815d25f5b8",
       "version_major": 2,
       "version_minor": 0
      },
      "text/plain": [
       "HBox(children=(FloatProgress(value=0.0, description='Epoch 135', max=11977.0, style=ProgressStyle(description_…"
      ]
     },
     "metadata": {},
     "output_type": "display_data"
    },
    {
     "name": "stdout",
     "output_type": "stream",
     "text": [
      "Train loss: 3.8386/3.5187 ACC: 0.6826                                                                                                     \n",
      "Val loss: 3.8393 ACC: 0.67926                                                                                                    \n",
      "Set dropout to 0.8753 (prop=1.0,1.0=1.0)\n",
      "\n"
     ]
    },
    {
     "data": {
      "application/vnd.jupyter.widget-view+json": {
       "model_id": "e11ffc348ffd4790b0f29bf214cdff9b",
       "version_major": 2,
       "version_minor": 0
      },
      "text/plain": [
       "HBox(children=(FloatProgress(value=0.0, description='Epoch 136', max=11977.0, style=ProgressStyle(description_…"
      ]
     },
     "metadata": {},
     "output_type": "display_data"
    },
    {
     "name": "stdout",
     "output_type": "stream",
     "text": [
      "Train loss: 3.8379/3.8521 ACC: 0.68335                                                                                                    \n",
      "Val loss: 3.8397 ACC: 0.67926                                                                                                    \n",
      "Set dropout to 0.8755 (prop=1.0,1.0=1.0)\n",
      "\n"
     ]
    },
    {
     "data": {
      "application/vnd.jupyter.widget-view+json": {
       "model_id": "632f63d8d0194b139b736460e8274503",
       "version_major": 2,
       "version_minor": 0
      },
      "text/plain": [
       "HBox(children=(FloatProgress(value=0.0, description='Epoch 137', max=11977.0, style=ProgressStyle(description_…"
      ]
     },
     "metadata": {},
     "output_type": "display_data"
    },
    {
     "name": "stdout",
     "output_type": "stream",
     "text": [
      "Train loss: 3.8411/3.8521 ACC: 0.68053                                                                                                    \n",
      "Val loss: 3.8392 ACC: 0.68                                                                                                       \n",
      "Set dropout to 0.8752 (prop=0.9998,0.9997=0.9998)\n",
      "\n"
     ]
    },
    {
     "data": {
      "application/vnd.jupyter.widget-view+json": {
       "model_id": "f804e6b2e6e544c28945561cbcde37eb",
       "version_major": 2,
       "version_minor": 0
      },
      "text/plain": [
       "HBox(children=(FloatProgress(value=0.0, description='Epoch 138', max=11977.0, style=ProgressStyle(description_…"
      ]
     },
     "metadata": {},
     "output_type": "display_data"
    },
    {
     "name": "stdout",
     "output_type": "stream",
     "text": [
      "Train loss: 3.8379/3.8517 ACC: 0.68467                                                                                                    \n",
      "Val loss: 3.8392 ACC: 0.67852                                                                                                    \n",
      "Set dropout to 0.8754 (prop=1.0,1.0=1.0)\n",
      "\n"
     ]
    },
    {
     "data": {
      "application/vnd.jupyter.widget-view+json": {
       "model_id": "fa273eb75ca647b7b88e01d58857d869",
       "version_major": 2,
       "version_minor": 0
      },
      "text/plain": [
       "HBox(children=(FloatProgress(value=0.0, description='Epoch 139', max=11977.0, style=ProgressStyle(description_…"
      ]
     },
     "metadata": {},
     "output_type": "display_data"
    },
    {
     "name": "stdout",
     "output_type": "stream",
     "text": [
      "Train loss: 3.8361/3.8516 ACC: 0.68627                                                                                                    \n",
      "Val loss: 3.8393 ACC: 0.67704                                                                                                    \n",
      "Set dropout to 0.8758 (prop=1.001,1.0=1.0)\n",
      "\n"
     ]
    },
    {
     "data": {
      "application/vnd.jupyter.widget-view+json": {
       "model_id": "c4c77754d99747dc96ec4af12b245fb9",
       "version_major": 2,
       "version_minor": 0
      },
      "text/plain": [
       "HBox(children=(FloatProgress(value=0.0, description='Epoch 140', max=11977.0, style=ProgressStyle(description_…"
      ]
     },
     "metadata": {},
     "output_type": "display_data"
    },
    {
     "name": "stdout",
     "output_type": "stream",
     "text": [
      "Train loss: 3.8423/3.8501 ACC: 0.67799                                                                                                    \n",
      "Val loss: 3.8394 ACC: 0.67926                                                                                                    \n",
      "Set dropout to 0.8754 (prop=0.9998,0.9995=0.9996)\n",
      "\n"
     ]
    },
    {
     "data": {
      "application/vnd.jupyter.widget-view+json": {
       "model_id": "18adbce26e41459884a570be14b6637d",
       "version_major": 2,
       "version_minor": 0
      },
      "text/plain": [
       "HBox(children=(FloatProgress(value=0.0, description='Epoch 141', max=11977.0, style=ProgressStyle(description_…"
      ]
     },
     "metadata": {},
     "output_type": "display_data"
    },
    {
     "name": "stdout",
     "output_type": "stream",
     "text": [
      "Train loss: 3.8373/3.5187 ACC: 0.6827                                                                                                     \n",
      "Val loss: 3.8391 ACC: 0.67852                                                                                                    \n",
      "Set dropout to 0.8756 (prop=1.0,1.0=1.0)\n",
      "\n"
     ]
    },
    {
     "data": {
      "application/vnd.jupyter.widget-view+json": {
       "model_id": "db8c41e885ba4fe395b179f0865b5fe3",
       "version_major": 2,
       "version_minor": 0
      },
      "text/plain": [
       "HBox(children=(FloatProgress(value=0.0, description='Epoch 142', max=11977.0, style=ProgressStyle(description_…"
      ]
     },
     "metadata": {},
     "output_type": "display_data"
    },
    {
     "name": "stdout",
     "output_type": "stream",
     "text": [
      "Train loss: 3.8364/3.5187 ACC: 0.68373                                                                                                    \n",
      "Val loss: 3.8395 ACC: 0.67852                                                                                                    \n",
      "Set dropout to 0.876 (prop=1.001,1.0=1.0)\n",
      "\n"
     ]
    },
    {
     "data": {
      "application/vnd.jupyter.widget-view+json": {
       "model_id": "4f2d783c4dfd4dbcba3aaaeb314db6a9",
       "version_major": 2,
       "version_minor": 0
      },
      "text/plain": [
       "HBox(children=(FloatProgress(value=0.0, description='Epoch 143', max=11977.0, style=ProgressStyle(description_…"
      ]
     },
     "metadata": {},
     "output_type": "display_data"
    },
    {
     "name": "stdout",
     "output_type": "stream",
     "text": [
      "Train loss: 3.8395/3.8522 ACC: 0.68222                                                                                                    \n",
      "Val loss: 3.8391 ACC: 0.68                                                                                                       \n",
      "Set dropout to 0.876 (prop=1.0,0.9998=1.0)\n",
      "\n"
     ]
    },
    {
     "data": {
      "application/vnd.jupyter.widget-view+json": {
       "model_id": "09292478f0c040049b590136a86ce438",
       "version_major": 2,
       "version_minor": 0
      },
      "text/plain": [
       "HBox(children=(FloatProgress(value=0.0, description='Epoch 144', max=11977.0, style=ProgressStyle(description_…"
      ]
     },
     "metadata": {},
     "output_type": "display_data"
    },
    {
     "name": "stdout",
     "output_type": "stream",
     "text": [
      "Train loss: 3.8375/3.5187 ACC: 0.68335                                                                                                    \n",
      "Epoch   144: reducing learning rate of group 0 to 5.1442e-03.                                                                    \n",
      "\n",
      "Set dropout to 0.8761 (prop=1.0,1.0=1.0)\n",
      "\n"
     ]
    },
    {
     "data": {
      "application/vnd.jupyter.widget-view+json": {
       "model_id": "a3222f263e114a299675a9e2a265156e",
       "version_major": 2,
       "version_minor": 0
      },
      "text/plain": [
       "HBox(children=(FloatProgress(value=0.0, description='Epoch 145', max=11977.0, style=ProgressStyle(description_…"
      ]
     },
     "metadata": {},
     "output_type": "display_data"
    },
    {
     "name": "stdout",
     "output_type": "stream",
     "text": [
      "Train loss: 3.839/3.5194 ACC: 0.68213                                                                                                     \n",
      "Val loss: 3.8391 ACC: 0.68074                                                                                                                                                                                                        \n",
      "Set dropout to 0.8762 (prop=1.0,0.9999=1.0)\n",
      "\n"
     ]
    },
    {
     "data": {
      "application/vnd.jupyter.widget-view+json": {
       "model_id": "cef24943c3a24f88b90d8e1fc39ebeda",
       "version_major": 2,
       "version_minor": 0
      },
      "text/plain": [
       "HBox(children=(FloatProgress(value=0.0, description='Epoch 146', max=11977.0, style=ProgressStyle(description_…"
      ]
     },
     "metadata": {},
     "output_type": "display_data"
    },
    {
     "name": "stdout",
     "output_type": "stream",
     "text": [
      "Train loss: 3.8375/4.1854 ACC: 0.68524                                                                                                    \n",
      "Val loss: 3.8384 ACC: 0.68148                                                                                                    \n",
      "Set dropout to 0.8763 (prop=1.0,1.0=1.0)\n",
      "\n"
     ]
    },
    {
     "data": {
      "application/vnd.jupyter.widget-view+json": {
       "model_id": "e8b9000b8057478d99bac961145bf47f",
       "version_major": 2,
       "version_minor": 0
      },
      "text/plain": [
       "HBox(children=(FloatProgress(value=0.0, description='Epoch 147', max=11977.0, style=ProgressStyle(description_…"
      ]
     },
     "metadata": {},
     "output_type": "display_data"
    },
    {
     "name": "stdout",
     "output_type": "stream",
     "text": [
      "Train loss: 3.84/4.1854 ACC: 0.68241                                                                                                      \n",
      "Val loss: 3.8367 ACC: 0.6837                                                                                                     \n",
      "Set dropout to 0.8759 (prop=0.9994,0.9998=0.9996)\n",
      "New Best Val loss: 3.8367                                                                                                    \n",
      "\n"
     ]
    },
    {
     "data": {
      "application/vnd.jupyter.widget-view+json": {
       "model_id": "7b9cd8de3d184cff84c0ebbfb47b9608",
       "version_major": 2,
       "version_minor": 0
      },
      "text/plain": [
       "HBox(children=(FloatProgress(value=0.0, description='Epoch 148', max=11977.0, style=ProgressStyle(description_…"
      ]
     },
     "metadata": {},
     "output_type": "display_data"
    },
    {
     "name": "stdout",
     "output_type": "stream",
     "text": [
      "Train loss: 3.8367/3.8518 ACC: 0.68401                                                                                                    \n",
      "Val loss: 3.8372 ACC: 0.68148                                                                                                    \n",
      "Set dropout to 0.8759 (prop=0.9999,1.0=1.0)\n",
      "\n"
     ]
    },
    {
     "data": {
      "application/vnd.jupyter.widget-view+json": {
       "model_id": "02cb258bb1154b20953b11a740ebc4fc",
       "version_major": 2,
       "version_minor": 0
      },
      "text/plain": [
       "HBox(children=(FloatProgress(value=0.0, description='Epoch 149', max=11977.0, style=ProgressStyle(description_…"
      ]
     },
     "metadata": {},
     "output_type": "display_data"
    },
    {
     "name": "stdout",
     "output_type": "stream",
     "text": [
      "Train loss: 3.8384/3.8519 ACC: 0.68429                                                                                                    \n",
      "Val loss: 3.8361 ACC: 0.68296                                                                                                    \n",
      "Set dropout to 0.8757 (prop=0.9995,0.9999=0.9997)\n",
      "New Best Val loss: 3.8361                                                                                                    \n",
      "\n"
     ]
    },
    {
     "data": {
      "application/vnd.jupyter.widget-view+json": {
       "model_id": "7da1213d65264cae98bfb60e012fb8e5",
       "version_major": 2,
       "version_minor": 0
      },
      "text/plain": [
       "HBox(children=(FloatProgress(value=0.0, description='Epoch 150', max=11977.0, style=ProgressStyle(description_…"
      ]
     },
     "metadata": {},
     "output_type": "display_data"
    },
    {
     "name": "stdout",
     "output_type": "stream",
     "text": [
      "Train loss: 3.8366/3.5187 ACC: 0.68392                                                                                                    \n",
      "Val loss: 3.8376 ACC: 0.68074                                                                                                    \n",
      "Set dropout to 0.8758 (prop=1.0,1.0=1.0)\n",
      "\n"
     ]
    },
    {
     "data": {
      "application/vnd.jupyter.widget-view+json": {
       "model_id": "714c6aa69fb14668926593de725bc8ba",
       "version_major": 2,
       "version_minor": 0
      },
      "text/plain": [
       "HBox(children=(FloatProgress(value=0.0, description='Epoch 151', max=11977.0, style=ProgressStyle(description_…"
      ]
     },
     "metadata": {},
     "output_type": "display_data"
    },
    {
     "name": "stdout",
     "output_type": "stream",
     "text": [
      "Train loss: 3.835/3.5187 ACC: 0.6858                                                                                                      \n",
      "Val loss: 3.8371 ACC: 0.68                                                                                                       \n",
      "Set dropout to 0.876 (prop=1.0,1.0=1.0)\n",
      "\n"
     ]
    },
    {
     "data": {
      "application/vnd.jupyter.widget-view+json": {
       "model_id": "2e6c335cbd8e4cdbb516202644752a24",
       "version_major": 2,
       "version_minor": 0
      },
      "text/plain": [
       "HBox(children=(FloatProgress(value=0.0, description='Epoch 152', max=11977.0, style=ProgressStyle(description_…"
      ]
     },
     "metadata": {},
     "output_type": "display_data"
    },
    {
     "name": "stdout",
     "output_type": "stream",
     "text": [
      "Train loss: 3.8378/4.1846 ACC: 0.68458                                                                                                    \n",
      "Val loss: 3.8363 ACC: 0.68296                                                                                                    \n",
      "Set dropout to 0.8759 (prop=0.9998,0.9998=0.9998)\n",
      "\n"
     ]
    },
    {
     "data": {
      "application/vnd.jupyter.widget-view+json": {
       "model_id": "d30d7b305b794210ac0041c30e5cdc7d",
       "version_major": 2,
       "version_minor": 0
      },
      "text/plain": [
       "HBox(children=(FloatProgress(value=0.0, description='Epoch 153', max=11977.0, style=ProgressStyle(description_…"
      ]
     },
     "metadata": {},
     "output_type": "display_data"
    },
    {
     "name": "stdout",
     "output_type": "stream",
     "text": [
      "Train loss: 3.8347/3.8652 ACC: 0.68825                                                                                                    \n",
      "Val loss: 3.8344 ACC: 0.68593                                                                                                    \n",
      "Set dropout to 0.8758 (prop=0.9997,1.0=1.0)\n",
      "New Best Val loss: 3.8344                                                                                                    \n",
      "\n"
     ]
    },
    {
     "data": {
      "application/vnd.jupyter.widget-view+json": {
       "model_id": "4d5afba2a584401f988fe5fb471daefb",
       "version_major": 2,
       "version_minor": 0
      },
      "text/plain": [
       "HBox(children=(FloatProgress(value=0.0, description='Epoch 154', max=11977.0, style=ProgressStyle(description_…"
      ]
     },
     "metadata": {},
     "output_type": "display_data"
    },
    {
     "name": "stdout",
     "output_type": "stream",
     "text": [
      "Train loss: 3.8337/3.5187 ACC: 0.68806                                                                                                    \n",
      "Val loss: 3.8363 ACC: 0.68296                                                                                                    \n",
      "Set dropout to 0.8761 (prop=1.0,1.0=1.0)\n",
      "\n"
     ]
    },
    {
     "data": {
      "application/vnd.jupyter.widget-view+json": {
       "model_id": "c034e56013714a6c9b1428b67c23d3cb",
       "version_major": 2,
       "version_minor": 0
      },
      "text/plain": [
       "HBox(children=(FloatProgress(value=0.0, description='Epoch 155', max=11977.0, style=ProgressStyle(description_…"
      ]
     },
     "metadata": {},
     "output_type": "display_data"
    },
    {
     "name": "stdout",
     "output_type": "stream",
     "text": [
      "Train loss: 3.8361/3.5233 ACC: 0.68505                                                                                                    \n",
      "Val loss: 3.8373 ACC: 0.68                                                                                                       \n",
      "Set dropout to 0.8762 (prop=1.0,0.9998=1.0)\n",
      "\n"
     ]
    },
    {
     "data": {
      "application/vnd.jupyter.widget-view+json": {
       "model_id": "643f5c9025144138b16c306539cd33c3",
       "version_major": 2,
       "version_minor": 0
      },
      "text/plain": [
       "HBox(children=(FloatProgress(value=0.0, description='Epoch 156', max=11977.0, style=ProgressStyle(description_…"
      ]
     },
     "metadata": {},
     "output_type": "display_data"
    },
    {
     "name": "stdout",
     "output_type": "stream",
     "text": [
      "Train loss: 3.8364/3.8503 ACC: 0.68542                                                                                                    \n",
      "Val loss: 3.8369 ACC: 0.67852                                                                                                    \n",
      "Set dropout to 0.8763 (prop=1.0,0.9999=1.0)\n",
      "\n"
     ]
    },
    {
     "data": {
      "application/vnd.jupyter.widget-view+json": {
       "model_id": "6fb6e75dd8cd4ab8b9a3c348811ad900",
       "version_major": 2,
       "version_minor": 0
      },
      "text/plain": [
       "HBox(children=(FloatProgress(value=0.0, description='Epoch 157', max=11977.0, style=ProgressStyle(description_…"
      ]
     },
     "metadata": {},
     "output_type": "display_data"
    },
    {
     "name": "stdout",
     "output_type": "stream",
     "text": [
      "Train loss: 3.8406/3.8518 ACC: 0.68119                                                                                                    \n",
      "Val loss: 3.8377 ACC: 0.67852                                                                                                    \n",
      "Set dropout to 0.876 (prop=0.9997,0.9995=0.9996)\n",
      "\n"
     ]
    },
    {
     "data": {
      "application/vnd.jupyter.widget-view+json": {
       "model_id": "276ff8e7a6c14666987b5e560379f07f",
       "version_major": 2,
       "version_minor": 0
      },
      "text/plain": [
       "HBox(children=(FloatProgress(value=0.0, description='Epoch 158', max=11977.0, style=ProgressStyle(description_…"
      ]
     },
     "metadata": {},
     "output_type": "display_data"
    },
    {
     "name": "stdout",
     "output_type": "stream",
     "text": [
      "Train loss: 3.8343/3.8503 ACC: 0.68806                                                                                                    \n",
      "Val loss: 3.8384 ACC: 0.67704                                                                                                    \n",
      "Set dropout to 0.8764 (prop=1.001,1.0=1.001)\n",
      "\n"
     ]
    },
    {
     "data": {
      "application/vnd.jupyter.widget-view+json": {
       "model_id": "39219aff1f6e452fb8b1724f90602f36",
       "version_major": 2,
       "version_minor": 0
      },
      "text/plain": [
       "HBox(children=(FloatProgress(value=0.0, description='Epoch 159', max=11977.0, style=ProgressStyle(description_…"
      ]
     },
     "metadata": {},
     "output_type": "display_data"
    },
    {
     "name": "stdout",
     "output_type": "stream",
     "text": [
      "Train loss: 3.8325/3.8524 ACC: 0.68947                                                                                                    \n",
      "Val loss: 3.8377 ACC: 0.67778                                                                                                    \n",
      "Set dropout to 0.877 (prop=1.001,1.0=1.001)\n",
      "\n"
     ]
    },
    {
     "data": {
      "application/vnd.jupyter.widget-view+json": {
       "model_id": "06504f96b4aa4b54ae06665a32d6118d",
       "version_major": 2,
       "version_minor": 0
      },
      "text/plain": [
       "HBox(children=(FloatProgress(value=0.0, description='Epoch 160', max=11977.0, style=ProgressStyle(description_…"
      ]
     },
     "metadata": {},
     "output_type": "display_data"
    },
    {
     "name": "stdout",
     "output_type": "stream",
     "text": [
      "Train loss: 3.835/3.8521 ACC: 0.68731                                                                                                     \n",
      "Val loss: 3.837 ACC: 0.68                                                                                                        \n",
      "Set dropout to 0.8772 (prop=1.001,0.9999=1.0)\n",
      "\n"
     ]
    },
    {
     "data": {
      "application/vnd.jupyter.widget-view+json": {
       "model_id": "f90101ac90664d8e9a264239fa621d9a",
       "version_major": 2,
       "version_minor": 0
      },
      "text/plain": [
       "HBox(children=(FloatProgress(value=0.0, description='Epoch 161', max=11977.0, style=ProgressStyle(description_…"
      ]
     },
     "metadata": {},
     "output_type": "display_data"
    },
    {
     "name": "stdout",
     "output_type": "stream",
     "text": [
      "Train loss: 3.838/3.8762 ACC: 0.68288                                                                                                     \n",
      "Val loss: 3.8381 ACC: 0.67852                                                                                                    \n",
      "Set dropout to 0.8773 (prop=1.0,0.9996=1.0)\n",
      "\n"
     ]
    },
    {
     "data": {
      "application/vnd.jupyter.widget-view+json": {
       "model_id": "8342982a81ff4a40aafc2d85c35dffeb",
       "version_major": 2,
       "version_minor": 0
      },
      "text/plain": [
       "HBox(children=(FloatProgress(value=0.0, description='Epoch 162', max=11977.0, style=ProgressStyle(description_…"
      ]
     },
     "metadata": {},
     "output_type": "display_data"
    },
    {
     "name": "stdout",
     "output_type": "stream",
     "text": [
      "Train loss: 3.837/3.8467 ACC: 0.68561                                                                                                     \n",
      "Val loss: 3.8382 ACC: 0.6763                                                                                                     \n",
      "Set dropout to 0.8774 (prop=1.0,1.0=1.0)\n",
      "\n"
     ]
    },
    {
     "data": {
      "application/vnd.jupyter.widget-view+json": {
       "model_id": "bf6fb26e9e2b41daa09e68477fdac024",
       "version_major": 2,
       "version_minor": 0
      },
      "text/plain": [
       "HBox(children=(FloatProgress(value=0.0, description='Epoch 163', max=11977.0, style=ProgressStyle(description_…"
      ]
     },
     "metadata": {},
     "output_type": "display_data"
    },
    {
     "name": "stdout",
     "output_type": "stream",
     "text": [
      "Train loss: 3.8357/3.852 ACC: 0.68599                                                                                                     \n",
      "Val loss: 3.8383 ACC: 0.67852                                                                                                    \n",
      "Set dropout to 0.8777 (prop=1.001,1.0=1.0)\n",
      "\n"
     ]
    },
    {
     "data": {
      "application/vnd.jupyter.widget-view+json": {
       "model_id": "4ea9fdd041f14933b184d56be8c140d9",
       "version_major": 2,
       "version_minor": 0
      },
      "text/plain": [
       "HBox(children=(FloatProgress(value=0.0, description='Epoch 164', max=11977.0, style=ProgressStyle(description_…"
      ]
     },
     "metadata": {},
     "output_type": "display_data"
    },
    {
     "name": "stdout",
     "output_type": "stream",
     "text": [
      "Train loss: 3.837/4.1727 ACC: 0.68618                                                                                                     \n",
      "Epoch   164: reducing learning rate of group 0 to 4.8870e-03.                                                                    \n",
      "\n",
      "Set dropout to 0.8777 (prop=1.0,0.9999=1.0)\n",
      "\n"
     ]
    },
    {
     "data": {
      "application/vnd.jupyter.widget-view+json": {
       "model_id": "c2058c4db1ef4436aa6b07bba5dfd0e8",
       "version_major": 2,
       "version_minor": 0
      },
      "text/plain": [
       "HBox(children=(FloatProgress(value=0.0, description='Epoch 165', max=11977.0, style=ProgressStyle(description_…"
      ]
     },
     "metadata": {},
     "output_type": "display_data"
    },
    {
     "name": "stdout",
     "output_type": "stream",
     "text": [
      "Train loss: 3.8367/3.852 ACC: 0.68589                                                                                                     \n",
      "Val loss: 3.8376 ACC: 0.68074                                                                                                    \n",
      "Set dropout to 0.8778 (prop=1.0,1.0=1.0)\n",
      "\n"
     ]
    },
    {
     "data": {
      "application/vnd.jupyter.widget-view+json": {
       "model_id": "7d161482aed54ce6b5f1ba5aa0792b90",
       "version_major": 2,
       "version_minor": 0
      },
      "text/plain": [
       "HBox(children=(FloatProgress(value=0.0, description='Epoch 166', max=11977.0, style=ProgressStyle(description_…"
      ]
     },
     "metadata": {},
     "output_type": "display_data"
    },
    {
     "name": "stdout",
     "output_type": "stream",
     "text": [
      "Train loss: 3.8363/3.8521 ACC: 0.6842                                                                                                     \n",
      "Val loss: 3.8373 ACC: 0.68                                                                                                       \n",
      "Set dropout to 0.8779 (prop=1.0,1.0=1.0)\n",
      "\n"
     ]
    },
    {
     "data": {
      "application/vnd.jupyter.widget-view+json": {
       "model_id": "18c8f8b26cd54f8ea2ac0cd7ed145a05",
       "version_major": 2,
       "version_minor": 0
      },
      "text/plain": [
       "HBox(children=(FloatProgress(value=0.0, description='Epoch 167', max=11977.0, style=ProgressStyle(description_…"
      ]
     },
     "metadata": {},
     "output_type": "display_data"
    },
    {
     "name": "stdout",
     "output_type": "stream",
     "text": [
      "Train loss: 3.8379/4.5181 ACC: 0.68561                                                                                                    \n",
      "Val loss: 3.8378 ACC: 0.67852                                                                                                    \n",
      "Set dropout to 0.8779 (prop=1.0,0.9998=1.0)\n",
      "\n"
     ]
    },
    {
     "data": {
      "application/vnd.jupyter.widget-view+json": {
       "model_id": "37e477ad911d495ba7b731ec6827aede",
       "version_major": 2,
       "version_minor": 0
      },
      "text/plain": [
       "HBox(children=(FloatProgress(value=0.0, description='Epoch 168', max=11977.0, style=ProgressStyle(description_…"
      ]
     },
     "metadata": {},
     "output_type": "display_data"
    },
    {
     "name": "stdout",
     "output_type": "stream",
     "text": [
      "Train loss: 3.8387/3.7586 ACC: 0.68345                                                                                                    \n",
      "Val loss: 3.8383 ACC: 0.67704                                                                                                    \n",
      "Set dropout to 0.8779 (prop=1.0,0.9999=1.0)\n",
      "\n"
     ]
    },
    {
     "data": {
      "application/vnd.jupyter.widget-view+json": {
       "model_id": "dcfada5ec7694f319f0bf42c67454eef",
       "version_major": 2,
       "version_minor": 0
      },
      "text/plain": [
       "HBox(children=(FloatProgress(value=0.0, description='Epoch 169', max=11977.0, style=ProgressStyle(description_…"
      ]
     },
     "metadata": {},
     "output_type": "display_data"
    },
    {
     "name": "stdout",
     "output_type": "stream",
     "text": [
      "Train loss: 3.8365/3.8518 ACC: 0.68561                                                                                                    \n",
      "Val loss: 3.838 ACC: 0.67778                                                                                                     \n",
      "Set dropout to 0.878 (prop=1.0,1.0=1.0)\n",
      "\n"
     ]
    },
    {
     "data": {
      "application/vnd.jupyter.widget-view+json": {
       "model_id": "9104991773f84648a35e7a9252a637eb",
       "version_major": 2,
       "version_minor": 0
      },
      "text/plain": [
       "HBox(children=(FloatProgress(value=0.0, description='Epoch 170', max=11977.0, style=ProgressStyle(description_…"
      ]
     },
     "metadata": {},
     "output_type": "display_data"
    },
    {
     "name": "stdout",
     "output_type": "stream",
     "text": [
      "Train loss: 3.8368/3.5188 ACC: 0.68307                                                                                                    \n",
      "Val loss: 3.8373 ACC: 0.68                                                                                                       \n",
      "Set dropout to 0.8781 (prop=1.0,1.0=1.0)\n",
      "\n"
     ]
    },
    {
     "data": {
      "application/vnd.jupyter.widget-view+json": {
       "model_id": "50aac310428a49568279b69e983e0bd0",
       "version_major": 2,
       "version_minor": 0
      },
      "text/plain": [
       "HBox(children=(FloatProgress(value=0.0, description='Epoch 171', max=11977.0, style=ProgressStyle(description_…"
      ]
     },
     "metadata": {},
     "output_type": "display_data"
    },
    {
     "name": "stdout",
     "output_type": "stream",
     "text": [
      "Train loss: 3.8363/3.5187 ACC: 0.6858                                                                                                     \n",
      "Val loss: 3.8382 ACC: 0.67778                                                                                                    \n",
      "Set dropout to 0.8783 (prop=1.0,1.0=1.0)\n",
      "\n"
     ]
    },
    {
     "data": {
      "application/vnd.jupyter.widget-view+json": {
       "model_id": "0bf24fec35f94dc8a85627045021fbbe",
       "version_major": 2,
       "version_minor": 0
      },
      "text/plain": [
       "HBox(children=(FloatProgress(value=0.0, description='Epoch 172', max=11977.0, style=ProgressStyle(description_…"
      ]
     },
     "metadata": {},
     "output_type": "display_data"
    },
    {
     "name": "stdout",
     "output_type": "stream",
     "text": [
      "Train loss: 3.8352/3.5189 ACC: 0.6858                                                                                                     \n",
      "Val loss: 3.838 ACC: 0.67926                                                                                                     \n",
      "Set dropout to 0.8786 (prop=1.001,1.0=1.0)\n",
      "\n"
     ]
    },
    {
     "data": {
      "application/vnd.jupyter.widget-view+json": {
       "model_id": "5c45ea052c09458580f5dec5e55bbe96",
       "version_major": 2,
       "version_minor": 0
      },
      "text/plain": [
       "HBox(children=(FloatProgress(value=0.0, description='Epoch 173', max=11977.0, style=ProgressStyle(description_…"
      ]
     },
     "metadata": {},
     "output_type": "display_data"
    },
    {
     "name": "stdout",
     "output_type": "stream",
     "text": [
      "Train loss: 3.8354/3.8552 ACC: 0.68702                                                                                                    \n",
      "Val loss: 3.8372 ACC: 0.68074                                                                                                    \n",
      "Set dropout to 0.8788 (prop=1.0,1.0=1.0)\n",
      "\n"
     ]
    },
    {
     "data": {
      "application/vnd.jupyter.widget-view+json": {
       "model_id": "f15b922a085a41bd8132829936059a85",
       "version_major": 2,
       "version_minor": 0
      },
      "text/plain": [
       "HBox(children=(FloatProgress(value=0.0, description='Epoch 174', max=11977.0, style=ProgressStyle(description_…"
      ]
     },
     "metadata": {},
     "output_type": "display_data"
    },
    {
     "name": "stdout",
     "output_type": "stream",
     "text": [
      "Train loss: 3.8387/3.9106 ACC: 0.6842                                                                                                     \n",
      "Val loss: 3.8378 ACC: 0.68074                                                                                                    \n",
      "Set dropout to 0.8787 (prop=1.0,0.9997=0.9999)\n",
      "\n"
     ]
    },
    {
     "data": {
      "application/vnd.jupyter.widget-view+json": {
       "model_id": "a0187901da1f47398df8bd53a833a9be",
       "version_major": 2,
       "version_minor": 0
      },
      "text/plain": [
       "HBox(children=(FloatProgress(value=0.0, description='Epoch 175', max=11977.0, style=ProgressStyle(description_…"
      ]
     },
     "metadata": {},
     "output_type": "display_data"
    },
    {
     "name": "stdout",
     "output_type": "stream",
     "text": [
      "Train loss: 3.8345/3.5187 ACC: 0.68731                                                                                                    \n",
      "Epoch   175: reducing learning rate of group 0 to 4.6427e-03.                                                                    \n",
      "\n",
      "Set dropout to 0.8791 (prop=1.001,1.0=1.0)\n",
      "\n"
     ]
    },
    {
     "data": {
      "application/vnd.jupyter.widget-view+json": {
       "model_id": "85dcbab433744c62b6f5879f93ac0e48",
       "version_major": 2,
       "version_minor": 0
      },
      "text/plain": [
       "HBox(children=(FloatProgress(value=0.0, description='Epoch 176', max=11977.0, style=ProgressStyle(description_…"
      ]
     },
     "metadata": {},
     "output_type": "display_data"
    },
    {
     "name": "stdout",
     "output_type": "stream",
     "text": [
      "Train loss: 3.8377/3.5261 ACC: 0.68448                                                                                                    \n",
      "Val loss: 3.8373 ACC: 0.67926                                                                                                    \n",
      "Set dropout to 0.8791 (prop=1.0,0.9998=1.0)\n",
      "\n"
     ]
    },
    {
     "data": {
      "application/vnd.jupyter.widget-view+json": {
       "model_id": "259349ae5e8f4fbaa838f55543116b60",
       "version_major": 2,
       "version_minor": 0
      },
      "text/plain": [
       "HBox(children=(FloatProgress(value=0.0, description='Epoch 177', max=11977.0, style=ProgressStyle(description_…"
      ]
     },
     "metadata": {},
     "output_type": "display_data"
    },
    {
     "name": "stdout",
     "output_type": "stream",
     "text": [
      "Train loss: 3.8351/3.5195 ACC: 0.68674                                                                                                    \n",
      "Val loss: 3.8381 ACC: 0.67704                                                                                                    \n",
      "Set dropout to 0.8794 (prop=1.001,1.0=1.0)\n",
      "\n"
     ]
    },
    {
     "data": {
      "application/vnd.jupyter.widget-view+json": {
       "model_id": "4c695450568944e89c7a10e9525b8f9f",
       "version_major": 2,
       "version_minor": 0
      },
      "text/plain": [
       "HBox(children=(FloatProgress(value=0.0, description='Epoch 178', max=11977.0, style=ProgressStyle(description_…"
      ]
     },
     "metadata": {},
     "output_type": "display_data"
    },
    {
     "name": "stdout",
     "output_type": "stream",
     "text": [
      "Train loss: 3.8401/3.852 ACC: 0.68147                                                                                                     \n",
      "Val loss: 3.8376 ACC: 0.67778                                                                                                    \n",
      "Set dropout to 0.8791 (prop=0.9998,0.9996=0.9997)\n",
      "\n"
     ]
    },
    {
     "data": {
      "application/vnd.jupyter.widget-view+json": {
       "model_id": "4d4dde4359b44b41a51797497ad6ddf9",
       "version_major": 2,
       "version_minor": 0
      },
      "text/plain": [
       "HBox(children=(FloatProgress(value=0.0, description='Epoch 179', max=11977.0, style=ProgressStyle(description_…"
      ]
     },
     "metadata": {},
     "output_type": "display_data"
    },
    {
     "name": "stdout",
     "output_type": "stream",
     "text": [
      "Train loss: 3.8364/3.5203 ACC: 0.68477                                                                                                    \n",
      "Val loss: 3.8377 ACC: 0.67778                                                                                                    \n",
      "Set dropout to 0.8793 (prop=1.0,1.0=1.0)\n",
      "\n"
     ]
    },
    {
     "data": {
      "application/vnd.jupyter.widget-view+json": {
       "model_id": "bad8ce2646ab406b8666266b817f98ce",
       "version_major": 2,
       "version_minor": 0
      },
      "text/plain": [
       "HBox(children=(FloatProgress(value=0.0, description='Epoch 180', max=11977.0, style=ProgressStyle(description_…"
      ]
     },
     "metadata": {},
     "output_type": "display_data"
    },
    {
     "name": "stdout",
     "output_type": "stream",
     "text": [
      "Train loss: 3.8353/3.8521 ACC: 0.68674                                                                                                    \n",
      "Val loss: 3.8377 ACC: 0.68074                                                                                                    \n",
      "Set dropout to 0.8796 (prop=1.0,1.0=1.0)\n",
      "\n"
     ]
    },
    {
     "data": {
      "application/vnd.jupyter.widget-view+json": {
       "model_id": "5f255046a2a74822b1c80af3c3695316",
       "version_major": 2,
       "version_minor": 0
      },
      "text/plain": [
       "HBox(children=(FloatProgress(value=0.0, description='Epoch 181', max=11977.0, style=ProgressStyle(description_…"
      ]
     },
     "metadata": {},
     "output_type": "display_data"
    },
    {
     "name": "stdout",
     "output_type": "stream",
     "text": [
      "Train loss: 3.8355/3.5201 ACC: 0.68477                                                                                                    \n",
      "Val loss: 3.8374 ACC: 0.68074                                                                                                    \n",
      "Set dropout to 0.8798 (prop=1.0,1.0=1.0)\n",
      "\n"
     ]
    },
    {
     "data": {
      "application/vnd.jupyter.widget-view+json": {
       "model_id": "273f7e0efd454a7ebdd53807d854fe89",
       "version_major": 2,
       "version_minor": 0
      },
      "text/plain": [
       "HBox(children=(FloatProgress(value=0.0, description='Epoch 182', max=11977.0, style=ProgressStyle(description_…"
      ]
     },
     "metadata": {},
     "output_type": "display_data"
    },
    {
     "name": "stdout",
     "output_type": "stream",
     "text": [
      "Train loss: 3.8394/3.8521 ACC: 0.68138                                                                                                    \n",
      "Val loss: 3.8373 ACC: 0.68148                                                                                                    \n",
      "Set dropout to 0.8795 (prop=0.9998,0.9996=0.9997)\n",
      "\n"
     ]
    },
    {
     "data": {
      "application/vnd.jupyter.widget-view+json": {
       "model_id": "fe4305e62ea443cca3b024faf9447fb1",
       "version_major": 2,
       "version_minor": 0
      },
      "text/plain": [
       "HBox(children=(FloatProgress(value=0.0, description='Epoch 183', max=11977.0, style=ProgressStyle(description_…"
      ]
     },
     "metadata": {},
     "output_type": "display_data"
    },
    {
     "name": "stdout",
     "output_type": "stream",
     "text": [
      "Train loss: 3.8318/3.6276 ACC: 0.68881                                                                                                    \n",
      "Val loss: 3.8384 ACC: 0.67852                                                                                                    \n",
      "Set dropout to 0.8803 (prop=1.001,1.001=1.001)\n",
      "\n"
     ]
    },
    {
     "data": {
      "application/vnd.jupyter.widget-view+json": {
       "model_id": "437f40a8ec434e5ea944cf2d131dc41f",
       "version_major": 2,
       "version_minor": 0
      },
      "text/plain": [
       "HBox(children=(FloatProgress(value=0.0, description='Epoch 184', max=11977.0, style=ProgressStyle(description_…"
      ]
     },
     "metadata": {},
     "output_type": "display_data"
    },
    {
     "name": "stdout",
     "output_type": "stream",
     "text": [
      "Train loss: 3.8374/3.9685 ACC: 0.68524                                                                                                    \n",
      "Val loss: 3.8376 ACC: 0.68                                                                                                       \n",
      "Set dropout to 0.8803 (prop=1.0,0.9997=1.0)\n",
      "\n"
     ]
    },
    {
     "data": {
      "application/vnd.jupyter.widget-view+json": {
       "model_id": "64ee98e523ca4f59ab57bee2cb92fd67",
       "version_major": 2,
       "version_minor": 0
      },
      "text/plain": [
       "HBox(children=(FloatProgress(value=0.0, description='Epoch 185', max=11977.0, style=ProgressStyle(description_…"
      ]
     },
     "metadata": {},
     "output_type": "display_data"
    },
    {
     "name": "stdout",
     "output_type": "stream",
     "text": [
      "Train loss: 3.8344/3.5187 ACC: 0.68693                                                                                                    \n",
      "Val loss: 3.8365 ACC: 0.68222                                                                                                    \n",
      "Set dropout to 0.8806 (prop=1.0,1.0=1.0)\n",
      "\n"
     ]
    },
    {
     "data": {
      "application/vnd.jupyter.widget-view+json": {
       "model_id": "11292d7a06fb40479b432a1842e5a0a3",
       "version_major": 2,
       "version_minor": 0
      },
      "text/plain": [
       "HBox(children=(FloatProgress(value=0.0, description='Epoch 186', max=11977.0, style=ProgressStyle(description_…"
      ]
     },
     "metadata": {},
     "output_type": "display_data"
    },
    {
     "name": "stdout",
     "output_type": "stream",
     "text": [
      "Train loss: 3.839/3.8528 ACC: 0.68345                                                                                                     \n",
      "Epoch   186: reducing learning rate of group 0 to 4.4106e-03.                                                                    \n",
      "\n",
      "Set dropout to 0.8804 (prop=1.0,0.9996=0.9999)\n",
      "\n"
     ]
    },
    {
     "data": {
      "application/vnd.jupyter.widget-view+json": {
       "model_id": "5d912aab30ca4c228775df685138e039",
       "version_major": 2,
       "version_minor": 0
      },
      "text/plain": [
       "HBox(children=(FloatProgress(value=0.0, description='Epoch 187', max=11977.0, style=ProgressStyle(description_…"
      ]
     },
     "metadata": {},
     "output_type": "display_data"
    },
    {
     "name": "stdout",
     "output_type": "stream",
     "text": [
      "Train loss: 3.836/3.5187 ACC: 0.68458                                                                                                     \n",
      "Val loss: 3.8386 ACC: 0.67926                                                                                                    \n",
      "Set dropout to 0.8807 (prop=1.001,1.0=1.0)\n",
      "\n"
     ]
    },
    {
     "data": {
      "application/vnd.jupyter.widget-view+json": {
       "model_id": "4343f0b69f5f4fd7b3293ca5908ef19d",
       "version_major": 2,
       "version_minor": 0
      },
      "text/plain": [
       "HBox(children=(FloatProgress(value=0.0, description='Epoch 188', max=11977.0, style=ProgressStyle(description_…"
      ]
     },
     "metadata": {},
     "output_type": "display_data"
    },
    {
     "name": "stdout",
     "output_type": "stream",
     "text": [
      "Train loss: 3.8364/3.8521 ACC: 0.68627                                                                                                    \n",
      "Val loss: 3.8382 ACC: 0.67926                                                                                                    \n",
      "Set dropout to 0.8809 (prop=1.0,1.0=1.0)\n",
      "\n"
     ]
    },
    {
     "data": {
      "application/vnd.jupyter.widget-view+json": {
       "model_id": "449d2b10208946a09118bdc0b9bf0b7f",
       "version_major": 2,
       "version_minor": 0
      },
      "text/plain": [
       "HBox(children=(FloatProgress(value=0.0, description='Epoch 189', max=11977.0, style=ProgressStyle(description_…"
      ]
     },
     "metadata": {},
     "output_type": "display_data"
    },
    {
     "name": "stdout",
     "output_type": "stream",
     "text": [
      "Train loss: 3.8327/3.5187 ACC: 0.68891                                                                                                    \n",
      "Val loss: 3.8379 ACC: 0.67778                                                                                                    \n",
      "Set dropout to 0.8815 (prop=1.001,1.0=1.001)\n",
      "\n"
     ]
    },
    {
     "data": {
      "application/vnd.jupyter.widget-view+json": {
       "model_id": "17bb1411baf5422ba0f3c043948e448b",
       "version_major": 2,
       "version_minor": 0
      },
      "text/plain": [
       "HBox(children=(FloatProgress(value=0.0, description='Epoch 190', max=11977.0, style=ProgressStyle(description_…"
      ]
     },
     "metadata": {},
     "output_type": "display_data"
    },
    {
     "name": "stdout",
     "output_type": "stream",
     "text": [
      "Train loss: 3.8386/4.1751 ACC: 0.68561                                                                                                    \n",
      "Val loss: 3.8377 ACC: 0.68                                                                                                       \n",
      "Set dropout to 0.8814 (prop=1.0,0.9995=0.9999)\n",
      "\n"
     ]
    },
    {
     "data": {
      "application/vnd.jupyter.widget-view+json": {
       "model_id": "2083e6f62fd24e148e3a1891b1aa1aa7",
       "version_major": 2,
       "version_minor": 0
      },
      "text/plain": [
       "HBox(children=(FloatProgress(value=0.0, description='Epoch 191', max=11977.0, style=ProgressStyle(description_…"
      ]
     },
     "metadata": {},
     "output_type": "display_data"
    },
    {
     "name": "stdout",
     "output_type": "stream",
     "text": [
      "Train loss: 3.8368/3.8516 ACC: 0.68505                                                                                                    \n",
      "Val loss: 3.8371 ACC: 0.68                                                                                                       \n",
      "Set dropout to 0.8815 (prop=1.0,1.0=1.0)\n",
      "\n"
     ]
    },
    {
     "data": {
      "application/vnd.jupyter.widget-view+json": {
       "model_id": "65ab46130cc84308b735707501b8ba70",
       "version_major": 2,
       "version_minor": 0
      },
      "text/plain": [
       "HBox(children=(FloatProgress(value=0.0, description='Epoch 192', max=11977.0, style=ProgressStyle(description_…"
      ]
     },
     "metadata": {},
     "output_type": "display_data"
    },
    {
     "name": "stdout",
     "output_type": "stream",
     "text": [
      "Train loss: 3.837/3.5187 ACC: 0.68401                                                                                                     \n",
      "Val loss: 3.8376 ACC: 0.68074                                                                                                    \n",
      "Set dropout to 0.8816 (prop=1.0,1.0=1.0)\n",
      "\n"
     ]
    },
    {
     "data": {
      "application/vnd.jupyter.widget-view+json": {
       "model_id": "552e0f49e21847e2b634b3c72d70e708",
       "version_major": 2,
       "version_minor": 0
      },
      "text/plain": [
       "HBox(children=(FloatProgress(value=0.0, description='Epoch 193', max=11977.0, style=ProgressStyle(description_…"
      ]
     },
     "metadata": {},
     "output_type": "display_data"
    },
    {
     "name": "stdout",
     "output_type": "stream",
     "text": [
      "Train loss: 3.8402/4.1843 ACC: 0.68298                                                                                                    \n",
      "Val loss: 3.8384 ACC: 0.6763                                                                                                     \n",
      "Set dropout to 0.8813 (prop=0.9999,0.9997=0.9998)\n",
      "\n"
     ]
    },
    {
     "data": {
      "application/vnd.jupyter.widget-view+json": {
       "model_id": "2ce981f7ab2d4584a2921f117b776470",
       "version_major": 2,
       "version_minor": 0
      },
      "text/plain": [
       "HBox(children=(FloatProgress(value=0.0, description='Epoch 194', max=11977.0, style=ProgressStyle(description_…"
      ]
     },
     "metadata": {},
     "output_type": "display_data"
    },
    {
     "name": "stdout",
     "output_type": "stream",
     "text": [
      "Train loss: 3.8361/4.1849 ACC: 0.68721                                                                                                    \n",
      "Val loss: 3.8377 ACC: 0.67926                                                                                                    \n",
      "Set dropout to 0.8815 (prop=1.0,1.0=1.0)\n",
      "\n"
     ]
    },
    {
     "data": {
      "application/vnd.jupyter.widget-view+json": {
       "model_id": "5756d0c804a645f0958d71c1b85a1ba1",
       "version_major": 2,
       "version_minor": 0
      },
      "text/plain": [
       "HBox(children=(FloatProgress(value=0.0, description='Epoch 195', max=11977.0, style=ProgressStyle(description_…"
      ]
     },
     "metadata": {},
     "output_type": "display_data"
    },
    {
     "name": "stdout",
     "output_type": "stream",
     "text": [
      "Train loss: 3.8359/3.5187 ACC: 0.68486                                                                                                    \n",
      "Val loss: 3.8378 ACC: 0.67852                                                                                                    \n",
      "Set dropout to 0.8818 (prop=1.0,1.0=1.0)\n",
      "\n"
     ]
    },
    {
     "data": {
      "application/vnd.jupyter.widget-view+json": {
       "model_id": "83cedd12c11d4e57a020279fc7ebaff6",
       "version_major": 2,
       "version_minor": 0
      },
      "text/plain": [
       "HBox(children=(FloatProgress(value=0.0, description='Epoch 196', max=11977.0, style=ProgressStyle(description_…"
      ]
     },
     "metadata": {},
     "output_type": "display_data"
    },
    {
     "name": "stdout",
     "output_type": "stream",
     "text": [
      "Train loss: 3.8341/3.8501 ACC: 0.68834                                                                                                    \n",
      "Val loss: 3.8371 ACC: 0.68074                                                                                                    \n",
      "Set dropout to 0.8821 (prop=1.001,1.0=1.0)\n",
      "\n"
     ]
    },
    {
     "data": {
      "application/vnd.jupyter.widget-view+json": {
       "model_id": "4d5bf0ac312a46e49e89f31c9e56a376",
       "version_major": 2,
       "version_minor": 0
      },
      "text/plain": [
       "HBox(children=(FloatProgress(value=0.0, description='Epoch 197', max=11977.0, style=ProgressStyle(description_…"
      ]
     },
     "metadata": {},
     "output_type": "display_data"
    },
    {
     "name": "stdout",
     "output_type": "stream",
     "text": [
      "Train loss: 3.8385/4.2086 ACC: 0.68552                                                                                                    \n",
      "Epoch   197: reducing learning rate of group 0 to 4.1900e-03.                                                                    \n",
      "\n",
      "Set dropout to 0.882 (prop=1.0,0.9996=0.9999)\n",
      "\n"
     ]
    },
    {
     "data": {
      "application/vnd.jupyter.widget-view+json": {
       "model_id": "69428e840aaf412686c8e5ffa4c86cdd",
       "version_major": 2,
       "version_minor": 0
      },
      "text/plain": [
       "HBox(children=(FloatProgress(value=0.0, description='Epoch 198', max=11977.0, style=ProgressStyle(description_…"
      ]
     },
     "metadata": {},
     "output_type": "display_data"
    },
    {
     "name": "stdout",
     "output_type": "stream",
     "text": [
      "Train loss: 3.8343/3.5187 ACC: 0.68796                                                                                                    \n",
      "Val loss: 3.8374 ACC: 0.67852                                                                                                    \n",
      "Set dropout to 0.8824 (prop=1.001,1.0=1.0)\n",
      "\n"
     ]
    },
    {
     "data": {
      "application/vnd.jupyter.widget-view+json": {
       "model_id": "136ff3d78beb4b5a919e507a4b0bc999",
       "version_major": 2,
       "version_minor": 0
      },
      "text/plain": [
       "HBox(children=(FloatProgress(value=0.0, description='Epoch 199', max=11977.0, style=ProgressStyle(description_…"
      ]
     },
     "metadata": {},
     "output_type": "display_data"
    },
    {
     "name": "stdout",
     "output_type": "stream",
     "text": [
      "Train loss: 3.8362/3.5188 ACC: 0.68401                                                                                                    \n",
      "Val loss: 3.8374 ACC: 0.67926                                                                                                    \n",
      "Set dropout to 0.8825 (prop=1.0,0.9999=1.0)\n",
      "\n"
     ]
    },
    {
     "data": {
      "application/vnd.jupyter.widget-view+json": {
       "model_id": "ccc0bf18cf414546b6dc525328233f25",
       "version_major": 2,
       "version_minor": 0
      },
      "text/plain": [
       "HBox(children=(FloatProgress(value=0.0, description='Epoch 200', max=11977.0, style=ProgressStyle(description_…"
      ]
     },
     "metadata": {},
     "output_type": "display_data"
    },
    {
     "name": "stdout",
     "output_type": "stream",
     "text": [
      "Train loss: 3.8364/3.5187 ACC: 0.68364                                                                                                    \n",
      "Val loss: 3.838 ACC: 0.67778                                                                                                     \n",
      "Set dropout to 0.8827 (prop=1.0,0.9999=1.0)\n",
      "\n"
     ]
    },
    {
     "data": {
      "application/vnd.jupyter.widget-view+json": {
       "model_id": "a5ecf52df9e04f6584bd8239870275cc",
       "version_major": 2,
       "version_minor": 0
      },
      "text/plain": [
       "HBox(children=(FloatProgress(value=0.0, description='Epoch 201', max=11977.0, style=ProgressStyle(description_…"
      ]
     },
     "metadata": {},
     "output_type": "display_data"
    },
    {
     "name": "stdout",
     "output_type": "stream",
     "text": [
      "Train loss: 3.835/3.8521 ACC: 0.68759                                                                                                     \n",
      "Val loss: 3.8378 ACC: 0.68                                                                                                       \n",
      "Set dropout to 0.883 (prop=1.001,1.0=1.0)\n",
      "\n"
     ]
    },
    {
     "data": {
      "application/vnd.jupyter.widget-view+json": {
       "model_id": "04be6cf495a84b089a94826eb7316a1d",
       "version_major": 2,
       "version_minor": 0
      },
      "text/plain": [
       "HBox(children=(FloatProgress(value=0.0, description='Epoch 202', max=11977.0, style=ProgressStyle(description_…"
      ]
     },
     "metadata": {},
     "output_type": "display_data"
    },
    {
     "name": "stdout",
     "output_type": "stream",
     "text": [
      "Train loss: 3.8388/4.1849 ACC: 0.68373                                                                                                    \n",
      "Val loss: 3.8379 ACC: 0.6763                                                                                                     \n",
      "Set dropout to 0.8829 (prop=1.0,0.9997=0.9999)\n",
      "\n"
     ]
    },
    {
     "data": {
      "application/vnd.jupyter.widget-view+json": {
       "model_id": "d72c109d62164047aed13235349b4fe5",
       "version_major": 2,
       "version_minor": 0
      },
      "text/plain": [
       "HBox(children=(FloatProgress(value=0.0, description='Epoch 203', max=11977.0, style=ProgressStyle(description_…"
      ]
     },
     "metadata": {},
     "output_type": "display_data"
    },
    {
     "name": "stdout",
     "output_type": "stream",
     "text": [
      "Train loss: 3.8355/3.9683 ACC: 0.6882                                                                                                     \r"
     ]
    }
   ],
   "source": [
    "best = 99999.\n",
    "counter = 1\n",
    "eps=0.6\n",
    "old_loss_train = 1.\n",
    "dl_val = DataLoader(list(zip(fold.X_val, y_val)), batch_size=batch_size,\n",
    "                         shuffle=False, collate_fn=collate_train, num_workers=4)\n",
    "for e in tqdm(range(nepochs), total=nepochs):\n",
    "    dl_train = DataLoader(list(zip(fold.X_train, y_train)), batch_size=batch_size,\n",
    "                             shuffle=True, collate_fn=collate_train, num_workers=4)\n",
    "    loss_train  = 0.\n",
    "    with tqdm(total=len(y_train)+len(y_val), smoothing=0., desc=f\"Epoch {e+1}\") as pbar:\n",
    "        total = 0\n",
    "        correct  = 0\n",
    "        ab.train()\n",
    "        for i, (terms_idx, docs_offsets, y) in enumerate(dl_train):\n",
    "            terms_idx    = terms_idx.to( device )\n",
    "            docs_offsets = docs_offsets.to( device )\n",
    "            y            = y.to( device )\n",
    "            \n",
    "            pred_docs,_ = ab( terms_idx, docs_offsets)\n",
    "            pred_docs = F.softmax(pred_docs)\n",
    "            loss = loss_func_cel(pred_docs, y)\n",
    "            \n",
    "            optimizer.zero_grad()\n",
    "            loss.backward()\n",
    "            optimizer.step()\n",
    "            \n",
    "            loss_train += loss.item()\n",
    "            total      += len(y)\n",
    "            y_pred      = pred_docs.argmax(axis=1)\n",
    "            correct    += (y_pred == y).sum().item()\n",
    "            \n",
    "            toprint  = f\"Train loss: {loss_train/(i+1):.5}/{loss.item():.5} \"\n",
    "            toprint += f'ACC: {correct/total:.5}'\n",
    "            \n",
    "            print(toprint, end=f\"{' '*100}\\r\")\n",
    "            \n",
    "            pbar.update( len(y) )\n",
    "            del pred_docs, loss\n",
    "            del terms_idx, docs_offsets, y\n",
    "            del y_pred\n",
    "        loss_train = loss_train/(i+1)\n",
    "        total = 0\n",
    "        correct  = 0\n",
    "        ab.eval()\n",
    "        with torch.no_grad():\n",
    "            loss_val = 0.\n",
    "            print()\n",
    "            for i, (terms_idx, docs_offsets, y) in enumerate(dl_val):\n",
    "                terms_idx    = terms_idx.to( device )\n",
    "                docs_offsets = docs_offsets.to( device )\n",
    "                y            = y.to( device )\n",
    "\n",
    "                pred_docs,weights = ab( terms_idx, docs_offsets )\n",
    "                pred_docs   = F.softmax(pred_docs)\n",
    "\n",
    "                y_pred      = pred_docs.argmax(axis=1)\n",
    "                correct    += (y_pred == y).sum().item()\n",
    "                total      += len(y)\n",
    "                loss2       = loss_func_cel(pred_docs, y)\n",
    "                loss_val   += loss2\n",
    "\n",
    "                print(f'Val loss: {loss_val.item()/(i+1):.5} ACC: {correct/total:.5}', end=f\"{' '*100}\\r\")\n",
    "   \n",
    "                pbar.update( len(y) )\n",
    "\n",
    "            del terms_idx, docs_offsets, y\n",
    "            del y_pred\n",
    "            \n",
    "            loss_val   = loss_val/(i+1)\n",
    "            \n",
    "            old_loss_train = (1.-eps)*old_loss_train + eps*loss_train\n",
    "            \n",
    "            #prop_val   = loss_val.cpu() / (old_loss_train+optimizer.param_groups[0]['lr'])\n",
    "            prop_val   = loss_val.cpu() / old_loss_train\n",
    "            ## if loss_train < loss_val, prop_val > 1 --  Overfitting\n",
    "            ## if loss_train > loss_val, prop_val < 1 -- Underfitting\n",
    "            \n",
    "            prop_learn = old_loss_train / loss_train\n",
    "            ## if loss_train < old_loss_train, prop_learn > 1 -- Aprendendo\n",
    "            ## if loss_train > old_loss_train, prop_learn < 1 -- Desaprendendo\n",
    "            \n",
    "            #prop = (2.*prop_val*prop_learn)/(prop_val+prop_learn)\n",
    "            prop = np.sqrt(prop_val*prop_learn)\n",
    "            ab.drop_ *= prop\n",
    "            ab.drop_ = max(0.05, min(ab.drop_, 0.95))\n",
    "            \n",
    "            scheduler.step(loss_val)\n",
    "            print()\n",
    "            print(f\"Set dropout to {ab.drop_:.4} (prop={prop_val:.4},{prop_learn:.4}={prop:.4})\")\n",
    "            #scheduler.step()\n",
    "\n",
    "            if best-loss_val > 0.0001 :\n",
    "                best = loss_val.item()\n",
    "                counter = 1\n",
    "                print(f'New Best Val loss: {best:.5}', end=f\"{' '*100}\\n\")\n",
    "                best_model = copy.deepcopy(ab).to('cpu')\n",
    "            elif counter > max_epochs:\n",
    "                print()\n",
    "                print(f'Best Val loss: {best:.5}', end=f\"{' '*100}\\n\")\n",
    "                break\n",
    "            else:\n",
    "                counter += 1\n",
    "            del pred_docs, loss2"
   ]
  },
  {
   "cell_type": "code",
   "execution_count": null,
   "metadata": {},
   "outputs": [],
   "source": []
  },
  {
   "cell_type": "code",
   "execution_count": null,
   "metadata": {},
   "outputs": [],
   "source": [
    "ab = copy.deepcopy(best_model).to(device)\n",
    "loss_total = 0\n",
    "correct_t = 0\n",
    "total_t = 0\n",
    "dl_test = DataLoader(list(zip(fold.X_test, y_test)), batch_size=batch_size,\n",
    "                         shuffle=False, collate_fn=collate_train, num_workers=2)\n",
    "for i, (terms_idx_t, docs_offsets_t, y_t) in enumerate(dl_test):\n",
    "    terms_idx_t    = terms_idx_t.to( device )\n",
    "    docs_offsets_t = docs_offsets_t.to( device )\n",
    "    y_t            = y_t.to( device )\n",
    "\n",
    "    pred_docs_t,weigths = ab( terms_idx_t, docs_offsets_t )\n",
    "    pred_docs_t = F.softmax(pred_docs_t)\n",
    "\n",
    "    y_pred_t    = pred_docs_t.argmax(axis=1)\n",
    "    correct_t  += (y_pred_t == y_t).sum().item()\n",
    "    total_t    += len(y_t)\n",
    "    loss_total += loss_func_cel(pred_docs_t, y_t)\n",
    "\n",
    "print(f'Test loss: {loss_total.item()/(i+1):.5} ACC: {correct_t/total_t:.5}', end=f\"{' '*100}\\r\")"
   ]
  },
  {
   "cell_type": "code",
   "execution_count": null,
   "metadata": {},
   "outputs": [],
   "source": [
    "\"\"\"\n",
    "acm ####################################################################################\n",
    "Train loss: 1.6009/1.6089 ACC: 0.94886                                                                                                    \n",
    "Val loss: 1.7718 ACC: 0.77475                                                                                                    \n",
    "New Best Val loss: 1.7718                                                                                                    \n",
    "Test loss: 1.7678 ACC: 0.78557  79.92\n",
    "\n",
    "Train loss: 1.7562/1.7777 ACC: 0.78902                                                                                                    \n",
    "Val loss: 1.7574 ACC: 0.78717                                                                                                    \n",
    "Set dropout to 0.8584 (prop=0.9964,1.004=1.0)\n",
    "New Best Val loss: 1.7574                                                                                                \n",
    "Test loss: 1.7665 ACC: 0.77836                                                                                                    \n",
    "\n",
    "\n",
    "20ng ####################################################################################\n",
    "Train loss: 2.0907/2.0787 ACC: 0.98845                                                                                                    \n",
    "Val loss: 2.1869 ACC: 0.90803                                                                                                    \n",
    "New Best Val loss: 2.1869                                                                                                    \n",
    "Test loss: 2.178 ACC: 0.91068   92.65\n",
    "\n",
    "reut ####################################################################################\n",
    "Train loss: 3.7735/3.5191 ACC: 0.74734                                                                                                    \n",
    "Val loss: 3.8554 ACC: 0.6763                                                                                                    \n",
    "New Best Val loss: 3.8554                                                                                                    \n",
    "Test loss: 3.8493 ACC: 0.6837  72.67\n",
    "\n",
    "Train loss: 3.7489/3.8717 ACC: 0.77265                                                                                                    \n",
    "Val loss: 3.8084 ACC: 0.71037                                                                                                    \n",
    "Adjusting learning rate of group 0 to 5.1046e-03.\n",
    "New Best Val loss: 3.8084 \n",
    "\n",
    "webkb ####################################################################################\n",
    "Train loss: 1.2228/1.2037 ACC: 0.9504                                                                                                     \n",
    "Val loss: 1.3787 ACC: 0.80316                                                                                                    \n",
    "New Best Val loss: 1.3787                                                                                                    \n",
    "Test loss: 1.3857 ACC: 0.78858   81.53\n",
    "\n",
    "\"\"\""
   ]
  },
  {
   "cell_type": "code",
   "execution_count": null,
   "metadata": {},
   "outputs": [],
   "source": []
  },
  {
   "cell_type": "code",
   "execution_count": null,
   "metadata": {},
   "outputs": [],
   "source": []
  },
  {
   "cell_type": "code",
   "execution_count": null,
   "metadata": {},
   "outputs": [],
   "source": []
  },
  {
   "cell_type": "code",
   "execution_count": null,
   "metadata": {},
   "outputs": [],
   "source": []
  },
  {
   "cell_type": "markdown",
   "metadata": {},
   "source": []
  },
  {
   "cell_type": "code",
   "execution_count": null,
   "metadata": {
    "scrolled": false
   },
   "outputs": [],
   "source": []
  },
  {
   "cell_type": "code",
   "execution_count": null,
   "metadata": {},
   "outputs": [],
   "source": []
  },
  {
   "cell_type": "code",
   "execution_count": null,
   "metadata": {},
   "outputs": [],
   "source": []
  },
  {
   "cell_type": "code",
   "execution_count": null,
   "metadata": {},
   "outputs": [],
   "source": []
  },
  {
   "cell_type": "code",
   "execution_count": null,
   "metadata": {},
   "outputs": [],
   "source": []
  },
  {
   "cell_type": "code",
   "execution_count": null,
   "metadata": {},
   "outputs": [],
   "source": [
    "class AttentionBag(nn.Module):\n",
    "    def __init__(self, vocab_size, hiddens, nclass, drop=.5, initrange=.5):\n",
    "        super(AttentionBag, self).__init__()\n",
    "        self.hiddens    = hiddens\n",
    "        self.mask       = Mask()\n",
    "        self.dt_emb     = nn.Embedding(vocab_size, hiddens)\n",
    "        self.dt_dir_map = nn.Linear(hiddens, hiddens)\n",
    "        self.drop       = nn.Dropout(drop)\n",
    "        self.ma_term    = nn.MultiheadAttention(hiddens, 1)\n",
    "        self.fc         = nn.Linear(hiddens, nclass)\n",
    "        self.initrange  = initrange \n",
    "        self.init_weights()\n",
    "    def forward(self, terms_idx, docs_offsets):\n",
    "        n = terms_idx.shape[0]\n",
    "        batch_size = docs_offsets.shape[0]\n",
    "        \n",
    "        k         = [ terms_idx[ docs_offsets[i-1]:docs_offsets[i] ] for i in range(1, batch_size) ]\n",
    "        k.append( terms_idx[ docs_offsets[-1]: ] )\n",
    "        x_packed  = pad_sequence(k, batch_first=True, padding_value=0)\n",
    "\n",
    "        bx_packed = x_packed == 0\n",
    "        pad_mask  = bx_packed.logical_not()\n",
    "        pad_mask  = pad_mask.view(*bx_packed.shape, 1)\n",
    "        pad_mask  = pad_mask.logical_and(pad_mask.transpose(1, 2))\n",
    "        \n",
    "        dt_h      = self.dt_emb( x_packed )\n",
    "        dt_h      = self.drop(dt_h)\n",
    "        dir_dt_h  = self.dt_dir_map( dt_h )\n",
    "\n",
    "        weights = torch.bmm( dt_h, dir_dt_h.transpose( 1, 2 ) )\n",
    "        weights = self.mask(weights)\n",
    "        \n",
    "        weights_disc = (weights * pad_mask)\n",
    "        weights_disc = weights_disc.sum(axis=1)\n",
    "        weights_disc = F.softmax(weights_disc, dim=1)\n",
    "        weights_disc = weights_disc.view( *weights_disc.shape, 1 )\n",
    "        \n",
    "        attn_mask = weights != 0\n",
    "        attn_mask = attn_mask.logical_and( pad_mask ).logical_not()\n",
    "        \n",
    "        dt_h     = dt_h.transpose(0,1)\n",
    "        dir_dt_h = dir_dt_h.transpose(0,1)\n",
    "        docs_att, weigths_att = self.ma_term( dt_h, dir_dt_h, dt_h,\n",
    "                                  key_padding_mask=bx_packed, \n",
    "                                  attn_mask=attn_mask )\n",
    "\n",
    "        weigths_att = torch.where(torch.isnan(weigths_att), torch.zeros_like(weigths_att), weigths_att)\n",
    "        weigths_att = (weigths_att * pad_mask)\n",
    "        weigths_att = weigths_att.sum(axis=1)\n",
    "        weigths_att = F.softmax(weigths_att, dim=1)\n",
    "        weigths_att = weigths_att.view( *weigths_att.shape, 1 )\n",
    "        \n",
    "        weigths = weights_disc + weigths_att\n",
    "\n",
    "        docs_att = docs_att.transpose(0,1)\n",
    "        docs_att = torch.where(torch.isnan(docs_att), torch.zeros_like(docs_att), docs_att)\n",
    "        \n",
    "        docs_h = docs_att * weigths\n",
    "        docs_h = docs_h.sum(axis=1)\n",
    "        docs_h = docs_h / bx_packed.logical_not().sum(dim=1).view(batch_size, 1)\n",
    "        docs_h = torch.where(torch.isnan(docs_h), torch.zeros_like(docs_h), docs_h)\n",
    "        docs_h = self.drop(docs_h)\n",
    "        return self.fc(docs_h)\n",
    "    \n",
    "    def init_weights(self):\n",
    "        self.dt_emb.weight.data.uniform_(-self.initrange, self.initrange)\n",
    "        self.dt_dir_map.weight.data.uniform_(-self.initrange, self.initrange)\n",
    "        self.fc.weight.data.uniform_(-self.initrange, self.initrange)\n",
    "        self.ma_term.in_proj_weight.data.uniform_(-self.initrange, self.initrange)"
   ]
  },
  {
   "cell_type": "code",
   "execution_count": null,
   "metadata": {},
   "outputs": [],
   "source": []
  },
  {
   "cell_type": "code",
   "execution_count": null,
   "metadata": {},
   "outputs": [],
   "source": []
  },
  {
   "cell_type": "code",
   "execution_count": null,
   "metadata": {
    "scrolled": false
   },
   "outputs": [],
   "source": []
  },
  {
   "cell_type": "code",
   "execution_count": null,
   "metadata": {
    "scrolled": true
   },
   "outputs": [],
   "source": [
    "\n"
   ]
  },
  {
   "cell_type": "code",
   "execution_count": null,
   "metadata": {},
   "outputs": [],
   "source": []
  },
  {
   "cell_type": "code",
   "execution_count": null,
   "metadata": {},
   "outputs": [],
   "source": []
  },
  {
   "cell_type": "code",
   "execution_count": null,
   "metadata": {},
   "outputs": [],
   "source": []
  },
  {
   "cell_type": "code",
   "execution_count": null,
   "metadata": {},
   "outputs": [],
   "source": []
  },
  {
   "cell_type": "code",
   "execution_count": null,
   "metadata": {},
   "outputs": [],
   "source": [
    "y_pred_t      = pred_docs_t.argmax(axis=1)\n",
    "correct_t     = (y_pred_t == y_t).sum().item()\n",
    "total_t       = len(y_t)\n",
    "correct_t/total_t"
   ]
  },
  {
   "cell_type": "code",
   "execution_count": null,
   "metadata": {},
   "outputs": [],
   "source": [
    "docs_offsets_t"
   ]
  },
  {
   "cell_type": "code",
   "execution_count": null,
   "metadata": {},
   "outputs": [],
   "source": [
    "terms_idx_t[:docs_offsets_t[batch_size]]"
   ]
  },
  {
   "cell_type": "code",
   "execution_count": null,
   "metadata": {},
   "outputs": [],
   "source": [
    "batch_off_test  = docs_offsets_t[batch_size]\n",
    "batch_tidx_test = terms_idx_t[:batch_off_test]\n",
    "h_terms_test    = sc.tt_emb( batch_tidx_test )\n",
    "dirh_terms_test = sc.tt_dir_map( h_terms_test )\n",
    "\n",
    "W = torch.matmul( h_terms_test, dirh_terms_test.T )\n",
    "W = F.leaky_relu( W, negative_slope=sc.mask.negative_slope)\n",
    "W = F.sigmoid(W)\n",
    "W"
   ]
  },
  {
   "cell_type": "code",
   "execution_count": null,
   "metadata": {},
   "outputs": [],
   "source": [
    "k = [ batch_tidx_test[ docs_offsets_t[i-1]:docs_offsets_t[i] ] for i in range(1, batch_size) ]\n",
    "k.append( batch_tidx_test[ docs_offsets_t[batch_size-1]:docs_offsets_t[batch_size] ] )\n",
    "x_packed = pad_sequence(k, batch_first=True, padding_value=0)\n",
    "tt_emb = sc.tt_emb( x_packed )\n",
    "len(k)"
   ]
  },
  {
   "cell_type": "code",
   "execution_count": null,
   "metadata": {},
   "outputs": [],
   "source": []
  },
  {
   "cell_type": "code",
   "execution_count": null,
   "metadata": {},
   "outputs": [],
   "source": [
    "x_packed = pad_sequence(k, batch_first=True, padding_value=0)\n",
    "tt_emb = sc.tt_emb( x_packed )"
   ]
  },
  {
   "cell_type": "code",
   "execution_count": null,
   "metadata": {},
   "outputs": [],
   "source": [
    "tt_emb.transpose(0,1)"
   ]
  },
  {
   "cell_type": "code",
   "execution_count": null,
   "metadata": {},
   "outputs": [],
   "source": []
  },
  {
   "cell_type": "code",
   "execution_count": null,
   "metadata": {},
   "outputs": [],
   "source": []
  },
  {
   "cell_type": "code",
   "execution_count": null,
   "metadata": {},
   "outputs": [],
   "source": []
  },
  {
   "cell_type": "code",
   "execution_count": null,
   "metadata": {},
   "outputs": [],
   "source": [
    "a = [terms_idx, terms_idx]\n",
    "torch.stack(a)"
   ]
  },
  {
   "cell_type": "code",
   "execution_count": null,
   "metadata": {
    "scrolled": true
   },
   "outputs": [],
   "source": [
    "F.softmax(pred_docs_t).argmax(axis=1)"
   ]
  },
  {
   "cell_type": "code",
   "execution_count": null,
   "metadata": {},
   "outputs": [],
   "source": [
    "y_val"
   ]
  },
  {
   "cell_type": "code",
   "execution_count": null,
   "metadata": {},
   "outputs": [],
   "source": [
    "(y_t == F.softmax(pred_docs_t).argmax(axis=1)).sum().item()/y_t.shape[0]"
   ]
  },
  {
   "cell_type": "code",
   "execution_count": null,
   "metadata": {},
   "outputs": [],
   "source": [
    "terms_idx_t, docs_offsets_t"
   ]
  },
  {
   "cell_type": "code",
   "execution_count": null,
   "metadata": {},
   "outputs": [],
   "source": [
    "shifts = sc._get_shift_(docs_offsets_t, terms_idx_t.shape[0])"
   ]
  },
  {
   "cell_type": "code",
   "execution_count": null,
   "metadata": {},
   "outputs": [],
   "source": [
    "zipado = zip(docs_offsets_t, shifts)\n",
    "#next(zipado)\n",
    "start,size = next(zipado)"
   ]
  },
  {
   "cell_type": "code",
   "execution_count": null,
   "metadata": {},
   "outputs": [],
   "source": [
    "w = sc.tt_emb( terms_idx_t[start:start+size] )\n",
    "w1 = sc.tt_dir_map( w )\n",
    "w = torch.matmul( w, w1.T )\n",
    "w = F.leaky_relu( w, negative_slope=sc.negative_slope)\n",
    "w = F.sigmoid(w)\n",
    "#w = F.tanh(w)\n",
    "#w = F.relu(w)\n",
    "#w = w.mean(axis=1)\n",
    "#w = F.softmax(w)\n",
    "w,w1"
   ]
  },
  {
   "cell_type": "code",
   "execution_count": null,
   "metadata": {},
   "outputs": [],
   "source": [
    "w.round().sum() / (w.shape[0]*w.shape[1])"
   ]
  },
  {
   "cell_type": "code",
   "execution_count": null,
   "metadata": {},
   "outputs": [],
   "source": []
  },
  {
   "cell_type": "code",
   "execution_count": null,
   "metadata": {},
   "outputs": [],
   "source": [
    "inv_mapper = { v:k for (k,v) in tokenizer.node_mapper.items() }"
   ]
  },
  {
   "cell_type": "code",
   "execution_count": null,
   "metadata": {},
   "outputs": [],
   "source": [
    "terms_idx[start:start+size]"
   ]
  },
  {
   "cell_type": "code",
   "execution_count": null,
   "metadata": {},
   "outputs": [],
   "source": [
    "fold.X_val[0]"
   ]
  },
  {
   "cell_type": "code",
   "execution_count": null,
   "metadata": {},
   "outputs": [],
   "source": [
    "bla = w.mean(axis=1)\n",
    "bla = F.softmax(bla)\n",
    "#bla = bla/torch.clamp(bla.sum(), 0.0001)\n",
    "bla"
   ]
  },
  {
   "cell_type": "code",
   "execution_count": null,
   "metadata": {},
   "outputs": [],
   "source": [
    "[ (i, tid.item(),inv_mapper[tid.item()], wei.item()) for i, (tid, wei) in enumerate(zip(terms_idx[start:start+size], bla)) ]"
   ]
  },
  {
   "cell_type": "code",
   "execution_count": null,
   "metadata": {},
   "outputs": [],
   "source": [
    "w"
   ]
  },
  {
   "cell_type": "code",
   "execution_count": null,
   "metadata": {},
   "outputs": [],
   "source": [
    "w.mean(axis=1)"
   ]
  },
  {
   "cell_type": "code",
   "execution_count": null,
   "metadata": {},
   "outputs": [],
   "source": [
    "w.shape"
   ]
  },
  {
   "cell_type": "code",
   "execution_count": null,
   "metadata": {},
   "outputs": [],
   "source": [
    "norm = nn.BatchNorm1d(num_features=1).to(device)\n",
    "\n",
    "bla2 = norm(bla.view(-1, 1)).squeeze()\n",
    "bla2 = F.sigmoid(bla2)\n",
    "bla2"
   ]
  },
  {
   "cell_type": "code",
   "execution_count": null,
   "metadata": {},
   "outputs": [],
   "source": [
    "1"
   ]
  },
  {
   "cell_type": "code",
   "execution_count": null,
   "metadata": {},
   "outputs": [],
   "source": [
    "ma = nn.MultiheadAttention(300, 300).to(device)\n",
    "ma"
   ]
  },
  {
   "cell_type": "code",
   "execution_count": null,
   "metadata": {},
   "outputs": [],
   "source": [
    "torch.__version__"
   ]
  },
  {
   "cell_type": "code",
   "execution_count": null,
   "metadata": {},
   "outputs": [],
   "source": [
    "a,b = w.shape\n",
    "w_ = w.view(a,1,b)\n",
    "w1_ = w1.view(a,1,b)\n",
    "\n",
    "attn_output = ma(w_, w1_, w_, need_weights=False)\n",
    "\n",
    "attn_output.view(a,b)\n",
    "attn_output_weights.view(a,a)"
   ]
  },
  {
   "cell_type": "code",
   "execution_count": null,
   "metadata": {},
   "outputs": [],
   "source": [
    "attn_output.view(a,b).shape"
   ]
  },
  {
   "cell_type": "code",
   "execution_count": null,
   "metadata": {},
   "outputs": [],
   "source": [
    "attn_output_weights.view(a,a)"
   ]
  },
  {
   "cell_type": "code",
   "execution_count": null,
   "metadata": {},
   "outputs": [],
   "source": [
    "F.softmax(torch.Tensor([[0.0718, 0.0716, 0.0712, 0.0714, 0.0721, 0.0710, 0.0712, 0.0714, 0.0710,\n",
    "         0.0719, 0.0711, 0.0712, 0.0718, 0.0714],\n",
    "        [0.0722, 0.0709, 0.0710, 0.0709, 0.0728, 0.0723, 0.0709, 0.0709, 0.0719,\n",
    "         0.0712, 0.0709, 0.0707, 0.0725, 0.0707],\n",
    "        [0.0711, 0.0715, 0.0710, 0.0713, 0.0710, 0.0712, 0.0718, 0.0713, 0.0709,\n",
    "         0.0725, 0.0716, 0.0719, 0.0710, 0.0719],\n",
    "        [0.0721, 0.0717, 0.0714, 0.0713, 0.0717, 0.0714, 0.0711, 0.0710, 0.0713,\n",
    "         0.0717, 0.0710, 0.0712, 0.0720, 0.0711],\n",
    "        [0.0722, 0.0711, 0.0710, 0.0710, 0.0737, 0.0716, 0.0709, 0.0705, 0.0714,\n",
    "         0.0719, 0.0707, 0.0707, 0.0731, 0.0702],\n",
    "        [0.0714, 0.0716, 0.0708, 0.0711, 0.0718, 0.0713, 0.0712, 0.0717, 0.0712,\n",
    "         0.0724, 0.0713, 0.0712, 0.0716, 0.0714],\n",
    "        [0.0712, 0.0714, 0.0713, 0.0713, 0.0722, 0.0716, 0.0709, 0.0714, 0.0714,\n",
    "         0.0717, 0.0713, 0.0713, 0.0716, 0.0713],\n",
    "        [0.0716, 0.0707, 0.0712, 0.0714, 0.0717, 0.0715, 0.0714, 0.0715, 0.0712,\n",
    "         0.0721, 0.0711, 0.0714, 0.0717, 0.0715],\n",
    "        [0.0717, 0.0713, 0.0708, 0.0710, 0.0725, 0.0717, 0.0714, 0.0709, 0.0712,\n",
    "         0.0712, 0.0712, 0.0717, 0.0720, 0.0714],\n",
    "        [0.0709, 0.0712, 0.0713, 0.0712, 0.0713, 0.0713, 0.0714, 0.0719, 0.0712,\n",
    "         0.0724, 0.0715, 0.0715, 0.0717, 0.0713],\n",
    "        [0.0715, 0.0716, 0.0712, 0.0708, 0.0725, 0.0717, 0.0712, 0.0714, 0.0714,\n",
    "         0.0717, 0.0713, 0.0706, 0.0718, 0.0712],\n",
    "        [0.0726, 0.0711, 0.0713, 0.0706, 0.0737, 0.0721, 0.0709, 0.0707, 0.0714,\n",
    "         0.0708, 0.0706, 0.0705, 0.0730, 0.0707],\n",
    "        [0.0718, 0.0711, 0.0714, 0.0715, 0.0725, 0.0707, 0.0707, 0.0711, 0.0712,\n",
    "         0.0728, 0.0711, 0.0713, 0.0719, 0.0709],\n",
    "        [0.0712, 0.0716, 0.0713, 0.0712, 0.0717, 0.0707, 0.0708, 0.0721, 0.0709,\n",
    "         0.0728, 0.0713, 0.0716, 0.0711, 0.0715]]).sum(axis=0))"
   ]
  },
  {
   "cell_type": "code",
   "execution_count": null,
   "metadata": {},
   "outputs": [],
   "source": []
  },
  {
   "cell_type": "code",
   "execution_count": null,
   "metadata": {},
   "outputs": [],
   "source": []
  },
  {
   "cell_type": "code",
   "execution_count": null,
   "metadata": {},
   "outputs": [],
   "source": [
    "class NotTooSimpleClassifier(nn.Module):\n",
    "    def __init__(self, vocab_size, hidden_l, nclass, dropout1=0.1, dropout2=0.1, negative_slope=99,\n",
    "                 initrange = 0.5, scale_grad_by_freq=False, device='cuda:0'):\n",
    "        super(NotTooSimpleClassifier, self).__init__()\n",
    "        \n",
    "        self.dt_emb = nn.Embedding(vocab_size, hidden_l, scale_grad_by_freq=scale_grad_by_freq)\n",
    "        self.tt_emb = nn.Embedding(vocab_size, hidden_l, scale_grad_by_freq=scale_grad_by_freq)\n",
    "        \n",
    "        self.undirected_map = nn.Linear(hidden_l, hidden_l)\n",
    "        \n",
    "        self.fc = nn.Linear(hidden_l, nclass)\n",
    "        self.drop1 = nn.Dropout(dropout1)\n",
    "        self.drop2 = nn.Dropout(dropout2)\n",
    "        \n",
    "        self.norm = nn.BatchNorm1d(1)\n",
    "        \n",
    "        self.initrange = initrange\n",
    "        self.nclass = nclass\n",
    "        self.negative_slope = negative_slope\n",
    "        \n",
    "        self.init_weights()\n",
    "        \n",
    "        #self.labls_emb = nn.Embedding(graph_builder.n_class, 300)\n",
    "    \n",
    "    def forward(self, terms_idxs, docs_offsets):\n",
    "        n = terms_idxs.shape[0]\n",
    "        weights = []\n",
    "        shifts = self._get_shift_(docs_offsets, n)\n",
    "        \n",
    "        terms_h1 = self.tt_emb(terms_idxs)\n",
    "        terms_h1 = self.drop1(terms_h1)\n",
    "        \n",
    "        terms_h2 = self.undirected_map( terms_h1 )\n",
    "        #terms_h2 = self.drop1( terms_h2 )\n",
    "        for start,size in zip(docs_offsets, shifts):\n",
    "            w  = terms_h1[start:start+size]\n",
    "            w1 = terms_h2[start:start+size]\n",
    "            w = torch.matmul( w, w1.T )\n",
    "            w = F.leaky_relu( w, negative_slope=self.negative_slope)\n",
    "            w = F.sigmoid(w-5.5)\n",
    "            w = w.mean(axis=1)\n",
    "            w = F.softmax(w)\n",
    "            #w = w / torch.clamp(w.sum(), 0.0001)\n",
    "            weights.append( w )\n",
    "        \n",
    "        weights = torch.cat(weights)\n",
    "        #weights = self.norm(weights.view(-1, 1)).squeeze()\n",
    "        #weights = F.sigmoid(weights)\n",
    "        \n",
    "        h_docs  = F.embedding_bag(self.dt_emb.weight, terms_idxs, docs_offsets, per_sample_weights=weights, mode='sum')\n",
    "        h_docs = self.drop2( h_docs )\n",
    "        pred_docs = self.fc( h_docs )\n",
    "        return pred_docs\n",
    "\n",
    "    def init_weights(self):\n",
    "        self.dt_emb.weight.data.uniform_(-self.initrange, self.initrange)\n",
    "        self.tt_emb.weight.data.uniform_(-self.initrange, self.initrange)\n",
    "        \n",
    "    def _get_shift_(self, offsets, lenght):\n",
    "        shifts = offsets[1:] - offsets[:-1]\n",
    "        last = torch.LongTensor([lenght - offsets[-1]]).to( offsets.device )\n",
    "        return torch.cat([shifts, last])"
   ]
  }
 ],
 "metadata": {
  "kernelspec": {
   "display_name": "Python 3",
   "language": "python",
   "name": "python3"
  },
  "language_info": {
   "codemirror_mode": {
    "name": "ipython",
    "version": 3
   },
   "file_extension": ".py",
   "mimetype": "text/x-python",
   "name": "python",
   "nbconvert_exporter": "python",
   "pygments_lexer": "ipython3",
   "version": "3.8.5"
  }
 },
 "nbformat": 4,
 "nbformat_minor": 4
}
