{
 "cells": [
  {
   "cell_type": "code",
   "execution_count": 1,
   "metadata": {},
   "outputs": [],
   "source": [
    "from utils import Dataset\n",
    "from TGA_model import TGA\n",
    "from tqdm import tqdm\n",
    "import numpy as np\n",
    "import warnings\n",
    "warnings.filterwarnings('ignore')"
   ]
  },
  {
   "cell_type": "code",
   "execution_count": 2,
   "metadata": {},
   "outputs": [],
   "source": [
    "webkb = Dataset('/home/mangaravite/Documents/datasets/topics/webkb/')\n",
    "reut  = Dataset('/home/mangaravite/Documents/datasets/topics/reut/')\n",
    "acm   = Dataset('/home/mangaravite/Documents/datasets/topics/acm/')\n",
    "_20ng = Dataset('/home/mangaravite/Documents/datasets/topics/20ng/')"
   ]
  },
  {
   "cell_type": "code",
   "execution_count": null,
   "metadata": {},
   "outputs": [],
   "source": []
  },
  {
   "cell_type": "code",
   "execution_count": 3,
   "metadata": {},
   "outputs": [
    {
     "data": {
      "text/plain": [
       "('X_train', 'y_train', 'X_test', 'y_test', 'X_val', 'y_val')"
      ]
     },
     "execution_count": 3,
     "metadata": {},
     "output_type": "execute_result"
    }
   ],
   "source": [
    "fold = next(acm.get_fold_instances(10))\n",
    "fold._fields"
   ]
  },
  {
   "cell_type": "code",
   "execution_count": null,
   "metadata": {},
   "outputs": [],
   "source": []
  },
  {
   "cell_type": "code",
   "execution_count": 4,
   "metadata": {},
   "outputs": [],
   "source": [
    "from itertools import product"
   ]
  },
  {
   "cell_type": "code",
   "execution_count": 5,
   "metadata": {},
   "outputs": [
    {
     "data": {
      "text/plain": [
       "([(5, 4, 0.001, 0.001, 16),\n",
       "  (5, 4, 0.001, 0.001, 32),\n",
       "  (5, 4, 0.001, 0.0001, 16),\n",
       "  (5, 4, 0.001, 0.0001, 32),\n",
       "  (5, 4, 0.001, 0.01, 16)],\n",
       " 480)"
      ]
     },
     "execution_count": 5,
     "metadata": {},
     "output_type": "execute_result"
    }
   ],
   "source": [
    "ws = [5,4,3,2,1]\n",
    "nhs = [4,5,6]\n",
    "lrs = [1e-3, 1e-4, 1e-2, 1e-5]\n",
    "l2_norms = [1e-3, 1e-4, 1e-2, 1e-5]\n",
    "batch_sizes = [16,32]\n",
    "\n",
    "combinations = list(product( *[ ws, nhs, lrs, l2_norms, batch_sizes ] ))\n",
    "combinations[:5], len(combinations)"
   ]
  },
  {
   "cell_type": "code",
   "execution_count": null,
   "metadata": {
    "scrolled": false
   },
   "outputs": [
    {
     "name": "stdout",
     "output_type": "stream",
     "text": [
      "w=5\tnh=4\tlr=0.00100\tl2=0.00100\tbs=16\n",
      "############## reut ##############\n"
     ]
    },
    {
     "name": "stderr",
     "output_type": "stream",
     "text": [
      "400000it [00:20, 19476.35it/s]\n"
     ]
    },
    {
     "name": "stdout",
     "output_type": "stream",
     "text": [
      "Fold 0\n"
     ]
    },
    {
     "name": "stderr",
     "output_type": "stream",
     "text": [
      "100%|██████████| 10627/10627 [00:06<00:00, 1669.16it/s]\n",
      "100%|██████████| 10627/10627 [00:15<00:00, 666.34it/s]\n",
      "100%|██████████| 1350/1350 [00:00<00:00, 1716.09it/s]\n",
      "100%|██████████| 1350/1350 [00:02<00:00, 585.96it/s]\n",
      "iter 0, train acc 0.657 train loss 901.320: 100%|██████████| 10627/10627 [01:11<00:00, 148.52it/s]\n",
      "iter 0, val   acc 0.699 ( over: 1.06/0 ): 100%|██████████| 1350/1350 [00:07<00:00, 169.20it/s]\n",
      "iter 1, train acc 0.680 train loss 14.037:   4%|▍         | 416/10627 [00:02<01:06, 152.65it/s]"
     ]
    }
   ],
   "source": [
    "for (w,nh,lr,l2,bs) in combinations:\n",
    "    print(f\"w={w}\\tnh={nh}\\tlr={lr:.5f}\\tl2={l2:.5f}\\tbs={bs}\", flush=True)\n",
    "    for dataset in [ reut, acm, _20ng ]:\n",
    "        print(f\"############## {dataset.dname} ##############\", flush=True)\n",
    "        tga = TGA(n_epochs=20, lr=lr, train_batch_size=bs, w=w, n_heads=nh, weight_decay=l2,\n",
    "                  pretrained_vec='/home/mangaravite/Documents/pretrained_vectors/glove.6B.300d.txt',\n",
    "                  verbose=True)\n",
    "        params = tga.get_params()\n",
    "        for f, fold in enumerate(dataset.get_fold_instances(10)):\n",
    "            print(f\"Fold {f}\", flush=True)\n",
    "            tga.fit( fold.X_train, fold.y_train, fold.X_val, fold.y_val )\n",
    "            pred = tga.predict( fold.X_test )\n",
    "            correct = sum([ p==l for (p,l) in zip(pred,fold.y_test) ])\n",
    "            total = len(fold.X_test)\n",
    "            print( f\"END FOLD: ACC={(correct/total):.4f}\" )"
   ]
  },
  {
   "cell_type": "code",
   "execution_count": null,
   "metadata": {},
   "outputs": [],
   "source": []
  },
  {
   "cell_type": "code",
   "execution_count": null,
   "metadata": {},
   "outputs": [],
   "source": []
  }
 ],
 "metadata": {
  "kernelspec": {
   "display_name": "Python 3",
   "language": "python",
   "name": "python3"
  },
  "language_info": {
   "codemirror_mode": {
    "name": "ipython",
    "version": 3
   },
   "file_extension": ".py",
   "mimetype": "text/x-python",
   "name": "python",
   "nbconvert_exporter": "python",
   "pygments_lexer": "ipython3",
   "version": "3.7.3"
  }
 },
 "nbformat": 4,
 "nbformat_minor": 2
}
