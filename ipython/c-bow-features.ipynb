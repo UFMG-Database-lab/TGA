{
 "cells": [
  {
   "cell_type": "code",
   "execution_count": 1,
   "metadata": {},
   "outputs": [],
   "source": [
    "from scipy import sparse as sp\n",
    "\n",
    "import numpy as np\n",
    "import io\n",
    "from os import path\n",
    "from glob import glob\n",
    "from tqdm import tqdm_notebook\n",
    "\n",
    "from multiprocessing import Pool,cpu_count\n",
    "\n",
    "from sklearn.metrics.pairwise import paired_distances, paired_cosine_distances\n",
    "from sklearn.preprocessing import LabelEncoder\n",
    "from sklearn.feature_extraction.text import CountVectorizer\n",
    "\n",
    "from collections import Counter\n",
    "\n",
    "from random import shuffle"
   ]
  },
  {
   "cell_type": "code",
   "execution_count": null,
   "metadata": {},
   "outputs": [],
   "source": []
  },
  {
   "cell_type": "code",
   "execution_count": 2,
   "metadata": {},
   "outputs": [],
   "source": [
    "def read_texts(filename):\n",
    "    with io.open(filename, newline='\\n') as filin:\n",
    "        return filin.readlines()\n",
    "def read_dataset(pathname):\n",
    "    texts = read_texts(path.join(pathname, 'texts.txt'))\n",
    "    scores = read_texts(path.join(pathname, 'score.txt'))\n",
    "    scores = list(map(int, scores))\n",
    "    return texts,scores"
   ]
  },
  {
   "cell_type": "code",
   "execution_count": 13,
   "metadata": {},
   "outputs": [],
   "source": [
    "texts,scores = read_dataset('../../datasets/newsdatasets/topics/reut/')"
   ]
  },
  {
   "cell_type": "code",
   "execution_count": 14,
   "metadata": {},
   "outputs": [],
   "source": [
    "texts,scores = read_dataset('../../datasets/newsdatasets/topics/20ng/')"
   ]
  },
  {
   "cell_type": "code",
   "execution_count": 3,
   "metadata": {},
   "outputs": [],
   "source": [
    "texts,scores = read_dataset('../../datasets/newsdatasets/topics/webkb/')"
   ]
  },
  {
   "cell_type": "code",
   "execution_count": 16,
   "metadata": {},
   "outputs": [],
   "source": [
    "texts,scores = read_dataset('../../datasets/newsdatasets/sentiment/3Label/tweet_semevaltest/')"
   ]
  },
  {
   "cell_type": "code",
   "execution_count": 4,
   "metadata": {},
   "outputs": [],
   "source": [
    "a = list(zip(scores, texts))\n",
    "shuffle(a)\n",
    "scores, texts = list(zip(*a))\n",
    "texts = list(texts)\n",
    "scores = list(scores)"
   ]
  },
  {
   "cell_type": "code",
   "execution_count": null,
   "metadata": {},
   "outputs": [],
   "source": []
  },
  {
   "cell_type": "code",
   "execution_count": 5,
   "metadata": {},
   "outputs": [],
   "source": [
    "cv = CountVectorizer(min_df=2)\n",
    "X = cv.fit_transform(texts).tocsr()"
   ]
  },
  {
   "cell_type": "code",
   "execution_count": 6,
   "metadata": {},
   "outputs": [],
   "source": [
    "le = LabelEncoder()\n",
    "y = le.fit_transform(scores)"
   ]
  },
  {
   "cell_type": "code",
   "execution_count": 7,
   "metadata": {},
   "outputs": [],
   "source": [
    "# número de documentos\n",
    "N = X.shape[0]\n",
    "\n",
    "# tamanho do vocabulário\n",
    "V = X.shape[1] \n",
    "\n",
    "# Número de cada co-ocrrência por classe\n",
    "Ntc = [ sp.lil_matrix( (V,V) ) for _ in range(max(y)+1) ]"
   ]
  },
  {
   "cell_type": "code",
   "execution_count": 8,
   "metadata": {
    "scrolled": true
   },
   "outputs": [
    {
     "data": {
      "application/vnd.jupyter.widget-view+json": {
       "model_id": "7e96dd4686bb4cf08cc65dbfc60faafc",
       "version_major": 2,
       "version_minor": 0
      },
      "text/plain": [
       "HBox(children=(IntProgress(value=0, max=8199), HTML(value='')))"
      ]
     },
     "metadata": {},
     "output_type": "display_data"
    },
    {
     "name": "stdout",
     "output_type": "stream",
     "text": [
      "\n"
     ]
    }
   ],
   "source": [
    "for i in tqdm_notebook(range(N), total=N):\n",
    "    co_sparse = (X[i].multiply(X[i].T))\n",
    "    \n",
    "    Ntc[ y[i] ] = (Ntc[ y[i] ] + co_sparse)"
   ]
  },
  {
   "cell_type": "code",
   "execution_count": 20,
   "metadata": {},
   "outputs": [
    {
     "data": {
      "text/plain": [
       "(8199, 26343)"
      ]
     },
     "execution_count": 20,
     "metadata": {},
     "output_type": "execute_result"
    }
   ],
   "source": [
    "N,V"
   ]
  },
  {
   "cell_type": "code",
   "execution_count": 10,
   "metadata": {},
   "outputs": [],
   "source": [
    "i = 0\n",
    "\n",
    "# frequencia de documentos dos termos\n",
    "df = X.sum(axis=0)\n",
    "\n",
    "# número de documentos por classe\n",
    "Nc = [ v for (k,v) in sorted(Counter(y).items(), key=lambda x: x[0]) ]\n",
    "\n",
    "# Número de cada co-ocrrência\n",
    "Nt = np.sum(Ntc)\n",
    "\n",
    "# priori da classe P(c)\n",
    "Pc = Nc[i]/N\n",
    "\n",
    "# priori da não-classe P(!c)\n",
    "Pnc = (N-Nc[i]) / N\n",
    "\n",
    "# priori de cada termo P(t)\n",
    "Pt = Nt/N\n",
    "\n",
    "# Probabilidade P(t,c)\n",
    "data = np.array(Ntc[i][ Nt.nonzero() ] / Nt[ Nt.nonzero() ])[0]\n",
    "Ptc = sp.csr_matrix( (data, Nt.nonzero()), shape=Nt.shape )"
   ]
  },
  {
   "cell_type": "code",
   "execution_count": 11,
   "metadata": {},
   "outputs": [],
   "source": [
    "def entropy(M):\n",
    "    data = np.array(np.log2(M[M.nonzero()]))[0]\n",
    "    log_prob = sp.csr_matrix( (data, M.nonzero()), shape=M.shape )\n",
    "    return M.multiply(log_prob)"
   ]
  },
  {
   "cell_type": "code",
   "execution_count": 12,
   "metadata": {},
   "outputs": [
    {
     "data": {
      "text/plain": [
       "<26343x26343 sparse matrix of type '<class 'numpy.float64'>'\n",
       "\twith 102061517 stored elements in Compressed Sparse Row format>"
      ]
     },
     "execution_count": 12,
     "metadata": {},
     "output_type": "execute_result"
    }
   ],
   "source": [
    "entropy(Pt)"
   ]
  },
  {
   "cell_type": "code",
   "execution_count": 13,
   "metadata": {},
   "outputs": [
    {
     "data": {
      "text/plain": [
       "<26343x26343 sparse matrix of type '<class 'numpy.float64'>'\n",
       "\twith 6437175 stored elements in Compressed Sparse Row format>"
      ]
     },
     "execution_count": 13,
     "metadata": {},
     "output_type": "execute_result"
    }
   ],
   "source": [
    "entropy(Ptc)"
   ]
  },
  {
   "cell_type": "code",
   "execution_count": 14,
   "metadata": {},
   "outputs": [
    {
     "data": {
      "text/plain": [
       "7"
      ]
     },
     "execution_count": 14,
     "metadata": {},
     "output_type": "execute_result"
    }
   ],
   "source": [
    "len(Nc)"
   ]
  },
  {
   "cell_type": "code",
   "execution_count": 18,
   "metadata": {},
   "outputs": [],
   "source": [
    "def generate_lines(X):\n",
    "    for i in range(X.shape[0]):\n",
    "        yield (X[i].multiply(X[i].T))\n",
    "def paired_di(X):\n",
    "    for i in range(len(Nc)):\n",
    "        paired_cosine_distances(Ptc, X)\n",
    "    return 0"
   ]
  },
  {
   "cell_type": "code",
   "execution_count": 19,
   "metadata": {},
   "outputs": [
    {
     "data": {
      "application/vnd.jupyter.widget-view+json": {
       "model_id": "3a754f3010a74823bb74330fc4115842",
       "version_major": 2,
       "version_minor": 0
      },
      "text/plain": [
       "HBox(children=(IntProgress(value=0, max=8199), HTML(value='')))"
      ]
     },
     "metadata": {},
     "output_type": "display_data"
    }
   ],
   "source": [
    "with Pool(processes=cpu_count()) as pool:\n",
    "    for m in tqdm_notebook(pool.imap_unordered(paired_di, generate_lines(X)), total=X.shape[0], smoothing=0.):\n",
    "        pass"
   ]
  },
  {
   "cell_type": "code",
   "execution_count": null,
   "metadata": {},
   "outputs": [],
   "source": [
    "for i in tqdm_notebook(range(N), total=N, smoothing=.8):\n",
    "    co_sparse = (X[i].multiply(X[i].T))\n",
    "    \n",
    "    paired_cosine_distances(Ptc, co_sparse)"
   ]
  },
  {
   "cell_type": "code",
   "execution_count": 89,
   "metadata": {},
   "outputs": [],
   "source": []
  },
  {
   "cell_type": "code",
   "execution_count": 92,
   "metadata": {},
   "outputs": [],
   "source": []
  },
  {
   "cell_type": "code",
   "execution_count": 97,
   "metadata": {},
   "outputs": [
    {
     "data": {
      "text/plain": [
       "['Process',\n",
       " '__class__',\n",
       " '__delattr__',\n",
       " '__dict__',\n",
       " '__dir__',\n",
       " '__doc__',\n",
       " '__enter__',\n",
       " '__eq__',\n",
       " '__exit__',\n",
       " '__format__',\n",
       " '__ge__',\n",
       " '__getattribute__',\n",
       " '__gt__',\n",
       " '__hash__',\n",
       " '__init__',\n",
       " '__init_subclass__',\n",
       " '__le__',\n",
       " '__lt__',\n",
       " '__module__',\n",
       " '__ne__',\n",
       " '__new__',\n",
       " '__reduce__',\n",
       " '__reduce_ex__',\n",
       " '__repr__',\n",
       " '__setattr__',\n",
       " '__sizeof__',\n",
       " '__str__',\n",
       " '__subclasshook__',\n",
       " '__weakref__',\n",
       " '_cache',\n",
       " '_ctx',\n",
       " '_get_tasks',\n",
       " '_guarded_task_generation',\n",
       " '_handle_results',\n",
       " '_handle_tasks',\n",
       " '_handle_workers',\n",
       " '_help_stuff_finish',\n",
       " '_initargs',\n",
       " '_initializer',\n",
       " '_inqueue',\n",
       " '_join_exited_workers',\n",
       " '_maintain_pool',\n",
       " '_map_async',\n",
       " '_maxtasksperchild',\n",
       " '_outqueue',\n",
       " '_pool',\n",
       " '_processes',\n",
       " '_quick_get',\n",
       " '_quick_put',\n",
       " '_repopulate_pool',\n",
       " '_result_handler',\n",
       " '_setup_queues',\n",
       " '_state',\n",
       " '_task_handler',\n",
       " '_taskqueue',\n",
       " '_terminate',\n",
       " '_terminate_pool',\n",
       " '_worker_handler',\n",
       " '_wrap_exception',\n",
       " 'apply',\n",
       " 'apply_async',\n",
       " 'close',\n",
       " 'imap',\n",
       " 'imap_unordered',\n",
       " 'join',\n",
       " 'map',\n",
       " 'map_async',\n",
       " 'starmap',\n",
       " 'starmap_async',\n",
       " 'terminate']"
      ]
     },
     "execution_count": 97,
     "metadata": {},
     "output_type": "execute_result"
    }
   ],
   "source": [
    "dir(pool)"
   ]
  },
  {
   "cell_type": "code",
   "execution_count": null,
   "metadata": {},
   "outputs": [],
   "source": []
  },
  {
   "cell_type": "code",
   "execution_count": null,
   "metadata": {},
   "outputs": [],
   "source": []
  },
  {
   "cell_type": "code",
   "execution_count": null,
   "metadata": {},
   "outputs": [],
   "source": []
  },
  {
   "cell_type": "code",
   "execution_count": null,
   "metadata": {},
   "outputs": [],
   "source": []
  }
 ],
 "metadata": {
  "kernelspec": {
   "display_name": "Python 3",
   "language": "python",
   "name": "python3"
  },
  "language_info": {
   "codemirror_mode": {
    "name": "ipython",
    "version": 3
   },
   "file_extension": ".py",
   "mimetype": "text/x-python",
   "name": "python",
   "nbconvert_exporter": "python",
   "pygments_lexer": "ipython3",
   "version": "3.6.8"
  }
 },
 "nbformat": 4,
 "nbformat_minor": 2
}
