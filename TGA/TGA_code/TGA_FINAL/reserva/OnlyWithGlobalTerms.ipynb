{
 "cells": [
  {
   "cell_type": "code",
   "execution_count": 1,
   "metadata": {},
   "outputs": [
    {
     "name": "stderr",
     "output_type": "stream",
     "text": [
      "Using backend: pytorch\n"
     ]
    }
   ],
   "source": [
    "import warnings\n",
    "warnings.filterwarnings('ignore')\n",
    "\n",
    "from utils import Dataset, GraphsizePretrained\n",
    "from tqdm import tqdm\n",
    "from tqdm.notebook import tqdm\n",
    "from time import time\n",
    "import numpy as np"
   ]
  },
  {
   "cell_type": "code",
   "execution_count": 2,
   "metadata": {},
   "outputs": [
    {
     "name": "stderr",
     "output_type": "stream",
     "text": [
      "400000it [00:22, 17743.90it/s]\n"
     ]
    },
    {
     "name": "stdout",
     "output_type": "stream",
     "text": [
      "CPU times: user 22.3 s, sys: 511 ms, total: 22.8 s\n",
      "Wall time: 22.7 s\n"
     ]
    }
   ],
   "source": [
    "%%time\n",
    "graph_builder = GraphsizePretrained(w=2, verbose=True,\n",
    "                   pretrained_vec='/home/mangaravite/Documentos/pretrained_vectors/glove.6B.300d.txt')"
   ]
  },
  {
   "cell_type": "code",
   "execution_count": 3,
   "metadata": {},
   "outputs": [
    {
     "data": {
      "text/plain": [
       "(('X_train', 'y_train', 'X_test', 'y_test'), 7376)"
      ]
     },
     "execution_count": 3,
     "metadata": {},
     "output_type": "execute_result"
    }
   ],
   "source": [
    "dataset = Dataset('/home/mangaravite/Documentos/datasets/classification/datasets/webkb/')\n",
    "fold = next(dataset.get_fold_instances(10, with_val=False))\n",
    "fold._fields, len(fold.X_train)"
   ]
  },
  {
   "cell_type": "code",
   "execution_count": 4,
   "metadata": {},
   "outputs": [],
   "source": [
    "import torch\n",
    "import dgl\n",
    "import dgl.function as fn\n",
    "import torch.nn as nn\n",
    "import torch.nn.functional as F\n",
    "\n",
    "import networkx as nx\n",
    "from dgl.nn.pytorch.conv import GraphConv, GATConv\n",
    "from dgl.nn.pytorch.glob import GlobalAttentionPooling\n",
    "\n",
    "from sklearn.preprocessing import LabelEncoder\n",
    "\n",
    "from itertools import repeat\n",
    "\n",
    "import torch.optim as optim\n",
    "from torch.utils.data import DataLoader"
   ]
  },
  {
   "cell_type": "code",
   "execution_count": null,
   "metadata": {},
   "outputs": [],
   "source": []
  },
  {
   "cell_type": "code",
   "execution_count": 5,
   "metadata": {},
   "outputs": [
    {
     "name": "stderr",
     "output_type": "stream",
     "text": [
      "100%|██████████| 7376/7376 [00:06<00:00, 1206.85it/s]\n"
     ]
    },
    {
     "name": "stdout",
     "output_type": "stream",
     "text": [
      "CPU times: user 7.34 s, sys: 52.2 ms, total: 7.4 s\n",
      "Wall time: 7.38 s\n"
     ]
    },
    {
     "data": {
      "text/plain": [
       "GraphsizePretrained(pretrained_vec='/home/mangaravite/Documentos/pretrained_vectors/glove.6B.300d.txt',\n",
       "                    verbose=None)"
      ]
     },
     "execution_count": 5,
     "metadata": {},
     "output_type": "execute_result"
    }
   ],
   "source": [
    "%%time\n",
    "graph_builder.fit(fold.X_train, fold.y_train)"
   ]
  },
  {
   "cell_type": "code",
   "execution_count": 6,
   "metadata": {
    "scrolled": true
   },
   "outputs": [
    {
     "data": {
      "text/plain": [
       "(91187, 20770)"
      ]
     },
     "execution_count": 6,
     "metadata": {},
     "output_type": "execute_result"
    }
   ],
   "source": [
    "len(graph_builder.g.edges), len(graph_builder.g)"
   ]
  },
  {
   "cell_type": "code",
   "execution_count": 7,
   "metadata": {},
   "outputs": [
    {
     "data": {
      "text/plain": [
       "[(0, 12418),\n",
       " (1, 19960),\n",
       " (2, 9382),\n",
       " (3, 3918),\n",
       " (4, 9014),\n",
       " (5, 12838),\n",
       " (6, 2901)]"
      ]
     },
     "execution_count": 7,
     "metadata": {},
     "output_type": "execute_result"
    }
   ],
   "source": [
    "list(map(lambda x: (x,graph_builder.g.degree()[x]), graph_builder.label_ids))"
   ]
  },
  {
   "cell_type": "code",
   "execution_count": 67,
   "metadata": {},
   "outputs": [],
   "source": [
    "class GenericGAT(nn.Module):\n",
    "    def __init__(self, in_dim, hidden_dim,\n",
    "                 drop=.5, n_heads=8, attn_drop=.5,\n",
    "                 activation=F.leaky_relu, n_convs=2,\n",
    "                 first_hidden='emb', encoders={'term','label'},\n",
    "                 device='cpu:0'):\n",
    "        super(GenericGAT, self).__init__()\n",
    "        self.device = torch.device(device)\n",
    "        self.first_hidden = first_hidden\n",
    "        \n",
    "        self.encoders = nn.ModuleDict({\n",
    "            k: nn.Linear(in_dim, hidden_dim).to(self.device) for k in encoders\n",
    "        })\n",
    "        \n",
    "        self.layers = nn.ModuleList([\n",
    "            GATConv(hidden_dim, hidden_dim, residual=True, num_heads=n_heads, activation=activation,\n",
    "                    feat_drop=drop, attn_drop=attn_drop).to(self.device) for _ in range(n_convs)\n",
    "        ])\n",
    "        self.down_proj = [\n",
    "            nn.Linear(n_heads*hidden_dim, hidden_dim).to(self.device) for _ in range(n_convs)\n",
    "        ]\n",
    "        \n",
    "    def forward(self, G, **kwargs):\n",
    "        with G.local_scope():\n",
    "            h = G.ndata[self.first_hidden].float()\n",
    "            for (k, mask) in kwargs.items():\n",
    "                if k in self.encoders:\n",
    "                    if mask is not None:\n",
    "                        h[ mask ] = self.encoders[k]( h[ mask ] )\n",
    "                    else:\n",
    "                        h = self.encoders[k]( h )\n",
    "\n",
    "            for l, conv in enumerate(self.layers):\n",
    "                h = conv(G, h)\n",
    "                h = h.view(h.shape[0], -1)\n",
    "                h = self.down_proj[l]( h )\n",
    "                #h = F.relu( h )\n",
    "        return h\n",
    "        "
   ]
  },
  {
   "cell_type": "code",
   "execution_count": 83,
   "metadata": {},
   "outputs": [],
   "source": [
    "hidden_l = 300\n",
    "input_l = 300\n",
    "n_heads = 3\n",
    "drop=0.6\n",
    "attn_drop=0.6\n",
    "device=torch.device('cuda:0')"
   ]
  },
  {
   "cell_type": "code",
   "execution_count": 84,
   "metadata": {},
   "outputs": [],
   "source": [
    "big_graph_dgl = dgl.DGLGraph()\n",
    "big_graph_dgl.from_networkx(graph_builder.g, node_attrs=['emb', 'label', 'idx'] )\n",
    "big_graph_dgl = big_graph_dgl.to(device)"
   ]
  },
  {
   "cell_type": "code",
   "execution_count": 85,
   "metadata": {},
   "outputs": [],
   "source": [
    "gat = GenericGAT( input_l, hidden_l, n_heads=n_heads,\n",
    "                 drop=drop, attn_drop=attn_drop,\n",
    "                 activation=None, device='cuda:0' ).to(device)\n",
    "norm = nn.BatchNorm1d(hidden_l).to(device)"
   ]
  },
  {
   "cell_type": "code",
   "execution_count": 86,
   "metadata": {},
   "outputs": [],
   "source": [
    "loss_func = nn.CosineEmbeddingLoss(reduction='mean').to(device)\n",
    "optimizer = optim.AdamW( gat.parameters(), lr=5e-3, weight_decay=5e-3)\n",
    "\n",
    "\n",
    "\n",
    "#RMSprop"
   ]
  },
  {
   "cell_type": "code",
   "execution_count": 87,
   "metadata": {
    "scrolled": false
   },
   "outputs": [
    {
     "data": {
      "application/vnd.jupyter.widget-view+json": {
       "model_id": "b03e653578934a0b84ab95614049cf0e",
       "version_major": 2,
       "version_minor": 0
      },
      "text/plain": [
       "HBox(children=(FloatProgress(value=0.0, max=200.0), HTML(value='')))"
      ]
     },
     "metadata": {},
     "output_type": "display_data"
    },
    {
     "name": "stdout",
     "output_type": "stream",
     "text": [
      "epoch: 0, loss: 0.562547 min_loss: 0.562547\n",
      "epoch: 1, loss: 0.745174 min_loss: 0.562547\n",
      "epoch: 2, loss: 0.749047 min_loss: 0.562547\n",
      "epoch: 3, loss: 0.413777 min_loss: 0.413777\n",
      "epoch: 4, loss: 0.0116392 min_loss: 0.0116392\n",
      "epoch: 5, loss: 0.10469 min_loss: 0.0116392\n",
      "epoch: 6, loss: 0.679635 min_loss: 0.0116392\n",
      "epoch: 7, loss: 0.74814 min_loss: 0.0116392\n",
      "epoch: 8, loss: -0.11252 min_loss: -0.11252\n",
      "epoch: 9, loss: 0.20016 min_loss: -0.11252\n",
      "epoch: 10, loss: 0.741583 min_loss: -0.11252\n",
      "epoch: 11, loss: 0.709696 min_loss: -0.11252\n",
      "epoch: 12, loss: -0.0664742 min_loss: -0.11252\n",
      "epoch: 13, loss: 0.655483 min_loss: -0.11252\n",
      "epoch: 14, loss: 0.358606 min_loss: -0.11252\n",
      "epoch: 15, loss: 0.683395 min_loss: -0.11252\n",
      "epoch: 16, loss: 0.50928 min_loss: -0.11252\n",
      "epoch: 17, loss: 0.712182 min_loss: -0.11252\n",
      "epoch: 18, loss: -0.0127821 min_loss: -0.11252\n",
      "epoch: 19, loss: 0.625657 min_loss: -0.11252\n",
      "epoch: 20, loss: 0.716912 min_loss: -0.11252\n",
      "epoch: 21, loss: 0.816538 min_loss: -0.11252\n",
      "epoch: 22, loss: 0.196972 min_loss: -0.11252\n",
      "epoch: 23, loss: 0.199257 min_loss: -0.11252\n",
      "epoch: 24, loss: 0.721078 min_loss: -0.11252\n",
      "epoch: 25, loss: 0.321582 min_loss: -0.11252\n",
      "epoch: 26, loss: 0.347589 min_loss: -0.11252\n",
      "epoch: 27, loss: 0.39747 min_loss: -0.11252\n",
      "epoch: 28, loss: 0.400813 min_loss: -0.11252\n",
      "epoch: 29, loss: 0.291968 min_loss: -0.11252\n",
      "epoch: 30, loss: 0.323737 min_loss: -0.11252\n",
      "epoch: 31, loss: 0.219563 min_loss: -0.11252\n",
      "epoch: 32, loss: 0.684867 min_loss: -0.11252\n",
      "epoch: 33, loss: 0.657113 min_loss: -0.11252\n",
      "epoch: 34, loss: 0.591322 min_loss: -0.11252\n",
      "epoch: 35, loss: -0.0033946 min_loss: -0.11252\n",
      "epoch: 36, loss: 0.294338 min_loss: -0.11252\n",
      "epoch: 37, loss: 0.22017 min_loss: -0.11252\n",
      "epoch: 38, loss: 0.101295 min_loss: -0.11252\n",
      "epoch: 39, loss: 0.0349219 min_loss: -0.11252\n",
      "epoch: 40, loss: -0.0383976 min_loss: -0.11252\n",
      "epoch: 41, loss: 0.328372 min_loss: -0.11252\n",
      "epoch: 42, loss: 0.211303 min_loss: -0.11252\n",
      "epoch: 43, loss: -0.000538051 min_loss: -0.11252\n",
      "epoch: 44, loss: 0.285568 min_loss: -0.11252\n",
      "epoch: 45, loss: 0.00828695 min_loss: -0.11252\n",
      "epoch: 46, loss: 0.190143 min_loss: -0.11252\n",
      "epoch: 47, loss: 0.153925 min_loss: -0.11252\n",
      "epoch: 48, loss: 0.094119 min_loss: -0.11252\n",
      "epoch: 49, loss: 0.157694 min_loss: -0.11252\n",
      "epoch: 50, loss: 0.715781 min_loss: -0.11252\n",
      "epoch: 51, loss: 0.19664 min_loss: -0.11252\n",
      "epoch: 52, loss: 0.18905 min_loss: -0.11252\n",
      "epoch: 53, loss: 0.364274 min_loss: -0.11252\n",
      "epoch: 54, loss: 0.338254 min_loss: -0.11252\n",
      "epoch: 55, loss: -0.0412292 min_loss: -0.11252\n",
      "epoch: 56, loss: 0.30041 min_loss: -0.11252\n",
      "epoch: 57, loss: -0.0283323 min_loss: -0.11252\n",
      "epoch: 58, loss: -0.0847846 min_loss: -0.11252\n",
      "epoch: 59, loss: 0.455925 min_loss: -0.11252\n",
      "epoch: 60, loss: 0.194179 min_loss: -0.11252\n",
      "epoch: 61, loss: 0.155161 min_loss: -0.11252\n",
      "epoch: 62, loss: 0.16328 min_loss: -0.11252\n",
      "epoch: 63, loss: 0.376913 min_loss: -0.11252\n",
      "epoch: 64, loss: 0.429233 min_loss: -0.11252\n",
      "epoch: 65, loss: 0.212252 min_loss: -0.11252\n",
      "epoch: 66, loss: 0.406416 min_loss: -0.11252\n",
      "epoch: 67, loss: 0.655484 min_loss: -0.11252\n",
      "epoch: 68, loss: 0.749055 min_loss: -0.11252\n",
      "epoch: 69, loss: 0.224718 min_loss: -0.11252\n",
      "epoch: 70, loss: 0.325701 min_loss: -0.11252\n",
      "epoch: 71, loss: 0.558079 min_loss: -0.11252\n",
      "epoch: 72, loss: 0.32351 min_loss: -0.11252\n",
      "epoch: 73, loss: 0.660971 min_loss: -0.11252\n",
      "epoch: 74, loss: 0.149469 min_loss: -0.11252\n",
      "epoch: 75, loss: 0.376564 min_loss: -0.11252\n",
      "epoch: 76, loss: 0.0969764 min_loss: -0.11252\n",
      "epoch: 77, loss: 0.0667599 min_loss: -0.11252\n",
      "epoch: 78, loss: 0.364824 min_loss: -0.11252\n",
      "epoch: 79, loss: 0.291675 min_loss: -0.11252\n",
      "epoch: 80, loss: 0.433903 min_loss: -0.11252\n",
      "epoch: 81, loss: 0.584128 min_loss: -0.11252\n",
      "epoch: 82, loss: 0.506311 min_loss: -0.11252\n",
      "epoch: 83, loss: 0.609348 min_loss: -0.11252\n",
      "epoch: 84, loss: 0.310342 min_loss: -0.11252\n",
      "epoch: 85, loss: 0.627268 min_loss: -0.11252\n",
      "epoch: 86, loss: 0.299553 min_loss: -0.11252\n",
      "epoch: 87, loss: 0.286076 min_loss: -0.11252\n",
      "epoch: 88, loss: 0.517476 min_loss: -0.11252\n",
      "epoch: 89, loss: 0.758738 min_loss: -0.11252\n",
      "epoch: 90, loss: 0.37344 min_loss: -0.11252\n",
      "epoch: 91, loss: 0.661477 min_loss: -0.11252\n",
      "epoch: 92, loss: 0.584863 min_loss: -0.11252\n",
      "epoch: 93, loss: 0.488136 min_loss: -0.11252\n",
      "epoch: 94, loss: 0.666618 min_loss: -0.11252\n",
      "epoch: 95, loss: 0.47585 min_loss: -0.11252\n",
      "epoch: 96, loss: 0.804492 min_loss: -0.11252\n",
      "epoch: 97, loss: 0.461647 min_loss: -0.11252\n",
      "epoch: 98, loss: 0.328658 min_loss: -0.11252\n",
      "epoch: 99, loss: 0.824336 min_loss: -0.11252\n",
      "epoch: 100, loss: 0.496543 min_loss: -0.11252\n",
      "epoch: 101, loss: 0.93305 min_loss: -0.11252\n",
      "epoch: 102, loss: 0.519621 min_loss: -0.11252\n",
      "epoch: 103, loss: 0.504682 min_loss: -0.11252\n",
      "epoch: 104, loss: 0.319969 min_loss: -0.11252\n",
      "epoch: 105, loss: 0.514066 min_loss: -0.11252\n",
      "epoch: 106, loss: 0.557901 min_loss: -0.11252\n",
      "epoch: 107, loss: 0.0373483 min_loss: -0.11252\n",
      "epoch: 108, loss: -0.0204031 min_loss: -0.11252\n",
      "epoch: 109, loss: 0.133661 min_loss: -0.11252\n",
      "epoch: 110, loss: 0.435979 min_loss: -0.11252\n",
      "epoch: 111, loss: 0.505284 min_loss: -0.11252\n",
      "epoch: 112, loss: 0.120709 min_loss: -0.11252\n",
      "epoch: 113, loss: -0.0376051 min_loss: -0.11252\n",
      "epoch: 114, loss: -0.0999812 min_loss: -0.11252\n",
      "epoch: 115, loss: 0.289324 min_loss: -0.11252\n",
      "epoch: 116, loss: 0.634345 min_loss: -0.11252\n",
      "epoch: 117, loss: 0.132737 min_loss: -0.11252\n",
      "epoch: 118, loss: 0.166041 min_loss: -0.11252\n",
      "epoch: 119, loss: -0.0872616 min_loss: -0.11252\n",
      "epoch: 120, loss: 0.384735 min_loss: -0.11252\n",
      "epoch: 121, loss: 0.0298728 min_loss: -0.11252\n",
      "epoch: 122, loss: 0.477821 min_loss: -0.11252\n",
      "epoch: 123, loss: -0.0486078 min_loss: -0.11252\n",
      "epoch: 124, loss: 0.445918 min_loss: -0.11252\n",
      "epoch: 125, loss: 0.0993867 min_loss: -0.11252\n",
      "epoch: 126, loss: -0.0951607 min_loss: -0.11252\n",
      "epoch: 127, loss: 0.00376225 min_loss: -0.11252\n",
      "epoch: 128, loss: -0.13092 min_loss: -0.13092\n",
      "epoch: 129, loss: 0.227106 min_loss: -0.13092\n",
      "epoch: 130, loss: -0.058724 min_loss: -0.13092\n",
      "epoch: 131, loss: 0.149019 min_loss: -0.13092\n",
      "epoch: 132, loss: 0.501412 min_loss: -0.13092\n",
      "epoch: 133, loss: 0.130002 min_loss: -0.13092\n",
      "epoch: 134, loss: 0.0103145 min_loss: -0.13092\n",
      "epoch: 135, loss: -0.0512495 min_loss: -0.13092\n",
      "epoch: 136, loss: 0.10749 min_loss: -0.13092\n",
      "epoch: 137, loss: 0.0339583 min_loss: -0.13092\n",
      "epoch: 138, loss: -0.0189056 min_loss: -0.13092\n",
      "epoch: 139, loss: 0.0293661 min_loss: -0.13092\n",
      "epoch: 140, loss: 0.419744 min_loss: -0.13092\n",
      "epoch: 141, loss: 0.262104 min_loss: -0.13092\n",
      "epoch: 142, loss: 0.47829 min_loss: -0.13092\n",
      "epoch: 143, loss: 0.0258803 min_loss: -0.13092\n",
      "epoch: 144, loss: -0.0147592 min_loss: -0.13092\n",
      "epoch: 145, loss: 0.268331 min_loss: -0.13092\n",
      "epoch: 146, loss: -0.0645697 min_loss: -0.13092\n",
      "epoch: 147, loss: 0.463329 min_loss: -0.13092\n",
      "epoch: 148, loss: -0.0219385 min_loss: -0.13092\n",
      "epoch: 149, loss: 0.121327 min_loss: -0.13092\n",
      "epoch: 150, loss: 0.227235 min_loss: -0.13092\n",
      "epoch: 151, loss: 0.167423 min_loss: -0.13092\n",
      "epoch: 152, loss: 0.010316 min_loss: -0.13092\n",
      "epoch: 153, loss: 0.066614 min_loss: -0.13092\n",
      "epoch: 154, loss: 0.198229 min_loss: -0.13092\n",
      "epoch: 155, loss: 0.0266047 min_loss: -0.13092\n",
      "epoch: 156, loss: 0.111787 min_loss: -0.13092\n",
      "epoch: 157, loss: 0.147894 min_loss: -0.13092\n",
      "epoch: 158, loss: 0.204348 min_loss: -0.13092\n",
      "epoch: 159, loss: 0.0116512 min_loss: -0.13092\n",
      "epoch: 160, loss: 0.244022 min_loss: -0.13092\n",
      "epoch: 161, loss: -0.030506 min_loss: -0.13092\n",
      "epoch: 162, loss: -0.0831849 min_loss: -0.13092\n",
      "epoch: 163, loss: 0.32914 min_loss: -0.13092\n",
      "epoch: 164, loss: -0.0762491 min_loss: -0.13092\n",
      "epoch: 165, loss: -0.14701 min_loss: -0.14701\n",
      "epoch: 166, loss: -0.0168688 min_loss: -0.14701\n",
      "epoch: 167, loss: -0.0825642 min_loss: -0.14701\n",
      "epoch: 168, loss: 0.16197 min_loss: -0.14701\n",
      "epoch: 169, loss: 0.236599 min_loss: -0.14701\n",
      "epoch: 170, loss: -0.0709562 min_loss: -0.14701\n",
      "epoch: 171, loss: -0.0588944 min_loss: -0.14701\n",
      "epoch: 172, loss: 0.0518076 min_loss: -0.14701\n",
      "epoch: 173, loss: 0.0897454 min_loss: -0.14701\n",
      "epoch: 174, loss: -0.0821991 min_loss: -0.14701\n",
      "epoch: 175, loss: -0.0846555 min_loss: -0.14701\n",
      "epoch: 176, loss: 0.476679 min_loss: -0.14701\n",
      "epoch: 177, loss: -0.0694805 min_loss: -0.14701\n",
      "epoch: 178, loss: 0.10126 min_loss: -0.14701\n",
      "epoch: 179, loss: 0.46383 min_loss: -0.14701\n"
     ]
    },
    {
     "name": "stdout",
     "output_type": "stream",
     "text": [
      "epoch: 180, loss: 0.0631175 min_loss: -0.14701\n",
      "epoch: 181, loss: 0.153288 min_loss: -0.14701\n",
      "epoch: 182, loss: 0.0532893 min_loss: -0.14701\n",
      "epoch: 183, loss: 0.0334548 min_loss: -0.14701\n",
      "epoch: 184, loss: 0.186988 min_loss: -0.14701\n",
      "epoch: 185, loss: -0.100146 min_loss: -0.14701\n",
      "epoch: 186, loss: -0.0197325 min_loss: -0.14701\n",
      "epoch: 187, loss: -0.0570745 min_loss: -0.14701\n",
      "epoch: 188, loss: 0.636643 min_loss: -0.14701\n",
      "epoch: 189, loss: -0.013597 min_loss: -0.14701\n",
      "epoch: 190, loss: 0.00320041 min_loss: -0.14701\n",
      "epoch: 191, loss: 0.0223163 min_loss: -0.14701\n",
      "epoch: 192, loss: 0.0254414 min_loss: -0.14701\n",
      "epoch: 193, loss: -0.0273661 min_loss: -0.14701\n",
      "epoch: 194, loss: -0.092611 min_loss: -0.14701\n",
      "epoch: 195, loss: -0.0957268 min_loss: -0.14701\n",
      "epoch: 196, loss: 0.0950958 min_loss: -0.14701\n",
      "epoch: 197, loss: 0.167313 min_loss: -0.14701\n",
      "epoch: 198, loss: 0.137133 min_loss: -0.14701\n",
      "epoch: 199, loss: 0.0843574 min_loss: -0.14701\n",
      "\n"
     ]
    }
   ],
   "source": [
    "gat.train()\n",
    "best = None\n",
    "label_idx = big_graph_dgl.ndata['label'].nonzero().flatten()\n",
    "nepochs = 200\n",
    "lr = 2.*5e-2\n",
    "for e in tqdm(range(nepochs), total=nepochs):\n",
    "    if e % 50 == 1:\n",
    "        gat = best_model\n",
    "        optimizer = optim.AdamW( gat.parameters(), lr=lr/2, weight_decay=5e-3)\n",
    "    h = gat(big_graph_dgl, label=label_idx, term=range(max(label_idx),len(graph_builder.g)))\n",
    "    h = norm(h)\n",
    "    labels_hiddens = h[label_idx]\n",
    "    A = []\n",
    "    B = []\n",
    "    y = []\n",
    "    for i in range(labels_hiddens.size()[0]):\n",
    "        for j in range(i+1, labels_hiddens.size()[0]):\n",
    "            A.append( labels_hiddens[i] )\n",
    "            B.append( -1.*labels_hiddens[j] )\n",
    "            y.append( 1 )\n",
    "\n",
    "            #A.append( labels_hiddens[i] )\n",
    "            #B.append( labels_hiddens[j] )\n",
    "            #y.append( -1. )\n",
    "\n",
    "    B=torch.cat(B).reshape( len(y), hidden_l ).to(device)\n",
    "    A=torch.cat(A).reshape( len(y), hidden_l ).to(device)\n",
    "    y=torch.Tensor(y).to(device)\n",
    "    loss = loss_func(A, B, target=y)\n",
    "    loss.backward()\n",
    "    optimizer.step()\n",
    "    if best is None or loss.item() < best:\n",
    "        best = loss.item()\n",
    "        best_model = gat\n",
    "        h_best = h.detach().cpu()\n",
    "    print(f\"epoch: {e}, loss: {loss.item()-1:.6} min_loss: {best-1:.6}\")\n",
    "    del labels_hiddens, loss, A, B, y, h\n",
    "    if (best-1.) < -0.8:\n",
    "        break"
   ]
  },
  {
   "cell_type": "code",
   "execution_count": 88,
   "metadata": {},
   "outputs": [
    {
     "data": {
      "text/plain": [
       "tensor([[-0.8895, -0.6367, -0.7181,  ..., -0.8215,  0.5532, -0.9118],\n",
       "        [ 1.2202,  0.5135,  0.9280,  ...,  1.1836, -1.3328,  1.2457],\n",
       "        [-1.2736, -1.1510, -1.0340,  ..., -1.2820,  1.5127, -1.3394],\n",
       "        ...,\n",
       "        [ 1.2201,  0.5129,  0.9276,  ...,  1.1837, -1.3322,  1.2463],\n",
       "        [-0.8482, -0.9246, -0.7740,  ..., -1.0199,  1.1720, -0.9443],\n",
       "        [ 0.9211, -0.9799,  1.0628,  ...,  0.9166, -0.5894,  0.7625]])"
      ]
     },
     "execution_count": 88,
     "metadata": {},
     "output_type": "execute_result"
    }
   ],
   "source": [
    "h_best[label_idx] # Embedding dos labels (Distâncias maximizadas)"
   ]
  },
  {
   "cell_type": "code",
   "execution_count": null,
   "metadata": {},
   "outputs": [],
   "source": []
  },
  {
   "cell_type": "code",
   "execution_count": 89,
   "metadata": {},
   "outputs": [
    {
     "data": {
      "text/plain": [
       "tensor([[-0.6025,  1.0785, -0.9206,  ..., -0.7186, -0.1810, -0.2811],\n",
       "        [-0.8710,  1.6063, -1.4402,  ..., -0.8364,  0.4590, -0.5653],\n",
       "        [-1.2875, -0.6703, -1.0670,  ..., -1.1760,  1.5474, -1.3180],\n",
       "        ...,\n",
       "        [ 1.1737,  0.6114,  0.8932,  ...,  1.1657, -1.2912,  1.2110],\n",
       "        [ 0.9594,  1.5962,  0.6850,  ...,  1.2438, -1.0652,  1.1647],\n",
       "        [-1.0153, -1.7121, -0.8595,  ..., -1.1186,  0.7670, -1.2161]])"
      ]
     },
     "execution_count": 89,
     "metadata": {},
     "output_type": "execute_result"
    }
   ],
   "source": [
    "                        # embedding dos termos novos\n",
    "h_best[len(label_idx):] # o mapeamento é (o inverso de) node_mapper[big_graph.ndata['idx']]"
   ]
  },
  {
   "cell_type": "code",
   "execution_count": 90,
   "metadata": {},
   "outputs": [
    {
     "data": {
      "text/plain": [
       "tensor([[-0.8709,  1.6067, -1.4403,  ..., -0.8368,  0.4593, -0.5657],\n",
       "        [-1.0155, -1.7122, -0.8597,  ..., -1.1184,  0.7670, -1.2160],\n",
       "        [ 0.9486,  1.5543,  0.7208,  ...,  1.1264, -0.5519,  1.1433],\n",
       "        [ 0.8043, -1.7643,  1.3015,  ...,  0.8443, -0.2436,  0.4924],\n",
       "        [ 0.8043, -1.7644,  1.3014,  ...,  0.8441, -0.2440,  0.4924]])"
      ]
     },
     "execution_count": 90,
     "metadata": {},
     "output_type": "execute_result"
    }
   ],
   "source": [
    "h_best[100:105]"
   ]
  },
  {
   "cell_type": "code",
   "execution_count": 91,
   "metadata": {},
   "outputs": [
    {
     "data": {
      "text/plain": [
       "tensor([[ 0.0579, -0.1107, -0.0042,  ..., -0.6603, -0.2488,  1.3071],\n",
       "        [-0.2994, -0.1609,  0.1563,  ..., -0.2428, -0.3243, -0.1272],\n",
       "        [ 0.0094,  0.7481,  0.3866,  ..., -0.0848,  0.6544,  0.3899],\n",
       "        [-0.0124, -0.3303, -0.3383,  ..., -0.3146, -0.3423,  0.1724],\n",
       "        [ 0.1775, -0.0171, -0.3588,  ..., -0.6010, -0.0863, -0.2695]],\n",
       "       device='cuda:0', dtype=torch.float64)"
      ]
     },
     "execution_count": 91,
     "metadata": {},
     "output_type": "execute_result"
    }
   ],
   "source": [
    "big_graph_dgl.ndata['emb'][100:105]"
   ]
  },
  {
   "cell_type": "code",
   "execution_count": 18,
   "metadata": {},
   "outputs": [
    {
     "ename": "NameError",
     "evalue": "name 'zdfgsrvsdtvhsfhvg' is not defined",
     "output_type": "error",
     "traceback": [
      "\u001b[0;31m---------------------------------------------------------------------------\u001b[0m",
      "\u001b[0;31mNameError\u001b[0m                                 Traceback (most recent call last)",
      "\u001b[0;32m<ipython-input-18-828a336d0d10>\u001b[0m in \u001b[0;36m<module>\u001b[0;34m\u001b[0m\n\u001b[0;32m----> 1\u001b[0;31m \u001b[0mzdfgsrvsdtvhsfhvg\u001b[0m\u001b[0;34m\u001b[0m\u001b[0;34m\u001b[0m\u001b[0m\n\u001b[0m",
      "\u001b[0;31mNameError\u001b[0m: name 'zdfgsrvsdtvhsfhvg' is not defined"
     ]
    }
   ],
   "source": [
    "zdfgsrvsdtvhsfhvg"
   ]
  },
  {
   "cell_type": "code",
   "execution_count": 92,
   "metadata": {},
   "outputs": [],
   "source": [
    "import matplotlib.pyplot as plt\n",
    "from matplotlib.pyplot import scatter"
   ]
  },
  {
   "cell_type": "code",
   "execution_count": 93,
   "metadata": {},
   "outputs": [
    {
     "data": {
      "text/plain": [
       "(tensor(1.0046), tensor(0.1206))"
      ]
     },
     "execution_count": 93,
     "metadata": {},
     "output_type": "execute_result"
    }
   ],
   "source": [
    "# Variância média DAS hidden dimensions dos labels &\n",
    "#     -> O quanto as hidden estão variando entre as labels\n",
    "#        Quanto maior esse valor, mais \"diferente\" são as representações dos LABELS\n",
    "# Variância média ENTRE A MÉDIA DAS hidden dimensions dos labels\n",
    "#     -> O quanto as hiddens estão variando entre si\n",
    "#        Quanto maior esse valor, mais \"diferente\" são as representações das DIMENSÕES\n",
    "#        Ou seja, VAR(AVG(h1), AVG(h2), ..., AVG(hn)) é alto\n",
    "h_best[label_idx].std(axis=0).mean(), h_best[label_idx].mean(axis=0).std()"
   ]
  },
  {
   "cell_type": "code",
   "execution_count": 94,
   "metadata": {},
   "outputs": [],
   "source": [
    "nbins = 30"
   ]
  },
  {
   "cell_type": "code",
   "execution_count": 95,
   "metadata": {},
   "outputs": [
    {
     "data": {
      "text/plain": [
       "Text(0.5, 1.0, 'Labels\\n[VAR(h1), VAR(h2), ..., VAR(hn)]')"
      ]
     },
     "execution_count": 95,
     "metadata": {},
     "output_type": "execute_result"
    },
    {
     "data": {
      "image/png": "[encoded data removed]",
      "text/plain": [
       "<Figure size 432x288 with 1 Axes>"
      ]
     },
     "metadata": {
      "needs_background": "light"
     },
     "output_type": "display_data"
    }
   ],
   "source": [
    "plt.hist( h_best[label_idx].mean(axis=0).detach().cpu().numpy(), bins=nbins )\n",
    "plt.title( 'Labels\\n[VAR(h1), VAR(h2), ..., VAR(hn)]' )"
   ]
  },
  {
   "cell_type": "code",
   "execution_count": null,
   "metadata": {},
   "outputs": [],
   "source": []
  },
  {
   "cell_type": "code",
   "execution_count": 96,
   "metadata": {},
   "outputs": [
    {
     "name": "stdout",
     "output_type": "stream",
     "text": [
      "[t-SNE] Computing 91 nearest neighbors...\n",
      "[t-SNE] Indexed 20770 samples in 0.016s...\n",
      "[t-SNE] Computed neighbors for 20770 samples in 6.065s...\n",
      "[t-SNE] Computed conditional probabilities for sample 1000 / 20770\n",
      "[t-SNE] Computed conditional probabilities for sample 2000 / 20770\n",
      "[t-SNE] Computed conditional probabilities for sample 3000 / 20770\n",
      "[t-SNE] Computed conditional probabilities for sample 4000 / 20770\n",
      "[t-SNE] Computed conditional probabilities for sample 5000 / 20770\n",
      "[t-SNE] Computed conditional probabilities for sample 6000 / 20770\n",
      "[t-SNE] Computed conditional probabilities for sample 7000 / 20770\n",
      "[t-SNE] Computed conditional probabilities for sample 8000 / 20770\n",
      "[t-SNE] Computed conditional probabilities for sample 9000 / 20770\n",
      "[t-SNE] Computed conditional probabilities for sample 10000 / 20770\n",
      "[t-SNE] Computed conditional probabilities for sample 11000 / 20770\n",
      "[t-SNE] Computed conditional probabilities for sample 12000 / 20770\n",
      "[t-SNE] Computed conditional probabilities for sample 13000 / 20770\n",
      "[t-SNE] Computed conditional probabilities for sample 14000 / 20770\n",
      "[t-SNE] Computed conditional probabilities for sample 15000 / 20770\n",
      "[t-SNE] Computed conditional probabilities for sample 16000 / 20770\n",
      "[t-SNE] Computed conditional probabilities for sample 17000 / 20770\n",
      "[t-SNE] Computed conditional probabilities for sample 18000 / 20770\n",
      "[t-SNE] Computed conditional probabilities for sample 19000 / 20770\n",
      "[t-SNE] Computed conditional probabilities for sample 20000 / 20770\n",
      "[t-SNE] Computed conditional probabilities for sample 20770 / 20770\n",
      "[t-SNE] Mean sigma: 0.000000\n",
      "[t-SNE] Computed conditional probabilities in 2.448s\n",
      "[t-SNE] Iteration 50: error = 92.1123352, gradient norm = 0.0045469 (50 iterations in 4.513s)\n",
      "[t-SNE] Iteration 100: error = 71.0158081, gradient norm = 0.0040932 (50 iterations in 3.839s)\n",
      "[t-SNE] Iteration 150: error = 67.3490982, gradient norm = 0.0020223 (50 iterations in 3.994s)\n",
      "[t-SNE] Iteration 200: error = 66.0818253, gradient norm = 0.0012404 (50 iterations in 3.495s)\n",
      "[t-SNE] Iteration 250: error = 64.7198639, gradient norm = 0.0010361 (50 iterations in 3.434s)\n",
      "[t-SNE] KL divergence after 250 iterations with early exaggeration: 64.719864\n",
      "[t-SNE] Iteration 300: error = 2.6448154, gradient norm = 0.0009223 (50 iterations in 3.466s)\n",
      "[t-SNE] Iteration 350: error = 2.4310958, gradient norm = 0.0004666 (50 iterations in 3.366s)\n",
      "[t-SNE] Iteration 400: error = 2.3033814, gradient norm = 0.0002835 (50 iterations in 3.358s)\n",
      "[t-SNE] Iteration 450: error = 2.2232571, gradient norm = 0.0001879 (50 iterations in 3.340s)\n",
      "[t-SNE] Iteration 500: error = 2.1723845, gradient norm = 0.0001361 (50 iterations in 3.371s)\n",
      "[t-SNE] Iteration 550: error = 2.1367216, gradient norm = 0.0001048 (50 iterations in 3.250s)\n",
      "[t-SNE] Iteration 600: error = 2.1102030, gradient norm = 0.0000826 (50 iterations in 3.249s)\n",
      "[t-SNE] Iteration 650: error = 2.0905027, gradient norm = 0.0000675 (50 iterations in 3.233s)\n",
      "[t-SNE] Iteration 700: error = 2.0755181, gradient norm = 0.0000567 (50 iterations in 3.205s)\n",
      "[t-SNE] Iteration 750: error = 2.0631008, gradient norm = 0.0000503 (50 iterations in 3.603s)\n",
      "[t-SNE] Iteration 800: error = 2.0528524, gradient norm = 0.0000453 (50 iterations in 3.276s)\n",
      "[t-SNE] Iteration 850: error = 2.0447261, gradient norm = 0.0000383 (50 iterations in 3.206s)\n",
      "[t-SNE] Iteration 900: error = 2.0375907, gradient norm = 0.0000352 (50 iterations in 3.247s)\n",
      "[t-SNE] Iteration 950: error = 2.0315564, gradient norm = 0.0000312 (50 iterations in 3.216s)\n",
      "[t-SNE] Iteration 1000: error = 2.0266292, gradient norm = 0.0000285 (50 iterations in 3.236s)\n",
      "[t-SNE] KL divergence after 1000 iterations: 2.026629\n"
     ]
    }
   ],
   "source": [
    "from sklearn.manifold import TSNE\n",
    "tsne = TSNE(verbose=10, metric='cosine')\n",
    "X = tsne.fit_transform(h_best.detach().cpu().numpy())"
   ]
  },
  {
   "cell_type": "code",
   "execution_count": 97,
   "metadata": {},
   "outputs": [
    {
     "data": {
      "text/plain": [
       "'webkb'"
      ]
     },
     "execution_count": 97,
     "metadata": {},
     "output_type": "execute_result"
    }
   ],
   "source": [
    "dataset.dname"
   ]
  },
  {
   "cell_type": "code",
   "execution_count": 98,
   "metadata": {},
   "outputs": [
    {
     "data": {
      "image/png": "[encoded data removed]",
      "text/plain": [
       "<Figure size 720x576 with 1 Axes>"
      ]
     },
     "metadata": {
      "needs_background": "light"
     },
     "output_type": "display_data"
    }
   ],
   "source": [
    "x,y = X.T\n",
    "plt.figure(figsize=(10,8))\n",
    "plt.scatter(x[len(label_idx):],y[len(label_idx):], linewidths= 0.0, s=25, alpha=0.025)\n",
    "plt.scatter(x[label_idx.cpu().numpy()],y[label_idx.cpu().numpy()], marker='x')\n",
    "plt.xlim( (x.min()-5, x.max()+5) )\n",
    "plt.ylim( (y.min()-5, y.max()+5) )\n",
    "plt.title(f'{dataset.dname} - heads={n_heads}')\n",
    "plt.savefig(f'{dataset.dname}-heads={n_heads}_diff.png')"
   ]
  },
  {
   "cell_type": "code",
   "execution_count": 28,
   "metadata": {},
   "outputs": [
    {
     "data": {
      "text/plain": [
       "7"
      ]
     },
     "execution_count": 28,
     "metadata": {},
     "output_type": "execute_result"
    }
   ],
   "source": [
    "len(label_idx)"
   ]
  },
  {
   "cell_type": "code",
   "execution_count": 26,
   "metadata": {},
   "outputs": [
    {
     "name": "stdout",
     "output_type": "stream",
     "text": [
      "[t-SNE] Computing 91 nearest neighbors...\n",
      "[t-SNE] Indexed 20763 samples in 0.696s...\n",
      "[t-SNE] Computed neighbors for 20763 samples in 278.187s...\n",
      "[t-SNE] Computed conditional probabilities for sample 1000 / 20763\n",
      "[t-SNE] Computed conditional probabilities for sample 2000 / 20763\n",
      "[t-SNE] Computed conditional probabilities for sample 3000 / 20763\n",
      "[t-SNE] Computed conditional probabilities for sample 4000 / 20763\n",
      "[t-SNE] Computed conditional probabilities for sample 5000 / 20763\n",
      "[t-SNE] Computed conditional probabilities for sample 6000 / 20763\n",
      "[t-SNE] Computed conditional probabilities for sample 7000 / 20763\n",
      "[t-SNE] Computed conditional probabilities for sample 8000 / 20763\n",
      "[t-SNE] Computed conditional probabilities for sample 9000 / 20763\n",
      "[t-SNE] Computed conditional probabilities for sample 10000 / 20763\n",
      "[t-SNE] Computed conditional probabilities for sample 11000 / 20763\n",
      "[t-SNE] Computed conditional probabilities for sample 12000 / 20763\n",
      "[t-SNE] Computed conditional probabilities for sample 13000 / 20763\n",
      "[t-SNE] Computed conditional probabilities for sample 14000 / 20763\n",
      "[t-SNE] Computed conditional probabilities for sample 15000 / 20763\n",
      "[t-SNE] Computed conditional probabilities for sample 16000 / 20763\n",
      "[t-SNE] Computed conditional probabilities for sample 17000 / 20763\n",
      "[t-SNE] Computed conditional probabilities for sample 18000 / 20763\n",
      "[t-SNE] Computed conditional probabilities for sample 19000 / 20763\n",
      "[t-SNE] Computed conditional probabilities for sample 20000 / 20763\n",
      "[t-SNE] Computed conditional probabilities for sample 20763 / 20763\n",
      "[t-SNE] Mean sigma: 1.808431\n",
      "[t-SNE] Computed conditional probabilities in 0.907s\n",
      "[t-SNE] Iteration 50: error = 113.9866943, gradient norm = 0.1020832 (50 iterations in 5.124s)\n",
      "[t-SNE] Iteration 100: error = 116.0437241, gradient norm = 0.0711773 (50 iterations in 4.829s)\n",
      "[t-SNE] Iteration 150: error = 117.3386765, gradient norm = 0.0470507 (50 iterations in 4.944s)\n",
      "[t-SNE] Iteration 200: error = 116.4725647, gradient norm = 0.0756788 (50 iterations in 4.169s)\n",
      "[t-SNE] Iteration 250: error = 116.9762497, gradient norm = 0.0645207 (50 iterations in 3.913s)\n",
      "[t-SNE] KL divergence after 250 iterations with early exaggeration: 116.976250\n",
      "[t-SNE] Iteration 300: error = 5.5120239, gradient norm = 0.0049091 (50 iterations in 3.822s)\n",
      "[t-SNE] Iteration 350: error = 4.7867517, gradient norm = 0.0012735 (50 iterations in 4.339s)\n",
      "[t-SNE] Iteration 400: error = 4.2610722, gradient norm = 0.0070681 (50 iterations in 3.961s)\n",
      "[t-SNE] Iteration 450: error = 4.1373253, gradient norm = 0.0003643 (50 iterations in 3.445s)\n",
      "[t-SNE] Iteration 500: error = 4.0619535, gradient norm = 0.0001978 (50 iterations in 3.452s)\n",
      "[t-SNE] Iteration 550: error = 3.9988542, gradient norm = 0.0001605 (50 iterations in 3.497s)\n",
      "[t-SNE] Iteration 600: error = 3.9452653, gradient norm = 0.0001341 (50 iterations in 3.444s)\n",
      "[t-SNE] Iteration 650: error = 3.8997998, gradient norm = 0.0001141 (50 iterations in 3.371s)\n",
      "[t-SNE] Iteration 700: error = 3.8605208, gradient norm = 0.0000986 (50 iterations in 3.359s)\n",
      "[t-SNE] Iteration 750: error = 3.8263884, gradient norm = 0.0000877 (50 iterations in 3.362s)\n",
      "[t-SNE] Iteration 800: error = 3.7965844, gradient norm = 0.0000786 (50 iterations in 3.362s)\n",
      "[t-SNE] Iteration 850: error = 3.7703705, gradient norm = 0.0000716 (50 iterations in 3.356s)\n",
      "[t-SNE] Iteration 900: error = 3.7472539, gradient norm = 0.0000650 (50 iterations in 3.387s)\n",
      "[t-SNE] Iteration 950: error = 3.7268648, gradient norm = 0.0000592 (50 iterations in 3.402s)\n",
      "[t-SNE] Iteration 1000: error = 3.7085767, gradient norm = 0.0000545 (50 iterations in 3.381s)\n",
      "[t-SNE] KL divergence after 1000 iterations: 3.708577\n"
     ]
    }
   ],
   "source": [
    "from sklearn.manifold import TSNE\n",
    "tsne = TSNE(verbose=10)\n",
    "X2 = tsne.fit_transform(big_graph_dgl.ndata['emb'][len(label_idx):].detach().cpu().numpy())"
   ]
  },
  {
   "cell_type": "code",
   "execution_count": 27,
   "metadata": {},
   "outputs": [
    {
     "data": {
      "text/plain": [
       "(-73.1227035522461, 76.20672607421875)"
      ]
     },
     "execution_count": 27,
     "metadata": {},
     "output_type": "execute_result"
    },
    {
     "data": {
      "image/png": "[encoded data removed]",
      "text/plain": [
       "<Figure size 432x288 with 1 Axes>"
      ]
     },
     "metadata": {
      "needs_background": "light"
     },
     "output_type": "display_data"
    }
   ],
   "source": [
    "x,y = X2.T\n",
    "plt.scatter(x, y, linewidths= 0.0, alpha=0.01)\n",
    "plt.xlim( (x.min()-5, x.max()+5) )\n",
    "plt.ylim( (y.min()-5, y.max()+5) )"
   ]
  },
  {
   "cell_type": "code",
   "execution_count": null,
   "metadata": {},
   "outputs": [],
   "source": [
    "x[label_idx.cpu().numpy()],y[label_idx.cpu().numpy()]"
   ]
  },
  {
   "cell_type": "code",
   "execution_count": null,
   "metadata": {},
   "outputs": [],
   "source": []
  },
  {
   "cell_type": "code",
   "execution_count": null,
   "metadata": {},
   "outputs": [],
   "source": [
    "plt.hist( h_best[len(label_idx):].std(axis=0).detach().cpu().numpy(), bins=nbins )\n",
    "plt.title( 'Terms\\n[VAR(h1), VAR(h2), ..., VAR(hn)]' )"
   ]
  },
  {
   "cell_type": "code",
   "execution_count": null,
   "metadata": {},
   "outputs": [],
   "source": [
    "plt.hist( h_best[label_idx].mean(axis=0).detach().cpu().numpy(), bins=nbins )\n",
    "plt.title( 'Labels\\n[AVG(h1), AVG(h2), ..., AVG(hn)]' )"
   ]
  },
  {
   "cell_type": "code",
   "execution_count": null,
   "metadata": {},
   "outputs": [],
   "source": [
    "plt.hist( h_best[len(label_idx):].mean(axis=0).detach().cpu().numpy(), bins=nbins )\n",
    "plt.title( 'Terms\\n[AVG(h1), AVG(h2), ..., AVG(hn)]' )"
   ]
  },
  {
   "cell_type": "code",
   "execution_count": null,
   "metadata": {},
   "outputs": [],
   "source": []
  },
  {
   "cell_type": "code",
   "execution_count": null,
   "metadata": {},
   "outputs": [],
   "source": []
  },
  {
   "cell_type": "code",
   "execution_count": null,
   "metadata": {},
   "outputs": [],
   "source": []
  },
  {
   "cell_type": "code",
   "execution_count": null,
   "metadata": {},
   "outputs": [],
   "source": []
  },
  {
   "cell_type": "code",
   "execution_count": null,
   "metadata": {},
   "outputs": [],
   "source": []
  },
  {
   "cell_type": "code",
   "execution_count": null,
   "metadata": {},
   "outputs": [],
   "source": [
    "label_idx = big_graph_dgl.ndata['label'].nonzero().flatten()"
   ]
  },
  {
   "cell_type": "code",
   "execution_count": null,
   "metadata": {},
   "outputs": [],
   "source": [
    "h = gat(big_graph_dgl)\n",
    "h.shape"
   ]
  },
  {
   "cell_type": "code",
   "execution_count": null,
   "metadata": {},
   "outputs": [],
   "source": [
    "labels_hiddens = h[label_idx]\n",
    "labels_hiddens"
   ]
  },
  {
   "cell_type": "code",
   "execution_count": null,
   "metadata": {},
   "outputs": [],
   "source": [
    "A = []\n",
    "B = []\n",
    "y = []\n",
    "for i in range(labels_hiddens.size()[0]):\n",
    "    for j in range(labels_hiddens.size()[0]):\n",
    "        if i != j:\n",
    "            A.append( labels_hiddens[i] )\n",
    "            B.append( -1.*labels_hiddens[j] )\n",
    "            y.append( 1 )\n",
    "            \n",
    "B=torch.cat(B).reshape( len(y), 300 )\n",
    "A=torch.cat(A).reshape( len(y), 300 )\n",
    "y=torch.Tensor(y)"
   ]
  },
  {
   "cell_type": "code",
   "execution_count": null,
   "metadata": {},
   "outputs": [],
   "source": [
    "loss_func(B, A, target=y), loss_func(A, B, target=y)"
   ]
  },
  {
   "cell_type": "code",
   "execution_count": null,
   "metadata": {
    "scrolled": false
   },
   "outputs": [],
   "source": []
  },
  {
   "cell_type": "code",
   "execution_count": null,
   "metadata": {},
   "outputs": [],
   "source": [
    "gat.train()\n",
    "torch.cuda.synchronize()"
   ]
  },
  {
   "cell_type": "code",
   "execution_count": null,
   "metadata": {},
   "outputs": [],
   "source": []
  },
  {
   "cell_type": "code",
   "execution_count": null,
   "metadata": {},
   "outputs": [],
   "source": []
  },
  {
   "cell_type": "code",
   "execution_count": null,
   "metadata": {},
   "outputs": [],
   "source": []
  },
  {
   "cell_type": "code",
   "execution_count": null,
   "metadata": {},
   "outputs": [],
   "source": [
    "class TGA(nn.Module):\n",
    "    def __init__(self, in_dim, hidden_dim, n_class,\n",
    "                  n_heads=8, drop=.5, attn_drop=.5,\n",
    "                  device='cuda:0'):\n",
    "        super(TGA, self).__init__()\n",
    "        self.n_class = n_class\n",
    "        self.device = torch.device(device)\n",
    "        self.gat_global = GenericGAT(in_dim, hidden_dim, \n",
    "                                     encoders={'label'}, \n",
    "                                     n_heads=n_heads, drop=drop,\n",
    "                                     attn_drop=attn_drop, device=self.device)\n",
    "        \n",
    "        self.gat_local  = GenericGAT(hidden_dim, hidden_dim, \n",
    "                                     encoders={'term'}, \n",
    "                                     n_heads=n_heads, drop=drop,\n",
    "                                     first_hidden='emb',\n",
    "                                     attn_drop=attn_drop, device=self.device)\n",
    "\n",
    "        self.lin = nn.Linear( hidden_dim, 1).to(self.device)\n",
    "        # Depois tentar alguma ativação (ReLU, por exemplo, pode \"desativar\" alguns termos no softmax)\n",
    "        self.pooling = GlobalAttentionPooling( self.lin ).to(self.device)\n",
    "\n",
    "        # Fully Connected\n",
    "        self.fc1 = nn.Linear( hidden_dim, hidden_dim//2).to(self.device)\n",
    "        self.fc2 = nn.Linear( hidden_dim//2, hidden_dim//4).to(self.device)\n",
    "        self.fc3 = nn.Linear( hidden_dim//4, self.n_class).to(self.device)\n",
    "    def forward(self, G, gs):\n",
    "        #h_global           = self.gat_global( G, label=G.ndata['label'].nonzero().flatten() )\n",
    "        #gs.ndata['weight'] = h_global[ gs.ndata['idx'] ] # Tentar concatenando\n",
    "        h_local            = self.gat_local(gs, term=None)\n",
    "        #h_local            = torch.cat((h_local, h_global[ gs.ndata['idx'] ]), 1)\n",
    "        h_local            = self.pooling( gs, h_local )\n",
    "        h_local            = self.fc1( h_local )\n",
    "        h_local            = self.fc2( h_local )\n",
    "        h_local            = self.fc3( h_local )\n",
    "        return h_local\n",
    "# torch.Size([3652, 300]) torch.Size([3652, 300]) torch.Size([128, 300])\n",
    "        "
   ]
  },
  {
   "cell_type": "code",
   "execution_count": null,
   "metadata": {},
   "outputs": [],
   "source": [
    "in_dim=300\n",
    "hidden_dim=2\n",
    "n_heads=8\n",
    "drop=0.3\n",
    "attn_drop=0.5\n",
    "batch_size=128\n",
    "device='cuda:0'"
   ]
  },
  {
   "cell_type": "code",
   "execution_count": null,
   "metadata": {},
   "outputs": [],
   "source": [
    "model = TGA( in_dim, hidden_dim, graph_builder.n_class,\n",
    "            n_heads=n_heads, drop=drop, attn_drop=attn_drop )\n",
    "model"
   ]
  },
  {
   "cell_type": "code",
   "execution_count": null,
   "metadata": {},
   "outputs": [],
   "source": [
    "def collate(param):\n",
    "    X, y = zip(*param)\n",
    "    Gs_nx = graph_builder.transform(X)\n",
    "    \n",
    "    Gs_dgl_list = []\n",
    "    idx_terms = { l for l in graph_builder.label_ids }\n",
    "    for g in Gs_nx:\n",
    "        g_dgl = dgl.DGLGraph()\n",
    "        g_dgl.from_networkx(g, node_attrs=['emb', 'idx'] )\n",
    "        Gs_dgl_list.append( g_dgl )\n",
    "        \n",
    "        idx_terms = idx_terms.union( set(nx.get_node_attributes(g,'idx').values()) )\n",
    "    \n",
    "    Gs_dgl = dgl.batch(Gs_dgl_list)\n",
    "    \n",
    "    big_graph_dgl = dgl.DGLGraph()\n",
    "    big_graph_dgl.from_networkx(graph_builder.g, node_attrs=['emb', 'label', 'idx'] )\n",
    "    \n",
    "    #subgraph = graph_builder.g.subgraph(idx_terms)\n",
    "    #big_graph_dgl.from_networkx(subgraph, node_attrs=['emb', 'label', 'idx'] )\n",
    "    \n",
    "    return big_graph_dgl, Gs_dgl, torch.tensor(y)"
   ]
  },
  {
   "cell_type": "code",
   "execution_count": null,
   "metadata": {},
   "outputs": [],
   "source": [
    "loss_func = nn.CrossEntropyLoss()\n",
    "\n",
    "optimizer = optim.Adam( model.parameters(), lr=1e-3, weight_decay=1e-3)\n",
    "#optimizer = optim.AdamW( model.parameters(), lr=1e-2, weight_decay=1e-3)\n",
    "\n",
    "#optimizer = optim.RMSprop( model.parameters(), lr=1e-2, weight_decay=1e-4)\n",
    "#optimizer = optim.RMSprop( model.parameters(), lr=0.0001 )\n",
    "\n",
    "model.train()\n",
    "torch.cuda.synchronize()"
   ]
  },
  {
   "cell_type": "code",
   "execution_count": null,
   "metadata": {
    "scrolled": false
   },
   "outputs": [],
   "source": [
    "n_epochs = 10\n",
    "\n",
    "for epoch in range(n_epochs):\n",
    "    epoch_loss = 0\n",
    "    data_loader = DataLoader(list(zip(fold.X_train, fold.y_train)), batch_size=batch_size,\n",
    "                             shuffle=True, collate_fn=collate, num_workers=2)\n",
    "    with tqdm(total=len(fold.y_train)) as pbar:\n",
    "        total = 1\n",
    "        correct = 1\n",
    "        model.train()\n",
    "        for G, gs, y in data_loader:\n",
    "            G = G.to( torch.device('cuda:0') )\n",
    "            gs = gs.to( torch.device('cuda:0') )\n",
    "            y = y.to( torch.device('cuda:0') )\n",
    "            \n",
    "            optimizer.zero_grad()\n",
    "            \n",
    "            outputs = model( G, gs )\n",
    "            probs_Y = torch.softmax(outputs, 1)\n",
    "            sampled_Y = torch.argmax(probs_Y, 1).reshape(-1)\n",
    "            \n",
    "            total += y.size(0)\n",
    "            correct += (sampled_Y == y).sum().item()\n",
    "            \n",
    "            del probs_Y, sampled_Y, G, gs\n",
    "            \n",
    "            # NN backprop phase\n",
    "            loss = loss_func(outputs, y)\n",
    "            loss.backward()\n",
    "            optimizer.step()\n",
    "            epoch_loss += loss.detach().item()\n",
    "            \n",
    "            pbar.update( len(y) )\n",
    "            pbar.set_description_str(f'iter {epoch} Acc train: {correct/total:.3}')"
   ]
  },
  {
   "cell_type": "code",
   "execution_count": null,
   "metadata": {},
   "outputs": [],
   "source": [
    "g = nx.Graph()\n",
    "g.add_nodes_from( [ (0, {'idx': 0}), (1, {'idx': 1}), (2, {'idx': 2}) ] )"
   ]
  },
  {
   "cell_type": "code",
   "execution_count": null,
   "metadata": {},
   "outputs": [],
   "source": [
    "list(nx.get_node_attributes(g,'idx').values())"
   ]
  },
  {
   "cell_type": "code",
   "execution_count": null,
   "metadata": {},
   "outputs": [],
   "source": [
    "outputs"
   ]
  },
  {
   "cell_type": "code",
   "execution_count": null,
   "metadata": {},
   "outputs": [],
   "source": [
    "labels_hiddens = torch.eye( 11 )\n",
    "labels_hiddens"
   ]
  },
  {
   "cell_type": "code",
   "execution_count": null,
   "metadata": {},
   "outputs": [],
   "source": []
  },
  {
   "cell_type": "code",
   "execution_count": null,
   "metadata": {},
   "outputs": [],
   "source": []
  },
  {
   "cell_type": "code",
   "execution_count": null,
   "metadata": {},
   "outputs": [],
   "source": []
  },
  {
   "cell_type": "code",
   "execution_count": null,
   "metadata": {},
   "outputs": [],
   "source": []
  },
  {
   "cell_type": "code",
   "execution_count": null,
   "metadata": {},
   "outputs": [],
   "source": []
  },
  {
   "cell_type": "code",
   "execution_count": null,
   "metadata": {},
   "outputs": [],
   "source": []
  }
 ],
 "metadata": {
  "kernelspec": {
   "display_name": "Python 3",
   "language": "python",
   "name": "python3"
  },
  "language_info": {
   "codemirror_mode": {
    "name": "ipython",
    "version": 3
   },
   "file_extension": ".py",
   "mimetype": "text/x-python",
   "name": "python",
   "nbconvert_exporter": "python",
   "pygments_lexer": "ipython3",
   "version": "3.6.9"
  }
 },
 "nbformat": 4,
 "nbformat_minor": 4
}
