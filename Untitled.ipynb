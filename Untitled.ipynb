{
 "cells": [
  {
   "cell_type": "code",
   "execution_count": 1,
   "metadata": {},
   "outputs": [],
   "source": [
    "from sklearn.feature_extraction.text import TfidfVectorizer\n",
    "from sklearn.base import BaseEstimator, TransformerMixin\n",
    "import networkx as nx\n",
    "from itertools import repeat\n",
    "\n",
    "from collections import Counter\n",
    "from TGA.utils import preprocessor\n",
    "\n",
    "from sklearn.preprocessing import LabelEncoder\n",
    "import warnings\n",
    "warnings.filterwarnings('ignore')\n",
    "\n",
    "from TGA.utils import Dataset\n",
    "#from tqdm import tqdm\n",
    "from tqdm.notebook import tqdm\n",
    "from time import time\n",
    "import numpy as np"
   ]
  },
  {
   "cell_type": "code",
   "execution_count": 2,
   "metadata": {},
   "outputs": [
    {
     "data": {
      "text/plain": [
       "(('X_train', 'y_train', 'X_test', 'y_test', 'X_val', 'y_val'), 19907)"
      ]
     },
     "execution_count": 2,
     "metadata": {},
     "output_type": "execute_result"
    }
   ],
   "source": [
    "dataset = Dataset('/home/Documentos/datasets/classification/datasets/acm/')\n",
    "fold = next(dataset.get_fold_instances(10, with_val=True))\n",
    "fold._fields, len(fold.X_train)"
   ]
  },
  {
   "cell_type": "code",
   "execution_count": 3,
   "metadata": {},
   "outputs": [],
   "source": [
    "class Graphsize(BaseEstimator, TransformerMixin):\n",
    "    def __init__(self, mindf=2, w=2, stopwords='remove', encoding='utf-8', verbose=False):\n",
    "        super(Graphsize, self).__init__()\n",
    "        self.mindf = mindf\n",
    "        self.w = w\n",
    "        self.encoding = encoding\n",
    "        self.le = LabelEncoder()\n",
    "        if not verbose:\n",
    "            self.progress_bar = lambda x: x\n",
    "        else:\n",
    "            from tqdm import tqdm\n",
    "            self.progress_bar = tqdm\n",
    "            \n",
    "        self.analyzer = TfidfVectorizer(preprocessor=preprocessor)\n",
    "    \n",
    "    def fit(self, X, y):\n",
    "        self.N = len(X)\n",
    "        y_train = self.le.fit_transform( y )\n",
    "        self.n_class = len(self.le.classes_)\n",
    "\n",
    "        self.term_freqs = Counter()\n",
    "        docs = map(self.analyzer.build_analyzer(), X)\n",
    "        for doc_in_terms in self.progress_bar(docs, total=self.N):\n",
    "            self.term_freqs.update(list(set(doc_in_terms)))\n",
    "        self.node_mapper      = {}\n",
    "        self.term_freqs       = { term:v for (term,v) in self.term_freqs.items() if v >= self.mindf }    \n",
    "        self.node_mapper      = { term:self.node_mapper.setdefault(term, len(self.node_mapper)) for term in self.term_freqs.keys() }\n",
    "        self.node_mapper['<UNK>'] = len(self.node_mapper)\n",
    "        self.vocab_size = len(self.node_mapper)\n",
    "        \n",
    "        return self\n",
    "   \n",
    "    def transform(self, text):\n",
    "        analy = self.analyzer.build_analyzer()\n",
    "        n = len(text)\n",
    "        docs = map(analy, text)\n",
    "        result = list(map(self._build_graph_, self.progress_bar(docs, total=n)))\n",
    "        return result\n",
    "    \n",
    "    def _build_graph_(self, doc):\n",
    "        terms        = [ term if term in self.node_mapper else '<UNK>' for term in doc ]\n",
    "        local_mapper = { self.node_mapper[word]:word for word in set(terms) }\n",
    "        terms_nids   = [ self.node_mapper[word] for word in terms ]\n",
    "    \n",
    "\n",
    "        cooccur_count = Counter()\n",
    "        for i,nid in enumerate(terms_nids):\n",
    "            terms_to_add = terms_nids[ max(i-self.w, 0):(i+1) ]\n",
    "            terms_to_add = list(zip(terms_to_add, repeat(nid)))\n",
    "            terms_to_add = list(map(sorted,terms_to_add))\n",
    "            terms_to_add = list(map(tuple,terms_to_add))\n",
    "            cooccur_count.update( terms_to_add )\n",
    "        \n",
    "        G = nx.Graph()\n",
    "        G.add_nodes_from( [ (nid,{'term': word,'idx':nid}) for (nid,word) in local_mapper.items() ] )\n",
    "        w_edges = [ (s,t) for ((s,t),w) in cooccur_count.items() ]\n",
    "        G.add_edges_from( w_edges )\n",
    "        return G"
   ]
  },
  {
   "cell_type": "code",
   "execution_count": 4,
   "metadata": {},
   "outputs": [],
   "source": [
    "graphisize = Graphsize(w=5, mindf=2, verbose=True)"
   ]
  },
  {
   "cell_type": "code",
   "execution_count": 5,
   "metadata": {},
   "outputs": [
    {
     "name": "stderr",
     "output_type": "stream",
     "text": [
      "100%|██████████| 19907/19907 [00:05<00:00, 3565.47it/s]\n"
     ]
    }
   ],
   "source": [
    "graphisize.fit(fold.X_train, fold.y_train)\n",
    "y_train = graphisize.le.transform(fold.y_train)\n",
    "y_val = graphisize.le.transform(fold.y_val)"
   ]
  },
  {
   "cell_type": "code",
   "execution_count": 6,
   "metadata": {},
   "outputs": [
    {
     "name": "stderr",
     "output_type": "stream",
     "text": [
      "100%|██████████| 19907/19907 [00:22<00:00, 871.09it/s] \n",
      "100%|██████████| 2495/2495 [00:02<00:00, 926.67it/s] \n"
     ]
    }
   ],
   "source": [
    "gs_train = graphisize.transform( fold.X_train )\n",
    "gs_val   = graphisize.transform( fold.X_val )"
   ]
  },
  {
   "cell_type": "code",
   "execution_count": 7,
   "metadata": {},
   "outputs": [
    {
     "name": "stderr",
     "output_type": "stream",
     "text": [
      "Using backend: pytorch\n"
     ]
    }
   ],
   "source": [
    "import torch\n",
    "import dgl\n",
    "import dgl.function as fn\n",
    "import torch.nn as nn\n",
    "import torch.nn.functional as F\n",
    "\n",
    "import networkx as nx\n",
    "from dgl.nn.pytorch.conv import GraphConv, GATConv\n",
    "from dgl.nn.pytorch.glob import GlobalAttentionPooling, AvgPooling\n",
    "\n",
    "from sklearn.preprocessing import LabelEncoder\n",
    "\n",
    "from itertools import repeat\n",
    "\n",
    "import torch.optim as optim\n",
    "from torch.utils.data import DataLoader"
   ]
  },
  {
   "cell_type": "code",
   "execution_count": 8,
   "metadata": {},
   "outputs": [],
   "source": [
    "class GenericGAT(nn.Module):\n",
    "    def __init__(self, vocab_size, hidden_dim, n_class,\n",
    "                 drop=.5, n_heads=16, attn_drop=.5,\n",
    "                 activation=F.leaky_relu, n_convs=1, device='cpu:0'):\n",
    "        super(GenericGAT, self).__init__()\n",
    "        self.n_hiddens = hidden_dim\n",
    "        self.device = torch.device(device)\n",
    "        self.embbedding = nn.Embedding(vocab_size, hidden_dim, scale_grad_by_freq=False).to(self.device)\n",
    "        \n",
    "        self.layers = nn.ModuleList([\n",
    "            GATConv(hidden_dim, hidden_dim, residual=True, num_heads=n_heads, activation=activation,\n",
    "                    feat_drop=drop, attn_drop=attn_drop).to(self.device) for _ in range(n_convs)\n",
    "        ])\n",
    "        self.down_proj = [\n",
    "            nn.Linear(n_heads*hidden_dim, hidden_dim).to(self.device) for _ in range(n_convs)\n",
    "        ]\n",
    "        \n",
    "        \n",
    "        self.lin = nn.Linear(hidden_dim, 1).to(self.device)\n",
    "        self.pooling1 = GlobalAttentionPooling( self.lin ).to(self.device)\n",
    "        \n",
    "        self.pooling2 = AvgPooling()\n",
    "        \n",
    "        self.fc = nn.Linear(2*hidden_dim, n_class).to(self.device)\n",
    "        \n",
    "    def forward(self, gs):\n",
    "        with gs.local_scope():\n",
    "            h = self.embbedding(gs.ndata['idx'])\n",
    "            #for l, conv in enumerate(self.layers):\n",
    "            #    h = conv(gs, h)\n",
    "            #    h = h.view(h.shape[0], -1)\n",
    "            #    h = self.down_proj[l]( h )\n",
    "            H1 = self.pooling1(gs, h)\n",
    "            H2 = self.pooling2(gs, h)\n",
    "        H = torch.cat([H1, H2], axis=1)\n",
    "        return self.fc(H)"
   ]
  },
  {
   "cell_type": "code",
   "execution_count": 9,
   "metadata": {},
   "outputs": [],
   "source": [
    "def collate_train(param):\n",
    "    Gs_nx, y = zip(*param)\n",
    "    Gs_dgl_list = []\n",
    "    for g in Gs_nx:\n",
    "        g_dgl = dgl.DGLGraph()\n",
    "        if len(g) > 0:\n",
    "            g_dgl.from_networkx(g, node_attrs=['idx'] )\n",
    "        Gs_dgl_list.append( g_dgl )\n",
    "\n",
    "    return dgl.batch(Gs_dgl_list), torch.tensor(y)"
   ]
  },
  {
   "cell_type": "code",
   "execution_count": null,
   "metadata": {},
   "outputs": [],
   "source": []
  },
  {
   "cell_type": "code",
   "execution_count": null,
   "metadata": {},
   "outputs": [],
   "source": []
  },
  {
   "cell_type": "code",
   "execution_count": null,
   "metadata": {},
   "outputs": [],
   "source": []
  },
  {
   "cell_type": "code",
   "execution_count": 10,
   "metadata": {},
   "outputs": [],
   "source": [
    "nepochs = 2000\n",
    "max_epochs = 10\n",
    "drop=0.1\n",
    "device = torch.device('cuda:0')\n",
    "batch_size = 128"
   ]
  },
  {
   "cell_type": "code",
   "execution_count": 11,
   "metadata": {},
   "outputs": [],
   "source": [
    "gat = GenericGAT( graphisize.vocab_size, 300, graphisize.n_class, drop=drop, attn_drop=drop, device=device ).to(device)\n",
    "\n",
    "optimizer = optim.AdamW( gat.parameters(), lr=5e-3, weight_decay=5e-4)\n",
    "loss_func_cel = nn.CrossEntropyLoss().to( device )\n",
    "scheduler = torch.optim.lr_scheduler.StepLR(optimizer, 1, gamma=0.9)"
   ]
  },
  {
   "cell_type": "code",
   "execution_count": 12,
   "metadata": {
    "scrolled": false
   },
   "outputs": [
    {
     "data": {
      "application/vnd.jupyter.widget-view+json": {
       "model_id": "8154b90e92bb4463b9d93b0db60006ae",
       "version_major": 2,
       "version_minor": 0
      },
      "text/plain": [
       "HBox(children=(FloatProgress(value=0.0, max=2000.0), HTML(value='')))"
      ]
     },
     "metadata": {},
     "output_type": "display_data"
    },
    {
     "data": {
      "application/vnd.jupyter.widget-view+json": {
       "model_id": "945e6ff849994d70aff3997888cd4b11",
       "version_major": 2,
       "version_minor": 0
      },
      "text/plain": [
       "HBox(children=(FloatProgress(value=0.0, description='Epoch 1', max=22402.0, style=ProgressStyle(description_wi…"
      ]
     },
     "metadata": {},
     "output_type": "display_data"
    },
    {
     "name": "stdout",
     "output_type": "stream",
     "text": [
      "Train loss: 2.086/1.961 ACC: 0.4708                                                                                                                                                                                                        \n",
      "New Best Val ACC: 0.612                                                                                                \n",
      "\n"
     ]
    },
    {
     "data": {
      "application/vnd.jupyter.widget-view+json": {
       "model_id": "e3f5ffa48b5646fbbd817c306bb8d91b",
       "version_major": 2,
       "version_minor": 0
      },
      "text/plain": [
       "HBox(children=(FloatProgress(value=0.0, description='Epoch 2', max=22402.0, style=ProgressStyle(description_wi…"
      ]
     },
     "metadata": {},
     "output_type": "display_data"
    },
    {
     "name": "stdout",
     "output_type": "stream",
     "text": [
      "Train loss: 1.854/1.835 ACC: 0.6984                                                                                                    \n",
      "New Best Val ACC: 0.677                                                                                                  \n",
      "\n"
     ]
    },
    {
     "data": {
      "application/vnd.jupyter.widget-view+json": {
       "model_id": "f9277a75687f44fda8069079c961a514",
       "version_major": 2,
       "version_minor": 0
      },
      "text/plain": [
       "HBox(children=(FloatProgress(value=0.0, description='Epoch 3', max=22402.0, style=ProgressStyle(description_wi…"
      ]
     },
     "metadata": {},
     "output_type": "display_data"
    },
    {
     "name": "stdout",
     "output_type": "stream",
     "text": [
      "Train loss: 1.766/1.86 ACC: 0.7835                                                                                                     \n",
      "New Best Val ACC: 0.6962                                                                                                 \n",
      "\n"
     ]
    },
    {
     "data": {
      "application/vnd.jupyter.widget-view+json": {
       "model_id": "c53212f7b86f4f58bd46d92fae2754dd",
       "version_major": 2,
       "version_minor": 0
      },
      "text/plain": [
       "HBox(children=(FloatProgress(value=0.0, description='Epoch 4', max=22402.0, style=ProgressStyle(description_wi…"
      ]
     },
     "metadata": {},
     "output_type": "display_data"
    },
    {
     "name": "stdout",
     "output_type": "stream",
     "text": [
      "Train loss: 1.722/1.704 ACC: 0.8263                                                                                                    \n",
      "New Best Val ACC: 0.7126                                                                                                  \n",
      "\n"
     ]
    },
    {
     "data": {
      "application/vnd.jupyter.widget-view+json": {
       "model_id": "aadb1af8dab944b7a371acf1c928a767",
       "version_major": 2,
       "version_minor": 0
      },
      "text/plain": [
       "HBox(children=(FloatProgress(value=0.0, description='Epoch 5', max=22402.0, style=ProgressStyle(description_wi…"
      ]
     },
     "metadata": {},
     "output_type": "display_data"
    },
    {
     "name": "stdout",
     "output_type": "stream",
     "text": [
      "Train loss: 1.693/1.738 ACC: 0.855                                                                                                     \n",
      "New Best Val ACC: 0.7186                                                                                                  \n",
      "\n"
     ]
    },
    {
     "data": {
      "application/vnd.jupyter.widget-view+json": {
       "model_id": "71d370942b074857a26752b6fc964927",
       "version_major": 2,
       "version_minor": 0
      },
      "text/plain": [
       "HBox(children=(FloatProgress(value=0.0, description='Epoch 6', max=22402.0, style=ProgressStyle(description_wi…"
      ]
     },
     "metadata": {},
     "output_type": "display_data"
    },
    {
     "name": "stdout",
     "output_type": "stream",
     "text": [
      "Train loss: 1.67/1.636 ACC: 0.8772                                                                                                                                                                                                         \n",
      "New Best Val ACC: 0.721                                                                                                   \n",
      "\n"
     ]
    },
    {
     "data": {
      "application/vnd.jupyter.widget-view+json": {
       "model_id": "eaa9dc219bfa462592ac2cc1631fcb46",
       "version_major": 2,
       "version_minor": 0
      },
      "text/plain": [
       "HBox(children=(FloatProgress(value=0.0, description='Epoch 7', max=22402.0, style=ProgressStyle(description_wi…"
      ]
     },
     "metadata": {},
     "output_type": "display_data"
    },
    {
     "name": "stdout",
     "output_type": "stream",
     "text": [
      "Train loss: 1.656/1.71 ACC: 0.8909                                                                                                                                                                                                         \n",
      "Val ACC: 0.7194/0.721                                                                                                    \n"
     ]
    },
    {
     "data": {
      "application/vnd.jupyter.widget-view+json": {
       "model_id": "6c6dedb8aa004e5aafc1991b06f247a2",
       "version_major": 2,
       "version_minor": 0
      },
      "text/plain": [
       "HBox(children=(FloatProgress(value=0.0, description='Epoch 8', max=22402.0, style=ProgressStyle(description_wi…"
      ]
     },
     "metadata": {},
     "output_type": "display_data"
    },
    {
     "name": "stdout",
     "output_type": "stream",
     "text": [
      "Train loss: 1.644/1.596 ACC: 0.9027                                                                                                    \n",
      "New Best Val ACC: 0.7251                                                                                                 \n",
      "\n"
     ]
    },
    {
     "data": {
      "application/vnd.jupyter.widget-view+json": {
       "model_id": "c8454fdc38334f95821ea352406b0683",
       "version_major": 2,
       "version_minor": 0
      },
      "text/plain": [
       "HBox(children=(FloatProgress(value=0.0, description='Epoch 9', max=22402.0, style=ProgressStyle(description_wi…"
      ]
     },
     "metadata": {},
     "output_type": "display_data"
    },
    {
     "name": "stdout",
     "output_type": "stream",
     "text": [
      "Train loss: 1.636/1.609 ACC: 0.9094                                                                                                    \n",
      "Val ACC: 0.7194/0.7251                                                                                                    \n"
     ]
    },
    {
     "data": {
      "application/vnd.jupyter.widget-view+json": {
       "model_id": "f26706c5c2514a04b8f9bd880e3699e5",
       "version_major": 2,
       "version_minor": 0
      },
      "text/plain": [
       "HBox(children=(FloatProgress(value=0.0, description='Epoch 10', max=22402.0, style=ProgressStyle(description_w…"
      ]
     },
     "metadata": {},
     "output_type": "display_data"
    },
    {
     "name": "stdout",
     "output_type": "stream",
     "text": [
      "Train loss: 1.63/1.632 ACC: 0.9143                                                                                                                                                                                                         \n",
      "Val ACC: 0.7222/0.7251                                                                                                    \n"
     ]
    },
    {
     "data": {
      "application/vnd.jupyter.widget-view+json": {
       "model_id": "71138ac4b114464e81be8fc30c3c8f00",
       "version_major": 2,
       "version_minor": 0
      },
      "text/plain": [
       "HBox(children=(FloatProgress(value=0.0, description='Epoch 11', max=22402.0, style=ProgressStyle(description_w…"
      ]
     },
     "metadata": {},
     "output_type": "display_data"
    },
    {
     "name": "stdout",
     "output_type": "stream",
     "text": [
      "Train loss: 1.626/1.606 ACC: 0.9183                                                                                                    \n",
      "Val ACC: 0.7226/0.7251                                                                                                    \n"
     ]
    },
    {
     "data": {
      "application/vnd.jupyter.widget-view+json": {
       "model_id": "ee58d08e1c094e47b2b8619f054206fa",
       "version_major": 2,
       "version_minor": 0
      },
      "text/plain": [
       "HBox(children=(FloatProgress(value=0.0, description='Epoch 12', max=22402.0, style=ProgressStyle(description_w…"
      ]
     },
     "metadata": {},
     "output_type": "display_data"
    },
    {
     "name": "stdout",
     "output_type": "stream",
     "text": [
      "Train loss: 1.622/1.638 ACC: 0.9218                                                                                                                                                                                                        \n",
      "Val ACC: 0.7238/0.7251                                                                                                    \n"
     ]
    },
    {
     "data": {
      "application/vnd.jupyter.widget-view+json": {
       "model_id": "dbe288397c6a424699b93c555811316c",
       "version_major": 2,
       "version_minor": 0
      },
      "text/plain": [
       "HBox(children=(FloatProgress(value=0.0, description='Epoch 13', max=22402.0, style=ProgressStyle(description_w…"
      ]
     },
     "metadata": {},
     "output_type": "display_data"
    },
    {
     "name": "stdout",
     "output_type": "stream",
     "text": [
      "Train loss: 1.619/1.612 ACC: 0.925                                                                                                                                                                                                         \n",
      "New Best Val ACC: 0.7255                                                                                                  \n",
      "\n"
     ]
    },
    {
     "data": {
      "application/vnd.jupyter.widget-view+json": {
       "model_id": "76cbfddaaa0e4536861b18f93d6ca2fe",
       "version_major": 2,
       "version_minor": 0
      },
      "text/plain": [
       "HBox(children=(FloatProgress(value=0.0, description='Epoch 14', max=22402.0, style=ProgressStyle(description_w…"
      ]
     },
     "metadata": {},
     "output_type": "display_data"
    },
    {
     "name": "stdout",
     "output_type": "stream",
     "text": [
      "Train loss: 1.617/1.62 ACC: 0.9272                                                                                                                                                                                                         \n",
      "Val ACC: 0.7234/0.7255                                                                                                    \n"
     ]
    },
    {
     "data": {
      "application/vnd.jupyter.widget-view+json": {
       "model_id": "a016b6ca4910448da44361b2650731d1",
       "version_major": 2,
       "version_minor": 0
      },
      "text/plain": [
       "HBox(children=(FloatProgress(value=0.0, description='Epoch 15', max=22402.0, style=ProgressStyle(description_w…"
      ]
     },
     "metadata": {},
     "output_type": "display_data"
    },
    {
     "name": "stdout",
     "output_type": "stream",
     "text": [
      "Train loss: 1.615/1.619 ACC: 0.9289                                                                                                                                                                                                        \n",
      "Val ACC: 0.7238/0.7255                                                                                                    \n"
     ]
    },
    {
     "data": {
      "application/vnd.jupyter.widget-view+json": {
       "model_id": "87967d188a9e47359ddd3f066b485366",
       "version_major": 2,
       "version_minor": 0
      },
      "text/plain": [
       "HBox(children=(FloatProgress(value=0.0, description='Epoch 16', max=22402.0, style=ProgressStyle(description_w…"
      ]
     },
     "metadata": {},
     "output_type": "display_data"
    },
    {
     "name": "stdout",
     "output_type": "stream",
     "text": [
      "Train loss: 1.613/1.617 ACC: 0.9303                                                                                                                                                                                                        \n",
      "Val ACC: 0.7238/0.7255                                                                                                                                                                                                        \n"
     ]
    },
    {
     "data": {
      "application/vnd.jupyter.widget-view+json": {
       "model_id": "fe02e663d9534c86bebdabb1c098802a",
       "version_major": 2,
       "version_minor": 0
      },
      "text/plain": [
       "HBox(children=(FloatProgress(value=0.0, description='Epoch 17', max=22402.0, style=ProgressStyle(description_w…"
      ]
     },
     "metadata": {},
     "output_type": "display_data"
    },
    {
     "name": "stdout",
     "output_type": "stream",
     "text": [
      "Train loss: 1.612/1.663 ACC: 0.9316                                                                                                    \n",
      "Val ACC: 0.7246/0.7255                                                                                                    \n"
     ]
    },
    {
     "data": {
      "application/vnd.jupyter.widget-view+json": {
       "model_id": "866caf55553e4215a70e5a19cd64af98",
       "version_major": 2,
       "version_minor": 0
      },
      "text/plain": [
       "HBox(children=(FloatProgress(value=0.0, description='Epoch 18', max=22402.0, style=ProgressStyle(description_w…"
      ]
     },
     "metadata": {},
     "output_type": "display_data"
    },
    {
     "name": "stdout",
     "output_type": "stream",
     "text": [
      "Train loss: 1.611/1.589 ACC: 0.9325                                                                                                    \n",
      "Val ACC: 0.7255/0.7255                                                                                                    \n"
     ]
    },
    {
     "data": {
      "application/vnd.jupyter.widget-view+json": {
       "model_id": "586311037402491ba7ac767508e2531f",
       "version_major": 2,
       "version_minor": 0
      },
      "text/plain": [
       "HBox(children=(FloatProgress(value=0.0, description='Epoch 19', max=22402.0, style=ProgressStyle(description_w…"
      ]
     },
     "metadata": {},
     "output_type": "display_data"
    },
    {
     "name": "stdout",
     "output_type": "stream",
     "text": [
      "Train loss: 1.61/1.633 ACC: 0.9333                                                                                                                                                                                                         \n",
      "Val ACC: 0.7238/0.7255                                                                                                    \n"
     ]
    },
    {
     "data": {
      "application/vnd.jupyter.widget-view+json": {
       "model_id": "18d8482ec6f943148894edfcedcb0991",
       "version_major": 2,
       "version_minor": 0
      },
      "text/plain": [
       "HBox(children=(FloatProgress(value=0.0, description='Epoch 20', max=22402.0, style=ProgressStyle(description_w…"
      ]
     },
     "metadata": {},
     "output_type": "display_data"
    },
    {
     "name": "stdout",
     "output_type": "stream",
     "text": [
      "Train loss: 1.609/1.63 ACC: 0.934                                                                                                      \n",
      "Val ACC: 0.7255/0.7255                                                                                                    \n"
     ]
    },
    {
     "data": {
      "application/vnd.jupyter.widget-view+json": {
       "model_id": "8f78ff16045746ba9fdceca4564b8012",
       "version_major": 2,
       "version_minor": 0
      },
      "text/plain": [
       "HBox(children=(FloatProgress(value=0.0, description='Epoch 21', max=22402.0, style=ProgressStyle(description_w…"
      ]
     },
     "metadata": {},
     "output_type": "display_data"
    },
    {
     "name": "stdout",
     "output_type": "stream",
     "text": [
      "Train loss: 1.608/1.579 ACC: 0.9345                                                                                                                                                                                                        \n",
      "Val ACC: 0.7226/0.7255                                                                                                    \n"
     ]
    },
    {
     "data": {
      "application/vnd.jupyter.widget-view+json": {
       "model_id": "868db076b4494283b733d2519bc169b0",
       "version_major": 2,
       "version_minor": 0
      },
      "text/plain": [
       "HBox(children=(FloatProgress(value=0.0, description='Epoch 22', max=22402.0, style=ProgressStyle(description_w…"
      ]
     },
     "metadata": {},
     "output_type": "display_data"
    },
    {
     "name": "stdout",
     "output_type": "stream",
     "text": [
      "Train loss: 1.608/1.602 ACC: 0.9354                                                                                                                                                                                                        \n",
      "Val ACC: 0.7222/0.7255                                                                                                    \n"
     ]
    },
    {
     "data": {
      "application/vnd.jupyter.widget-view+json": {
       "model_id": "226ec5e6567c4e7d86657ff834883699",
       "version_major": 2,
       "version_minor": 0
      },
      "text/plain": [
       "HBox(children=(FloatProgress(value=0.0, description='Epoch 23', max=22402.0, style=ProgressStyle(description_w…"
      ]
     },
     "metadata": {},
     "output_type": "display_data"
    },
    {
     "name": "stdout",
     "output_type": "stream",
     "text": [
      "Train loss: 1.607/1.588 ACC: 0.9361                                                                                                                                                                                                        \n",
      "Val ACC: 0.7234/0.7255                                                                                                    \n"
     ]
    },
    {
     "data": {
      "application/vnd.jupyter.widget-view+json": {
       "model_id": "0728993a15d546b6b6578b473f92fbb3",
       "version_major": 2,
       "version_minor": 0
      },
      "text/plain": [
       "HBox(children=(FloatProgress(value=0.0, description='Epoch 24', max=22402.0, style=ProgressStyle(description_w…"
      ]
     },
     "metadata": {},
     "output_type": "display_data"
    },
    {
     "name": "stdout",
     "output_type": "stream",
     "text": [
      "Train loss: 1.607/1.603 ACC: 0.9365                                                                                                                                                                                                                                                                                                            \n",
      "Val ACC: 0.7234/0.7255                                                                                                    \n",
      "Best Val ACC: 0.7255\n",
      "\n",
      "\n"
     ]
    }
   ],
   "source": [
    "best = 0.\n",
    "counter = 1\n",
    "for e in tqdm(range(nepochs), total=nepochs):\n",
    "    dl_train = DataLoader(list(zip(gs_train, y_train)), batch_size=batch_size,\n",
    "                             shuffle=True, collate_fn=collate_train, num_workers=3)\n",
    "    dl_val = DataLoader(list(zip(gs_val, y_val)), batch_size=batch_size,\n",
    "                             shuffle=False, collate_fn=collate_train, num_workers=3)\n",
    "    total_loss  = 0.\n",
    "    with tqdm(total=len(y_train)+len(y_val), smoothing=0., desc=f\"Epoch {e+1}\") as pbar:\n",
    "        total = 0\n",
    "        correct  = 0\n",
    "        gat.train()\n",
    "        for i, (gs, y) in enumerate(dl_train):\n",
    "            gs = gs.to( device )\n",
    "            y  = y.to( device )\n",
    "            \n",
    "            pred_docs = gat( gs )\n",
    "            pred_docs = F.softmax(pred_docs)\n",
    "            loss = loss_func_cel(pred_docs, y)\n",
    "            \n",
    "            optimizer.zero_grad()\n",
    "            loss.backward()\n",
    "            optimizer.step()\n",
    "            \n",
    "            total_loss += loss.item()\n",
    "            total      += len(y)\n",
    "            y_pred      = pred_docs.argmax(axis=1)\n",
    "            correct    += (y_pred == y).sum().item()\n",
    "            \n",
    "            toprint  = f\"Train loss: {total_loss/(i+1):.4}/{loss.item():.4} \"\n",
    "            toprint += f'ACC: {correct/total:.4}'\n",
    "            \n",
    "            print(toprint, end=f\"{' '*100}\\r\")\n",
    "            \n",
    "            pbar.update( len(y) )\n",
    "            \n",
    "        scheduler.step()\n",
    "        total = 0\n",
    "        correct  = 0\n",
    "        gat.eval()\n",
    "        print()\n",
    "        for i, (gs, y) in enumerate(dl_val):\n",
    "            gs = gs.to( device )\n",
    "            y  = y.to( device )\n",
    "            \n",
    "            pred_docs = gat( gs )\n",
    "            pred_docs = F.softmax(pred_docs)\n",
    "            \n",
    "            y_pred      = pred_docs.argmax(axis=1)\n",
    "            correct    += (y_pred == y).sum().item()\n",
    "            total      += len(y)\n",
    "            \n",
    "            print(f'Val ACC: {correct/total:.4}/{best:.4}', end=f\"{' '*100}\\r\")\n",
    "            \n",
    "            pbar.update( len(y) )\n",
    "        if (correct/total) > best:\n",
    "            best = (correct/total)\n",
    "            counter = 1\n",
    "            print(f'New Best Val ACC: {best:.4}')\n",
    "        elif counter > max_epochs:\n",
    "            print()\n",
    "            print(f'Best Val ACC: {best:.4}')\n",
    "            break\n",
    "        else:\n",
    "            counter += 1"
   ]
  },
  {
   "cell_type": "code",
   "execution_count": null,
   "metadata": {},
   "outputs": [],
   "source": []
  },
  {
   "cell_type": "code",
   "execution_count": null,
   "metadata": {},
   "outputs": [],
   "source": []
  },
  {
   "cell_type": "code",
   "execution_count": null,
   "metadata": {},
   "outputs": [],
   "source": []
  },
  {
   "cell_type": "code",
   "execution_count": null,
   "metadata": {},
   "outputs": [],
   "source": []
  }
 ],
 "metadata": {
  "kernelspec": {
   "display_name": "Python 3",
   "language": "python",
   "name": "python3"
  },
  "language_info": {
   "codemirror_mode": {
    "name": "ipython",
    "version": 3
   },
   "file_extension": ".py",
   "mimetype": "text/x-python",
   "name": "python",
   "nbconvert_exporter": "python",
   "pygments_lexer": "ipython3",
   "version": "3.8.5"
  }
 },
 "nbformat": 4,
 "nbformat_minor": 4
}
