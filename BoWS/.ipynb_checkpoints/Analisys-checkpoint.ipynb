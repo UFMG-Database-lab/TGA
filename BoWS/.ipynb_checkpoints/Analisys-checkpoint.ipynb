{
 "cells": [
  {
   "cell_type": "code",
   "execution_count": 1,
   "metadata": {},
   "outputs": [],
   "source": [
    "from base import BoWS, OneVsAllGridClassifier\n",
    "import io\n",
    "\n",
    "from sklearn.metrics import f1_score\n",
    "from sklearn.linear_model import LogisticRegression\n",
    "from sklearn.tree import DecisionTreeClassifier\n",
    "\n",
    "from glob import glob\n",
    "\n",
    "from os import path\n",
    "import os\n",
    "\n",
    "from collections import Counter\n",
    "\n",
    "\n",
    "import gc"
   ]
  },
  {
   "cell_type": "code",
   "execution_count": 2,
   "metadata": {},
   "outputs": [],
   "source": [
    "def read_texts(filename):\n",
    "    with io.open(filename, newline='\\n') as filin:\n",
    "        return filin.readlines()\n",
    "\n",
    "def get_array(X, idxs):\n",
    "    return [ X[idx] for idx in idxs ]\n",
    "def read_dataset(pathname):\n",
    "    texts = read_texts(path.join(pathname, 'texts.txt'))\n",
    "    scores = read_texts(path.join(pathname, 'score.txt'))\n",
    "    scores = list(map(int, scores))\n",
    "    return texts,scores\n",
    "def dump_svmlight_file_gz(X,y,filename):\n",
    "    with gzip.open(filename, 'w') as filout:\n",
    "        dump_svmlight_file(X, y, filout, zero_based=False)\n",
    "def load_splits_ids(folddir):\n",
    "    splits = []\n",
    "    with open(folddir, encoding='utf8', errors='ignore') as fileout:\n",
    "        for line in fileout.readlines():\n",
    "            train_index, test_index = line.split(';')\n",
    "            train_index = list(map(int, train_index.split()))\n",
    "            test_index = list(map(int, test_index.split()))\n",
    "            splits.append( (train_index, test_index) )\n",
    "    return splits "
   ]
  },
  {
   "cell_type": "code",
   "execution_count": 24,
   "metadata": {},
   "outputs": [],
   "source": [
    "datasetdir = \"../../../../Documentos/datasets/only_docs_scores/\"\n",
    "train_test_splits = load_splits_ids(path.join(datasetdir, 'representations', 'split_5.csv' ))\n",
    "texts,scores = read_dataset(datasetdir)"
   ]
  },
  {
   "cell_type": "code",
   "execution_count": 25,
   "metadata": {},
   "outputs": [
    {
     "name": "stderr",
     "output_type": "stream",
     "text": [
      "Building class representations: 100%|██████████| 2965/2965 [00:01<00:00, 1647.61it/s]\n",
      "/home/mangaravite/.local/lib/python3.6/site-packages/scipy/sparse/_index.py:112: SparseEfficiencyWarning: Changing the sparsity structure of a csr_matrix is expensive. lil_matrix is more efficient.\n",
      "  self._set_arrayXarray(i, j, x)\n",
      "Building Models: 100%|██████████| 3/3 [00:00<00:00, 22.31it/s]\n",
      "Building class transformation: 100%|██████████| 2965/2965 [00:04<00:00, 617.98it/s]\n",
      "Building class transformation: 100%|██████████| 2965/2965 [00:03<00:00, 951.06it/s]\n",
      "Building class transformation: 100%|██████████| 2965/2965 [00:05<00:00, 510.99it/s]\n",
      "/usr/local/lib/python3.6/dist-packages/sklearn/svm/base.py:922: ConvergenceWarning: Liblinear failed to converge, increase the number of iterations.\n",
      "  \"the number of iterations.\", ConvergenceWarning)\n",
      "Building class transformation: 100%|██████████| 743/743 [00:01<00:00, 592.94it/s]\n",
      "Building class transformation: 100%|██████████| 743/743 [00:00<00:00, 945.45it/s]\n",
      "Building class transformation: 100%|██████████| 743/743 [00:01<00:00, 509.61it/s]\n"
     ]
    },
    {
     "data": {
      "text/plain": [
       "510"
      ]
     },
     "execution_count": 25,
     "metadata": {},
     "output_type": "execute_result"
    }
   ],
   "source": []
  },
  {
   "cell_type": "code",
   "execution_count": 26,
   "metadata": {},
   "outputs": [
    {
     "name": "stdout",
     "output_type": "stream",
     "text": [
      "-1 F1_mi: 0.684 and F1_ma: 0.677\n",
      "0 F1_mi: 0.973 and F1_ma: 0.493\n",
      "1 F1_mi: 0.721 and F1_ma: 0.708\n"
     ]
    },
    {
     "name": "stderr",
     "output_type": "stream",
     "text": [
      "/usr/local/lib/python3.6/dist-packages/sklearn/metrics/classification.py:1145: UndefinedMetricWarning: F-score is ill-defined and being set to 0.0 in labels with no true samples.\n",
      "  'recall', 'true', average, warn_for)\n"
     ]
    }
   ],
   "source": [
    "for c in X_test_transformed:\n",
    "    y_pred = oal.clf_by_class[c].predict(X_test_transformed[c])\n",
    "    y_test_transformed = oal.transform_y(y_test, c)\n",
    "    f1_micr = f1_score(y_pred, y_test_transformed, average='micro')\n",
    "    f1_macr = f1_score(y_pred, y_test_transformed, average='macro')\n",
    "    print(\"%d F1_mi: %.3f and F1_ma: %.3f\" % ( c, f1_micr, f1_macr) )"
   ]
  },
  {
   "cell_type": "code",
   "execution_count": 27,
   "metadata": {
    "scrolled": false
   },
   "outputs": [
    {
     "name": "stderr",
     "output_type": "stream",
     "text": [
      "Building class representations: 100%|██████████| 2965/2965 [00:01<00:00, 1675.07it/s]\n",
      "/home/mangaravite/.local/lib/python3.6/site-packages/scipy/sparse/_index.py:112: SparseEfficiencyWarning: Changing the sparsity structure of a csr_matrix is expensive. lil_matrix is more efficient.\n",
      "  self._set_arrayXarray(i, j, x)\n",
      "Building Models: 100%|██████████| 3/3 [00:00<00:00, 25.07it/s]\n",
      "Building class transformation: 100%|██████████| 2965/2965 [00:04<00:00, 602.75it/s]\n",
      "Building class transformation: 100%|██████████| 2965/2965 [00:03<00:00, 926.80it/s]\n",
      "Building class transformation: 100%|██████████| 2965/2965 [00:05<00:00, 522.77it/s]\n",
      "/usr/local/lib/python3.6/dist-packages/sklearn/svm/base.py:922: ConvergenceWarning: Liblinear failed to converge, increase the number of iterations.\n",
      "  \"the number of iterations.\", ConvergenceWarning)\n",
      "Building class transformation: 100%|██████████| 743/743 [00:01<00:00, 596.30it/s]\n",
      "Building class transformation: 100%|██████████| 743/743 [00:00<00:00, 890.73it/s]\n",
      "Building class transformation: 100%|██████████| 743/743 [00:01<00:00, 514.62it/s]\n"
     ]
    },
    {
     "name": "stdout",
     "output_type": "stream",
     "text": [
      "Fold 0\n",
      "\t-1 F1_mi: 0.684 and F1_ma: 0.677\n",
      "\t0 F1_mi: 0.973 and F1_ma: 0.493\n"
     ]
    },
    {
     "name": "stderr",
     "output_type": "stream",
     "text": [
      "/usr/local/lib/python3.6/dist-packages/sklearn/metrics/classification.py:1145: UndefinedMetricWarning: F-score is ill-defined and being set to 0.0 in labels with no true samples.\n",
      "  'recall', 'true', average, warn_for)\n",
      "Building class representations:   7%|▋         | 193/2965 [00:00<00:01, 1929.46it/s]"
     ]
    },
    {
     "name": "stdout",
     "output_type": "stream",
     "text": [
      "\t1 F1_mi: 0.721 and F1_ma: 0.708\n"
     ]
    },
    {
     "name": "stderr",
     "output_type": "stream",
     "text": [
      "Building class representations: 100%|██████████| 2965/2965 [00:01<00:00, 1707.81it/s]\n",
      "/home/mangaravite/.local/lib/python3.6/site-packages/scipy/sparse/_index.py:112: SparseEfficiencyWarning: Changing the sparsity structure of a csr_matrix is expensive. lil_matrix is more efficient.\n",
      "  self._set_arrayXarray(i, j, x)\n",
      "Building Models: 100%|██████████| 3/3 [00:00<00:00, 25.34it/s]\n",
      "Building class transformation: 100%|██████████| 2965/2965 [00:04<00:00, 596.49it/s]\n",
      "Building class transformation: 100%|██████████| 2965/2965 [00:03<00:00, 938.64it/s]\n",
      "Building class transformation: 100%|██████████| 2965/2965 [00:05<00:00, 538.74it/s]\n",
      "/usr/local/lib/python3.6/dist-packages/sklearn/svm/base.py:922: ConvergenceWarning: Liblinear failed to converge, increase the number of iterations.\n",
      "  \"the number of iterations.\", ConvergenceWarning)\n",
      "Building class transformation: 100%|██████████| 743/743 [00:01<00:00, 606.01it/s]\n",
      "Building class transformation: 100%|██████████| 743/743 [00:00<00:00, 815.19it/s]\n",
      "Building class transformation: 100%|██████████| 743/743 [00:01<00:00, 529.48it/s]\n"
     ]
    },
    {
     "name": "stdout",
     "output_type": "stream",
     "text": [
      "Fold 1\n",
      "\t-1 F1_mi: 0.653 and F1_ma: 0.647\n",
      "\t0 F1_mi: 0.973 and F1_ma: 0.493\n"
     ]
    },
    {
     "name": "stderr",
     "output_type": "stream",
     "text": [
      "/usr/local/lib/python3.6/dist-packages/sklearn/metrics/classification.py:1145: UndefinedMetricWarning: F-score is ill-defined and being set to 0.0 in labels with no true samples.\n",
      "  'recall', 'true', average, warn_for)\n",
      "Building class representations:   6%|▋         | 190/2966 [00:00<00:01, 1892.73it/s]"
     ]
    },
    {
     "name": "stdout",
     "output_type": "stream",
     "text": [
      "\t1 F1_mi: 0.690 and F1_ma: 0.680\n"
     ]
    },
    {
     "name": "stderr",
     "output_type": "stream",
     "text": [
      "Building class representations: 100%|██████████| 2966/2966 [00:01<00:00, 1693.06it/s]\n",
      "/home/mangaravite/.local/lib/python3.6/site-packages/scipy/sparse/_index.py:112: SparseEfficiencyWarning: Changing the sparsity structure of a csr_matrix is expensive. lil_matrix is more efficient.\n",
      "  self._set_arrayXarray(i, j, x)\n",
      "Building Models: 100%|██████████| 3/3 [00:00<00:00, 25.11it/s]\n",
      "Building class transformation: 100%|██████████| 2966/2966 [00:05<00:00, 563.54it/s]\n",
      "Building class transformation: 100%|██████████| 2966/2966 [00:03<00:00, 957.28it/s]\n",
      "Building class transformation: 100%|██████████| 2966/2966 [00:05<00:00, 539.71it/s]\n",
      "Building class transformation: 100%|██████████| 742/742 [00:01<00:00, 600.56it/s]\n",
      "Building class transformation: 100%|██████████| 742/742 [00:00<00:00, 910.16it/s]\n",
      "Building class transformation: 100%|██████████| 742/742 [00:01<00:00, 528.62it/s]\n"
     ]
    },
    {
     "name": "stdout",
     "output_type": "stream",
     "text": [
      "Fold 2\n",
      "\t-1 F1_mi: 0.712 and F1_ma: 0.687\n",
      "\t0 F1_mi: 0.973 and F1_ma: 0.493\n"
     ]
    },
    {
     "name": "stderr",
     "output_type": "stream",
     "text": [
      "/usr/local/lib/python3.6/dist-packages/sklearn/metrics/classification.py:1145: UndefinedMetricWarning: F-score is ill-defined and being set to 0.0 in labels with no true samples.\n",
      "  'recall', 'true', average, warn_for)\n",
      "Building class representations:   7%|▋         | 197/2968 [00:00<00:01, 1969.92it/s]"
     ]
    },
    {
     "name": "stdout",
     "output_type": "stream",
     "text": [
      "\t1 F1_mi: 0.679 and F1_ma: 0.663\n"
     ]
    },
    {
     "name": "stderr",
     "output_type": "stream",
     "text": [
      "Building class representations: 100%|██████████| 2968/2968 [00:01<00:00, 1716.67it/s]\n",
      "/home/mangaravite/.local/lib/python3.6/site-packages/scipy/sparse/_index.py:112: SparseEfficiencyWarning: Changing the sparsity structure of a csr_matrix is expensive. lil_matrix is more efficient.\n",
      "  self._set_arrayXarray(i, j, x)\n",
      "Building Models: 100%|██████████| 3/3 [00:00<00:00, 26.21it/s]\n",
      "Building class transformation: 100%|██████████| 2968/2968 [00:04<00:00, 610.18it/s]\n",
      "Building class transformation: 100%|██████████| 2968/2968 [00:03<00:00, 952.13it/s]\n",
      "Building class transformation: 100%|██████████| 2968/2968 [00:05<00:00, 545.66it/s]\n",
      "Building class transformation: 100%|██████████| 740/740 [00:01<00:00, 588.77it/s]\n",
      "Building class transformation: 100%|██████████| 740/740 [00:00<00:00, 936.86it/s]\n",
      "Building class transformation: 100%|██████████| 740/740 [00:01<00:00, 528.66it/s]\n"
     ]
    },
    {
     "name": "stdout",
     "output_type": "stream",
     "text": [
      "Fold 3\n",
      "\t-1 F1_mi: 0.708 and F1_ma: 0.693\n",
      "\t0 F1_mi: 0.974 and F1_ma: 0.493\n"
     ]
    },
    {
     "name": "stderr",
     "output_type": "stream",
     "text": [
      "/usr/local/lib/python3.6/dist-packages/sklearn/metrics/classification.py:1145: UndefinedMetricWarning: F-score is ill-defined and being set to 0.0 in labels with no true samples.\n",
      "  'recall', 'true', average, warn_for)\n",
      "Building class representations:   7%|▋         | 197/2968 [00:00<00:01, 1965.84it/s]"
     ]
    },
    {
     "name": "stdout",
     "output_type": "stream",
     "text": [
      "\t1 F1_mi: 0.716 and F1_ma: 0.706\n"
     ]
    },
    {
     "name": "stderr",
     "output_type": "stream",
     "text": [
      "Building class representations: 100%|██████████| 2968/2968 [00:01<00:00, 1693.33it/s]\n",
      "/home/mangaravite/.local/lib/python3.6/site-packages/scipy/sparse/_index.py:112: SparseEfficiencyWarning: Changing the sparsity structure of a csr_matrix is expensive. lil_matrix is more efficient.\n",
      "  self._set_arrayXarray(i, j, x)\n",
      "Building Models: 100%|██████████| 3/3 [00:00<00:00, 26.10it/s]\n",
      "Building class transformation: 100%|██████████| 2968/2968 [00:04<00:00, 611.92it/s]\n",
      "Building class transformation: 100%|██████████| 2968/2968 [00:03<00:00, 931.98it/s]\n",
      "Building class transformation: 100%|██████████| 2968/2968 [00:05<00:00, 535.77it/s]\n",
      "/usr/local/lib/python3.6/dist-packages/sklearn/svm/base.py:922: ConvergenceWarning: Liblinear failed to converge, increase the number of iterations.\n",
      "  \"the number of iterations.\", ConvergenceWarning)\n",
      "Building class transformation: 100%|██████████| 740/740 [00:01<00:00, 598.19it/s]\n",
      "Building class transformation: 100%|██████████| 740/740 [00:00<00:00, 897.88it/s]\n",
      "Building class transformation: 100%|██████████| 740/740 [00:01<00:00, 507.86it/s]\n"
     ]
    },
    {
     "name": "stdout",
     "output_type": "stream",
     "text": [
      "Fold 4\n",
      "\t-1 F1_mi: 0.677 and F1_ma: 0.672\n"
     ]
    },
    {
     "name": "stderr",
     "output_type": "stream",
     "text": [
      "/usr/local/lib/python3.6/dist-packages/sklearn/metrics/classification.py:1145: UndefinedMetricWarning: F-score is ill-defined and being set to 0.0 in labels with no true samples.\n",
      "  'recall', 'true', average, warn_for)\n"
     ]
    },
    {
     "name": "stdout",
     "output_type": "stream",
     "text": [
      "\t0 F1_mi: 0.974 and F1_ma: 0.493\n",
      "\t1 F1_mi: 0.696 and F1_ma: 0.687\n"
     ]
    }
   ],
   "source": [
    "for datasetdir in sorted(glob(\"../../../../Documentos/datasets/only_docs_scores/*\"), key=lambda x: len(read_dataset(x)[1]) ):\n",
    "    texts,scores = read_dataset(datasetdir)\n",
    "    dname = path.basename(path.dirname(datasetdir))\n",
    "    for f, (train_ids, test_ids) in enumerate(train_test_splits):\n",
    "        X_train = get_array(texts, train_ids)\n",
    "        y_train = get_array(scores, train_ids)\n",
    "\n",
    "        bows = BoWS(min_df=2)\n",
    "        X_train_transformed = bows.fit_transform(X_train, y_train)\n",
    "\n",
    "        weak_clf = LogisticRegression(random_state=42)\n",
    "        weak_params = {'penalty': ['l1', 'l2'], 'class_weight': ['balanced', None], 'solver': ['liblinear'], 'C': [1, 10, 0.1, 0.01]}\n",
    "        #weak_params = {'penalty': ['l2'], 'class_weight': [None], 'solver': ['liblinear'], 'C': [0.01]}\n",
    "        meta_clf = DecisionTreeClassifier()\n",
    "        meta_params = { 'criterion': [ \"gini\", \"entropy\" ] }\n",
    "\n",
    "        oal = OneVsAllGridClassifier( weak_params, weak_clf, meta_params, meta_clf )\n",
    "\n",
    "        y_pred = oal.fit_predict(X_train_transformed, y_train)\n",
    "\n",
    "        X_test = get_array(texts, test_ids)\n",
    "        X_test_transformed = bows.transform(X_test)\n",
    "\n",
    "        y_test = get_array(scores, test_ids)\n",
    "\n",
    "        print(\"Fold %d\" % f)\n",
    "        for c in X_test_transformed:\n",
    "            y_pred = oal.clf_by_class[c].predict(X_test_transformed[c])\n",
    "            y_test_transformed = oal.transform_y(y_test, c)\n",
    "            f1_micr = f1_score(y_pred, y_test_transformed, average='micro')\n",
    "            f1_macr = f1_score(y_pred, y_test_transformed, average='macro')\n",
    "            print(\"\\t%d F1_mi: %.3f and F1_ma: %.3f\" % ( c, f1_micr, f1_macr) )\n",
    "\n",
    "        gc.collect()\n",
    "    "
   ]
  },
  {
   "cell_type": "code",
   "execution_count": null,
   "metadata": {
    "scrolled": false
   },
   "outputs": [],
   "source": [
    "for datasetdir in sorted(glob(\"../../../../Documentos/datasets/only_docs_scores/*\")):\n",
    "    print(datasetdir)\n",
    "    train_test_splits = load_splits_ids(path.join(datasetdir, 'representations', 'split_5.csv' ))\n",
    "    texts,scores = read_dataset(datasetdir)\n",
    "    for f, (train_ids, test_ids) in enumerate(train_test_splits):\n",
    "        X_train = get_array(texts, train_ids)\n",
    "        y_train = get_array(scores, train_ids)\n",
    "        \n",
    "        print(Counter(y_train))\n",
    "\n",
    "        bows = BoWS(min_df=2)\n",
    "        X_train_transformed = bows.fit_transform(X_train, y_train)\n",
    "\n",
    "        weak_clf = LogisticRegression(random_state=42)\n",
    "        weak_params = {'penalty': ['l1', 'l2'], 'class_weight': ['balanced', None], 'solver': ['liblinear'], 'C': [1, 10, 0.1, 0.01]}\n",
    "        #weak_params = {'penalty': ['l2'], 'class_weight': [None], 'solver': ['liblinear'], 'C': [0.01]}\n",
    "        meta_clf = DecisionTreeClassifier()\n",
    "        meta_params = { 'criterion': [ \"gini\", \"entropy\" ] }\n",
    "\n",
    "        oal = OneVsAllGridClassifier( weak_params, weak_clf, meta_params, meta_clf )\n",
    "\n",
    "        y_pred = oal.fit_predict(X_train_transformed, y_train)\n",
    "\n",
    "        X_test = get_array(texts, test_ids)\n",
    "        X_test_transformed = bows.transform(X_test)\n",
    "\n",
    "        y_test = get_array(scores, test_ids)\n",
    "        gc.collect()\n"
   ]
  },
  {
   "cell_type": "code",
   "execution_count": null,
   "metadata": {},
   "outputs": [],
   "source": [
    "X_train_transformed"
   ]
  },
  {
   "cell_type": "code",
   "execution_count": null,
   "metadata": {},
   "outputs": [],
   "source": []
  },
  {
   "cell_type": "code",
   "execution_count": null,
   "metadata": {},
   "outputs": [],
   "source": []
  }
 ],
 "metadata": {
  "kernelspec": {
   "display_name": "Python 3",
   "language": "python",
   "name": "python3"
  },
  "language_info": {
   "codemirror_mode": {
    "name": "ipython",
    "version": 3
   },
   "file_extension": ".py",
   "mimetype": "text/x-python",
   "name": "python",
   "nbconvert_exporter": "python",
   "pygments_lexer": "ipython3",
   "version": "3.6.8"
  }
 },
 "nbformat": 4,
 "nbformat_minor": 2
}
