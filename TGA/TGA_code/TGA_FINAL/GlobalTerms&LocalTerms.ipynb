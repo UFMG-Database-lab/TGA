{
 "cells": [
  {
   "cell_type": "code",
   "execution_count": 1,
   "metadata": {},
   "outputs": [
    {
     "name": "stderr",
     "output_type": "stream",
     "text": [
      "Using backend: pytorch\n"
     ]
    }
   ],
   "source": [
    "import warnings\n",
    "warnings.filterwarnings('ignore')\n",
    "\n",
    "from utils import Dataset, GraphsizePretrained\n",
    "from tqdm import tqdm\n",
    "from tqdm.notebook import tqdm\n",
    "from time import time\n",
    "import numpy as np"
   ]
  },
  {
   "cell_type": "code",
   "execution_count": 2,
   "metadata": {},
   "outputs": [
    {
     "name": "stderr",
     "output_type": "stream",
     "text": [
      "400000it [00:22, 17764.26it/s]\n"
     ]
    },
    {
     "name": "stdout",
     "output_type": "stream",
     "text": [
      "CPU times: user 22.2 s, sys: 640 ms, total: 22.8 s\n",
      "Wall time: 22.7 s\n"
     ]
    }
   ],
   "source": [
    "%%time\n",
    "graph_builder = GraphsizePretrained(w=1, verbose=True,\n",
    "                   pretrained_vec='/home/mangaravite/Documentos/pretrained_vectors/glove.6B.300d.txt')"
   ]
  },
  {
   "cell_type": "code",
   "execution_count": 3,
   "metadata": {},
   "outputs": [
    {
     "data": {
      "text/plain": [
       "(('X_train', 'y_train', 'X_test', 'y_test'), 11977)"
      ]
     },
     "execution_count": 3,
     "metadata": {},
     "output_type": "execute_result"
    }
   ],
   "source": [
    "dataset = Dataset('/home/mangaravite/Documentos/datasets/classification/datasets/reut/')\n",
    "fold = next(dataset.get_fold_instances(10, with_val=False))\n",
    "fold._fields, len(fold.X_train)"
   ]
  },
  {
   "cell_type": "code",
   "execution_count": 4,
   "metadata": {},
   "outputs": [],
   "source": [
    "import torch\n",
    "import dgl\n",
    "import dgl.function as fn\n",
    "import torch.nn as nn\n",
    "import torch.nn.functional as F\n",
    "\n",
    "import networkx as nx\n",
    "from dgl.nn.pytorch.conv import GraphConv, GATConv\n",
    "from dgl.nn.pytorch.glob import GlobalAttentionPooling\n",
    "\n",
    "from sklearn.preprocessing import LabelEncoder\n",
    "\n",
    "from itertools import repeat\n",
    "\n",
    "import torch.optim as optim\n",
    "from torch.utils.data import DataLoader"
   ]
  },
  {
   "cell_type": "code",
   "execution_count": null,
   "metadata": {},
   "outputs": [],
   "source": []
  },
  {
   "cell_type": "code",
   "execution_count": 5,
   "metadata": {},
   "outputs": [
    {
     "name": "stderr",
     "output_type": "stream",
     "text": [
      "100%|██████████| 11977/11977 [00:06<00:00, 1854.71it/s]\n"
     ]
    },
    {
     "name": "stdout",
     "output_type": "stream",
     "text": [
      "CPU times: user 7.91 s, sys: 87.9 ms, total: 8 s\n",
      "Wall time: 7.98 s\n"
     ]
    },
    {
     "data": {
      "text/plain": [
       "GraphsizePretrained(pretrained_vec='/home/mangaravite/Documentos/pretrained_vectors/glove.6B.300d.txt',\n",
       "                    verbose=None, w=1)"
      ]
     },
     "execution_count": 5,
     "metadata": {},
     "output_type": "execute_result"
    }
   ],
   "source": [
    "%%time\n",
    "graph_builder.fit(fold.X_train, fold.y_train)"
   ]
  },
  {
   "cell_type": "code",
   "execution_count": 6,
   "metadata": {
    "scrolled": true
   },
   "outputs": [
    {
     "data": {
      "text/plain": [
       "(174619, 24001)"
      ]
     },
     "execution_count": 6,
     "metadata": {},
     "output_type": "execute_result"
    }
   ],
   "source": [
    "len(graph_builder.g.edges), len(graph_builder.g)"
   ]
  },
  {
   "cell_type": "code",
   "execution_count": 7,
   "metadata": {},
   "outputs": [
    {
     "data": {
      "text/plain": [
       "[(0, 275),\n",
       " (1, 77),\n",
       " (2, 525),\n",
       " (3, 2248),\n",
       " (4, 1302),\n",
       " (5, 650),\n",
       " (6, 2638),\n",
       " (7, 1165),\n",
       " (8, 1483),\n",
       " (9, 58),\n",
       " (10, 490),\n",
       " (11, 580),\n",
       " (12, 1537),\n",
       " (13, 1113),\n",
       " (14, 219),\n",
       " (15, 2257),\n",
       " (16, 6159),\n",
       " (17, 5771),\n",
       " (18, 3211),\n",
       " (19, 651),\n",
       " (20, 272),\n",
       " (21, 339),\n",
       " (22, 853),\n",
       " (23, 604),\n",
       " (24, 4536),\n",
       " (25, 794),\n",
       " (26, 3059),\n",
       " (27, 1841),\n",
       " (28, 835),\n",
       " (29, 1766),\n",
       " (30, 1953),\n",
       " (31, 6886),\n",
       " (32, 721),\n",
       " (33, 2124),\n",
       " (34, 433),\n",
       " (35, 108),\n",
       " (36, 431),\n",
       " (37, 719),\n",
       " (38, 113),\n",
       " (39, 11350),\n",
       " (40, 4884),\n",
       " (41, 9921),\n",
       " (42, 294),\n",
       " (43, 3537),\n",
       " (44, 2962),\n",
       " (45, 42),\n",
       " (46, 335),\n",
       " (47, 947),\n",
       " (48, 1233),\n",
       " (49, 514),\n",
       " (50, 188),\n",
       " (51, 641),\n",
       " (52, 6302),\n",
       " (53, 140),\n",
       " (54, 972),\n",
       " (55, 1785),\n",
       " (56, 498),\n",
       " (57, 1056),\n",
       " (58, 695),\n",
       " (59, 1442),\n",
       " (60, 1751),\n",
       " (61, 376),\n",
       " (62, 906),\n",
       " (63, 3476),\n",
       " (64, 553),\n",
       " (65, 372),\n",
       " (66, 455),\n",
       " (67, 2464),\n",
       " (68, 905),\n",
       " (69, 1357),\n",
       " (70, 545),\n",
       " (71, 3748),\n",
       " (72, 1700),\n",
       " (73, 1508),\n",
       " (74, 66),\n",
       " (75, 1001),\n",
       " (76, 3434),\n",
       " (77, 1909),\n",
       " (78, 479),\n",
       " (79, 877),\n",
       " (80, 260),\n",
       " (81, 904),\n",
       " (82, 94),\n",
       " (83, 2609),\n",
       " (84, 1192),\n",
       " (85, 2229),\n",
       " (86, 132),\n",
       " (87, 2542),\n",
       " (88, 278),\n",
       " (89, 2142)]"
      ]
     },
     "execution_count": 7,
     "metadata": {},
     "output_type": "execute_result"
    }
   ],
   "source": [
    "list(map(lambda x: (x,graph_builder.g.degree()[x]), graph_builder.label_ids))"
   ]
  },
  {
   "cell_type": "code",
   "execution_count": 8,
   "metadata": {},
   "outputs": [],
   "source": [
    "class GenericGAT(nn.Module):\n",
    "    def __init__(self, in_dim, hidden_dim,\n",
    "                 drop=.5, n_heads=8, attn_drop=.5,\n",
    "                 activation=F.leaky_relu, n_convs=2,\n",
    "                 first_hidden='emb', encoders={'term','label'},\n",
    "                 device='cpu:0'):\n",
    "        super(GenericGAT, self).__init__()\n",
    "        self.device = torch.device(device)\n",
    "        self.first_hidden = first_hidden\n",
    "        \n",
    "        self.encoders = nn.ModuleDict({\n",
    "            k: nn.Linear(in_dim, hidden_dim).to(self.device) for k in encoders\n",
    "        })\n",
    "        \n",
    "        self.layers = nn.ModuleList([\n",
    "            GATConv(hidden_dim, hidden_dim, residual=True, num_heads=n_heads, activation=activation,\n",
    "                    feat_drop=drop, attn_drop=attn_drop).to(self.device) for _ in range(n_convs)\n",
    "        ])\n",
    "        self.down_proj = [\n",
    "            nn.Linear(n_heads*hidden_dim, hidden_dim).to(self.device) for _ in range(n_convs)\n",
    "        ]\n",
    "        \n",
    "    def forward(self, G, **kwargs):\n",
    "        with G.local_scope():\n",
    "            h = G.ndata[self.first_hidden].float()\n",
    "            for (k, mask) in kwargs.items():\n",
    "                if k in self.encoders:\n",
    "                    if mask is not None:\n",
    "                        h[ mask ] = self.encoders[k]( h[ mask ] )\n",
    "                    else:\n",
    "                        h = self.encoders[k]( h )\n",
    "\n",
    "            for l, conv in enumerate(self.layers):\n",
    "                h = conv(G, h)\n",
    "                h = h.view(h.shape[0], -1)\n",
    "                h = self.down_proj[l]( h )\n",
    "                #h = F.relu( h )\n",
    "        return h\n",
    "        "
   ]
  },
  {
   "cell_type": "code",
   "execution_count": 9,
   "metadata": {},
   "outputs": [
    {
     "data": {
      "text/plain": [
       "1"
      ]
     },
     "execution_count": 9,
     "metadata": {},
     "output_type": "execute_result"
    }
   ],
   "source": [
    "g = nx.Graph()\n",
    "g.add_node(1, weight=1)\n",
    "g.nodes[1]['weight']"
   ]
  },
  {
   "cell_type": "code",
   "execution_count": 10,
   "metadata": {},
   "outputs": [],
   "source": [
    "def collate(param):\n",
    "    X, y = zip(*param)\n",
    "    Gs_nx = graph_builder.transform(X)\n",
    "    \n",
    "    Gs_dgl_list = []\n",
    "    for g in Gs_nx:\n",
    "        g_dgl = dgl.DGLGraph()\n",
    "        if len(g) > 0:\n",
    "            g_dgl.from_networkx(g, node_attrs=['emb', 'idx'] )\n",
    "        Gs_dgl_list.append( g_dgl )\n",
    "    \n",
    "    Gs_dgl = dgl.batch(Gs_dgl_list)\n",
    "    \n",
    "    big_graph_dgl = dgl.DGLGraph()\n",
    "    big_graph_dgl.from_networkx(graph_builder.g, node_attrs=['emb', 'label', 'idx'] )\n",
    "    \n",
    "    #subgraph = graph_builder.g.subgraph(idx_terms)\n",
    "    #big_graph_dgl.from_networkx(subgraph, node_attrs=['emb', 'label', 'idx'] )\n",
    "    \n",
    "    return big_graph_dgl, Gs_dgl, torch.tensor(y)"
   ]
  },
  {
   "cell_type": "code",
   "execution_count": 11,
   "metadata": {},
   "outputs": [],
   "source": [
    "class CosineDistanceLoss(torch.nn.Module):\n",
    "    def __init__(self, reduction='mean', alpha=-1.):\n",
    "        super(CosineDistanceLoss, self).__init__()\n",
    "\n",
    "        self.loss = nn.CosineEmbeddingLoss(reduction=reduction)\n",
    "        self.alpha = alpha\n",
    "\n",
    "    def forward(self, X, Y=None, y_idxs=None):\n",
    "        nsmpl, ndims = X.shape\n",
    "        A = []\n",
    "        B = []\n",
    "        target = []\n",
    "        if Y is not None and y_idxs is not None:\n",
    "            for (x,y_idx) in zip(X, y_idxs):\n",
    "                for i,y in enumerate(Y):\n",
    "                    A.append( x )\n",
    "                    B.append( y )\n",
    "                    target.append( 1 if i == y_idx.item() else -1 )\n",
    "            \n",
    "        else:\n",
    "            for i in range(nsmpl):\n",
    "                for j in range(i+1, nsmpl):\n",
    "                    A.append( X[i] )\n",
    "                    B.append( self.alpha*X[j] )\n",
    "                    target.append( 1 )\n",
    "\n",
    "        A=torch.cat(A).reshape( len(target), ndims ).to(X.device)\n",
    "        B=torch.cat(B).reshape( len(target), ndims ).to(X.device)\n",
    "        target=torch.Tensor(target).to(X.device)\n",
    "            \n",
    "        \n",
    "        return self.loss(A, B, target=target)\n"
   ]
  },
  {
   "cell_type": "code",
   "execution_count": 12,
   "metadata": {},
   "outputs": [],
   "source": [
    "class TGA(torch.nn.Module):\n",
    "    def __init__(self, input_l, hidden_l, n_heads=1,\n",
    "                drop=0.5, attn_drop=0.5,\n",
    "                 device='cuda:0'):\n",
    "        \n",
    "        super(TGA, self).__init__()\n",
    "        self.gat = GenericGAT( input_l, hidden_l, n_heads=n_heads,\n",
    "                 drop=drop, attn_drop=attn_drop,\n",
    "                 activation=None, device='cuda:0' ).to(device)\n",
    "        self.norm = nn.BatchNorm1d(hidden_l).to(device)\n",
    "\n",
    "        self.gate = nn.Linear( hidden_l, 1 ).to(device)\n",
    "        self.feat = nn.Linear( hidden_l, hidden_l ).to(device)\n",
    "        self.gap = GlobalAttentionPooling(self.gate, feat_nn=self.feat).to(device)\n",
    "\n",
    "    def forward(self, G, gs, y, label_idx=None):\n",
    "        if label_idx is None:\n",
    "            label_idx = G.ndata['label'].nonzero().flatten()\n",
    "\n",
    "        h_global = self.gat(G, label=label_idx, term=range(len(label_idx),len(graph_builder.g)))\n",
    "        h_global = self.norm(h_global)\n",
    "\n",
    "        labels_hiddens = h_global[label_idx]\n",
    "\n",
    "        h_local = self.gap( gs, h_global[gs.ndata['idx'].reshape(-1)] )\n",
    "        \n",
    "        return h_local, h_global"
   ]
  },
  {
   "cell_type": "code",
   "execution_count": 13,
   "metadata": {},
   "outputs": [],
   "source": [
    "hidden_l = 300\n",
    "input_l = 300\n",
    "n_heads = 2\n",
    "drop=0.5\n",
    "batch_size=128\n",
    "attn_drop=0.5\n",
    "device=torch.device('cuda:0')"
   ]
  },
  {
   "cell_type": "code",
   "execution_count": 14,
   "metadata": {},
   "outputs": [
    {
     "data": {
      "text/plain": [
       "TGA(\n",
       "  (gat): GenericGAT(\n",
       "    (encoders): ModuleDict(\n",
       "      (label): Linear(in_features=300, out_features=300, bias=True)\n",
       "      (term): Linear(in_features=300, out_features=300, bias=True)\n",
       "    )\n",
       "    (layers): ModuleList(\n",
       "      (0): GATConv(\n",
       "        (fc): Linear(in_features=300, out_features=600, bias=False)\n",
       "        (feat_drop): Dropout(p=0.5, inplace=False)\n",
       "        (attn_drop): Dropout(p=0.5, inplace=False)\n",
       "        (leaky_relu): LeakyReLU(negative_slope=0.2)\n",
       "        (res_fc): Identity()\n",
       "      )\n",
       "      (1): GATConv(\n",
       "        (fc): Linear(in_features=300, out_features=600, bias=False)\n",
       "        (feat_drop): Dropout(p=0.5, inplace=False)\n",
       "        (attn_drop): Dropout(p=0.5, inplace=False)\n",
       "        (leaky_relu): LeakyReLU(negative_slope=0.2)\n",
       "        (res_fc): Identity()\n",
       "      )\n",
       "    )\n",
       "  )\n",
       "  (norm): BatchNorm1d(300, eps=1e-05, momentum=0.1, affine=True, track_running_stats=True)\n",
       "  (gate): Linear(in_features=300, out_features=1, bias=True)\n",
       "  (feat): Linear(in_features=300, out_features=300, bias=True)\n",
       "  (gap): GlobalAttentionPooling(\n",
       "    (gate_nn): Linear(in_features=300, out_features=1, bias=True)\n",
       "    (feat_nn): Linear(in_features=300, out_features=300, bias=True)\n",
       "  )\n",
       ")"
      ]
     },
     "execution_count": 14,
     "metadata": {},
     "output_type": "execute_result"
    }
   ],
   "source": [
    "tga = TGA(input_l, hidden_l, n_heads=n_heads, drop=drop, attn_drop=attn_drop).to(device)\n",
    "tga"
   ]
  },
  {
   "cell_type": "code",
   "execution_count": 15,
   "metadata": {},
   "outputs": [],
   "source": [
    "loss_func_global = CosineDistanceLoss(reduction='mean', alpha=-1).to(device)\n",
    "loss_func_local  = CosineDistanceLoss(reduction='mean').to(device)\n",
    "\n",
    "optimizer = optim.AdamW( tga.parameters(), lr=5e-3, weight_decay=5e-3)\n",
    "\n",
    "\n",
    "#RMSprop"
   ]
  },
  {
   "cell_type": "code",
   "execution_count": 16,
   "metadata": {
    "scrolled": false
   },
   "outputs": [
    {
     "data": {
      "application/vnd.jupyter.widget-view+json": {
       "model_id": "6e4e050f91164996bcdf9ce5d4cfdd35",
       "version_major": 2,
       "version_minor": 0
      },
      "text/plain": [
       "HBox(children=(FloatProgress(value=0.0, max=5.0), HTML(value='')))"
      ]
     },
     "metadata": {},
     "output_type": "display_data"
    },
    {
     "data": {
      "application/vnd.jupyter.widget-view+json": {
       "model_id": "f6d4eb9c13db4abe9b73f1c16929dbd9",
       "version_major": 2,
       "version_minor": 0
      },
      "text/plain": [
       "HBox(children=(FloatProgress(value=0.0, max=11977.0), HTML(value='')))"
      ]
     },
     "metadata": {},
     "output_type": "display_data"
    },
    {
     "name": "stdout",
     "output_type": "stream",
     "text": [
      "local loss: 0.0148(0.0358), global loss: 0.149(0.0578), loss: 1.1e+02(0.0936)              \n"
     ]
    },
    {
     "data": {
      "application/vnd.jupyter.widget-view+json": {
       "model_id": "d58e44778e6740cf9cf928ad493ce811",
       "version_major": 2,
       "version_minor": 0
      },
      "text/plain": [
       "HBox(children=(FloatProgress(value=0.0, max=11977.0), HTML(value='')))"
      ]
     },
     "metadata": {},
     "output_type": "display_data"
    },
    {
     "name": "stdout",
     "output_type": "stream",
     "text": [
      "local loss: 0.0135(0.0122), global loss: 0.113(0.0572), loss: 1.08e+02(0.0694)              \n"
     ]
    },
    {
     "data": {
      "application/vnd.jupyter.widget-view+json": {
       "model_id": "a922727b588e43f49652c33b84b975f6",
       "version_major": 2,
       "version_minor": 0
      },
      "text/plain": [
       "HBox(children=(FloatProgress(value=0.0, max=11977.0), HTML(value='')))"
      ]
     },
     "metadata": {},
     "output_type": "display_data"
    },
    {
     "name": "stdout",
     "output_type": "stream",
     "text": [
      "local loss: 0.028(0.0193), global loss: 0.0669(0.0411), loss: 1.07e+02(0.0604)              \n"
     ]
    },
    {
     "data": {
      "application/vnd.jupyter.widget-view+json": {
       "model_id": "fd0f208e66274e2ab22fa6ce7f973e27",
       "version_major": 2,
       "version_minor": 0
      },
      "text/plain": [
       "HBox(children=(FloatProgress(value=0.0, max=11977.0), HTML(value='')))"
      ]
     },
     "metadata": {},
     "output_type": "display_data"
    },
    {
     "name": "stdout",
     "output_type": "stream",
     "text": [
      "local loss: 0.0207(0.0275), global loss: 0.073(0.0369), loss: 1.06e+02(0.0644)              \n"
     ]
    },
    {
     "data": {
      "application/vnd.jupyter.widget-view+json": {
       "model_id": "127013453e7c4f839177a29548fcee40",
       "version_major": 2,
       "version_minor": 0
      },
      "text/plain": [
       "HBox(children=(FloatProgress(value=0.0, max=11977.0), HTML(value='')))"
      ]
     },
     "metadata": {},
     "output_type": "display_data"
    },
    {
     "name": "stdout",
     "output_type": "stream",
     "text": [
      "local loss: 0.0132(0.0275), global loss: 0.0577(0.0369), loss: 1.06e+02(0.0644)             \n",
      "\n"
     ]
    }
   ],
   "source": [
    "\n",
    "best = None\n",
    "nepochs = 5\n",
    "lr = 2.*5e-2\n",
    "l_loss = 0.\n",
    "best_loss = None\n",
    "best_loss_local = None\n",
    "best_loss_global = None\n",
    "for e in tqdm(range(nepochs), total=nepochs):\n",
    "    epoch_loss = 0\n",
    "    data_loader = DataLoader(list(zip(fold.X_train, fold.y_train)), batch_size=batch_size,\n",
    "                             shuffle=True, collate_fn=collate, num_workers=3)\n",
    "    with tqdm(total=len(fold.y_train)) as pbar:\n",
    "        total = 1\n",
    "        correct = 1\n",
    "        tga.train()\n",
    "        for G, gs, y in data_loader:\n",
    "            G = G.to( device )\n",
    "            gs = gs.to( device )\n",
    "            y = y.to( device )\n",
    "            \n",
    "            h_local, h_global = tga( G, gs, y )\n",
    "            \n",
    "            label_idx = G.ndata['label'].nonzero().flatten()\n",
    "            labels_hiddens = h_global[label_idx]\n",
    "            \n",
    "            loss_global = loss_func_global(labels_hiddens)\n",
    "            \n",
    "            loss_local = loss_func_local(h_local, labels_hiddens, y)\n",
    "            \n",
    "            \n",
    "            loss = loss_global + loss_local\n",
    "            loss.backward()\n",
    "\n",
    "            optimizer.step()\n",
    "            \n",
    "            l_loss += loss.item()\n",
    "    \n",
    "            if best_loss_global is None or loss_global.item() < best_loss_global:\n",
    "                best_loss = loss.item()\n",
    "                best_loss_local = loss_local.item()\n",
    "                best_loss_global = loss_global.item()\n",
    "                best_h_global = h_global.cpu()\n",
    "            \n",
    "            \n",
    "            to_print = f'local loss: {loss_local:.3}({best_loss_local:.3}), '\n",
    "            to_print += f'global loss: {loss_global-1.:.3}({best_loss_global-1.:.3}), '\n",
    "            to_print += f'loss: {(l_loss-1.)/(e+1):.3}({best_loss-1.:.3})             '\n",
    "            \n",
    "            print( to_print , end='\\r')\n",
    "            pbar.update( len(y) )\n",
    "            pbar.set_description_str(f'iter {e} Loss: {(l_loss-1.)/(e+1):.6}')\n",
    "            \n",
    "            del loss, loss_local, loss_global, labels_hiddens, label_idx, G, gs, y, h_local, h_global"
   ]
  },
  {
   "cell_type": "code",
   "execution_count": 17,
   "metadata": {},
   "outputs": [
    {
     "data": {
      "text/plain": [
       "tensor([[ 0.8061, -0.3728,  2.1901,  ...,  0.6427, -1.9124,  0.2811],\n",
       "        [ 0.8962, -0.4288,  2.1378,  ...,  0.6372, -1.8825,  0.4353],\n",
       "        [-1.4246, -0.3673, -2.5209,  ...,  0.8990,  2.4280,  1.1058],\n",
       "        ...,\n",
       "        [-0.3726,  0.5411,  1.2325,  ...,  0.3574, -1.2548,  0.0472],\n",
       "        [-0.3846,  0.5402,  1.2290,  ...,  0.3584, -1.2542,  0.0504],\n",
       "        [-0.3802,  0.5399,  1.2323,  ...,  0.3561, -1.2493,  0.0437]],\n",
       "       grad_fn=<CopyBackwards>)"
      ]
     },
     "execution_count": 17,
     "metadata": {},
     "output_type": "execute_result"
    }
   ],
   "source": [
    "best_h_global"
   ]
  },
  {
   "cell_type": "code",
   "execution_count": 18,
   "metadata": {},
   "outputs": [],
   "source": [
    "big_graph_dgl = dgl.DGLGraph()\n",
    "big_graph_dgl.from_networkx(graph_builder.g, node_attrs=['emb', 'label', 'idx'] )\n",
    "label_idx = big_graph_dgl.ndata['label'].nonzero().flatten()\n"
   ]
  },
  {
   "cell_type": "code",
   "execution_count": null,
   "metadata": {
    "scrolled": true
   },
   "outputs": [],
   "source": []
  },
  {
   "cell_type": "code",
   "execution_count": null,
   "metadata": {
    "scrolled": true
   },
   "outputs": [],
   "source": []
  },
  {
   "cell_type": "code",
   "execution_count": 19,
   "metadata": {},
   "outputs": [
    {
     "data": {
      "text/plain": [
       "tensor([[ 0.8061, -0.3728,  2.1901,  ...,  0.6427, -1.9124,  0.2811],\n",
       "        [ 0.8962, -0.4288,  2.1378,  ...,  0.6372, -1.8825,  0.4353],\n",
       "        [-1.4246, -0.3673, -2.5209,  ...,  0.8990,  2.4280,  1.1058],\n",
       "        ...,\n",
       "        [ 2.7684,  0.5976, -7.6698,  ..., -0.0221,  6.1107,  2.4819],\n",
       "        [ 6.2269, -1.4882,  4.8718,  ...,  0.5947, -2.3928,  0.2692],\n",
       "        [10.9429,  1.1316,  1.1029,  ...,  0.2289, -1.9813,  0.4709]],\n",
       "       grad_fn=<IndexBackward>)"
      ]
     },
     "execution_count": 19,
     "metadata": {},
     "output_type": "execute_result"
    }
   ],
   "source": [
    "best_h_global[label_idx] # Embedding dos labels (Distâncias maximizadas)"
   ]
  },
  {
   "cell_type": "code",
   "execution_count": null,
   "metadata": {},
   "outputs": [],
   "source": []
  },
  {
   "cell_type": "code",
   "execution_count": 20,
   "metadata": {},
   "outputs": [
    {
     "data": {
      "text/plain": [
       "tensor([[-7.2342,  0.3449, -5.0977,  ...,  0.1898,  6.5882,  0.2931],\n",
       "        [-6.4093, -0.4456,  1.3044,  ..., -0.4836,  6.3878, -5.4715],\n",
       "        [-5.9600, -0.2419, -1.5119,  ..., -0.1797,  6.1696, -4.1197],\n",
       "        ...,\n",
       "        [-0.3726,  0.5411,  1.2325,  ...,  0.3574, -1.2548,  0.0472],\n",
       "        [-0.3846,  0.5402,  1.2290,  ...,  0.3584, -1.2542,  0.0504],\n",
       "        [-0.3802,  0.5399,  1.2323,  ...,  0.3561, -1.2493,  0.0437]],\n",
       "       grad_fn=<SliceBackward>)"
      ]
     },
     "execution_count": 20,
     "metadata": {},
     "output_type": "execute_result"
    }
   ],
   "source": [
    "                        # embedding dos termos novos\n",
    "best_h_global[len(label_idx):] # o mapeamento é (o inverso de) node_mapper[big_graph.ndata['idx']]"
   ]
  },
  {
   "cell_type": "code",
   "execution_count": 21,
   "metadata": {},
   "outputs": [
    {
     "ename": "NameError",
     "evalue": "name 'h_best' is not defined",
     "output_type": "error",
     "traceback": [
      "\u001b[0;31m---------------------------------------------------------------------------\u001b[0m",
      "\u001b[0;31mNameError\u001b[0m                                 Traceback (most recent call last)",
      "\u001b[0;32m<ipython-input-21-03f2c2f57012>\u001b[0m in \u001b[0;36m<module>\u001b[0;34m\u001b[0m\n\u001b[0;32m----> 1\u001b[0;31m \u001b[0mh_best\u001b[0m\u001b[0;34m[\u001b[0m\u001b[0;36m100\u001b[0m\u001b[0;34m:\u001b[0m\u001b[0;36m105\u001b[0m\u001b[0;34m]\u001b[0m\u001b[0;34m\u001b[0m\u001b[0;34m\u001b[0m\u001b[0m\n\u001b[0m",
      "\u001b[0;31mNameError\u001b[0m: name 'h_best' is not defined"
     ]
    }
   ],
   "source": [
    "h_best[100:105]"
   ]
  },
  {
   "cell_type": "code",
   "execution_count": null,
   "metadata": {},
   "outputs": [],
   "source": [
    "big_graph_dgl.ndata['emb'][100:105]"
   ]
  },
  {
   "cell_type": "code",
   "execution_count": 22,
   "metadata": {},
   "outputs": [],
   "source": [
    "import matplotlib.pyplot as plt\n",
    "from matplotlib.pyplot import scatter"
   ]
  },
  {
   "cell_type": "code",
   "execution_count": 23,
   "metadata": {},
   "outputs": [
    {
     "data": {
      "text/plain": [
       "(tensor(2.4298, grad_fn=<MeanBackward0>),\n",
       " tensor(1.0926, grad_fn=<StdBackward0>))"
      ]
     },
     "execution_count": 23,
     "metadata": {},
     "output_type": "execute_result"
    }
   ],
   "source": [
    "# Variância média DAS hidden dimensions dos labels &\n",
    "#     -> O quanto as hidden estão variando entre as labels\n",
    "#        Quanto maior esse valor, mais \"diferente\" são as representações dos LABELS\n",
    "# Variância média ENTRE A MÉDIA DAS hidden dimensions dos labels\n",
    "#     -> O quanto as hiddens estão variando entre si\n",
    "#        Quanto maior esse valor, mais \"diferente\" são as representações das DIMENSÕES\n",
    "#        Ou seja, VAR(AVG(h1), AVG(h2), ..., AVG(hn)) é alto\n",
    "best_h_global[label_idx].std(axis=0).mean(), best_h_global[label_idx].mean(axis=0).std()"
   ]
  },
  {
   "cell_type": "code",
   "execution_count": 24,
   "metadata": {},
   "outputs": [],
   "source": [
    "nbins = 30"
   ]
  },
  {
   "cell_type": "code",
   "execution_count": 25,
   "metadata": {},
   "outputs": [
    {
     "data": {
      "text/plain": [
       "Text(0.5, 1.0, 'Labels\\n[VAR(h1), VAR(h2), ..., VAR(hn)]')"
      ]
     },
     "execution_count": 25,
     "metadata": {},
     "output_type": "execute_result"
    },
    {
     "data": {
      "image/png": "[encoded data removed]",
      "text/plain": [
       "<Figure size 432x288 with 1 Axes>"
      ]
     },
     "metadata": {
      "needs_background": "light"
     },
     "output_type": "display_data"
    }
   ],
   "source": [
    "plt.hist( best_h_global[label_idx].std(axis=0).detach().cpu().numpy(), bins=nbins )\n",
    "plt.title( 'Labels\\n[VAR(h1), VAR(h2), ..., VAR(hn)]' )"
   ]
  },
  {
   "cell_type": "code",
   "execution_count": null,
   "metadata": {},
   "outputs": [],
   "source": []
  },
  {
   "cell_type": "code",
   "execution_count": 26,
   "metadata": {
    "scrolled": false
   },
   "outputs": [
    {
     "name": "stdout",
     "output_type": "stream",
     "text": [
      "[t-SNE] Computing 91 nearest neighbors...\n",
      "[t-SNE] Indexed 24001 samples in 0.007s...\n",
      "[t-SNE] Computed neighbors for 24001 samples in 8.647s...\n",
      "[t-SNE] Computed conditional probabilities for sample 1000 / 24001\n",
      "[t-SNE] Computed conditional probabilities for sample 2000 / 24001\n",
      "[t-SNE] Computed conditional probabilities for sample 3000 / 24001\n",
      "[t-SNE] Computed conditional probabilities for sample 4000 / 24001\n",
      "[t-SNE] Computed conditional probabilities for sample 5000 / 24001\n",
      "[t-SNE] Computed conditional probabilities for sample 6000 / 24001\n",
      "[t-SNE] Computed conditional probabilities for sample 7000 / 24001\n",
      "[t-SNE] Computed conditional probabilities for sample 8000 / 24001\n",
      "[t-SNE] Computed conditional probabilities for sample 9000 / 24001\n",
      "[t-SNE] Computed conditional probabilities for sample 10000 / 24001\n",
      "[t-SNE] Computed conditional probabilities for sample 11000 / 24001\n",
      "[t-SNE] Computed conditional probabilities for sample 12000 / 24001\n",
      "[t-SNE] Computed conditional probabilities for sample 13000 / 24001\n",
      "[t-SNE] Computed conditional probabilities for sample 14000 / 24001\n",
      "[t-SNE] Computed conditional probabilities for sample 15000 / 24001\n",
      "[t-SNE] Computed conditional probabilities for sample 16000 / 24001\n",
      "[t-SNE] Computed conditional probabilities for sample 17000 / 24001\n",
      "[t-SNE] Computed conditional probabilities for sample 18000 / 24001\n",
      "[t-SNE] Computed conditional probabilities for sample 19000 / 24001\n",
      "[t-SNE] Computed conditional probabilities for sample 20000 / 24001\n",
      "[t-SNE] Computed conditional probabilities for sample 21000 / 24001\n",
      "[t-SNE] Computed conditional probabilities for sample 22000 / 24001\n",
      "[t-SNE] Computed conditional probabilities for sample 23000 / 24001\n",
      "[t-SNE] Computed conditional probabilities for sample 24000 / 24001\n",
      "[t-SNE] Computed conditional probabilities for sample 24001 / 24001\n",
      "[t-SNE] Mean sigma: 0.000000\n",
      "[t-SNE] Computed conditional probabilities in 2.082s\n",
      "[t-SNE] Iteration 50: error = 100.5160751, gradient norm = 0.0010269 (50 iterations in 5.716s)\n",
      "[t-SNE] Iteration 100: error = 87.2882385, gradient norm = 0.0020142 (50 iterations in 5.139s)\n",
      "[t-SNE] Iteration 150: error = 85.6588364, gradient norm = 0.0009636 (50 iterations in 6.248s)\n",
      "[t-SNE] Iteration 200: error = 84.7887421, gradient norm = 0.0006477 (50 iterations in 4.952s)\n",
      "[t-SNE] Iteration 250: error = 84.5011139, gradient norm = 0.0005292 (50 iterations in 4.606s)\n",
      "[t-SNE] KL divergence after 250 iterations with early exaggeration: 84.501114\n",
      "[t-SNE] Iteration 300: error = 3.6751347, gradient norm = 0.0010892 (50 iterations in 5.273s)\n",
      "[t-SNE] Iteration 350: error = 3.3002286, gradient norm = 0.0005365 (50 iterations in 5.481s)\n",
      "[t-SNE] Iteration 400: error = 3.0990789, gradient norm = 0.0003234 (50 iterations in 4.555s)\n",
      "[t-SNE] Iteration 450: error = 2.9753027, gradient norm = 0.0002225 (50 iterations in 4.561s)\n",
      "[t-SNE] Iteration 500: error = 2.8920074, gradient norm = 0.0001668 (50 iterations in 4.220s)\n",
      "[t-SNE] Iteration 550: error = 2.8311779, gradient norm = 0.0001325 (50 iterations in 4.045s)\n",
      "[t-SNE] Iteration 600: error = 2.7853267, gradient norm = 0.0001080 (50 iterations in 3.961s)\n",
      "[t-SNE] Iteration 650: error = 2.7494664, gradient norm = 0.0000899 (50 iterations in 4.062s)\n",
      "[t-SNE] Iteration 700: error = 2.7205424, gradient norm = 0.0000764 (50 iterations in 4.212s)\n",
      "[t-SNE] Iteration 750: error = 2.6965928, gradient norm = 0.0000661 (50 iterations in 3.894s)\n",
      "[t-SNE] Iteration 800: error = 2.6763589, gradient norm = 0.0000586 (50 iterations in 3.786s)\n",
      "[t-SNE] Iteration 850: error = 2.6592612, gradient norm = 0.0000517 (50 iterations in 4.105s)\n",
      "[t-SNE] Iteration 900: error = 2.6445644, gradient norm = 0.0000468 (50 iterations in 4.860s)\n",
      "[t-SNE] Iteration 950: error = 2.6318936, gradient norm = 0.0000432 (50 iterations in 5.265s)\n",
      "[t-SNE] Iteration 1000: error = 2.6208935, gradient norm = 0.0000406 (50 iterations in 4.213s)\n",
      "[t-SNE] KL divergence after 1000 iterations: 2.620893\n"
     ]
    }
   ],
   "source": [
    "from sklearn.manifold import TSNE\n",
    "tsne = TSNE(verbose=10, metric='cosine')\n",
    "X = tsne.fit_transform(best_h_global.detach().cpu().numpy())"
   ]
  },
  {
   "cell_type": "code",
   "execution_count": 27,
   "metadata": {},
   "outputs": [
    {
     "data": {
      "text/plain": [
       "'reut'"
      ]
     },
     "execution_count": 27,
     "metadata": {},
     "output_type": "execute_result"
    }
   ],
   "source": [
    "dataset.dname"
   ]
  },
  {
   "cell_type": "code",
   "execution_count": 28,
   "metadata": {},
   "outputs": [
    {
     "data": {
      "image/png": "[encoded data removed]",
      "text/plain": [
       "<Figure size 720x576 with 1 Axes>"
      ]
     },
     "metadata": {
      "needs_background": "light"
     },
     "output_type": "display_data"
    }
   ],
   "source": [
    "x,y = X.T\n",
    "plt.figure(figsize=(10,8))\n",
    "plt.scatter(x[len(label_idx):],y[len(label_idx):], linewidths= 0.0, s=25, alpha=0.025)\n",
    "plt.scatter(x[label_idx.cpu().numpy()],y[label_idx.cpu().numpy()], marker='x')\n",
    "plt.xlim( (x.min()-5, x.max()+5) )\n",
    "plt.ylim( (y.min()-5, y.max()+5) )\n",
    "plt.title(f'{dataset.dname} - heads={n_heads}')\n",
    "plt.savefig(f'{dataset.dname}-heads={n_heads}_diff.png')"
   ]
  },
  {
   "cell_type": "code",
   "execution_count": null,
   "metadata": {},
   "outputs": [],
   "source": []
  },
  {
   "cell_type": "code",
   "execution_count": null,
   "metadata": {},
   "outputs": [],
   "source": [
    "from sklearn.manifold import TSNE\n",
    "tsne = TSNE(verbose=10)\n",
    "X2 = tsne.fit_transform(big_graph_dgl.ndata['emb'][len(label_idx):].detach().cpu().numpy())"
   ]
  },
  {
   "cell_type": "code",
   "execution_count": null,
   "metadata": {},
   "outputs": [],
   "source": [
    "x,y = X2.T\n",
    "plt.scatter(x, y, linewidths= 0.0, alpha=0.01)\n",
    "plt.xlim( (x.min()-5, x.max()+5) )\n",
    "plt.ylim( (y.min()-5, y.max()+5) )"
   ]
  },
  {
   "cell_type": "code",
   "execution_count": null,
   "metadata": {},
   "outputs": [],
   "source": [
    "x[label_idx.cpu().numpy()],y[label_idx.cpu().numpy()]"
   ]
  },
  {
   "cell_type": "code",
   "execution_count": null,
   "metadata": {},
   "outputs": [],
   "source": []
  },
  {
   "cell_type": "code",
   "execution_count": null,
   "metadata": {},
   "outputs": [],
   "source": [
    "plt.hist( h_best[len(label_idx):].std(axis=0).detach().cpu().numpy(), bins=nbins )\n",
    "plt.title( 'Terms\\n[VAR(h1), VAR(h2), ..., VAR(hn)]' )"
   ]
  },
  {
   "cell_type": "code",
   "execution_count": null,
   "metadata": {},
   "outputs": [],
   "source": [
    "plt.hist( h_best[label_idx].mean(axis=0).detach().cpu().numpy(), bins=nbins )\n",
    "plt.title( 'Labels\\n[AVG(h1), AVG(h2), ..., AVG(hn)]' )"
   ]
  },
  {
   "cell_type": "code",
   "execution_count": null,
   "metadata": {},
   "outputs": [],
   "source": [
    "plt.hist( h_best[len(label_idx):].mean(axis=0).detach().cpu().numpy(), bins=nbins )\n",
    "plt.title( 'Terms\\n[AVG(h1), AVG(h2), ..., AVG(hn)]' )"
   ]
  },
  {
   "cell_type": "code",
   "execution_count": null,
   "metadata": {},
   "outputs": [],
   "source": []
  },
  {
   "cell_type": "code",
   "execution_count": null,
   "metadata": {},
   "outputs": [],
   "source": []
  },
  {
   "cell_type": "code",
   "execution_count": null,
   "metadata": {},
   "outputs": [],
   "source": []
  },
  {
   "cell_type": "code",
   "execution_count": null,
   "metadata": {},
   "outputs": [],
   "source": []
  },
  {
   "cell_type": "code",
   "execution_count": null,
   "metadata": {},
   "outputs": [],
   "source": []
  },
  {
   "cell_type": "code",
   "execution_count": null,
   "metadata": {},
   "outputs": [],
   "source": [
    "label_idx = big_graph_dgl.ndata['label'].nonzero().flatten()"
   ]
  },
  {
   "cell_type": "code",
   "execution_count": null,
   "metadata": {},
   "outputs": [],
   "source": [
    "h = gat(big_graph_dgl)\n",
    "h.shape"
   ]
  },
  {
   "cell_type": "code",
   "execution_count": null,
   "metadata": {},
   "outputs": [],
   "source": [
    "labels_hiddens = h[label_idx]\n",
    "labels_hiddens"
   ]
  },
  {
   "cell_type": "code",
   "execution_count": null,
   "metadata": {},
   "outputs": [],
   "source": [
    "A = []\n",
    "B = []\n",
    "y = []\n",
    "for i in range(labels_hiddens.size()[0]):\n",
    "    for j in range(labels_hiddens.size()[0]):\n",
    "        if i != j:\n",
    "            A.append( labels_hiddens[i] )\n",
    "            B.append( -1.*labels_hiddens[j] )\n",
    "            y.append( 1 )\n",
    "            \n",
    "B=torch.cat(B).reshape( len(y), 300 )\n",
    "A=torch.cat(A).reshape( len(y), 300 )\n",
    "y=torch.Tensor(y)"
   ]
  },
  {
   "cell_type": "code",
   "execution_count": null,
   "metadata": {},
   "outputs": [],
   "source": [
    "loss_func(B, A, target=y), loss_func(A, B, target=y)"
   ]
  },
  {
   "cell_type": "code",
   "execution_count": null,
   "metadata": {
    "scrolled": false
   },
   "outputs": [],
   "source": []
  },
  {
   "cell_type": "code",
   "execution_count": null,
   "metadata": {},
   "outputs": [],
   "source": [
    "gat.train()\n",
    "torch.cuda.synchronize()"
   ]
  },
  {
   "cell_type": "code",
   "execution_count": null,
   "metadata": {},
   "outputs": [],
   "source": []
  },
  {
   "cell_type": "code",
   "execution_count": null,
   "metadata": {},
   "outputs": [],
   "source": []
  },
  {
   "cell_type": "code",
   "execution_count": null,
   "metadata": {},
   "outputs": [],
   "source": []
  },
  {
   "cell_type": "code",
   "execution_count": null,
   "metadata": {},
   "outputs": [],
   "source": [
    "class TGA(nn.Module):\n",
    "    def __init__(self, in_dim, hidden_dim, n_class,\n",
    "                  n_heads=8, drop=.5, attn_drop=.5,\n",
    "                  device='cuda:0'):\n",
    "        super(TGA, self).__init__()\n",
    "        self.n_class = n_class\n",
    "        self.device = torch.device(device)\n",
    "        self.gat_global = GenericGAT(in_dim, hidden_dim, \n",
    "                                     encoders={'label'}, \n",
    "                                     n_heads=n_heads, drop=drop,\n",
    "                                     attn_drop=attn_drop, device=self.device)\n",
    "        \n",
    "        self.gat_local  = GenericGAT(hidden_dim, hidden_dim, \n",
    "                                     encoders={'term'}, \n",
    "                                     n_heads=n_heads, drop=drop,\n",
    "                                     first_hidden='emb',\n",
    "                                     attn_drop=attn_drop, device=self.device)\n",
    "\n",
    "        self.lin = nn.Linear( hidden_dim, 1).to(self.device)\n",
    "        # Depois tentar alguma ativação (ReLU, por exemplo, pode \"desativar\" alguns termos no softmax)\n",
    "        self.pooling = GlobalAttentionPooling( self.lin ).to(self.device)\n",
    "\n",
    "        # Fully Connected\n",
    "        self.fc1 = nn.Linear( hidden_dim, hidden_dim//2).to(self.device)\n",
    "        self.fc2 = nn.Linear( hidden_dim//2, hidden_dim//4).to(self.device)\n",
    "        self.fc3 = nn.Linear( hidden_dim//4, self.n_class).to(self.device)\n",
    "    def forward(self, G, gs):\n",
    "        #h_global           = self.gat_global( G, label=G.ndata['label'].nonzero().flatten() )\n",
    "        #gs.ndata['weight'] = h_global[ gs.ndata['idx'] ] # Tentar concatenando\n",
    "        h_local            = self.gat_local(gs, term=None)\n",
    "        #h_local            = torch.cat((h_local, h_global[ gs.ndata['idx'] ]), 1)\n",
    "        h_local            = self.pooling( gs, h_local )\n",
    "        h_local            = self.fc1( h_local )\n",
    "        h_local            = self.fc2( h_local )\n",
    "        h_local            = self.fc3( h_local )\n",
    "        return h_local\n",
    "# torch.Size([3652, 300]) torch.Size([3652, 300]) torch.Size([128, 300])\n",
    "        "
   ]
  },
  {
   "cell_type": "code",
   "execution_count": null,
   "metadata": {},
   "outputs": [],
   "source": [
    "in_dim=300\n",
    "hidden_dim=2\n",
    "n_heads=8\n",
    "drop=0.3\n",
    "attn_drop=0.5\n",
    "batch_size=128\n",
    "device='cuda:0'"
   ]
  },
  {
   "cell_type": "code",
   "execution_count": null,
   "metadata": {},
   "outputs": [],
   "source": [
    "model = TGA( in_dim, hidden_dim, graph_builder.n_class,\n",
    "            n_heads=n_heads, drop=drop, attn_drop=attn_drop )\n",
    "model"
   ]
  },
  {
   "cell_type": "code",
   "execution_count": null,
   "metadata": {},
   "outputs": [],
   "source": [
    "loss_func = nn.CrossEntropyLoss()\n",
    "\n",
    "optimizer = optim.Adam( model.parameters(), lr=1e-3, weight_decay=1e-3)\n",
    "#optimizer = optim.AdamW( model.parameters(), lr=1e-2, weight_decay=1e-3)\n",
    "\n",
    "#optimizer = optim.RMSprop( model.parameters(), lr=1e-2, weight_decay=1e-4)\n",
    "#optimizer = optim.RMSprop( model.parameters(), lr=0.0001 )\n",
    "\n",
    "model.train()\n",
    "torch.cuda.synchronize()"
   ]
  },
  {
   "cell_type": "code",
   "execution_count": null,
   "metadata": {},
   "outputs": [],
   "source": [
    "g = nx.Graph()\n",
    "g.add_nodes_from( [ (0, {'idx': 0}), (1, {'idx': 1}), (2, {'idx': 2}) ] )"
   ]
  },
  {
   "cell_type": "code",
   "execution_count": null,
   "metadata": {},
   "outputs": [],
   "source": [
    "list(nx.get_node_attributes(g,'idx').values())"
   ]
  },
  {
   "cell_type": "code",
   "execution_count": null,
   "metadata": {},
   "outputs": [],
   "source": [
    "outputs"
   ]
  },
  {
   "cell_type": "code",
   "execution_count": null,
   "metadata": {},
   "outputs": [],
   "source": [
    "labels_hiddens = torch.eye( 11 )\n",
    "labels_hiddens"
   ]
  },
  {
   "cell_type": "code",
   "execution_count": null,
   "metadata": {},
   "outputs": [],
   "source": []
  },
  {
   "cell_type": "code",
   "execution_count": null,
   "metadata": {},
   "outputs": [],
   "source": []
  },
  {
   "cell_type": "code",
   "execution_count": null,
   "metadata": {},
   "outputs": [],
   "source": []
  },
  {
   "cell_type": "code",
   "execution_count": null,
   "metadata": {},
   "outputs": [],
   "source": []
  },
  {
   "cell_type": "code",
   "execution_count": null,
   "metadata": {},
   "outputs": [],
   "source": []
  },
  {
   "cell_type": "code",
   "execution_count": null,
   "metadata": {},
   "outputs": [],
   "source": []
  }
 ],
 "metadata": {
  "kernelspec": {
   "display_name": "Python 3",
   "language": "python",
   "name": "python3"
  },
  "language_info": {
   "codemirror_mode": {
    "name": "ipython",
    "version": 3
   },
   "file_extension": ".py",
   "mimetype": "text/x-python",
   "name": "python",
   "nbconvert_exporter": "python",
   "pygments_lexer": "ipython3",
   "version": "3.6.9"
  }
 },
 "nbformat": 4,
 "nbformat_minor": 4
}
